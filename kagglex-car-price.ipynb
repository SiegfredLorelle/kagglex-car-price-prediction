{
 "cells": [
  {
   "cell_type": "code",
   "execution_count": 1,
   "id": "9805cc97",
   "metadata": {
    "execution": {
     "iopub.execute_input": "2024-06-14T16:21:14.511073Z",
     "iopub.status.busy": "2024-06-14T16:21:14.510805Z",
     "iopub.status.idle": "2024-06-14T16:21:14.515137Z",
     "shell.execute_reply": "2024-06-14T16:21:14.514333Z"
    },
    "papermill": {
     "duration": 0.015056,
     "end_time": "2024-06-14T16:21:14.516994",
     "exception": false,
     "start_time": "2024-06-14T16:21:14.501938",
     "status": "completed"
    },
    "tags": []
   },
   "outputs": [],
   "source": [
    "# KaggleX Cohert 4 Skill Assessment Challenge"
   ]
  },
  {
   "cell_type": "markdown",
   "id": "f533c84f",
   "metadata": {
    "papermill": {
     "duration": 0.006755,
     "end_time": "2024-06-14T16:21:14.530899",
     "exception": false,
     "start_time": "2024-06-14T16:21:14.524144",
     "status": "completed"
    },
    "tags": []
   },
   "source": [
    "#### import libraries"
   ]
  },
  {
   "cell_type": "code",
   "execution_count": 2,
   "id": "1e2fae9c",
   "metadata": {
    "_cell_guid": "b1076dfc-b9ad-4769-8c92-a6c4dae69d19",
    "_uuid": "8f2839f25d086af736a60e9eeb907d3b93b6e0e5",
    "execution": {
     "iopub.execute_input": "2024-06-14T16:21:14.545426Z",
     "iopub.status.busy": "2024-06-14T16:21:14.544954Z",
     "iopub.status.idle": "2024-06-14T16:21:37.097653Z",
     "shell.execute_reply": "2024-06-14T16:21:37.096844Z"
    },
    "papermill": {
     "duration": 22.562845,
     "end_time": "2024-06-14T16:21:37.100290",
     "exception": false,
     "start_time": "2024-06-14T16:21:14.537445",
     "status": "completed"
    },
    "tags": []
   },
   "outputs": [
    {
     "name": "stderr",
     "output_type": "stream",
     "text": [
      "2024-06-14 16:21:19.691199: E external/local_xla/xla/stream_executor/cuda/cuda_dnn.cc:9261] Unable to register cuDNN factory: Attempting to register factory for plugin cuDNN when one has already been registered\n",
      "2024-06-14 16:21:19.691310: E external/local_xla/xla/stream_executor/cuda/cuda_fft.cc:607] Unable to register cuFFT factory: Attempting to register factory for plugin cuFFT when one has already been registered\n",
      "2024-06-14 16:21:19.963072: E external/local_xla/xla/stream_executor/cuda/cuda_blas.cc:1515] Unable to register cuBLAS factory: Attempting to register factory for plugin cuBLAS when one has already been registered\n"
     ]
    }
   ],
   "source": [
    "# Import libraries\n",
    "import numpy as np\n",
    "import pandas as pd\n",
    "import tensorflow as tf\n",
    "import sklearn\n",
    "from sklearn.model_selection import train_test_split"
   ]
  },
  {
   "cell_type": "markdown",
   "id": "37ec7ba0",
   "metadata": {
    "papermill": {
     "duration": 0.008195,
     "end_time": "2024-06-14T16:21:37.120288",
     "exception": false,
     "start_time": "2024-06-14T16:21:37.112093",
     "status": "completed"
    },
    "tags": []
   },
   "source": [
    "#### Dataset Paths"
   ]
  },
  {
   "cell_type": "code",
   "execution_count": 3,
   "id": "528b794e",
   "metadata": {
    "execution": {
     "iopub.execute_input": "2024-06-14T16:21:37.137378Z",
     "iopub.status.busy": "2024-06-14T16:21:37.136780Z",
     "iopub.status.idle": "2024-06-14T16:21:37.141528Z",
     "shell.execute_reply": "2024-06-14T16:21:37.140562Z"
    },
    "papermill": {
     "duration": 0.015494,
     "end_time": "2024-06-14T16:21:37.143570",
     "exception": false,
     "start_time": "2024-06-14T16:21:37.128076",
     "status": "completed"
    },
    "tags": []
   },
   "outputs": [],
   "source": [
    "# Dataset paths\n",
    "train_path = \"/kaggle/input/kagglex-car-price-prediction-dataset/train.csv\"\n",
    "test_path = \"/kaggle/input/kagglex-car-price-prediction-dataset/test.csv\""
   ]
  },
  {
   "cell_type": "code",
   "execution_count": 4,
   "id": "7029aa04",
   "metadata": {
    "execution": {
     "iopub.execute_input": "2024-06-14T16:21:37.158539Z",
     "iopub.status.busy": "2024-06-14T16:21:37.158279Z",
     "iopub.status.idle": "2024-06-14T16:21:37.625221Z",
     "shell.execute_reply": "2024-06-14T16:21:37.624067Z"
    },
    "papermill": {
     "duration": 0.477428,
     "end_time": "2024-06-14T16:21:37.627817",
     "exception": false,
     "start_time": "2024-06-14T16:21:37.150389",
     "status": "completed"
    },
    "tags": []
   },
   "outputs": [],
   "source": [
    "train_set = pd.read_csv(train_path)\n",
    "test_set = pd.read_csv(test_path)"
   ]
  },
  {
   "cell_type": "code",
   "execution_count": 5,
   "id": "c98ba106",
   "metadata": {
    "execution": {
     "iopub.execute_input": "2024-06-14T16:21:37.645289Z",
     "iopub.status.busy": "2024-06-14T16:21:37.644731Z",
     "iopub.status.idle": "2024-06-14T16:21:37.651343Z",
     "shell.execute_reply": "2024-06-14T16:21:37.650415Z"
    },
    "papermill": {
     "duration": 0.017617,
     "end_time": "2024-06-14T16:21:37.653399",
     "exception": false,
     "start_time": "2024-06-14T16:21:37.635782",
     "status": "completed"
    },
    "tags": []
   },
   "outputs": [
    {
     "data": {
      "text/plain": [
       "(54273, 13)"
      ]
     },
     "execution_count": 5,
     "metadata": {},
     "output_type": "execute_result"
    }
   ],
   "source": [
    "train_set.shape"
   ]
  },
  {
   "cell_type": "code",
   "execution_count": 6,
   "id": "1300119d",
   "metadata": {
    "execution": {
     "iopub.execute_input": "2024-06-14T16:21:37.669457Z",
     "iopub.status.busy": "2024-06-14T16:21:37.668901Z",
     "iopub.status.idle": "2024-06-14T16:21:37.674537Z",
     "shell.execute_reply": "2024-06-14T16:21:37.673751Z"
    },
    "papermill": {
     "duration": 0.015737,
     "end_time": "2024-06-14T16:21:37.676355",
     "exception": false,
     "start_time": "2024-06-14T16:21:37.660618",
     "status": "completed"
    },
    "tags": []
   },
   "outputs": [
    {
     "data": {
      "text/plain": [
       "(36183, 12)"
      ]
     },
     "execution_count": 6,
     "metadata": {},
     "output_type": "execute_result"
    }
   ],
   "source": [
    "test_set.shape"
   ]
  },
  {
   "cell_type": "code",
   "execution_count": 7,
   "id": "dd340ddc",
   "metadata": {
    "execution": {
     "iopub.execute_input": "2024-06-14T16:21:37.693077Z",
     "iopub.status.busy": "2024-06-14T16:21:37.692816Z",
     "iopub.status.idle": "2024-06-14T16:21:37.697914Z",
     "shell.execute_reply": "2024-06-14T16:21:37.697153Z"
    },
    "papermill": {
     "duration": 0.015272,
     "end_time": "2024-06-14T16:21:37.699734",
     "exception": false,
     "start_time": "2024-06-14T16:21:37.684462",
     "status": "completed"
    },
    "tags": []
   },
   "outputs": [
    {
     "data": {
      "text/plain": [
       "10854.9"
      ]
     },
     "execution_count": 7,
     "metadata": {},
     "output_type": "execute_result"
    }
   ],
   "source": [
    "test_set.shape[0] * 0.3"
   ]
  },
  {
   "cell_type": "code",
   "execution_count": 8,
   "id": "6e47e649",
   "metadata": {
    "execution": {
     "iopub.execute_input": "2024-06-14T16:21:37.715418Z",
     "iopub.status.busy": "2024-06-14T16:21:37.715183Z",
     "iopub.status.idle": "2024-06-14T16:21:37.925472Z",
     "shell.execute_reply": "2024-06-14T16:21:37.924555Z"
    },
    "papermill": {
     "duration": 0.220537,
     "end_time": "2024-06-14T16:21:37.927780",
     "exception": false,
     "start_time": "2024-06-14T16:21:37.707243",
     "status": "completed"
    },
    "tags": []
   },
   "outputs": [
    {
     "data": {
      "text/html": [
       "<div>\n",
       "<style scoped>\n",
       "    .dataframe tbody tr th:only-of-type {\n",
       "        vertical-align: middle;\n",
       "    }\n",
       "\n",
       "    .dataframe tbody tr th {\n",
       "        vertical-align: top;\n",
       "    }\n",
       "\n",
       "    .dataframe thead th {\n",
       "        text-align: right;\n",
       "    }\n",
       "</style>\n",
       "<table border=\"1\" class=\"dataframe\">\n",
       "  <thead>\n",
       "    <tr style=\"text-align: right;\">\n",
       "      <th></th>\n",
       "      <th>id</th>\n",
       "      <th>brand</th>\n",
       "      <th>model</th>\n",
       "      <th>model_year</th>\n",
       "      <th>milage</th>\n",
       "      <th>fuel_type</th>\n",
       "      <th>engine</th>\n",
       "      <th>transmission</th>\n",
       "      <th>ext_col</th>\n",
       "      <th>int_col</th>\n",
       "      <th>accident</th>\n",
       "      <th>clean_title</th>\n",
       "      <th>price</th>\n",
       "    </tr>\n",
       "  </thead>\n",
       "  <tbody>\n",
       "    <tr>\n",
       "      <th>0</th>\n",
       "      <td>0</td>\n",
       "      <td>Ford</td>\n",
       "      <td>F-150 Lariat</td>\n",
       "      <td>2018</td>\n",
       "      <td>74349</td>\n",
       "      <td>Gasoline</td>\n",
       "      <td>375.0HP 3.5L V6 Cylinder Engine Gasoline Fuel</td>\n",
       "      <td>10-Speed A/T</td>\n",
       "      <td>Blue</td>\n",
       "      <td>Gray</td>\n",
       "      <td>None reported</td>\n",
       "      <td>Yes</td>\n",
       "      <td>11000</td>\n",
       "    </tr>\n",
       "    <tr>\n",
       "      <th>1</th>\n",
       "      <td>1</td>\n",
       "      <td>BMW</td>\n",
       "      <td>335 i</td>\n",
       "      <td>2007</td>\n",
       "      <td>80000</td>\n",
       "      <td>Gasoline</td>\n",
       "      <td>300.0HP 3.0L Straight 6 Cylinder Engine Gasoli...</td>\n",
       "      <td>6-Speed M/T</td>\n",
       "      <td>Black</td>\n",
       "      <td>Black</td>\n",
       "      <td>None reported</td>\n",
       "      <td>Yes</td>\n",
       "      <td>8250</td>\n",
       "    </tr>\n",
       "    <tr>\n",
       "      <th>2</th>\n",
       "      <td>2</td>\n",
       "      <td>Jaguar</td>\n",
       "      <td>XF Luxury</td>\n",
       "      <td>2009</td>\n",
       "      <td>91491</td>\n",
       "      <td>Gasoline</td>\n",
       "      <td>300.0HP 4.2L 8 Cylinder Engine Gasoline Fuel</td>\n",
       "      <td>6-Speed A/T</td>\n",
       "      <td>Purple</td>\n",
       "      <td>Beige</td>\n",
       "      <td>None reported</td>\n",
       "      <td>Yes</td>\n",
       "      <td>15000</td>\n",
       "    </tr>\n",
       "    <tr>\n",
       "      <th>3</th>\n",
       "      <td>3</td>\n",
       "      <td>BMW</td>\n",
       "      <td>X7 xDrive40i</td>\n",
       "      <td>2022</td>\n",
       "      <td>2437</td>\n",
       "      <td>Hybrid</td>\n",
       "      <td>335.0HP 3.0L Straight 6 Cylinder Engine Gasoli...</td>\n",
       "      <td>Transmission w/Dual Shift Mode</td>\n",
       "      <td>Gray</td>\n",
       "      <td>Brown</td>\n",
       "      <td>None reported</td>\n",
       "      <td>Yes</td>\n",
       "      <td>63500</td>\n",
       "    </tr>\n",
       "    <tr>\n",
       "      <th>4</th>\n",
       "      <td>4</td>\n",
       "      <td>Pontiac</td>\n",
       "      <td>Firebird Base</td>\n",
       "      <td>2001</td>\n",
       "      <td>111000</td>\n",
       "      <td>Gasoline</td>\n",
       "      <td>200.0HP 3.8L V6 Cylinder Engine Gasoline Fuel</td>\n",
       "      <td>A/T</td>\n",
       "      <td>White</td>\n",
       "      <td>Black</td>\n",
       "      <td>None reported</td>\n",
       "      <td>Yes</td>\n",
       "      <td>7850</td>\n",
       "    </tr>\n",
       "  </tbody>\n",
       "</table>\n",
       "</div>"
      ],
      "text/plain": [
       "   id    brand          model  model_year  milage fuel_type  \\\n",
       "0   0     Ford   F-150 Lariat        2018   74349  Gasoline   \n",
       "1   1      BMW          335 i        2007   80000  Gasoline   \n",
       "2   2   Jaguar      XF Luxury        2009   91491  Gasoline   \n",
       "3   3      BMW   X7 xDrive40i        2022    2437    Hybrid   \n",
       "4   4  Pontiac  Firebird Base        2001  111000  Gasoline   \n",
       "\n",
       "                                              engine  \\\n",
       "0      375.0HP 3.5L V6 Cylinder Engine Gasoline Fuel   \n",
       "1  300.0HP 3.0L Straight 6 Cylinder Engine Gasoli...   \n",
       "2       300.0HP 4.2L 8 Cylinder Engine Gasoline Fuel   \n",
       "3  335.0HP 3.0L Straight 6 Cylinder Engine Gasoli...   \n",
       "4      200.0HP 3.8L V6 Cylinder Engine Gasoline Fuel   \n",
       "\n",
       "                     transmission ext_col int_col       accident clean_title  \\\n",
       "0                    10-Speed A/T    Blue    Gray  None reported         Yes   \n",
       "1                     6-Speed M/T   Black   Black  None reported         Yes   \n",
       "2                     6-Speed A/T  Purple   Beige  None reported         Yes   \n",
       "3  Transmission w/Dual Shift Mode    Gray   Brown  None reported         Yes   \n",
       "4                             A/T   White   Black  None reported         Yes   \n",
       "\n",
       "   price  \n",
       "0  11000  \n",
       "1   8250  \n",
       "2  15000  \n",
       "3  63500  \n",
       "4   7850  "
      ]
     },
     "execution_count": 8,
     "metadata": {},
     "output_type": "execute_result"
    }
   ],
   "source": [
    "train_set.head()"
   ]
  },
  {
   "cell_type": "code",
   "execution_count": 9,
   "id": "50d0a400",
   "metadata": {
    "execution": {
     "iopub.execute_input": "2024-06-14T16:21:37.946191Z",
     "iopub.status.busy": "2024-06-14T16:21:37.945917Z",
     "iopub.status.idle": "2024-06-14T16:21:37.961171Z",
     "shell.execute_reply": "2024-06-14T16:21:37.960245Z"
    },
    "papermill": {
     "duration": 0.026426,
     "end_time": "2024-06-14T16:21:37.963208",
     "exception": false,
     "start_time": "2024-06-14T16:21:37.936782",
     "status": "completed"
    },
    "tags": []
   },
   "outputs": [
    {
     "data": {
      "text/html": [
       "<div>\n",
       "<style scoped>\n",
       "    .dataframe tbody tr th:only-of-type {\n",
       "        vertical-align: middle;\n",
       "    }\n",
       "\n",
       "    .dataframe tbody tr th {\n",
       "        vertical-align: top;\n",
       "    }\n",
       "\n",
       "    .dataframe thead th {\n",
       "        text-align: right;\n",
       "    }\n",
       "</style>\n",
       "<table border=\"1\" class=\"dataframe\">\n",
       "  <thead>\n",
       "    <tr style=\"text-align: right;\">\n",
       "      <th></th>\n",
       "      <th>id</th>\n",
       "      <th>brand</th>\n",
       "      <th>model</th>\n",
       "      <th>model_year</th>\n",
       "      <th>milage</th>\n",
       "      <th>fuel_type</th>\n",
       "      <th>engine</th>\n",
       "      <th>transmission</th>\n",
       "      <th>ext_col</th>\n",
       "      <th>int_col</th>\n",
       "      <th>accident</th>\n",
       "      <th>clean_title</th>\n",
       "    </tr>\n",
       "  </thead>\n",
       "  <tbody>\n",
       "    <tr>\n",
       "      <th>0</th>\n",
       "      <td>54273</td>\n",
       "      <td>Mercedes-Benz</td>\n",
       "      <td>E-Class E 350</td>\n",
       "      <td>2014</td>\n",
       "      <td>73000</td>\n",
       "      <td>Gasoline</td>\n",
       "      <td>302.0HP 3.5L V6 Cylinder Engine Gasoline Fuel</td>\n",
       "      <td>A/T</td>\n",
       "      <td>White</td>\n",
       "      <td>Beige</td>\n",
       "      <td>None reported</td>\n",
       "      <td>Yes</td>\n",
       "    </tr>\n",
       "    <tr>\n",
       "      <th>1</th>\n",
       "      <td>54274</td>\n",
       "      <td>Lexus</td>\n",
       "      <td>RX 350 Base</td>\n",
       "      <td>2015</td>\n",
       "      <td>128032</td>\n",
       "      <td>Gasoline</td>\n",
       "      <td>275.0HP 3.5L V6 Cylinder Engine Gasoline Fuel</td>\n",
       "      <td>8-Speed A/T</td>\n",
       "      <td>Silver</td>\n",
       "      <td>Black</td>\n",
       "      <td>None reported</td>\n",
       "      <td>Yes</td>\n",
       "    </tr>\n",
       "    <tr>\n",
       "      <th>2</th>\n",
       "      <td>54275</td>\n",
       "      <td>Mercedes-Benz</td>\n",
       "      <td>C-Class C 300</td>\n",
       "      <td>2015</td>\n",
       "      <td>51983</td>\n",
       "      <td>Gasoline</td>\n",
       "      <td>241.0HP 2.0L 4 Cylinder Engine Gasoline Fuel</td>\n",
       "      <td>7-Speed A/T</td>\n",
       "      <td>Blue</td>\n",
       "      <td>White</td>\n",
       "      <td>None reported</td>\n",
       "      <td>Yes</td>\n",
       "    </tr>\n",
       "    <tr>\n",
       "      <th>3</th>\n",
       "      <td>54276</td>\n",
       "      <td>Land</td>\n",
       "      <td>Rover Range Rover 5.0L Supercharged Autobiogra...</td>\n",
       "      <td>2018</td>\n",
       "      <td>29500</td>\n",
       "      <td>Gasoline</td>\n",
       "      <td>518.0HP 5.0L 8 Cylinder Engine Gasoline Fuel</td>\n",
       "      <td>Transmission w/Dual Shift Mode</td>\n",
       "      <td>White</td>\n",
       "      <td>White</td>\n",
       "      <td>At least 1 accident or damage reported</td>\n",
       "      <td>Yes</td>\n",
       "    </tr>\n",
       "    <tr>\n",
       "      <th>4</th>\n",
       "      <td>54277</td>\n",
       "      <td>BMW</td>\n",
       "      <td>X6 xDrive40i</td>\n",
       "      <td>2020</td>\n",
       "      <td>90000</td>\n",
       "      <td>Gasoline</td>\n",
       "      <td>335.0HP 3.0L Straight 6 Cylinder Engine Gasoli...</td>\n",
       "      <td>8-Speed A/T</td>\n",
       "      <td>White</td>\n",
       "      <td>Black</td>\n",
       "      <td>At least 1 accident or damage reported</td>\n",
       "      <td>Yes</td>\n",
       "    </tr>\n",
       "  </tbody>\n",
       "</table>\n",
       "</div>"
      ],
      "text/plain": [
       "      id          brand                                              model  \\\n",
       "0  54273  Mercedes-Benz                                      E-Class E 350   \n",
       "1  54274          Lexus                                        RX 350 Base   \n",
       "2  54275  Mercedes-Benz                                      C-Class C 300   \n",
       "3  54276           Land  Rover Range Rover 5.0L Supercharged Autobiogra...   \n",
       "4  54277            BMW                                       X6 xDrive40i   \n",
       "\n",
       "   model_year  milage fuel_type  \\\n",
       "0        2014   73000  Gasoline   \n",
       "1        2015  128032  Gasoline   \n",
       "2        2015   51983  Gasoline   \n",
       "3        2018   29500  Gasoline   \n",
       "4        2020   90000  Gasoline   \n",
       "\n",
       "                                              engine  \\\n",
       "0      302.0HP 3.5L V6 Cylinder Engine Gasoline Fuel   \n",
       "1      275.0HP 3.5L V6 Cylinder Engine Gasoline Fuel   \n",
       "2       241.0HP 2.0L 4 Cylinder Engine Gasoline Fuel   \n",
       "3       518.0HP 5.0L 8 Cylinder Engine Gasoline Fuel   \n",
       "4  335.0HP 3.0L Straight 6 Cylinder Engine Gasoli...   \n",
       "\n",
       "                     transmission ext_col int_col  \\\n",
       "0                             A/T   White   Beige   \n",
       "1                     8-Speed A/T  Silver   Black   \n",
       "2                     7-Speed A/T    Blue   White   \n",
       "3  Transmission w/Dual Shift Mode   White   White   \n",
       "4                     8-Speed A/T   White   Black   \n",
       "\n",
       "                                 accident clean_title  \n",
       "0                           None reported         Yes  \n",
       "1                           None reported         Yes  \n",
       "2                           None reported         Yes  \n",
       "3  At least 1 accident or damage reported         Yes  \n",
       "4  At least 1 accident or damage reported         Yes  "
      ]
     },
     "execution_count": 9,
     "metadata": {},
     "output_type": "execute_result"
    }
   ],
   "source": [
    "test_set.head()"
   ]
  },
  {
   "cell_type": "code",
   "execution_count": 10,
   "id": "1583f9bf",
   "metadata": {
    "execution": {
     "iopub.execute_input": "2024-06-14T16:21:37.981958Z",
     "iopub.status.busy": "2024-06-14T16:21:37.981630Z",
     "iopub.status.idle": "2024-06-14T16:21:38.062550Z",
     "shell.execute_reply": "2024-06-14T16:21:38.061550Z"
    },
    "papermill": {
     "duration": 0.092824,
     "end_time": "2024-06-14T16:21:38.064793",
     "exception": false,
     "start_time": "2024-06-14T16:21:37.971969",
     "status": "completed"
    },
    "tags": []
   },
   "outputs": [
    {
     "data": {
      "text/plain": [
       "id              False\n",
       "brand           False\n",
       "model           False\n",
       "model_year      False\n",
       "milage          False\n",
       "fuel_type       False\n",
       "engine          False\n",
       "transmission    False\n",
       "ext_col         False\n",
       "int_col         False\n",
       "accident        False\n",
       "clean_title     False\n",
       "price           False\n",
       "dtype: bool"
      ]
     },
     "execution_count": 10,
     "metadata": {},
     "output_type": "execute_result"
    }
   ],
   "source": [
    "train_set.any().isna()"
   ]
  },
  {
   "cell_type": "code",
   "execution_count": 11,
   "id": "94cae9fb",
   "metadata": {
    "execution": {
     "iopub.execute_input": "2024-06-14T16:21:38.082702Z",
     "iopub.status.busy": "2024-06-14T16:21:38.082449Z",
     "iopub.status.idle": "2024-06-14T16:21:38.137099Z",
     "shell.execute_reply": "2024-06-14T16:21:38.136304Z"
    },
    "papermill": {
     "duration": 0.065395,
     "end_time": "2024-06-14T16:21:38.138905",
     "exception": false,
     "start_time": "2024-06-14T16:21:38.073510",
     "status": "completed"
    },
    "tags": []
   },
   "outputs": [
    {
     "data": {
      "text/plain": [
       "id              False\n",
       "brand           False\n",
       "model           False\n",
       "model_year      False\n",
       "milage          False\n",
       "fuel_type       False\n",
       "engine          False\n",
       "transmission    False\n",
       "ext_col         False\n",
       "int_col         False\n",
       "accident        False\n",
       "clean_title     False\n",
       "dtype: bool"
      ]
     },
     "execution_count": 11,
     "metadata": {},
     "output_type": "execute_result"
    }
   ],
   "source": [
    "test_set.any().isna()"
   ]
  },
  {
   "cell_type": "markdown",
   "id": "b269d7b2",
   "metadata": {
    "papermill": {
     "duration": 0.008397,
     "end_time": "2024-06-14T16:21:38.155691",
     "exception": false,
     "start_time": "2024-06-14T16:21:38.147294",
     "status": "completed"
    },
    "tags": []
   },
   "source": [
    "## Shuffle Train Set"
   ]
  },
  {
   "cell_type": "markdown",
   "id": "92fe2087",
   "metadata": {
    "papermill": {
     "duration": 0.008339,
     "end_time": "2024-06-14T16:21:38.173166",
     "exception": false,
     "start_time": "2024-06-14T16:21:38.164827",
     "status": "completed"
    },
    "tags": []
   },
   "source": []
  },
  {
   "cell_type": "code",
   "execution_count": 12,
   "id": "85c6743a",
   "metadata": {
    "execution": {
     "iopub.execute_input": "2024-06-14T16:21:38.191592Z",
     "iopub.status.busy": "2024-06-14T16:21:38.190962Z",
     "iopub.status.idle": "2024-06-14T16:21:38.194504Z",
     "shell.execute_reply": "2024-06-14T16:21:38.193738Z"
    },
    "papermill": {
     "duration": 0.014646,
     "end_time": "2024-06-14T16:21:38.196398",
     "exception": false,
     "start_time": "2024-06-14T16:21:38.181752",
     "status": "completed"
    },
    "tags": []
   },
   "outputs": [],
   "source": [
    "# train_set = train_set.sample(frac=1)\n",
    "# train_set.head()"
   ]
  },
  {
   "cell_type": "markdown",
   "id": "dcde0bed",
   "metadata": {
    "papermill": {
     "duration": 0.00854,
     "end_time": "2024-06-14T16:21:38.213900",
     "exception": false,
     "start_time": "2024-06-14T16:21:38.205360",
     "status": "completed"
    },
    "tags": []
   },
   "source": [
    "## Separate Features and Labels"
   ]
  },
  {
   "cell_type": "code",
   "execution_count": 13,
   "id": "c363d974",
   "metadata": {
    "execution": {
     "iopub.execute_input": "2024-06-14T16:21:38.232238Z",
     "iopub.status.busy": "2024-06-14T16:21:38.231938Z",
     "iopub.status.idle": "2024-06-14T16:21:38.253473Z",
     "shell.execute_reply": "2024-06-14T16:21:38.252624Z"
    },
    "papermill": {
     "duration": 0.032712,
     "end_time": "2024-06-14T16:21:38.255471",
     "exception": false,
     "start_time": "2024-06-14T16:21:38.222759",
     "status": "completed"
    },
    "tags": []
   },
   "outputs": [
    {
     "data": {
      "text/html": [
       "<div>\n",
       "<style scoped>\n",
       "    .dataframe tbody tr th:only-of-type {\n",
       "        vertical-align: middle;\n",
       "    }\n",
       "\n",
       "    .dataframe tbody tr th {\n",
       "        vertical-align: top;\n",
       "    }\n",
       "\n",
       "    .dataframe thead th {\n",
       "        text-align: right;\n",
       "    }\n",
       "</style>\n",
       "<table border=\"1\" class=\"dataframe\">\n",
       "  <thead>\n",
       "    <tr style=\"text-align: right;\">\n",
       "      <th></th>\n",
       "      <th>brand</th>\n",
       "      <th>model</th>\n",
       "      <th>model_year</th>\n",
       "      <th>milage</th>\n",
       "      <th>fuel_type</th>\n",
       "      <th>engine</th>\n",
       "      <th>transmission</th>\n",
       "      <th>ext_col</th>\n",
       "      <th>int_col</th>\n",
       "      <th>accident</th>\n",
       "      <th>clean_title</th>\n",
       "    </tr>\n",
       "  </thead>\n",
       "  <tbody>\n",
       "    <tr>\n",
       "      <th>0</th>\n",
       "      <td>Ford</td>\n",
       "      <td>F-150 Lariat</td>\n",
       "      <td>2018</td>\n",
       "      <td>74349</td>\n",
       "      <td>Gasoline</td>\n",
       "      <td>375.0HP 3.5L V6 Cylinder Engine Gasoline Fuel</td>\n",
       "      <td>10-Speed A/T</td>\n",
       "      <td>Blue</td>\n",
       "      <td>Gray</td>\n",
       "      <td>None reported</td>\n",
       "      <td>Yes</td>\n",
       "    </tr>\n",
       "    <tr>\n",
       "      <th>1</th>\n",
       "      <td>BMW</td>\n",
       "      <td>335 i</td>\n",
       "      <td>2007</td>\n",
       "      <td>80000</td>\n",
       "      <td>Gasoline</td>\n",
       "      <td>300.0HP 3.0L Straight 6 Cylinder Engine Gasoli...</td>\n",
       "      <td>6-Speed M/T</td>\n",
       "      <td>Black</td>\n",
       "      <td>Black</td>\n",
       "      <td>None reported</td>\n",
       "      <td>Yes</td>\n",
       "    </tr>\n",
       "    <tr>\n",
       "      <th>2</th>\n",
       "      <td>Jaguar</td>\n",
       "      <td>XF Luxury</td>\n",
       "      <td>2009</td>\n",
       "      <td>91491</td>\n",
       "      <td>Gasoline</td>\n",
       "      <td>300.0HP 4.2L 8 Cylinder Engine Gasoline Fuel</td>\n",
       "      <td>6-Speed A/T</td>\n",
       "      <td>Purple</td>\n",
       "      <td>Beige</td>\n",
       "      <td>None reported</td>\n",
       "      <td>Yes</td>\n",
       "    </tr>\n",
       "    <tr>\n",
       "      <th>3</th>\n",
       "      <td>BMW</td>\n",
       "      <td>X7 xDrive40i</td>\n",
       "      <td>2022</td>\n",
       "      <td>2437</td>\n",
       "      <td>Hybrid</td>\n",
       "      <td>335.0HP 3.0L Straight 6 Cylinder Engine Gasoli...</td>\n",
       "      <td>Transmission w/Dual Shift Mode</td>\n",
       "      <td>Gray</td>\n",
       "      <td>Brown</td>\n",
       "      <td>None reported</td>\n",
       "      <td>Yes</td>\n",
       "    </tr>\n",
       "    <tr>\n",
       "      <th>4</th>\n",
       "      <td>Pontiac</td>\n",
       "      <td>Firebird Base</td>\n",
       "      <td>2001</td>\n",
       "      <td>111000</td>\n",
       "      <td>Gasoline</td>\n",
       "      <td>200.0HP 3.8L V6 Cylinder Engine Gasoline Fuel</td>\n",
       "      <td>A/T</td>\n",
       "      <td>White</td>\n",
       "      <td>Black</td>\n",
       "      <td>None reported</td>\n",
       "      <td>Yes</td>\n",
       "    </tr>\n",
       "  </tbody>\n",
       "</table>\n",
       "</div>"
      ],
      "text/plain": [
       "     brand          model  model_year  milage fuel_type  \\\n",
       "0     Ford   F-150 Lariat        2018   74349  Gasoline   \n",
       "1      BMW          335 i        2007   80000  Gasoline   \n",
       "2   Jaguar      XF Luxury        2009   91491  Gasoline   \n",
       "3      BMW   X7 xDrive40i        2022    2437    Hybrid   \n",
       "4  Pontiac  Firebird Base        2001  111000  Gasoline   \n",
       "\n",
       "                                              engine  \\\n",
       "0      375.0HP 3.5L V6 Cylinder Engine Gasoline Fuel   \n",
       "1  300.0HP 3.0L Straight 6 Cylinder Engine Gasoli...   \n",
       "2       300.0HP 4.2L 8 Cylinder Engine Gasoline Fuel   \n",
       "3  335.0HP 3.0L Straight 6 Cylinder Engine Gasoli...   \n",
       "4      200.0HP 3.8L V6 Cylinder Engine Gasoline Fuel   \n",
       "\n",
       "                     transmission ext_col int_col       accident clean_title  \n",
       "0                    10-Speed A/T    Blue    Gray  None reported         Yes  \n",
       "1                     6-Speed M/T   Black   Black  None reported         Yes  \n",
       "2                     6-Speed A/T  Purple   Beige  None reported         Yes  \n",
       "3  Transmission w/Dual Shift Mode    Gray   Brown  None reported         Yes  \n",
       "4                             A/T   White   Black  None reported         Yes  "
      ]
     },
     "execution_count": 13,
     "metadata": {},
     "output_type": "execute_result"
    }
   ],
   "source": [
    "# Set features similar to the test set only without id column\n",
    "features = train_set.copy()\n",
    "features.pop(\"id\")\n",
    "\n",
    "# Remove price column in features and save it in labels\n",
    "labels = features.pop(\"price\")\n",
    "features.head()"
   ]
  },
  {
   "cell_type": "code",
   "execution_count": 14,
   "id": "dbd124b8",
   "metadata": {
    "execution": {
     "iopub.execute_input": "2024-06-14T16:21:38.274786Z",
     "iopub.status.busy": "2024-06-14T16:21:38.274312Z",
     "iopub.status.idle": "2024-06-14T16:21:38.280093Z",
     "shell.execute_reply": "2024-06-14T16:21:38.279219Z"
    },
    "papermill": {
     "duration": 0.017798,
     "end_time": "2024-06-14T16:21:38.282093",
     "exception": false,
     "start_time": "2024-06-14T16:21:38.264295",
     "status": "completed"
    },
    "tags": []
   },
   "outputs": [
    {
     "data": {
      "text/plain": [
       "0    11000\n",
       "1     8250\n",
       "2    15000\n",
       "3    63500\n",
       "4     7850\n",
       "Name: price, dtype: int64"
      ]
     },
     "execution_count": 14,
     "metadata": {},
     "output_type": "execute_result"
    }
   ],
   "source": [
    "labels.head()"
   ]
  },
  {
   "cell_type": "markdown",
   "id": "b63b8bc6",
   "metadata": {
    "papermill": {
     "duration": 0.009846,
     "end_time": "2024-06-14T16:21:38.300994",
     "exception": false,
     "start_time": "2024-06-14T16:21:38.291148",
     "status": "completed"
    },
    "tags": []
   },
   "source": [
    "## Split Dataset"
   ]
  },
  {
   "cell_type": "code",
   "execution_count": 15,
   "id": "76894e3f",
   "metadata": {
    "execution": {
     "iopub.execute_input": "2024-06-14T16:21:38.322072Z",
     "iopub.status.busy": "2024-06-14T16:21:38.321776Z",
     "iopub.status.idle": "2024-06-14T16:21:38.352523Z",
     "shell.execute_reply": "2024-06-14T16:21:38.351761Z"
    },
    "papermill": {
     "duration": 0.043432,
     "end_time": "2024-06-14T16:21:38.354423",
     "exception": false,
     "start_time": "2024-06-14T16:21:38.310991",
     "status": "completed"
    },
    "tags": []
   },
   "outputs": [],
   "source": [
    "# Split the dataset into train (70%) and remain (30%) subsets\n",
    "train_features, remain_features, train_labels, remain_labels = sklearn.model_selection.train_test_split(\n",
    "    features, \n",
    "    labels,\n",
    "    test_size=0.3,\n",
    "    shuffle=True\n",
    ")\n",
    "\n",
    "# Split the remain subset into valid (70%) and test (30%) subset\n",
    "valid_features, test_features, valid_labels, test_labels = sklearn.model_selection.train_test_split(\n",
    "    remain_features, \n",
    "    remain_labels,\n",
    "    test_size=0.3,\n",
    "    shuffle=True\n",
    ")"
   ]
  },
  {
   "cell_type": "code",
   "execution_count": 16,
   "id": "52536e8a",
   "metadata": {
    "execution": {
     "iopub.execute_input": "2024-06-14T16:21:38.374391Z",
     "iopub.status.busy": "2024-06-14T16:21:38.374129Z",
     "iopub.status.idle": "2024-06-14T16:21:38.381022Z",
     "shell.execute_reply": "2024-06-14T16:21:38.380172Z"
    },
    "papermill": {
     "duration": 0.019394,
     "end_time": "2024-06-14T16:21:38.383290",
     "exception": false,
     "start_time": "2024-06-14T16:21:38.363896",
     "status": "completed"
    },
    "tags": []
   },
   "outputs": [
    {
     "name": "stdout",
     "output_type": "stream",
     "text": [
      "Index([19718, 19542, 15097, 28385, 10939], dtype='int64')\n",
      "Index([19718, 19542, 15097, 28385, 10939], dtype='int64')\n",
      "Index([22171, 15793, 53614, 21034, 4211], dtype='int64')\n",
      "Index([22171, 15793, 53614, 21034, 4211], dtype='int64')\n",
      "Index([13921, 25653, 35840, 21320, 51096], dtype='int64')\n",
      "Index([13921, 25653, 35840, 21320, 51096], dtype='int64')\n"
     ]
    }
   ],
   "source": [
    "# Check if indices of features and labels still match\n",
    "print(train_features.head().index)\n",
    "print(train_labels.head().index)\n",
    "\n",
    "print(test_features.head().index)\n",
    "print(test_labels.head().index)\n",
    "\n",
    "print(valid_features.head().index)\n",
    "print(valid_labels.head().index)"
   ]
  },
  {
   "cell_type": "code",
   "execution_count": 17,
   "id": "3e7d9190",
   "metadata": {
    "execution": {
     "iopub.execute_input": "2024-06-14T16:21:38.402285Z",
     "iopub.status.busy": "2024-06-14T16:21:38.402002Z",
     "iopub.status.idle": "2024-06-14T16:21:38.409870Z",
     "shell.execute_reply": "2024-06-14T16:21:38.408904Z"
    },
    "papermill": {
     "duration": 0.019916,
     "end_time": "2024-06-14T16:21:38.412232",
     "exception": false,
     "start_time": "2024-06-14T16:21:38.392316",
     "status": "completed"
    },
    "tags": []
   },
   "outputs": [
    {
     "name": "stdout",
     "output_type": "stream",
     "text": [
      "37991.1 37991 37991\n",
      "11397.33 11397 11397\n",
      "4884.57 4885 4885\n"
     ]
    },
    {
     "data": {
      "text/plain": [
       "(54273, 54273, 54273)"
      ]
     },
     "execution_count": 17,
     "metadata": {},
     "output_type": "execute_result"
    }
   ],
   "source": [
    "# Check if dataset were split correctly\n",
    "dataset_size = len(train_set)\n",
    "print(dataset_size * 0.7, len(train_features), len(train_labels))\n",
    "print(dataset_size * 0.3 * 0.7, len(valid_features), len(valid_labels))\n",
    "print(dataset_size * 0.3 * 0.3, len(test_features), len(test_labels))\n",
    "\n",
    "# Check if total of the subsets the same as dataset_size\n",
    "dataset_size, len(train_features) + len(valid_features) + len(test_features), len(train_labels) + len(valid_labels) + len(test_labels)"
   ]
  },
  {
   "cell_type": "code",
   "execution_count": null,
   "id": "bb984fbc",
   "metadata": {
    "papermill": {
     "duration": 0.009106,
     "end_time": "2024-06-14T16:21:38.430918",
     "exception": false,
     "start_time": "2024-06-14T16:21:38.421812",
     "status": "completed"
    },
    "tags": []
   },
   "outputs": [],
   "source": []
  },
  {
   "cell_type": "code",
   "execution_count": null,
   "id": "d29b5f47",
   "metadata": {
    "papermill": {
     "duration": 0.009455,
     "end_time": "2024-06-14T16:21:38.450141",
     "exception": false,
     "start_time": "2024-06-14T16:21:38.440686",
     "status": "completed"
    },
    "tags": []
   },
   "outputs": [],
   "source": []
  },
  {
   "cell_type": "markdown",
   "id": "e3c29ef3",
   "metadata": {
    "papermill": {
     "duration": 0.009196,
     "end_time": "2024-06-14T16:21:38.468591",
     "exception": false,
     "start_time": "2024-06-14T16:21:38.459395",
     "status": "completed"
    },
    "tags": []
   },
   "source": [
    "TODO\n",
    "- build model\n",
    "- separate engine into different parameters\n",
    "- remove id on train\n",
    "- train model\n",
    "- group lines"
   ]
  },
  {
   "cell_type": "code",
   "execution_count": 18,
   "id": "eeb61b48",
   "metadata": {
    "execution": {
     "iopub.execute_input": "2024-06-14T16:21:38.488496Z",
     "iopub.status.busy": "2024-06-14T16:21:38.488256Z",
     "iopub.status.idle": "2024-06-14T16:21:38.491776Z",
     "shell.execute_reply": "2024-06-14T16:21:38.490905Z"
    },
    "papermill": {
     "duration": 0.015524,
     "end_time": "2024-06-14T16:21:38.493667",
     "exception": false,
     "start_time": "2024-06-14T16:21:38.478143",
     "status": "completed"
    },
    "tags": []
   },
   "outputs": [],
   "source": [
    "# train_subset.shape"
   ]
  },
  {
   "cell_type": "code",
   "execution_count": 19,
   "id": "d725128c",
   "metadata": {
    "execution": {
     "iopub.execute_input": "2024-06-14T16:21:38.514080Z",
     "iopub.status.busy": "2024-06-14T16:21:38.513820Z",
     "iopub.status.idle": "2024-06-14T16:21:38.517309Z",
     "shell.execute_reply": "2024-06-14T16:21:38.516468Z"
    },
    "papermill": {
     "duration": 0.016194,
     "end_time": "2024-06-14T16:21:38.519267",
     "exception": false,
     "start_time": "2024-06-14T16:21:38.503073",
     "status": "completed"
    },
    "tags": []
   },
   "outputs": [],
   "source": [
    "# valid_subset.shape"
   ]
  },
  {
   "cell_type": "code",
   "execution_count": 20,
   "id": "77c5d0da",
   "metadata": {
    "execution": {
     "iopub.execute_input": "2024-06-14T16:21:38.539728Z",
     "iopub.status.busy": "2024-06-14T16:21:38.539463Z",
     "iopub.status.idle": "2024-06-14T16:21:38.543032Z",
     "shell.execute_reply": "2024-06-14T16:21:38.542236Z"
    },
    "papermill": {
     "duration": 0.01602,
     "end_time": "2024-06-14T16:21:38.544980",
     "exception": false,
     "start_time": "2024-06-14T16:21:38.528960",
     "status": "completed"
    },
    "tags": []
   },
   "outputs": [],
   "source": [
    "# test_subset.shape"
   ]
  },
  {
   "cell_type": "code",
   "execution_count": null,
   "id": "f43b5ce5",
   "metadata": {
    "papermill": {
     "duration": 0.009771,
     "end_time": "2024-06-14T16:21:38.564414",
     "exception": false,
     "start_time": "2024-06-14T16:21:38.554643",
     "status": "completed"
    },
    "tags": []
   },
   "outputs": [],
   "source": []
  },
  {
   "cell_type": "code",
   "execution_count": null,
   "id": "673d6294",
   "metadata": {
    "papermill": {
     "duration": 0.009508,
     "end_time": "2024-06-14T16:21:38.583623",
     "exception": false,
     "start_time": "2024-06-14T16:21:38.574115",
     "status": "completed"
    },
    "tags": []
   },
   "outputs": [],
   "source": []
  }
 ],
 "metadata": {
  "kaggle": {
   "accelerator": "nvidiaTeslaT4",
   "dataSources": [
    {
     "databundleVersionId": 7461897,
     "sourceId": 67167,
     "sourceType": "competition"
    },
    {
     "datasetId": 5208192,
     "sourceId": 8686686,
     "sourceType": "datasetVersion"
    }
   ],
   "dockerImageVersionId": 30733,
   "isGpuEnabled": true,
   "isInternetEnabled": true,
   "language": "python",
   "sourceType": "notebook"
  },
  "kernelspec": {
   "display_name": "Python 3",
   "language": "python",
   "name": "python3"
  },
  "language_info": {
   "codemirror_mode": {
    "name": "ipython",
    "version": 3
   },
   "file_extension": ".py",
   "mimetype": "text/x-python",
   "name": "python",
   "nbconvert_exporter": "python",
   "pygments_lexer": "ipython3",
   "version": "3.10.13"
  },
  "papermill": {
   "default_parameters": {},
   "duration": 30.894897,
   "end_time": "2024-06-14T16:21:41.514114",
   "environment_variables": {},
   "exception": null,
   "input_path": "__notebook__.ipynb",
   "output_path": "__notebook__.ipynb",
   "parameters": {},
   "start_time": "2024-06-14T16:21:10.619217",
   "version": "2.5.0"
  }
 },
 "nbformat": 4,
 "nbformat_minor": 5
}
