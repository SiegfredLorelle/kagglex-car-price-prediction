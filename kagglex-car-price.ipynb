{
 "cells": [
  {
   "cell_type": "code",
   "execution_count": 1,
   "id": "e68ef6fa",
   "metadata": {
    "execution": {
     "iopub.execute_input": "2024-06-14T00:57:13.262888Z",
     "iopub.status.busy": "2024-06-14T00:57:13.262575Z",
     "iopub.status.idle": "2024-06-14T00:57:13.267154Z",
     "shell.execute_reply": "2024-06-14T00:57:13.266466Z"
    },
    "papermill": {
     "duration": 0.012325,
     "end_time": "2024-06-14T00:57:13.269113",
     "exception": false,
     "start_time": "2024-06-14T00:57:13.256788",
     "status": "completed"
    },
    "tags": []
   },
   "outputs": [],
   "source": [
    "# KaggleX Cohert 4 Skill Assessment Challenge"
   ]
  },
  {
   "cell_type": "markdown",
   "id": "522b0946",
   "metadata": {
    "papermill": {
     "duration": 0.004351,
     "end_time": "2024-06-14T00:57:13.278012",
     "exception": false,
     "start_time": "2024-06-14T00:57:13.273661",
     "status": "completed"
    },
    "tags": []
   },
   "source": [
    "#### import libraries"
   ]
  },
  {
   "cell_type": "code",
   "execution_count": 2,
   "id": "f1ce52d5",
   "metadata": {
    "_cell_guid": "b1076dfc-b9ad-4769-8c92-a6c4dae69d19",
    "_uuid": "8f2839f25d086af736a60e9eeb907d3b93b6e0e5",
    "execution": {
     "iopub.execute_input": "2024-06-14T00:57:13.287825Z",
     "iopub.status.busy": "2024-06-14T00:57:13.287293Z",
     "iopub.status.idle": "2024-06-14T00:57:14.160068Z",
     "shell.execute_reply": "2024-06-14T00:57:14.159296Z"
    },
    "papermill": {
     "duration": 0.880081,
     "end_time": "2024-06-14T00:57:14.162368",
     "exception": false,
     "start_time": "2024-06-14T00:57:13.282287",
     "status": "completed"
    },
    "tags": []
   },
   "outputs": [],
   "source": [
    "# Import libraries\n",
    "import numpy as np\n",
    "import pandas as pd"
   ]
  },
  {
   "cell_type": "markdown",
   "id": "e88aa045",
   "metadata": {
    "papermill": {
     "duration": 0.004106,
     "end_time": "2024-06-14T00:57:14.171139",
     "exception": false,
     "start_time": "2024-06-14T00:57:14.167033",
     "status": "completed"
    },
    "tags": []
   },
   "source": [
    "#### Dataset Paths"
   ]
  },
  {
   "cell_type": "code",
   "execution_count": 3,
   "id": "74a8d7c2",
   "metadata": {
    "execution": {
     "iopub.execute_input": "2024-06-14T00:57:14.180913Z",
     "iopub.status.busy": "2024-06-14T00:57:14.180556Z",
     "iopub.status.idle": "2024-06-14T00:57:14.184464Z",
     "shell.execute_reply": "2024-06-14T00:57:14.183644Z"
    },
    "papermill": {
     "duration": 0.01084,
     "end_time": "2024-06-14T00:57:14.186263",
     "exception": false,
     "start_time": "2024-06-14T00:57:14.175423",
     "status": "completed"
    },
    "tags": []
   },
   "outputs": [],
   "source": [
    "# Dataset paths\n",
    "train_path = \"/kaggle/input/kagglex-car-price-prediction-dataset/train.csv\"\n",
    "test_path = \"/kaggle/input/kagglex-car-price-prediction-dataset/test.csv\""
   ]
  },
  {
   "cell_type": "code",
   "execution_count": 4,
   "id": "63384aa3",
   "metadata": {
    "execution": {
     "iopub.execute_input": "2024-06-14T00:57:14.196082Z",
     "iopub.status.busy": "2024-06-14T00:57:14.195776Z",
     "iopub.status.idle": "2024-06-14T00:57:14.572802Z",
     "shell.execute_reply": "2024-06-14T00:57:14.571809Z"
    },
    "papermill": {
     "duration": 0.384635,
     "end_time": "2024-06-14T00:57:14.575127",
     "exception": false,
     "start_time": "2024-06-14T00:57:14.190492",
     "status": "completed"
    },
    "tags": []
   },
   "outputs": [],
   "source": [
    "train_set = pd.read_csv(train_path)\n",
    "test_set = pd.read_csv(test_path)"
   ]
  },
  {
   "cell_type": "code",
   "execution_count": 5,
   "id": "4725e5c4",
   "metadata": {
    "execution": {
     "iopub.execute_input": "2024-06-14T00:57:14.585477Z",
     "iopub.status.busy": "2024-06-14T00:57:14.585122Z",
     "iopub.status.idle": "2024-06-14T00:57:14.591270Z",
     "shell.execute_reply": "2024-06-14T00:57:14.590470Z"
    },
    "papermill": {
     "duration": 0.01363,
     "end_time": "2024-06-14T00:57:14.593280",
     "exception": false,
     "start_time": "2024-06-14T00:57:14.579650",
     "status": "completed"
    },
    "tags": []
   },
   "outputs": [
    {
     "data": {
      "text/plain": [
       "(54273, 13)"
      ]
     },
     "execution_count": 5,
     "metadata": {},
     "output_type": "execute_result"
    }
   ],
   "source": [
    "train_set.shape"
   ]
  },
  {
   "cell_type": "code",
   "execution_count": 6,
   "id": "673f191d",
   "metadata": {
    "execution": {
     "iopub.execute_input": "2024-06-14T00:57:14.603147Z",
     "iopub.status.busy": "2024-06-14T00:57:14.602901Z",
     "iopub.status.idle": "2024-06-14T00:57:14.608023Z",
     "shell.execute_reply": "2024-06-14T00:57:14.607212Z"
    },
    "papermill": {
     "duration": 0.012275,
     "end_time": "2024-06-14T00:57:14.609971",
     "exception": false,
     "start_time": "2024-06-14T00:57:14.597696",
     "status": "completed"
    },
    "tags": []
   },
   "outputs": [
    {
     "data": {
      "text/plain": [
       "(36183, 12)"
      ]
     },
     "execution_count": 6,
     "metadata": {},
     "output_type": "execute_result"
    }
   ],
   "source": [
    "test_set.shape"
   ]
  },
  {
   "cell_type": "code",
   "execution_count": 7,
   "id": "26680ba0",
   "metadata": {
    "execution": {
     "iopub.execute_input": "2024-06-14T00:57:14.620596Z",
     "iopub.status.busy": "2024-06-14T00:57:14.619861Z",
     "iopub.status.idle": "2024-06-14T00:57:14.625198Z",
     "shell.execute_reply": "2024-06-14T00:57:14.624360Z"
    },
    "papermill": {
     "duration": 0.012636,
     "end_time": "2024-06-14T00:57:14.627120",
     "exception": false,
     "start_time": "2024-06-14T00:57:14.614484",
     "status": "completed"
    },
    "tags": []
   },
   "outputs": [
    {
     "data": {
      "text/plain": [
       "10854.9"
      ]
     },
     "execution_count": 7,
     "metadata": {},
     "output_type": "execute_result"
    }
   ],
   "source": [
    "test_set.shape[0] * 0.3"
   ]
  },
  {
   "cell_type": "code",
   "execution_count": 8,
   "id": "a554eca7",
   "metadata": {
    "execution": {
     "iopub.execute_input": "2024-06-14T00:57:14.637654Z",
     "iopub.status.busy": "2024-06-14T00:57:14.637359Z",
     "iopub.status.idle": "2024-06-14T00:57:14.660199Z",
     "shell.execute_reply": "2024-06-14T00:57:14.659378Z"
    },
    "papermill": {
     "duration": 0.030387,
     "end_time": "2024-06-14T00:57:14.662132",
     "exception": false,
     "start_time": "2024-06-14T00:57:14.631745",
     "status": "completed"
    },
    "tags": []
   },
   "outputs": [
    {
     "data": {
      "text/html": [
       "<div>\n",
       "<style scoped>\n",
       "    .dataframe tbody tr th:only-of-type {\n",
       "        vertical-align: middle;\n",
       "    }\n",
       "\n",
       "    .dataframe tbody tr th {\n",
       "        vertical-align: top;\n",
       "    }\n",
       "\n",
       "    .dataframe thead th {\n",
       "        text-align: right;\n",
       "    }\n",
       "</style>\n",
       "<table border=\"1\" class=\"dataframe\">\n",
       "  <thead>\n",
       "    <tr style=\"text-align: right;\">\n",
       "      <th></th>\n",
       "      <th>id</th>\n",
       "      <th>brand</th>\n",
       "      <th>model</th>\n",
       "      <th>model_year</th>\n",
       "      <th>milage</th>\n",
       "      <th>fuel_type</th>\n",
       "      <th>engine</th>\n",
       "      <th>transmission</th>\n",
       "      <th>ext_col</th>\n",
       "      <th>int_col</th>\n",
       "      <th>accident</th>\n",
       "      <th>clean_title</th>\n",
       "      <th>price</th>\n",
       "    </tr>\n",
       "  </thead>\n",
       "  <tbody>\n",
       "    <tr>\n",
       "      <th>0</th>\n",
       "      <td>0</td>\n",
       "      <td>Ford</td>\n",
       "      <td>F-150 Lariat</td>\n",
       "      <td>2018</td>\n",
       "      <td>74349</td>\n",
       "      <td>Gasoline</td>\n",
       "      <td>375.0HP 3.5L V6 Cylinder Engine Gasoline Fuel</td>\n",
       "      <td>10-Speed A/T</td>\n",
       "      <td>Blue</td>\n",
       "      <td>Gray</td>\n",
       "      <td>None reported</td>\n",
       "      <td>Yes</td>\n",
       "      <td>11000</td>\n",
       "    </tr>\n",
       "    <tr>\n",
       "      <th>1</th>\n",
       "      <td>1</td>\n",
       "      <td>BMW</td>\n",
       "      <td>335 i</td>\n",
       "      <td>2007</td>\n",
       "      <td>80000</td>\n",
       "      <td>Gasoline</td>\n",
       "      <td>300.0HP 3.0L Straight 6 Cylinder Engine Gasoli...</td>\n",
       "      <td>6-Speed M/T</td>\n",
       "      <td>Black</td>\n",
       "      <td>Black</td>\n",
       "      <td>None reported</td>\n",
       "      <td>Yes</td>\n",
       "      <td>8250</td>\n",
       "    </tr>\n",
       "    <tr>\n",
       "      <th>2</th>\n",
       "      <td>2</td>\n",
       "      <td>Jaguar</td>\n",
       "      <td>XF Luxury</td>\n",
       "      <td>2009</td>\n",
       "      <td>91491</td>\n",
       "      <td>Gasoline</td>\n",
       "      <td>300.0HP 4.2L 8 Cylinder Engine Gasoline Fuel</td>\n",
       "      <td>6-Speed A/T</td>\n",
       "      <td>Purple</td>\n",
       "      <td>Beige</td>\n",
       "      <td>None reported</td>\n",
       "      <td>Yes</td>\n",
       "      <td>15000</td>\n",
       "    </tr>\n",
       "    <tr>\n",
       "      <th>3</th>\n",
       "      <td>3</td>\n",
       "      <td>BMW</td>\n",
       "      <td>X7 xDrive40i</td>\n",
       "      <td>2022</td>\n",
       "      <td>2437</td>\n",
       "      <td>Hybrid</td>\n",
       "      <td>335.0HP 3.0L Straight 6 Cylinder Engine Gasoli...</td>\n",
       "      <td>Transmission w/Dual Shift Mode</td>\n",
       "      <td>Gray</td>\n",
       "      <td>Brown</td>\n",
       "      <td>None reported</td>\n",
       "      <td>Yes</td>\n",
       "      <td>63500</td>\n",
       "    </tr>\n",
       "    <tr>\n",
       "      <th>4</th>\n",
       "      <td>4</td>\n",
       "      <td>Pontiac</td>\n",
       "      <td>Firebird Base</td>\n",
       "      <td>2001</td>\n",
       "      <td>111000</td>\n",
       "      <td>Gasoline</td>\n",
       "      <td>200.0HP 3.8L V6 Cylinder Engine Gasoline Fuel</td>\n",
       "      <td>A/T</td>\n",
       "      <td>White</td>\n",
       "      <td>Black</td>\n",
       "      <td>None reported</td>\n",
       "      <td>Yes</td>\n",
       "      <td>7850</td>\n",
       "    </tr>\n",
       "  </tbody>\n",
       "</table>\n",
       "</div>"
      ],
      "text/plain": [
       "   id    brand          model  model_year  milage fuel_type  \\\n",
       "0   0     Ford   F-150 Lariat        2018   74349  Gasoline   \n",
       "1   1      BMW          335 i        2007   80000  Gasoline   \n",
       "2   2   Jaguar      XF Luxury        2009   91491  Gasoline   \n",
       "3   3      BMW   X7 xDrive40i        2022    2437    Hybrid   \n",
       "4   4  Pontiac  Firebird Base        2001  111000  Gasoline   \n",
       "\n",
       "                                              engine  \\\n",
       "0      375.0HP 3.5L V6 Cylinder Engine Gasoline Fuel   \n",
       "1  300.0HP 3.0L Straight 6 Cylinder Engine Gasoli...   \n",
       "2       300.0HP 4.2L 8 Cylinder Engine Gasoline Fuel   \n",
       "3  335.0HP 3.0L Straight 6 Cylinder Engine Gasoli...   \n",
       "4      200.0HP 3.8L V6 Cylinder Engine Gasoline Fuel   \n",
       "\n",
       "                     transmission ext_col int_col       accident clean_title  \\\n",
       "0                    10-Speed A/T    Blue    Gray  None reported         Yes   \n",
       "1                     6-Speed M/T   Black   Black  None reported         Yes   \n",
       "2                     6-Speed A/T  Purple   Beige  None reported         Yes   \n",
       "3  Transmission w/Dual Shift Mode    Gray   Brown  None reported         Yes   \n",
       "4                             A/T   White   Black  None reported         Yes   \n",
       "\n",
       "   price  \n",
       "0  11000  \n",
       "1   8250  \n",
       "2  15000  \n",
       "3  63500  \n",
       "4   7850  "
      ]
     },
     "execution_count": 8,
     "metadata": {},
     "output_type": "execute_result"
    }
   ],
   "source": [
    "train_set.head()"
   ]
  },
  {
   "cell_type": "code",
   "execution_count": 9,
   "id": "8770f652",
   "metadata": {
    "execution": {
     "iopub.execute_input": "2024-06-14T00:57:14.674338Z",
     "iopub.status.busy": "2024-06-14T00:57:14.673695Z",
     "iopub.status.idle": "2024-06-14T00:57:14.688156Z",
     "shell.execute_reply": "2024-06-14T00:57:14.687330Z"
    },
    "papermill": {
     "duration": 0.022501,
     "end_time": "2024-06-14T00:57:14.690060",
     "exception": false,
     "start_time": "2024-06-14T00:57:14.667559",
     "status": "completed"
    },
    "tags": []
   },
   "outputs": [
    {
     "data": {
      "text/html": [
       "<div>\n",
       "<style scoped>\n",
       "    .dataframe tbody tr th:only-of-type {\n",
       "        vertical-align: middle;\n",
       "    }\n",
       "\n",
       "    .dataframe tbody tr th {\n",
       "        vertical-align: top;\n",
       "    }\n",
       "\n",
       "    .dataframe thead th {\n",
       "        text-align: right;\n",
       "    }\n",
       "</style>\n",
       "<table border=\"1\" class=\"dataframe\">\n",
       "  <thead>\n",
       "    <tr style=\"text-align: right;\">\n",
       "      <th></th>\n",
       "      <th>id</th>\n",
       "      <th>brand</th>\n",
       "      <th>model</th>\n",
       "      <th>model_year</th>\n",
       "      <th>milage</th>\n",
       "      <th>fuel_type</th>\n",
       "      <th>engine</th>\n",
       "      <th>transmission</th>\n",
       "      <th>ext_col</th>\n",
       "      <th>int_col</th>\n",
       "      <th>accident</th>\n",
       "      <th>clean_title</th>\n",
       "    </tr>\n",
       "  </thead>\n",
       "  <tbody>\n",
       "    <tr>\n",
       "      <th>0</th>\n",
       "      <td>54273</td>\n",
       "      <td>Mercedes-Benz</td>\n",
       "      <td>E-Class E 350</td>\n",
       "      <td>2014</td>\n",
       "      <td>73000</td>\n",
       "      <td>Gasoline</td>\n",
       "      <td>302.0HP 3.5L V6 Cylinder Engine Gasoline Fuel</td>\n",
       "      <td>A/T</td>\n",
       "      <td>White</td>\n",
       "      <td>Beige</td>\n",
       "      <td>None reported</td>\n",
       "      <td>Yes</td>\n",
       "    </tr>\n",
       "    <tr>\n",
       "      <th>1</th>\n",
       "      <td>54274</td>\n",
       "      <td>Lexus</td>\n",
       "      <td>RX 350 Base</td>\n",
       "      <td>2015</td>\n",
       "      <td>128032</td>\n",
       "      <td>Gasoline</td>\n",
       "      <td>275.0HP 3.5L V6 Cylinder Engine Gasoline Fuel</td>\n",
       "      <td>8-Speed A/T</td>\n",
       "      <td>Silver</td>\n",
       "      <td>Black</td>\n",
       "      <td>None reported</td>\n",
       "      <td>Yes</td>\n",
       "    </tr>\n",
       "    <tr>\n",
       "      <th>2</th>\n",
       "      <td>54275</td>\n",
       "      <td>Mercedes-Benz</td>\n",
       "      <td>C-Class C 300</td>\n",
       "      <td>2015</td>\n",
       "      <td>51983</td>\n",
       "      <td>Gasoline</td>\n",
       "      <td>241.0HP 2.0L 4 Cylinder Engine Gasoline Fuel</td>\n",
       "      <td>7-Speed A/T</td>\n",
       "      <td>Blue</td>\n",
       "      <td>White</td>\n",
       "      <td>None reported</td>\n",
       "      <td>Yes</td>\n",
       "    </tr>\n",
       "    <tr>\n",
       "      <th>3</th>\n",
       "      <td>54276</td>\n",
       "      <td>Land</td>\n",
       "      <td>Rover Range Rover 5.0L Supercharged Autobiogra...</td>\n",
       "      <td>2018</td>\n",
       "      <td>29500</td>\n",
       "      <td>Gasoline</td>\n",
       "      <td>518.0HP 5.0L 8 Cylinder Engine Gasoline Fuel</td>\n",
       "      <td>Transmission w/Dual Shift Mode</td>\n",
       "      <td>White</td>\n",
       "      <td>White</td>\n",
       "      <td>At least 1 accident or damage reported</td>\n",
       "      <td>Yes</td>\n",
       "    </tr>\n",
       "    <tr>\n",
       "      <th>4</th>\n",
       "      <td>54277</td>\n",
       "      <td>BMW</td>\n",
       "      <td>X6 xDrive40i</td>\n",
       "      <td>2020</td>\n",
       "      <td>90000</td>\n",
       "      <td>Gasoline</td>\n",
       "      <td>335.0HP 3.0L Straight 6 Cylinder Engine Gasoli...</td>\n",
       "      <td>8-Speed A/T</td>\n",
       "      <td>White</td>\n",
       "      <td>Black</td>\n",
       "      <td>At least 1 accident or damage reported</td>\n",
       "      <td>Yes</td>\n",
       "    </tr>\n",
       "  </tbody>\n",
       "</table>\n",
       "</div>"
      ],
      "text/plain": [
       "      id          brand                                              model  \\\n",
       "0  54273  Mercedes-Benz                                      E-Class E 350   \n",
       "1  54274          Lexus                                        RX 350 Base   \n",
       "2  54275  Mercedes-Benz                                      C-Class C 300   \n",
       "3  54276           Land  Rover Range Rover 5.0L Supercharged Autobiogra...   \n",
       "4  54277            BMW                                       X6 xDrive40i   \n",
       "\n",
       "   model_year  milage fuel_type  \\\n",
       "0        2014   73000  Gasoline   \n",
       "1        2015  128032  Gasoline   \n",
       "2        2015   51983  Gasoline   \n",
       "3        2018   29500  Gasoline   \n",
       "4        2020   90000  Gasoline   \n",
       "\n",
       "                                              engine  \\\n",
       "0      302.0HP 3.5L V6 Cylinder Engine Gasoline Fuel   \n",
       "1      275.0HP 3.5L V6 Cylinder Engine Gasoline Fuel   \n",
       "2       241.0HP 2.0L 4 Cylinder Engine Gasoline Fuel   \n",
       "3       518.0HP 5.0L 8 Cylinder Engine Gasoline Fuel   \n",
       "4  335.0HP 3.0L Straight 6 Cylinder Engine Gasoli...   \n",
       "\n",
       "                     transmission ext_col int_col  \\\n",
       "0                             A/T   White   Beige   \n",
       "1                     8-Speed A/T  Silver   Black   \n",
       "2                     7-Speed A/T    Blue   White   \n",
       "3  Transmission w/Dual Shift Mode   White   White   \n",
       "4                     8-Speed A/T   White   Black   \n",
       "\n",
       "                                 accident clean_title  \n",
       "0                           None reported         Yes  \n",
       "1                           None reported         Yes  \n",
       "2                           None reported         Yes  \n",
       "3  At least 1 accident or damage reported         Yes  \n",
       "4  At least 1 accident or damage reported         Yes  "
      ]
     },
     "execution_count": 9,
     "metadata": {},
     "output_type": "execute_result"
    }
   ],
   "source": [
    "test_set.head()"
   ]
  },
  {
   "cell_type": "code",
   "execution_count": 10,
   "id": "8c10db6c",
   "metadata": {
    "execution": {
     "iopub.execute_input": "2024-06-14T00:57:14.701541Z",
     "iopub.status.busy": "2024-06-14T00:57:14.701278Z",
     "iopub.status.idle": "2024-06-14T00:57:14.777851Z",
     "shell.execute_reply": "2024-06-14T00:57:14.776919Z"
    },
    "papermill": {
     "duration": 0.084419,
     "end_time": "2024-06-14T00:57:14.779695",
     "exception": false,
     "start_time": "2024-06-14T00:57:14.695276",
     "status": "completed"
    },
    "tags": []
   },
   "outputs": [
    {
     "data": {
      "text/plain": [
       "id              False\n",
       "brand           False\n",
       "model           False\n",
       "model_year      False\n",
       "milage          False\n",
       "fuel_type       False\n",
       "engine          False\n",
       "transmission    False\n",
       "ext_col         False\n",
       "int_col         False\n",
       "accident        False\n",
       "clean_title     False\n",
       "price           False\n",
       "dtype: bool"
      ]
     },
     "execution_count": 10,
     "metadata": {},
     "output_type": "execute_result"
    }
   ],
   "source": [
    "train_set.any().isna()"
   ]
  },
  {
   "cell_type": "code",
   "execution_count": 11,
   "id": "8c4c75ef",
   "metadata": {
    "execution": {
     "iopub.execute_input": "2024-06-14T00:57:14.791861Z",
     "iopub.status.busy": "2024-06-14T00:57:14.791126Z",
     "iopub.status.idle": "2024-06-14T00:57:14.843842Z",
     "shell.execute_reply": "2024-06-14T00:57:14.843033Z"
    },
    "papermill": {
     "duration": 0.06049,
     "end_time": "2024-06-14T00:57:14.845624",
     "exception": false,
     "start_time": "2024-06-14T00:57:14.785134",
     "status": "completed"
    },
    "tags": []
   },
   "outputs": [
    {
     "data": {
      "text/plain": [
       "id              False\n",
       "brand           False\n",
       "model           False\n",
       "model_year      False\n",
       "milage          False\n",
       "fuel_type       False\n",
       "engine          False\n",
       "transmission    False\n",
       "ext_col         False\n",
       "int_col         False\n",
       "accident        False\n",
       "clean_title     False\n",
       "dtype: bool"
      ]
     },
     "execution_count": 11,
     "metadata": {},
     "output_type": "execute_result"
    }
   ],
   "source": [
    "test_set.any().isna()"
   ]
  },
  {
   "cell_type": "markdown",
   "id": "005ba583",
   "metadata": {
    "papermill": {
     "duration": 0.005258,
     "end_time": "2024-06-14T00:57:14.856312",
     "exception": false,
     "start_time": "2024-06-14T00:57:14.851054",
     "status": "completed"
    },
    "tags": []
   },
   "source": [
    "TODO\n",
    "- shuffle\n",
    "- split train into train and valid (70/30)\n",
    "- separate engine into different parameters\n",
    "- remove id on train\n",
    "- train model\n",
    "- "
   ]
  },
  {
   "cell_type": "code",
   "execution_count": null,
   "id": "2de1887c",
   "metadata": {
    "papermill": {
     "duration": 0.005157,
     "end_time": "2024-06-14T00:57:14.866879",
     "exception": false,
     "start_time": "2024-06-14T00:57:14.861722",
     "status": "completed"
    },
    "tags": []
   },
   "outputs": [],
   "source": []
  }
 ],
 "metadata": {
  "kaggle": {
   "accelerator": "nvidiaTeslaT4",
   "dataSources": [
    {
     "databundleVersionId": 7461897,
     "sourceId": 67167,
     "sourceType": "competition"
    },
    {
     "datasetId": 5208192,
     "sourceId": 8686686,
     "sourceType": "datasetVersion"
    }
   ],
   "dockerImageVersionId": 30733,
   "isGpuEnabled": true,
   "isInternetEnabled": true,
   "language": "python",
   "sourceType": "notebook"
  },
  "kernelspec": {
   "display_name": "Python 3",
   "language": "python",
   "name": "python3"
  },
  "language_info": {
   "codemirror_mode": {
    "name": "ipython",
    "version": 3
   },
   "file_extension": ".py",
   "mimetype": "text/x-python",
   "name": "python",
   "nbconvert_exporter": "python",
   "pygments_lexer": "ipython3",
   "version": "3.10.13"
  },
  "papermill": {
   "default_parameters": {},
   "duration": 4.958726,
   "end_time": "2024-06-14T00:57:15.189338",
   "environment_variables": {},
   "exception": null,
   "input_path": "__notebook__.ipynb",
   "output_path": "__notebook__.ipynb",
   "parameters": {},
   "start_time": "2024-06-14T00:57:10.230612",
   "version": "2.5.0"
  }
 },
 "nbformat": 4,
 "nbformat_minor": 5
}
