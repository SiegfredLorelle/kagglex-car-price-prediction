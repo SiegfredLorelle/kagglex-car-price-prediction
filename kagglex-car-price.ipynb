{
 "cells": [
  {
   "cell_type": "code",
   "execution_count": 1,
   "id": "b7cce173",
   "metadata": {
    "execution": {
     "iopub.execute_input": "2024-06-16T15:48:46.611591Z",
     "iopub.status.busy": "2024-06-16T15:48:46.611312Z",
     "iopub.status.idle": "2024-06-16T15:48:46.615755Z",
     "shell.execute_reply": "2024-06-16T15:48:46.614845Z"
    },
    "papermill": {
     "duration": 0.047111,
     "end_time": "2024-06-16T15:48:46.617840",
     "exception": false,
     "start_time": "2024-06-16T15:48:46.570729",
     "status": "completed"
    },
    "tags": []
   },
   "outputs": [],
   "source": [
    "# KaggleX Cohert 4 Skill Assessment Challenge"
   ]
  },
  {
   "cell_type": "markdown",
   "id": "b0e1e7f8",
   "metadata": {
    "papermill": {
     "duration": 0.037323,
     "end_time": "2024-06-16T15:48:46.692852",
     "exception": false,
     "start_time": "2024-06-16T15:48:46.655529",
     "status": "completed"
    },
    "tags": []
   },
   "source": [
    "## Import Library and Download Dataset"
   ]
  },
  {
   "cell_type": "code",
   "execution_count": 2,
   "id": "98424057",
   "metadata": {
    "_cell_guid": "b1076dfc-b9ad-4769-8c92-a6c4dae69d19",
    "_uuid": "8f2839f25d086af736a60e9eeb907d3b93b6e0e5",
    "execution": {
     "iopub.execute_input": "2024-06-16T15:48:46.768907Z",
     "iopub.status.busy": "2024-06-16T15:48:46.768643Z",
     "iopub.status.idle": "2024-06-16T15:49:02.364504Z",
     "shell.execute_reply": "2024-06-16T15:49:02.363694Z"
    },
    "papermill": {
     "duration": 15.636619,
     "end_time": "2024-06-16T15:49:02.366807",
     "exception": false,
     "start_time": "2024-06-16T15:48:46.730188",
     "status": "completed"
    },
    "tags": []
   },
   "outputs": [
    {
     "name": "stderr",
     "output_type": "stream",
     "text": [
      "2024-06-16 15:48:49.788363: E external/local_xla/xla/stream_executor/cuda/cuda_dnn.cc:9261] Unable to register cuDNN factory: Attempting to register factory for plugin cuDNN when one has already been registered\n",
      "2024-06-16 15:48:49.788462: E external/local_xla/xla/stream_executor/cuda/cuda_fft.cc:607] Unable to register cuFFT factory: Attempting to register factory for plugin cuFFT when one has already been registered\n",
      "2024-06-16 15:48:49.925465: E external/local_xla/xla/stream_executor/cuda/cuda_blas.cc:1515] Unable to register cuBLAS factory: Attempting to register factory for plugin cuBLAS when one has already been registered\n"
     ]
    }
   ],
   "source": [
    "# Import libraries\n",
    "import numpy as np\n",
    "import pandas as pd\n",
    "import tensorflow as tf\n",
    "import sklearn\n",
    "from sklearn.model_selection import train_test_split\n",
    "import matplotlib.pyplot as plt\n",
    "import seaborn as sns\n",
    "import copy"
   ]
  },
  {
   "cell_type": "code",
   "execution_count": 3,
   "id": "70e88712",
   "metadata": {
    "execution": {
     "iopub.execute_input": "2024-06-16T15:49:02.444675Z",
     "iopub.status.busy": "2024-06-16T15:49:02.444128Z",
     "iopub.status.idle": "2024-06-16T15:49:02.905333Z",
     "shell.execute_reply": "2024-06-16T15:49:02.904575Z"
    },
    "papermill": {
     "duration": 0.502579,
     "end_time": "2024-06-16T15:49:02.907820",
     "exception": false,
     "start_time": "2024-06-16T15:49:02.405241",
     "status": "completed"
    },
    "tags": []
   },
   "outputs": [],
   "source": [
    "# Dataset paths\n",
    "train_path = \"/kaggle/input/kagglex-car-price-prediction-dataset/train.csv\"\n",
    "test_path = \"/kaggle/input/kagglex-car-price-prediction-dataset/test.csv\"\n",
    "\n",
    "df = pd.read_csv(train_path)\n",
    "unedited_df = copy.deepcopy(df)\n",
    "test_df = pd.read_csv(test_path)\n",
    "unedited_test_df = copy.deepcopy(test_df)"
   ]
  },
  {
   "cell_type": "markdown",
   "id": "5a1e7a1a",
   "metadata": {
    "papermill": {
     "duration": 0.037201,
     "end_time": "2024-06-16T15:49:02.983508",
     "exception": false,
     "start_time": "2024-06-16T15:49:02.946307",
     "status": "completed"
    },
    "tags": []
   },
   "source": [
    "## Check data"
   ]
  },
  {
   "cell_type": "code",
   "execution_count": 4,
   "id": "44bb5c22",
   "metadata": {
    "execution": {
     "iopub.execute_input": "2024-06-16T15:49:03.059388Z",
     "iopub.status.busy": "2024-06-16T15:49:03.058737Z",
     "iopub.status.idle": "2024-06-16T15:49:03.065018Z",
     "shell.execute_reply": "2024-06-16T15:49:03.064179Z"
    },
    "papermill": {
     "duration": 0.046346,
     "end_time": "2024-06-16T15:49:03.066883",
     "exception": false,
     "start_time": "2024-06-16T15:49:03.020537",
     "status": "completed"
    },
    "tags": []
   },
   "outputs": [
    {
     "data": {
      "text/plain": [
       "(54273, 13)"
      ]
     },
     "execution_count": 4,
     "metadata": {},
     "output_type": "execute_result"
    }
   ],
   "source": [
    "df.shape"
   ]
  },
  {
   "cell_type": "code",
   "execution_count": 5,
   "id": "a41e5540",
   "metadata": {
    "execution": {
     "iopub.execute_input": "2024-06-16T15:49:03.182768Z",
     "iopub.status.busy": "2024-06-16T15:49:03.181982Z",
     "iopub.status.idle": "2024-06-16T15:49:03.187783Z",
     "shell.execute_reply": "2024-06-16T15:49:03.186902Z"
    },
    "papermill": {
     "duration": 0.046644,
     "end_time": "2024-06-16T15:49:03.189742",
     "exception": false,
     "start_time": "2024-06-16T15:49:03.143098",
     "status": "completed"
    },
    "tags": []
   },
   "outputs": [
    {
     "data": {
      "text/plain": [
       "(36183, 12)"
      ]
     },
     "execution_count": 5,
     "metadata": {},
     "output_type": "execute_result"
    }
   ],
   "source": [
    "test_df.shape"
   ]
  },
  {
   "cell_type": "code",
   "execution_count": 6,
   "id": "35ab335d",
   "metadata": {
    "execution": {
     "iopub.execute_input": "2024-06-16T15:49:03.266661Z",
     "iopub.status.busy": "2024-06-16T15:49:03.266394Z",
     "iopub.status.idle": "2024-06-16T15:49:03.291808Z",
     "shell.execute_reply": "2024-06-16T15:49:03.290944Z"
    },
    "papermill": {
     "duration": 0.066285,
     "end_time": "2024-06-16T15:49:03.293874",
     "exception": false,
     "start_time": "2024-06-16T15:49:03.227589",
     "status": "completed"
    },
    "tags": []
   },
   "outputs": [
    {
     "data": {
      "text/html": [
       "<div>\n",
       "<style scoped>\n",
       "    .dataframe tbody tr th:only-of-type {\n",
       "        vertical-align: middle;\n",
       "    }\n",
       "\n",
       "    .dataframe tbody tr th {\n",
       "        vertical-align: top;\n",
       "    }\n",
       "\n",
       "    .dataframe thead th {\n",
       "        text-align: right;\n",
       "    }\n",
       "</style>\n",
       "<table border=\"1\" class=\"dataframe\">\n",
       "  <thead>\n",
       "    <tr style=\"text-align: right;\">\n",
       "      <th></th>\n",
       "      <th>id</th>\n",
       "      <th>brand</th>\n",
       "      <th>model</th>\n",
       "      <th>model_year</th>\n",
       "      <th>milage</th>\n",
       "      <th>fuel_type</th>\n",
       "      <th>engine</th>\n",
       "      <th>transmission</th>\n",
       "      <th>ext_col</th>\n",
       "      <th>int_col</th>\n",
       "      <th>accident</th>\n",
       "      <th>clean_title</th>\n",
       "      <th>price</th>\n",
       "    </tr>\n",
       "  </thead>\n",
       "  <tbody>\n",
       "    <tr>\n",
       "      <th>0</th>\n",
       "      <td>0</td>\n",
       "      <td>Ford</td>\n",
       "      <td>F-150 Lariat</td>\n",
       "      <td>2018</td>\n",
       "      <td>74349</td>\n",
       "      <td>Gasoline</td>\n",
       "      <td>375.0HP 3.5L V6 Cylinder Engine Gasoline Fuel</td>\n",
       "      <td>10-Speed A/T</td>\n",
       "      <td>Blue</td>\n",
       "      <td>Gray</td>\n",
       "      <td>None reported</td>\n",
       "      <td>Yes</td>\n",
       "      <td>11000</td>\n",
       "    </tr>\n",
       "    <tr>\n",
       "      <th>1</th>\n",
       "      <td>1</td>\n",
       "      <td>BMW</td>\n",
       "      <td>335 i</td>\n",
       "      <td>2007</td>\n",
       "      <td>80000</td>\n",
       "      <td>Gasoline</td>\n",
       "      <td>300.0HP 3.0L Straight 6 Cylinder Engine Gasoli...</td>\n",
       "      <td>6-Speed M/T</td>\n",
       "      <td>Black</td>\n",
       "      <td>Black</td>\n",
       "      <td>None reported</td>\n",
       "      <td>Yes</td>\n",
       "      <td>8250</td>\n",
       "    </tr>\n",
       "    <tr>\n",
       "      <th>2</th>\n",
       "      <td>2</td>\n",
       "      <td>Jaguar</td>\n",
       "      <td>XF Luxury</td>\n",
       "      <td>2009</td>\n",
       "      <td>91491</td>\n",
       "      <td>Gasoline</td>\n",
       "      <td>300.0HP 4.2L 8 Cylinder Engine Gasoline Fuel</td>\n",
       "      <td>6-Speed A/T</td>\n",
       "      <td>Purple</td>\n",
       "      <td>Beige</td>\n",
       "      <td>None reported</td>\n",
       "      <td>Yes</td>\n",
       "      <td>15000</td>\n",
       "    </tr>\n",
       "    <tr>\n",
       "      <th>3</th>\n",
       "      <td>3</td>\n",
       "      <td>BMW</td>\n",
       "      <td>X7 xDrive40i</td>\n",
       "      <td>2022</td>\n",
       "      <td>2437</td>\n",
       "      <td>Hybrid</td>\n",
       "      <td>335.0HP 3.0L Straight 6 Cylinder Engine Gasoli...</td>\n",
       "      <td>Transmission w/Dual Shift Mode</td>\n",
       "      <td>Gray</td>\n",
       "      <td>Brown</td>\n",
       "      <td>None reported</td>\n",
       "      <td>Yes</td>\n",
       "      <td>63500</td>\n",
       "    </tr>\n",
       "    <tr>\n",
       "      <th>4</th>\n",
       "      <td>4</td>\n",
       "      <td>Pontiac</td>\n",
       "      <td>Firebird Base</td>\n",
       "      <td>2001</td>\n",
       "      <td>111000</td>\n",
       "      <td>Gasoline</td>\n",
       "      <td>200.0HP 3.8L V6 Cylinder Engine Gasoline Fuel</td>\n",
       "      <td>A/T</td>\n",
       "      <td>White</td>\n",
       "      <td>Black</td>\n",
       "      <td>None reported</td>\n",
       "      <td>Yes</td>\n",
       "      <td>7850</td>\n",
       "    </tr>\n",
       "  </tbody>\n",
       "</table>\n",
       "</div>"
      ],
      "text/plain": [
       "   id    brand          model  model_year  milage fuel_type  \\\n",
       "0   0     Ford   F-150 Lariat        2018   74349  Gasoline   \n",
       "1   1      BMW          335 i        2007   80000  Gasoline   \n",
       "2   2   Jaguar      XF Luxury        2009   91491  Gasoline   \n",
       "3   3      BMW   X7 xDrive40i        2022    2437    Hybrid   \n",
       "4   4  Pontiac  Firebird Base        2001  111000  Gasoline   \n",
       "\n",
       "                                              engine  \\\n",
       "0      375.0HP 3.5L V6 Cylinder Engine Gasoline Fuel   \n",
       "1  300.0HP 3.0L Straight 6 Cylinder Engine Gasoli...   \n",
       "2       300.0HP 4.2L 8 Cylinder Engine Gasoline Fuel   \n",
       "3  335.0HP 3.0L Straight 6 Cylinder Engine Gasoli...   \n",
       "4      200.0HP 3.8L V6 Cylinder Engine Gasoline Fuel   \n",
       "\n",
       "                     transmission ext_col int_col       accident clean_title  \\\n",
       "0                    10-Speed A/T    Blue    Gray  None reported         Yes   \n",
       "1                     6-Speed M/T   Black   Black  None reported         Yes   \n",
       "2                     6-Speed A/T  Purple   Beige  None reported         Yes   \n",
       "3  Transmission w/Dual Shift Mode    Gray   Brown  None reported         Yes   \n",
       "4                             A/T   White   Black  None reported         Yes   \n",
       "\n",
       "   price  \n",
       "0  11000  \n",
       "1   8250  \n",
       "2  15000  \n",
       "3  63500  \n",
       "4   7850  "
      ]
     },
     "execution_count": 6,
     "metadata": {},
     "output_type": "execute_result"
    }
   ],
   "source": [
    "df.head()"
   ]
  },
  {
   "cell_type": "code",
   "execution_count": 7,
   "id": "eddd931b",
   "metadata": {
    "execution": {
     "iopub.execute_input": "2024-06-16T15:49:03.373787Z",
     "iopub.status.busy": "2024-06-16T15:49:03.373543Z",
     "iopub.status.idle": "2024-06-16T15:49:03.387471Z",
     "shell.execute_reply": "2024-06-16T15:49:03.386534Z"
    },
    "papermill": {
     "duration": 0.055956,
     "end_time": "2024-06-16T15:49:03.389875",
     "exception": false,
     "start_time": "2024-06-16T15:49:03.333919",
     "status": "completed"
    },
    "tags": []
   },
   "outputs": [
    {
     "data": {
      "text/html": [
       "<div>\n",
       "<style scoped>\n",
       "    .dataframe tbody tr th:only-of-type {\n",
       "        vertical-align: middle;\n",
       "    }\n",
       "\n",
       "    .dataframe tbody tr th {\n",
       "        vertical-align: top;\n",
       "    }\n",
       "\n",
       "    .dataframe thead th {\n",
       "        text-align: right;\n",
       "    }\n",
       "</style>\n",
       "<table border=\"1\" class=\"dataframe\">\n",
       "  <thead>\n",
       "    <tr style=\"text-align: right;\">\n",
       "      <th></th>\n",
       "      <th>id</th>\n",
       "      <th>brand</th>\n",
       "      <th>model</th>\n",
       "      <th>model_year</th>\n",
       "      <th>milage</th>\n",
       "      <th>fuel_type</th>\n",
       "      <th>engine</th>\n",
       "      <th>transmission</th>\n",
       "      <th>ext_col</th>\n",
       "      <th>int_col</th>\n",
       "      <th>accident</th>\n",
       "      <th>clean_title</th>\n",
       "    </tr>\n",
       "  </thead>\n",
       "  <tbody>\n",
       "    <tr>\n",
       "      <th>0</th>\n",
       "      <td>54273</td>\n",
       "      <td>Mercedes-Benz</td>\n",
       "      <td>E-Class E 350</td>\n",
       "      <td>2014</td>\n",
       "      <td>73000</td>\n",
       "      <td>Gasoline</td>\n",
       "      <td>302.0HP 3.5L V6 Cylinder Engine Gasoline Fuel</td>\n",
       "      <td>A/T</td>\n",
       "      <td>White</td>\n",
       "      <td>Beige</td>\n",
       "      <td>None reported</td>\n",
       "      <td>Yes</td>\n",
       "    </tr>\n",
       "    <tr>\n",
       "      <th>1</th>\n",
       "      <td>54274</td>\n",
       "      <td>Lexus</td>\n",
       "      <td>RX 350 Base</td>\n",
       "      <td>2015</td>\n",
       "      <td>128032</td>\n",
       "      <td>Gasoline</td>\n",
       "      <td>275.0HP 3.5L V6 Cylinder Engine Gasoline Fuel</td>\n",
       "      <td>8-Speed A/T</td>\n",
       "      <td>Silver</td>\n",
       "      <td>Black</td>\n",
       "      <td>None reported</td>\n",
       "      <td>Yes</td>\n",
       "    </tr>\n",
       "    <tr>\n",
       "      <th>2</th>\n",
       "      <td>54275</td>\n",
       "      <td>Mercedes-Benz</td>\n",
       "      <td>C-Class C 300</td>\n",
       "      <td>2015</td>\n",
       "      <td>51983</td>\n",
       "      <td>Gasoline</td>\n",
       "      <td>241.0HP 2.0L 4 Cylinder Engine Gasoline Fuel</td>\n",
       "      <td>7-Speed A/T</td>\n",
       "      <td>Blue</td>\n",
       "      <td>White</td>\n",
       "      <td>None reported</td>\n",
       "      <td>Yes</td>\n",
       "    </tr>\n",
       "    <tr>\n",
       "      <th>3</th>\n",
       "      <td>54276</td>\n",
       "      <td>Land</td>\n",
       "      <td>Rover Range Rover 5.0L Supercharged Autobiogra...</td>\n",
       "      <td>2018</td>\n",
       "      <td>29500</td>\n",
       "      <td>Gasoline</td>\n",
       "      <td>518.0HP 5.0L 8 Cylinder Engine Gasoline Fuel</td>\n",
       "      <td>Transmission w/Dual Shift Mode</td>\n",
       "      <td>White</td>\n",
       "      <td>White</td>\n",
       "      <td>At least 1 accident or damage reported</td>\n",
       "      <td>Yes</td>\n",
       "    </tr>\n",
       "    <tr>\n",
       "      <th>4</th>\n",
       "      <td>54277</td>\n",
       "      <td>BMW</td>\n",
       "      <td>X6 xDrive40i</td>\n",
       "      <td>2020</td>\n",
       "      <td>90000</td>\n",
       "      <td>Gasoline</td>\n",
       "      <td>335.0HP 3.0L Straight 6 Cylinder Engine Gasoli...</td>\n",
       "      <td>8-Speed A/T</td>\n",
       "      <td>White</td>\n",
       "      <td>Black</td>\n",
       "      <td>At least 1 accident or damage reported</td>\n",
       "      <td>Yes</td>\n",
       "    </tr>\n",
       "  </tbody>\n",
       "</table>\n",
       "</div>"
      ],
      "text/plain": [
       "      id          brand                                              model  \\\n",
       "0  54273  Mercedes-Benz                                      E-Class E 350   \n",
       "1  54274          Lexus                                        RX 350 Base   \n",
       "2  54275  Mercedes-Benz                                      C-Class C 300   \n",
       "3  54276           Land  Rover Range Rover 5.0L Supercharged Autobiogra...   \n",
       "4  54277            BMW                                       X6 xDrive40i   \n",
       "\n",
       "   model_year  milage fuel_type  \\\n",
       "0        2014   73000  Gasoline   \n",
       "1        2015  128032  Gasoline   \n",
       "2        2015   51983  Gasoline   \n",
       "3        2018   29500  Gasoline   \n",
       "4        2020   90000  Gasoline   \n",
       "\n",
       "                                              engine  \\\n",
       "0      302.0HP 3.5L V6 Cylinder Engine Gasoline Fuel   \n",
       "1      275.0HP 3.5L V6 Cylinder Engine Gasoline Fuel   \n",
       "2       241.0HP 2.0L 4 Cylinder Engine Gasoline Fuel   \n",
       "3       518.0HP 5.0L 8 Cylinder Engine Gasoline Fuel   \n",
       "4  335.0HP 3.0L Straight 6 Cylinder Engine Gasoli...   \n",
       "\n",
       "                     transmission ext_col int_col  \\\n",
       "0                             A/T   White   Beige   \n",
       "1                     8-Speed A/T  Silver   Black   \n",
       "2                     7-Speed A/T    Blue   White   \n",
       "3  Transmission w/Dual Shift Mode   White   White   \n",
       "4                     8-Speed A/T   White   Black   \n",
       "\n",
       "                                 accident clean_title  \n",
       "0                           None reported         Yes  \n",
       "1                           None reported         Yes  \n",
       "2                           None reported         Yes  \n",
       "3  At least 1 accident or damage reported         Yes  \n",
       "4  At least 1 accident or damage reported         Yes  "
      ]
     },
     "execution_count": 7,
     "metadata": {},
     "output_type": "execute_result"
    }
   ],
   "source": [
    "test_df.head()"
   ]
  },
  {
   "cell_type": "code",
   "execution_count": 8,
   "id": "04709d20",
   "metadata": {
    "execution": {
     "iopub.execute_input": "2024-06-16T15:49:03.469769Z",
     "iopub.status.busy": "2024-06-16T15:49:03.469506Z",
     "iopub.status.idle": "2024-06-16T15:49:03.523043Z",
     "shell.execute_reply": "2024-06-16T15:49:03.522301Z"
    },
    "papermill": {
     "duration": 0.09443,
     "end_time": "2024-06-16T15:49:03.524902",
     "exception": false,
     "start_time": "2024-06-16T15:49:03.430472",
     "status": "completed"
    },
    "tags": []
   },
   "outputs": [
    {
     "data": {
      "text/plain": [
       "id              0\n",
       "brand           0\n",
       "model           0\n",
       "model_year      0\n",
       "milage          0\n",
       "fuel_type       0\n",
       "engine          0\n",
       "transmission    0\n",
       "ext_col         0\n",
       "int_col         0\n",
       "accident        0\n",
       "clean_title     0\n",
       "price           0\n",
       "dtype: int64"
      ]
     },
     "execution_count": 8,
     "metadata": {},
     "output_type": "execute_result"
    }
   ],
   "source": [
    "df.isna().sum()"
   ]
  },
  {
   "cell_type": "code",
   "execution_count": 9,
   "id": "d1acedeb",
   "metadata": {
    "execution": {
     "iopub.execute_input": "2024-06-16T15:49:03.602832Z",
     "iopub.status.busy": "2024-06-16T15:49:03.602571Z",
     "iopub.status.idle": "2024-06-16T15:49:03.663539Z",
     "shell.execute_reply": "2024-06-16T15:49:03.662745Z"
    },
    "papermill": {
     "duration": 0.101825,
     "end_time": "2024-06-16T15:49:03.665397",
     "exception": false,
     "start_time": "2024-06-16T15:49:03.563572",
     "status": "completed"
    },
    "tags": []
   },
   "outputs": [
    {
     "data": {
      "text/plain": [
       "0"
      ]
     },
     "execution_count": 9,
     "metadata": {},
     "output_type": "execute_result"
    }
   ],
   "source": [
    "df.duplicated().sum()"
   ]
  },
  {
   "cell_type": "markdown",
   "id": "ca8bea04",
   "metadata": {
    "papermill": {
     "duration": 0.039704,
     "end_time": "2024-06-16T15:49:03.744422",
     "exception": false,
     "start_time": "2024-06-16T15:49:03.704718",
     "status": "completed"
    },
    "tags": []
   },
   "source": []
  },
  {
   "cell_type": "code",
   "execution_count": 10,
   "id": "6ebab95d",
   "metadata": {
    "execution": {
     "iopub.execute_input": "2024-06-16T15:49:03.826952Z",
     "iopub.status.busy": "2024-06-16T15:49:03.826605Z",
     "iopub.status.idle": "2024-06-16T15:49:03.891298Z",
     "shell.execute_reply": "2024-06-16T15:49:03.890045Z"
    },
    "papermill": {
     "duration": 0.110183,
     "end_time": "2024-06-16T15:49:03.893595",
     "exception": false,
     "start_time": "2024-06-16T15:49:03.783412",
     "status": "completed"
    },
    "tags": []
   },
   "outputs": [
    {
     "name": "stdout",
     "output_type": "stream",
     "text": [
      "<class 'pandas.core.frame.DataFrame'>\n",
      "RangeIndex: 54273 entries, 0 to 54272\n",
      "Data columns (total 13 columns):\n",
      " #   Column        Non-Null Count  Dtype \n",
      "---  ------        --------------  ----- \n",
      " 0   id            54273 non-null  int64 \n",
      " 1   brand         54273 non-null  object\n",
      " 2   model         54273 non-null  object\n",
      " 3   model_year    54273 non-null  int64 \n",
      " 4   milage        54273 non-null  int64 \n",
      " 5   fuel_type     54273 non-null  object\n",
      " 6   engine        54273 non-null  object\n",
      " 7   transmission  54273 non-null  object\n",
      " 8   ext_col       54273 non-null  object\n",
      " 9   int_col       54273 non-null  object\n",
      " 10  accident      54273 non-null  object\n",
      " 11  clean_title   54273 non-null  object\n",
      " 12  price         54273 non-null  int64 \n",
      "dtypes: int64(4), object(9)\n",
      "memory usage: 5.4+ MB\n"
     ]
    }
   ],
   "source": [
    "df.info()"
   ]
  },
  {
   "cell_type": "code",
   "execution_count": 11,
   "id": "2992439f",
   "metadata": {
    "execution": {
     "iopub.execute_input": "2024-06-16T15:49:03.975401Z",
     "iopub.status.busy": "2024-06-16T15:49:03.975101Z",
     "iopub.status.idle": "2024-06-16T15:49:04.029325Z",
     "shell.execute_reply": "2024-06-16T15:49:04.028508Z"
    },
    "papermill": {
     "duration": 0.096868,
     "end_time": "2024-06-16T15:49:04.031231",
     "exception": false,
     "start_time": "2024-06-16T15:49:03.934363",
     "status": "completed"
    },
    "tags": []
   },
   "outputs": [
    {
     "data": {
      "text/plain": [
       "id              54273\n",
       "brand              53\n",
       "model            1827\n",
       "model_year         34\n",
       "milage           3212\n",
       "fuel_type           7\n",
       "engine           1061\n",
       "transmission       46\n",
       "ext_col           260\n",
       "int_col           124\n",
       "accident            2\n",
       "clean_title         1\n",
       "price            1481\n",
       "dtype: int64"
      ]
     },
     "execution_count": 11,
     "metadata": {},
     "output_type": "execute_result"
    }
   ],
   "source": [
    "df.nunique()"
   ]
  },
  {
   "cell_type": "code",
   "execution_count": 12,
   "id": "9bcee479",
   "metadata": {
    "execution": {
     "iopub.execute_input": "2024-06-16T15:49:04.111142Z",
     "iopub.status.busy": "2024-06-16T15:49:04.110869Z",
     "iopub.status.idle": "2024-06-16T15:49:04.138867Z",
     "shell.execute_reply": "2024-06-16T15:49:04.137994Z"
    },
    "papermill": {
     "duration": 0.070277,
     "end_time": "2024-06-16T15:49:04.140880",
     "exception": false,
     "start_time": "2024-06-16T15:49:04.070603",
     "status": "completed"
    },
    "tags": []
   },
   "outputs": [
    {
     "data": {
      "text/html": [
       "<div>\n",
       "<style scoped>\n",
       "    .dataframe tbody tr th:only-of-type {\n",
       "        vertical-align: middle;\n",
       "    }\n",
       "\n",
       "    .dataframe tbody tr th {\n",
       "        vertical-align: top;\n",
       "    }\n",
       "\n",
       "    .dataframe thead th {\n",
       "        text-align: right;\n",
       "    }\n",
       "</style>\n",
       "<table border=\"1\" class=\"dataframe\">\n",
       "  <thead>\n",
       "    <tr style=\"text-align: right;\">\n",
       "      <th></th>\n",
       "      <th>id</th>\n",
       "      <th>model_year</th>\n",
       "      <th>milage</th>\n",
       "      <th>price</th>\n",
       "    </tr>\n",
       "  </thead>\n",
       "  <tbody>\n",
       "    <tr>\n",
       "      <th>count</th>\n",
       "      <td>54273.000000</td>\n",
       "      <td>54273.000000</td>\n",
       "      <td>54273.000000</td>\n",
       "      <td>5.427300e+04</td>\n",
       "    </tr>\n",
       "    <tr>\n",
       "      <th>mean</th>\n",
       "      <td>27136.000000</td>\n",
       "      <td>2015.091979</td>\n",
       "      <td>72746.175667</td>\n",
       "      <td>3.921844e+04</td>\n",
       "    </tr>\n",
       "    <tr>\n",
       "      <th>std</th>\n",
       "      <td>15667.409917</td>\n",
       "      <td>5.588909</td>\n",
       "      <td>50469.490448</td>\n",
       "      <td>7.282634e+04</td>\n",
       "    </tr>\n",
       "    <tr>\n",
       "      <th>min</th>\n",
       "      <td>0.000000</td>\n",
       "      <td>1974.000000</td>\n",
       "      <td>100.000000</td>\n",
       "      <td>2.000000e+03</td>\n",
       "    </tr>\n",
       "    <tr>\n",
       "      <th>25%</th>\n",
       "      <td>13568.000000</td>\n",
       "      <td>2012.000000</td>\n",
       "      <td>32268.000000</td>\n",
       "      <td>1.550000e+04</td>\n",
       "    </tr>\n",
       "    <tr>\n",
       "      <th>50%</th>\n",
       "      <td>27136.000000</td>\n",
       "      <td>2016.000000</td>\n",
       "      <td>66107.000000</td>\n",
       "      <td>2.800000e+04</td>\n",
       "    </tr>\n",
       "    <tr>\n",
       "      <th>75%</th>\n",
       "      <td>40704.000000</td>\n",
       "      <td>2019.000000</td>\n",
       "      <td>102000.000000</td>\n",
       "      <td>4.500000e+04</td>\n",
       "    </tr>\n",
       "    <tr>\n",
       "      <th>max</th>\n",
       "      <td>54272.000000</td>\n",
       "      <td>2024.000000</td>\n",
       "      <td>405000.000000</td>\n",
       "      <td>2.954083e+06</td>\n",
       "    </tr>\n",
       "  </tbody>\n",
       "</table>\n",
       "</div>"
      ],
      "text/plain": [
       "                 id    model_year         milage         price\n",
       "count  54273.000000  54273.000000   54273.000000  5.427300e+04\n",
       "mean   27136.000000   2015.091979   72746.175667  3.921844e+04\n",
       "std    15667.409917      5.588909   50469.490448  7.282634e+04\n",
       "min        0.000000   1974.000000     100.000000  2.000000e+03\n",
       "25%    13568.000000   2012.000000   32268.000000  1.550000e+04\n",
       "50%    27136.000000   2016.000000   66107.000000  2.800000e+04\n",
       "75%    40704.000000   2019.000000  102000.000000  4.500000e+04\n",
       "max    54272.000000   2024.000000  405000.000000  2.954083e+06"
      ]
     },
     "execution_count": 12,
     "metadata": {},
     "output_type": "execute_result"
    }
   ],
   "source": [
    "df.describe()"
   ]
  },
  {
   "cell_type": "markdown",
   "id": "59043d7b",
   "metadata": {
    "papermill": {
     "duration": 0.038748,
     "end_time": "2024-06-16T15:49:04.219340",
     "exception": false,
     "start_time": "2024-06-16T15:49:04.180592",
     "status": "completed"
    },
    "tags": []
   },
   "source": [
    "### Based on the data\n",
    "- #### Too many models and engine\n",
    "- #### Engine could probably be broken down into more features"
   ]
  },
  {
   "cell_type": "markdown",
   "id": "76f8740a",
   "metadata": {
    "papermill": {
     "duration": 0.039852,
     "end_time": "2024-06-16T15:49:04.298425",
     "exception": false,
     "start_time": "2024-06-16T15:49:04.258573",
     "status": "completed"
    },
    "tags": []
   },
   "source": [
    "## Exploratory Data Analysis (EDA)"
   ]
  },
  {
   "cell_type": "code",
   "execution_count": 13,
   "id": "23862525",
   "metadata": {
    "execution": {
     "iopub.execute_input": "2024-06-16T15:49:04.378412Z",
     "iopub.status.busy": "2024-06-16T15:49:04.378016Z",
     "iopub.status.idle": "2024-06-16T15:49:04.432004Z",
     "shell.execute_reply": "2024-06-16T15:49:04.430934Z"
    },
    "papermill": {
     "duration": 0.096323,
     "end_time": "2024-06-16T15:49:04.433791",
     "exception": false,
     "start_time": "2024-06-16T15:49:04.337468",
     "status": "completed"
    },
    "tags": []
   },
   "outputs": [
    {
     "name": "stdout",
     "output_type": "stream",
     "text": [
      "<class 'pandas.core.frame.DataFrame'>\n",
      "RangeIndex: 54273 entries, 0 to 54272\n",
      "Data columns (total 13 columns):\n",
      " #   Column        Non-Null Count  Dtype \n",
      "---  ------        --------------  ----- \n",
      " 0   id            54273 non-null  int64 \n",
      " 1   brand         54273 non-null  object\n",
      " 2   model         54273 non-null  object\n",
      " 3   model_year    54273 non-null  int64 \n",
      " 4   milage        54273 non-null  int64 \n",
      " 5   fuel_type     54273 non-null  object\n",
      " 6   engine        54273 non-null  object\n",
      " 7   transmission  54273 non-null  object\n",
      " 8   ext_col       54273 non-null  object\n",
      " 9   int_col       54273 non-null  object\n",
      " 10  accident      54273 non-null  object\n",
      " 11  clean_title   54273 non-null  object\n",
      " 12  price         54273 non-null  int64 \n",
      "dtypes: int64(4), object(9)\n",
      "memory usage: 5.4+ MB\n"
     ]
    }
   ],
   "source": [
    "df.info()"
   ]
  },
  {
   "cell_type": "code",
   "execution_count": 14,
   "id": "88e8089c",
   "metadata": {
    "execution": {
     "iopub.execute_input": "2024-06-16T15:49:04.513492Z",
     "iopub.status.busy": "2024-06-16T15:49:04.512746Z",
     "iopub.status.idle": "2024-06-16T15:49:04.518653Z",
     "shell.execute_reply": "2024-06-16T15:49:04.517786Z"
    },
    "papermill": {
     "duration": 0.047748,
     "end_time": "2024-06-16T15:49:04.520639",
     "exception": false,
     "start_time": "2024-06-16T15:49:04.472891",
     "status": "completed"
    },
    "tags": []
   },
   "outputs": [
    {
     "name": "stdout",
     "output_type": "stream",
     "text": [
      "Number of Columns: 13\n",
      "Number of Categorical Features: 9\n",
      "Number of Numerical Features: 2\n"
     ]
    }
   ],
   "source": [
    "categorical_features = [\n",
    "    \"brand\",\n",
    "    \"model\",\n",
    "    \"fuel_type\",\n",
    "    \"engine\",\n",
    "    \"transmission\",\n",
    "    \"ext_col\",\n",
    "    \"int_col\",\n",
    "    \"accident\",\n",
    "    \"clean_title\",\n",
    "]\n",
    "\n",
    "numerical_features = [\n",
    "    \"milage\",\n",
    "    \"model_year\",\n",
    "#     \"horsepower\",\n",
    "#     \"accident\",\n",
    "#     \"num_cylinders\",\n",
    "#     \"displacement\"\n",
    "]\n",
    "\n",
    "print(f\"Number of Columns: {len(df.columns)}\")\n",
    "print(f\"Number of Categorical Features: {len(categorical_features)}\")\n",
    "print(f\"Number of Numerical Features: {len(numerical_features)}\")"
   ]
  },
  {
   "cell_type": "markdown",
   "id": "d9b60df7",
   "metadata": {
    "papermill": {
     "duration": 0.039001,
     "end_time": "2024-06-16T15:49:04.598637",
     "exception": false,
     "start_time": "2024-06-16T15:49:04.559636",
     "status": "completed"
    },
    "tags": []
   },
   "source": [
    "### The 2 columns not used as features are:\n",
    "- #### id\n",
    "- #### price, which will be the label"
   ]
  },
  {
   "cell_type": "code",
   "execution_count": null,
   "id": "00425fce",
   "metadata": {
    "papermill": {
     "duration": 0.038526,
     "end_time": "2024-06-16T15:49:04.676311",
     "exception": false,
     "start_time": "2024-06-16T15:49:04.637785",
     "status": "completed"
    },
    "tags": []
   },
   "outputs": [],
   "source": []
  },
  {
   "cell_type": "code",
   "execution_count": 15,
   "id": "f9bb98f0",
   "metadata": {
    "execution": {
     "iopub.execute_input": "2024-06-16T15:49:04.756782Z",
     "iopub.status.busy": "2024-06-16T15:49:04.756506Z",
     "iopub.status.idle": "2024-06-16T15:49:05.925163Z",
     "shell.execute_reply": "2024-06-16T15:49:05.924324Z"
    },
    "papermill": {
     "duration": 1.211703,
     "end_time": "2024-06-16T15:49:05.927419",
     "exception": false,
     "start_time": "2024-06-16T15:49:04.715716",
     "status": "completed"
    },
    "tags": []
   },
   "outputs": [
    {
     "name": "stderr",
     "output_type": "stream",
     "text": [
      "/opt/conda/lib/python3.10/site-packages/seaborn/_oldcore.py:1119: FutureWarning: use_inf_as_na option is deprecated and will be removed in a future version. Convert inf values to NaN before operating instead.\n",
      "  with pd.option_context('mode.use_inf_as_na', True):\n",
      "/opt/conda/lib/python3.10/site-packages/seaborn/_oldcore.py:1119: FutureWarning: use_inf_as_na option is deprecated and will be removed in a future version. Convert inf values to NaN before operating instead.\n",
      "  with pd.option_context('mode.use_inf_as_na', True):\n"
     ]
    },
    {
     "data": {
      "image/png": "[encoded data removed]",
      "text/plain": [
       "<Figure size 1200x800 with 2 Axes>"
      ]
     },
     "metadata": {},
     "output_type": "display_data"
    }
   ],
   "source": [
    "plt.figure(figsize=(12, 8))\n",
    "for index, feature in enumerate(numerical_features, start=1):\n",
    "    plt.subplot(3, 3, index)\n",
    "    sns.histplot(data=df[feature], bins=10, kde=True)\n",
    "    plt.title(f\"{feature} vs price\")\n",
    "plt.show()"
   ]
  },
  {
   "cell_type": "code",
   "execution_count": 16,
   "id": "d29a80cb",
   "metadata": {
    "execution": {
     "iopub.execute_input": "2024-06-16T15:49:06.009734Z",
     "iopub.status.busy": "2024-06-16T15:49:06.009457Z",
     "iopub.status.idle": "2024-06-16T15:49:06.565069Z",
     "shell.execute_reply": "2024-06-16T15:49:06.564217Z"
    },
    "papermill": {
     "duration": 0.599468,
     "end_time": "2024-06-16T15:49:06.567146",
     "exception": false,
     "start_time": "2024-06-16T15:49:05.967678",
     "status": "completed"
    },
    "tags": []
   },
   "outputs": [
    {
     "name": "stderr",
     "output_type": "stream",
     "text": [
      "/opt/conda/lib/python3.10/site-packages/seaborn/_oldcore.py:1119: FutureWarning: use_inf_as_na option is deprecated and will be removed in a future version. Convert inf values to NaN before operating instead.\n",
      "  with pd.option_context('mode.use_inf_as_na', True):\n"
     ]
    },
    {
     "data": {
      "text/plain": [
       "<Axes: xlabel='price', ylabel='Count'>"
      ]
     },
     "execution_count": 16,
     "metadata": {},
     "output_type": "execute_result"
    },
    {
     "data": {
      "image/png": "[encoded data removed]",
      "text/plain": [
       "<Figure size 640x480 with 1 Axes>"
      ]
     },
     "metadata": {},
     "output_type": "display_data"
    }
   ],
   "source": [
    "# Plot price\n",
    "sns.histplot(data=df[\"price\"], bins=10, kde=True)"
   ]
  },
  {
   "cell_type": "code",
   "execution_count": 17,
   "id": "7b71c31b",
   "metadata": {
    "execution": {
     "iopub.execute_input": "2024-06-16T15:49:06.650901Z",
     "iopub.status.busy": "2024-06-16T15:49:06.650608Z",
     "iopub.status.idle": "2024-06-16T15:49:06.704676Z",
     "shell.execute_reply": "2024-06-16T15:49:06.703742Z"
    },
    "papermill": {
     "duration": 0.098336,
     "end_time": "2024-06-16T15:49:06.706783",
     "exception": false,
     "start_time": "2024-06-16T15:49:06.608447",
     "status": "completed"
    },
    "tags": []
   },
   "outputs": [
    {
     "name": "stdout",
     "output_type": "stream",
     "text": [
      "<class 'pandas.core.frame.DataFrame'>\n",
      "RangeIndex: 54273 entries, 0 to 54272\n",
      "Data columns (total 13 columns):\n",
      " #   Column        Non-Null Count  Dtype \n",
      "---  ------        --------------  ----- \n",
      " 0   id            54273 non-null  int64 \n",
      " 1   brand         54273 non-null  object\n",
      " 2   model         54273 non-null  object\n",
      " 3   model_year    54273 non-null  int64 \n",
      " 4   milage        54273 non-null  int64 \n",
      " 5   fuel_type     54273 non-null  object\n",
      " 6   engine        54273 non-null  object\n",
      " 7   transmission  54273 non-null  object\n",
      " 8   ext_col       54273 non-null  object\n",
      " 9   int_col       54273 non-null  object\n",
      " 10  accident      54273 non-null  object\n",
      " 11  clean_title   54273 non-null  object\n",
      " 12  price         54273 non-null  int64 \n",
      "dtypes: int64(4), object(9)\n",
      "memory usage: 5.4+ MB\n"
     ]
    }
   ],
   "source": [
    "df.info()"
   ]
  },
  {
   "cell_type": "code",
   "execution_count": 18,
   "id": "cd5f3fd5",
   "metadata": {
    "execution": {
     "iopub.execute_input": "2024-06-16T15:49:06.789022Z",
     "iopub.status.busy": "2024-06-16T15:49:06.788734Z",
     "iopub.status.idle": "2024-06-16T15:49:08.747918Z",
     "shell.execute_reply": "2024-06-16T15:49:08.747042Z"
    },
    "papermill": {
     "duration": 2.002759,
     "end_time": "2024-06-16T15:49:08.750251",
     "exception": false,
     "start_time": "2024-06-16T15:49:06.747492",
     "status": "completed"
    },
    "tags": []
   },
   "outputs": [
    {
     "data": {
      "image/png": "[encoded data removed]",
      "text/plain": [
       "<Figure size 1800x1500 with 3 Axes>"
      ]
     },
     "metadata": {},
     "output_type": "display_data"
    }
   ],
   "source": [
    "categorical_few_uniques_features = [\n",
    "    \"fuel_type\", \n",
    "    \"accident\", \n",
    "    \"clean_title\"\n",
    "#     \"ext_col\",\n",
    "#     \"int_col\",\n",
    "#     \"engine_shape\",\n",
    "#     \"transmission\"\n",
    "]\n",
    "\n",
    "\n",
    "plt.figure(figsize=(18, 15))\n",
    "for index, feature in enumerate(categorical_few_uniques_features, start=1):\n",
    "    plt.subplot(3, 3, index)\n",
    "    sns.barplot(data=df, x=feature, y=\"price\")\n",
    "    plt.title(f\"{feature} vs price\")\n",
    "plt.show()"
   ]
  },
  {
   "cell_type": "markdown",
   "id": "60107cf3",
   "metadata": {
    "papermill": {
     "duration": 0.041672,
     "end_time": "2024-06-16T15:49:08.834102",
     "exception": false,
     "start_time": "2024-06-16T15:49:08.792430",
     "status": "completed"
    },
    "tags": []
   },
   "source": []
  },
  {
   "cell_type": "code",
   "execution_count": 19,
   "id": "4d7d5956",
   "metadata": {
    "execution": {
     "iopub.execute_input": "2024-06-16T15:49:08.918491Z",
     "iopub.status.busy": "2024-06-16T15:49:08.917925Z",
     "iopub.status.idle": "2024-06-16T15:49:10.327434Z",
     "shell.execute_reply": "2024-06-16T15:49:10.326502Z"
    },
    "papermill": {
     "duration": 1.455704,
     "end_time": "2024-06-16T15:49:10.330919",
     "exception": false,
     "start_time": "2024-06-16T15:49:08.875215",
     "status": "completed"
    },
    "tags": []
   },
   "outputs": [
    {
     "data": {
      "image/png": "[encoded data removed]",
      "text/plain": [
       "<Figure size 1600x3000 with 3 Axes>"
      ]
     },
     "metadata": {},
     "output_type": "display_data"
    }
   ],
   "source": [
    "categorical_many_unique_features = [\n",
    "    \"brand\",\n",
    "    \"model\",\n",
    "    \"engine\",\n",
    "#     \"transmission\",\n",
    "#     \"ext_col\",\n",
    "#     \"int_col\",\n",
    "]\n",
    "\n",
    "plt.figure(figsize=(16, 30))\n",
    "for index, feature in enumerate(categorical_many_unique_features, start=1):\n",
    "    common_features = df[feature].value_counts().head(20)\n",
    "    plt.subplot(6, 1, index)\n",
    "    sns.barplot(x=common_features.values, y=common_features.index)\n",
    "    plt.title(f\"Top 20 {feature}\")"
   ]
  },
  {
   "cell_type": "code",
   "execution_count": 20,
   "id": "8985ec79",
   "metadata": {
    "execution": {
     "iopub.execute_input": "2024-06-16T15:49:10.422203Z",
     "iopub.status.busy": "2024-06-16T15:49:10.421907Z",
     "iopub.status.idle": "2024-06-16T15:49:11.839835Z",
     "shell.execute_reply": "2024-06-16T15:49:11.838889Z"
    },
    "papermill": {
     "duration": 1.467364,
     "end_time": "2024-06-16T15:49:11.843804",
     "exception": false,
     "start_time": "2024-06-16T15:49:10.376440",
     "status": "completed"
    },
    "tags": []
   },
   "outputs": [
    {
     "data": {
      "image/png": "[encoded data removed]",
      "text/plain": [
       "<Figure size 1600x3000 with 3 Axes>"
      ]
     },
     "metadata": {},
     "output_type": "display_data"
    }
   ],
   "source": [
    "plt.figure(figsize=(16, 30))\n",
    "for index, feature in enumerate(categorical_many_unique_features, start=1):\n",
    "    feature_mean = df.groupby(feature)[\"price\"].mean().sort_values(ascending=False).head(20)\n",
    "    plt.subplot(6, 1, index)\n",
    "    sns.barplot(x=feature_mean.values, y=feature_mean.index)\n",
    "    plt.title(f\"Average Price per {feature}\")"
   ]
  },
  {
   "cell_type": "code",
   "execution_count": 21,
   "id": "2b998c7b",
   "metadata": {
    "execution": {
     "iopub.execute_input": "2024-06-16T15:49:11.941975Z",
     "iopub.status.busy": "2024-06-16T15:49:11.941207Z",
     "iopub.status.idle": "2024-06-16T15:49:12.218429Z",
     "shell.execute_reply": "2024-06-16T15:49:12.217494Z"
    },
    "papermill": {
     "duration": 0.328542,
     "end_time": "2024-06-16T15:49:12.220364",
     "exception": false,
     "start_time": "2024-06-16T15:49:11.891822",
     "status": "completed"
    },
    "tags": []
   },
   "outputs": [
    {
     "data": {
      "image/png": "[encoded data removed]",
      "text/plain": [
       "<Figure size 640x480 with 2 Axes>"
      ]
     },
     "metadata": {},
     "output_type": "display_data"
    }
   ],
   "source": [
    "# Plot heatmap\n",
    "correlation_matrix = df[numerical_features].corr()\n",
    "sns.heatmap(correlation_matrix, annot=True, cmap=\"coolwarm\")\n",
    "plt.title(\"Correlation Heatmap\")\n",
    "plt.show()"
   ]
  },
  {
   "cell_type": "code",
   "execution_count": 22,
   "id": "ad36eee8",
   "metadata": {
    "execution": {
     "iopub.execute_input": "2024-06-16T15:49:12.318082Z",
     "iopub.status.busy": "2024-06-16T15:49:12.317393Z",
     "iopub.status.idle": "2024-06-16T15:49:12.352393Z",
     "shell.execute_reply": "2024-06-16T15:49:12.351520Z"
    },
    "papermill": {
     "duration": 0.086029,
     "end_time": "2024-06-16T15:49:12.354385",
     "exception": false,
     "start_time": "2024-06-16T15:49:12.268356",
     "status": "completed"
    },
    "tags": []
   },
   "outputs": [
    {
     "name": "stdout",
     "output_type": "stream",
     "text": [
      "model\n",
      "Veyron 16.4 Grand Sport    1.950995e+06\n",
      "RDX PMC Edition            7.658155e+05\n",
      "R8 5.2 V10 performance     5.511535e+05\n",
      "Tacoma TRD Pro             5.139372e+05\n",
      "MC20 MC20                  4.890000e+05\n",
      "                               ...     \n",
      "allroad 2.7T               5.833333e+03\n",
      "RSX Base                   5.400000e+03\n",
      "Vue Hybrid Base            4.370000e+03\n",
      "S-10 LS                    4.200000e+03\n",
      "Prowler Base               3.850000e+03\n",
      "Name: price, Length: 1827, dtype: float64\n"
     ]
    },
    {
     "data": {
      "text/plain": [
       "42302.752114994466"
      ]
     },
     "execution_count": 22,
     "metadata": {},
     "output_type": "execute_result"
    }
   ],
   "source": [
    "# For testing\n",
    "# df.groupby(\"model\")[\"price\"].mean().sort_values(ascending=False)\n",
    "df[\"engine\"].value_counts().head(50)\n",
    "print(df.groupby(\"model\")[\"price\"].mean().sort_values(ascending=False))\n",
    "\n",
    "df.groupby(\"model\")[\"price\"].mean().mean()"
   ]
  },
  {
   "cell_type": "markdown",
   "id": "49b0831f",
   "metadata": {
    "papermill": {
     "duration": 0.048215,
     "end_time": "2024-06-16T15:49:12.451663",
     "exception": false,
     "start_time": "2024-06-16T15:49:12.403448",
     "status": "completed"
    },
    "tags": []
   },
   "source": [
    "## Data Preprocessing"
   ]
  },
  {
   "cell_type": "markdown",
   "id": "70027008",
   "metadata": {
    "papermill": {
     "duration": 0.04823,
     "end_time": "2024-06-16T15:49:12.548398",
     "exception": false,
     "start_time": "2024-06-16T15:49:12.500168",
     "status": "completed"
    },
    "tags": []
   },
   "source": [
    "### Simplifying model feature"
   ]
  },
  {
   "cell_type": "code",
   "execution_count": 23,
   "id": "df6486af",
   "metadata": {
    "execution": {
     "iopub.execute_input": "2024-06-16T15:49:12.646111Z",
     "iopub.status.busy": "2024-06-16T15:49:12.645488Z",
     "iopub.status.idle": "2024-06-16T15:49:12.721791Z",
     "shell.execute_reply": "2024-06-16T15:49:12.720928Z"
    },
    "papermill": {
     "duration": 0.127071,
     "end_time": "2024-06-16T15:49:12.723629",
     "exception": false,
     "start_time": "2024-06-16T15:49:12.596558",
     "status": "completed"
    },
    "tags": []
   },
   "outputs": [
    {
     "name": "stdout",
     "output_type": "stream",
     "text": [
      "1827\n"
     ]
    },
    {
     "data": {
      "text/plain": [
       "502"
      ]
     },
     "execution_count": 23,
     "metadata": {},
     "output_type": "execute_result"
    }
   ],
   "source": [
    "# Simplify model feature by only getting the first word\n",
    "prev_num_of_unique = unedited_df[\"model\"].nunique()\n",
    "\n",
    "df[\"model\"] = df[\"model\"].apply(lambda x: x.split(\" \")[0])\n",
    "test_df[\"model\"] = df[\"model\"].apply(lambda x: x.split(\" \")[0])\n",
    "\n",
    "\n",
    "print(prev_num_of_unique)\n",
    "df[\"model\"].nunique()"
   ]
  },
  {
   "cell_type": "markdown",
   "id": "5b69ea80",
   "metadata": {
    "papermill": {
     "duration": 0.04876,
     "end_time": "2024-06-16T15:49:12.823297",
     "exception": false,
     "start_time": "2024-06-16T15:49:12.774537",
     "status": "completed"
    },
    "tags": []
   },
   "source": [
    "### Cleaning Fuel Type"
   ]
  },
  {
   "cell_type": "markdown",
   "id": "9ecccfc6",
   "metadata": {
    "papermill": {
     "duration": 0.048417,
     "end_time": "2024-06-16T15:49:12.920429",
     "exception": false,
     "start_time": "2024-06-16T15:49:12.872012",
     "status": "completed"
    },
    "tags": []
   },
   "source": [
    "#### Gasoline is closest to mean, so we replace nulls (–) with Gasoline"
   ]
  },
  {
   "cell_type": "code",
   "execution_count": 24,
   "id": "dcc93276",
   "metadata": {
    "execution": {
     "iopub.execute_input": "2024-06-16T15:49:13.018857Z",
     "iopub.status.busy": "2024-06-16T15:49:13.018112Z",
     "iopub.status.idle": "2024-06-16T15:49:13.024070Z",
     "shell.execute_reply": "2024-06-16T15:49:13.023253Z"
    },
    "papermill": {
     "duration": 0.05726,
     "end_time": "2024-06-16T15:49:13.026083",
     "exception": false,
     "start_time": "2024-06-16T15:49:12.968823",
     "status": "completed"
    },
    "tags": []
   },
   "outputs": [],
   "source": [
    "def clean_fuel_type(text):\n",
    "    \"\"\" Clean fuel type feature using keywords \"\"\"\n",
    "    words = text.split()\n",
    "    for word in words:\n",
    "        word = word.lower()\n",
    "        if word == \"–\" or word == \"not\":\n",
    "            return \"tmp\"\n",
    "        \n",
    "        if word == \"hybrid\":\n",
    "            return \"Hybrid\"\n",
    "        \n",
    "    return text"
   ]
  },
  {
   "cell_type": "code",
   "execution_count": 25,
   "id": "af6f866c",
   "metadata": {
    "execution": {
     "iopub.execute_input": "2024-06-16T15:49:13.125615Z",
     "iopub.status.busy": "2024-06-16T15:49:13.124872Z",
     "iopub.status.idle": "2024-06-16T15:49:13.200370Z",
     "shell.execute_reply": "2024-06-16T15:49:13.199535Z"
    },
    "papermill": {
     "duration": 0.128112,
     "end_time": "2024-06-16T15:49:13.202269",
     "exception": false,
     "start_time": "2024-06-16T15:49:13.074157",
     "status": "completed"
    },
    "tags": []
   },
   "outputs": [],
   "source": [
    "# Ensure fuel type is not yet edited\n",
    "df[\"fuel_type\"] = unedited_df[\"fuel_type\"]\n",
    "test_df[\"fuel_type\"] = unedited_test_df[\"fuel_type\"]\n",
    "\n",
    "# Clean fuel types\n",
    "df[\"fuel_type\"] = df[\"fuel_type\"].apply(clean_fuel_type)\n",
    "test_df[\"fuel_type\"] = test_df[\"fuel_type\"].apply(clean_fuel_type)"
   ]
  },
  {
   "cell_type": "code",
   "execution_count": 26,
   "id": "ce6c88ad",
   "metadata": {
    "execution": {
     "iopub.execute_input": "2024-06-16T15:49:13.300297Z",
     "iopub.status.busy": "2024-06-16T15:49:13.299628Z",
     "iopub.status.idle": "2024-06-16T15:49:13.313032Z",
     "shell.execute_reply": "2024-06-16T15:49:13.312173Z"
    },
    "papermill": {
     "duration": 0.065019,
     "end_time": "2024-06-16T15:49:13.315106",
     "exception": false,
     "start_time": "2024-06-16T15:49:13.250087",
     "status": "completed"
    },
    "tags": []
   },
   "outputs": [
    {
     "data": {
      "text/plain": [
       "'Gasoline'"
      ]
     },
     "execution_count": 26,
     "metadata": {},
     "output_type": "execute_result"
    }
   ],
   "source": [
    "# Get the most common fuel type to be used for no/invalid fuel type shape\n",
    "with_fuel_type = df[\"fuel_type\"].value_counts().sort_values(ascending=False)\n",
    "fuel_types = with_fuel_type.index\n",
    "common_fuel_type = fuel_types[0]\n",
    "common_fuel_type"
   ]
  },
  {
   "cell_type": "code",
   "execution_count": 27,
   "id": "d207510f",
   "metadata": {
    "execution": {
     "iopub.execute_input": "2024-06-16T15:49:13.416935Z",
     "iopub.status.busy": "2024-06-16T15:49:13.416215Z",
     "iopub.status.idle": "2024-06-16T15:49:13.435844Z",
     "shell.execute_reply": "2024-06-16T15:49:13.435126Z"
    },
    "papermill": {
     "duration": 0.070872,
     "end_time": "2024-06-16T15:49:13.437724",
     "exception": false,
     "start_time": "2024-06-16T15:49:13.366852",
     "status": "completed"
    },
    "tags": []
   },
   "outputs": [],
   "source": [
    "# Replace no/invalid fuel type to the most common fuel type\n",
    "df.loc[df[\"fuel_type\"] == \"tmp\",\"fuel_type\"] = common_fuel_type\n",
    "test_df.loc[test_df[\"fuel_type\"] == \"tmp\",\"fuel_type\"] = common_fuel_type"
   ]
  },
  {
   "cell_type": "code",
   "execution_count": 28,
   "id": "bb6114ba",
   "metadata": {
    "execution": {
     "iopub.execute_input": "2024-06-16T15:49:13.536101Z",
     "iopub.status.busy": "2024-06-16T15:49:13.535391Z",
     "iopub.status.idle": "2024-06-16T15:49:13.546464Z",
     "shell.execute_reply": "2024-06-16T15:49:13.545314Z"
    },
    "papermill": {
     "duration": 0.06208,
     "end_time": "2024-06-16T15:49:13.548346",
     "exception": false,
     "start_time": "2024-06-16T15:49:13.486266",
     "status": "completed"
    },
    "tags": []
   },
   "outputs": [
    {
     "name": "stdout",
     "output_type": "stream",
     "text": [
      "  fuel_type\n",
      "0  Gasoline\n",
      "1  Gasoline\n",
      "2  Gasoline\n",
      "3    Hybrid\n",
      "4  Gasoline\n",
      "  fuel_type\n",
      "0  Gasoline\n",
      "1  Gasoline\n",
      "2  Gasoline\n",
      "3    Hybrid\n",
      "4  Gasoline\n"
     ]
    }
   ],
   "source": [
    "print(unedited_df[[\"fuel_type\"]].head())\n",
    "print(df[[\"fuel_type\"]].head())"
   ]
  },
  {
   "cell_type": "code",
   "execution_count": null,
   "id": "36f73ae0",
   "metadata": {
    "papermill": {
     "duration": 0.047402,
     "end_time": "2024-06-16T15:49:13.644482",
     "exception": false,
     "start_time": "2024-06-16T15:49:13.597080",
     "status": "completed"
    },
    "tags": []
   },
   "outputs": [],
   "source": []
  },
  {
   "cell_type": "markdown",
   "id": "0ead6447",
   "metadata": {
    "papermill": {
     "duration": 0.049172,
     "end_time": "2024-06-16T15:49:13.741738",
     "exception": false,
     "start_time": "2024-06-16T15:49:13.692566",
     "status": "completed"
    },
    "tags": []
   },
   "source": [
    "### Extract horsepower"
   ]
  },
  {
   "cell_type": "code",
   "execution_count": 29,
   "id": "05bc4049",
   "metadata": {
    "execution": {
     "iopub.execute_input": "2024-06-16T15:49:13.841381Z",
     "iopub.status.busy": "2024-06-16T15:49:13.840584Z",
     "iopub.status.idle": "2024-06-16T15:49:13.846374Z",
     "shell.execute_reply": "2024-06-16T15:49:13.845487Z"
    },
    "papermill": {
     "duration": 0.057739,
     "end_time": "2024-06-16T15:49:13.848648",
     "exception": false,
     "start_time": "2024-06-16T15:49:13.790909",
     "status": "completed"
    },
    "tags": []
   },
   "outputs": [],
   "source": [
    "def extract_horsepower(text):\n",
    "    \"\"\" Extract horsepower using the HP keyword \"\"\"\n",
    "    words = text.split()\n",
    "    for word in words:\n",
    "        if word[-2:] == \"HP\":\n",
    "            return int(float(word[:-2]))\n",
    "    return \"tmp\""
   ]
  },
  {
   "cell_type": "code",
   "execution_count": 30,
   "id": "33bbd953",
   "metadata": {
    "execution": {
     "iopub.execute_input": "2024-06-16T15:49:13.948360Z",
     "iopub.status.busy": "2024-06-16T15:49:13.948032Z",
     "iopub.status.idle": "2024-06-16T15:49:14.081087Z",
     "shell.execute_reply": "2024-06-16T15:49:14.080397Z"
    },
    "papermill": {
     "duration": 0.184666,
     "end_time": "2024-06-16T15:49:14.083124",
     "exception": false,
     "start_time": "2024-06-16T15:49:13.898458",
     "status": "completed"
    },
    "tags": []
   },
   "outputs": [],
   "source": [
    "# Ensure engine is not yet edited\n",
    "df[\"engine\"] = unedited_df[\"engine\"]\n",
    "test_df[\"engine\"] = unedited_test_df[\"engine\"]\n",
    "\n",
    "\n",
    "# Filter the horsepower from engine feature\n",
    "df[\"horsepower\"] = df[\"engine\"].apply(extract_horsepower)\n",
    "test_df[\"horsepower\"] = test_df[\"engine\"].apply(extract_horsepower)"
   ]
  },
  {
   "cell_type": "code",
   "execution_count": 31,
   "id": "86ba1bb8",
   "metadata": {
    "execution": {
     "iopub.execute_input": "2024-06-16T15:49:14.182701Z",
     "iopub.status.busy": "2024-06-16T15:49:14.182409Z",
     "iopub.status.idle": "2024-06-16T15:49:14.204407Z",
     "shell.execute_reply": "2024-06-16T15:49:14.203481Z"
    },
    "papermill": {
     "duration": 0.073314,
     "end_time": "2024-06-16T15:49:14.206232",
     "exception": false,
     "start_time": "2024-06-16T15:49:14.132918",
     "status": "completed"
    },
    "tags": []
   },
   "outputs": [
    {
     "name": "stdout",
     "output_type": "stream",
     "text": [
      "332\n"
     ]
    }
   ],
   "source": [
    "# Get the mean from the valid horsepowers to be used for no/invalid horsepower\n",
    "with_horsepower = df.loc[df[\"horsepower\"] != 'tmp', 'horsepower']\n",
    "horsepower_ave = round(with_horsepower.mean())\n",
    "\n",
    "print(horsepower_ave)"
   ]
  },
  {
   "cell_type": "code",
   "execution_count": 32,
   "id": "75baf085",
   "metadata": {
    "execution": {
     "iopub.execute_input": "2024-06-16T15:49:14.304471Z",
     "iopub.status.busy": "2024-06-16T15:49:14.304113Z",
     "iopub.status.idle": "2024-06-16T15:49:14.324977Z",
     "shell.execute_reply": "2024-06-16T15:49:14.324270Z"
    },
    "papermill": {
     "duration": 0.072371,
     "end_time": "2024-06-16T15:49:14.326787",
     "exception": false,
     "start_time": "2024-06-16T15:49:14.254416",
     "status": "completed"
    },
    "tags": []
   },
   "outputs": [],
   "source": [
    "# Replace no/invalid horsepower to the average horsepower\n",
    "df.loc[df[\"horsepower\"] == \"tmp\",\"horsepower\"] = horsepower_ave\n",
    "test_df.loc[test_df[\"horsepower\"] == \"tmp\",\"horsepower\"] = horsepower_ave"
   ]
  },
  {
   "cell_type": "code",
   "execution_count": 33,
   "id": "8d3f78fb",
   "metadata": {
    "execution": {
     "iopub.execute_input": "2024-06-16T15:49:14.427882Z",
     "iopub.status.busy": "2024-06-16T15:49:14.427608Z",
     "iopub.status.idle": "2024-06-16T15:49:14.756960Z",
     "shell.execute_reply": "2024-06-16T15:49:14.756264Z"
    },
    "papermill": {
     "duration": 0.381133,
     "end_time": "2024-06-16T15:49:14.758974",
     "exception": false,
     "start_time": "2024-06-16T15:49:14.377841",
     "status": "completed"
    },
    "tags": []
   },
   "outputs": [],
   "source": [
    "# Convert the horsepower column/feature to int\n",
    "df[\"horsepower\"] = df[\"horsepower\"].apply(pd.to_numeric)\n",
    "test_df[\"horsepower\"] = test_df[\"horsepower\"].apply(pd.to_numeric)"
   ]
  },
  {
   "cell_type": "code",
   "execution_count": 34,
   "id": "32ef3d04",
   "metadata": {
    "execution": {
     "iopub.execute_input": "2024-06-16T15:49:14.860914Z",
     "iopub.status.busy": "2024-06-16T15:49:14.860187Z",
     "iopub.status.idle": "2024-06-16T15:49:14.871109Z",
     "shell.execute_reply": "2024-06-16T15:49:14.870248Z"
    },
    "papermill": {
     "duration": 0.064237,
     "end_time": "2024-06-16T15:49:14.873148",
     "exception": false,
     "start_time": "2024-06-16T15:49:14.808911",
     "status": "completed"
    },
    "tags": []
   },
   "outputs": [
    {
     "data": {
      "text/html": [
       "<div>\n",
       "<style scoped>\n",
       "    .dataframe tbody tr th:only-of-type {\n",
       "        vertical-align: middle;\n",
       "    }\n",
       "\n",
       "    .dataframe tbody tr th {\n",
       "        vertical-align: top;\n",
       "    }\n",
       "\n",
       "    .dataframe thead th {\n",
       "        text-align: right;\n",
       "    }\n",
       "</style>\n",
       "<table border=\"1\" class=\"dataframe\">\n",
       "  <thead>\n",
       "    <tr style=\"text-align: right;\">\n",
       "      <th></th>\n",
       "      <th>engine</th>\n",
       "      <th>horsepower</th>\n",
       "    </tr>\n",
       "  </thead>\n",
       "  <tbody>\n",
       "    <tr>\n",
       "      <th>0</th>\n",
       "      <td>375.0HP 3.5L V6 Cylinder Engine Gasoline Fuel</td>\n",
       "      <td>375</td>\n",
       "    </tr>\n",
       "    <tr>\n",
       "      <th>1</th>\n",
       "      <td>300.0HP 3.0L Straight 6 Cylinder Engine Gasoli...</td>\n",
       "      <td>300</td>\n",
       "    </tr>\n",
       "    <tr>\n",
       "      <th>2</th>\n",
       "      <td>300.0HP 4.2L 8 Cylinder Engine Gasoline Fuel</td>\n",
       "      <td>300</td>\n",
       "    </tr>\n",
       "    <tr>\n",
       "      <th>3</th>\n",
       "      <td>335.0HP 3.0L Straight 6 Cylinder Engine Gasoli...</td>\n",
       "      <td>335</td>\n",
       "    </tr>\n",
       "    <tr>\n",
       "      <th>4</th>\n",
       "      <td>200.0HP 3.8L V6 Cylinder Engine Gasoline Fuel</td>\n",
       "      <td>200</td>\n",
       "    </tr>\n",
       "  </tbody>\n",
       "</table>\n",
       "</div>"
      ],
      "text/plain": [
       "                                              engine  horsepower\n",
       "0      375.0HP 3.5L V6 Cylinder Engine Gasoline Fuel         375\n",
       "1  300.0HP 3.0L Straight 6 Cylinder Engine Gasoli...         300\n",
       "2       300.0HP 4.2L 8 Cylinder Engine Gasoline Fuel         300\n",
       "3  335.0HP 3.0L Straight 6 Cylinder Engine Gasoli...         335\n",
       "4      200.0HP 3.8L V6 Cylinder Engine Gasoline Fuel         200"
      ]
     },
     "execution_count": 34,
     "metadata": {},
     "output_type": "execute_result"
    }
   ],
   "source": [
    "# print(unedited_df[\"engine\"].head())\n",
    "# df[\"horsepower\"].head()\n",
    "df[[\"engine\", \"horsepower\"]].head()"
   ]
  },
  {
   "cell_type": "markdown",
   "id": "f09684c5",
   "metadata": {
    "papermill": {
     "duration": 0.049449,
     "end_time": "2024-06-16T15:49:14.975795",
     "exception": false,
     "start_time": "2024-06-16T15:49:14.926346",
     "status": "completed"
    },
    "tags": []
   },
   "source": [
    "### Extract displacement (Liters denoted as L)"
   ]
  },
  {
   "cell_type": "code",
   "execution_count": 35,
   "id": "e78a68fd",
   "metadata": {
    "execution": {
     "iopub.execute_input": "2024-06-16T15:49:15.074629Z",
     "iopub.status.busy": "2024-06-16T15:49:15.073843Z",
     "iopub.status.idle": "2024-06-16T15:49:15.079872Z",
     "shell.execute_reply": "2024-06-16T15:49:15.078991Z"
    },
    "papermill": {
     "duration": 0.057392,
     "end_time": "2024-06-16T15:49:15.081771",
     "exception": false,
     "start_time": "2024-06-16T15:49:15.024379",
     "status": "completed"
    },
    "tags": []
   },
   "outputs": [],
   "source": [
    "def extract_displacement(text):\n",
    "    \"\"\" Extract displacement using the L and Liters keyword \"\"\"\n",
    "    words = text.split()\n",
    "    for index, word in enumerate(words):\n",
    "        if word[-1] == \"L\":\n",
    "            return float(word[:-1])\n",
    "#             return \"VALID\"\n",
    "#             return text\n",
    "        if  word == \"Liter\" and index > 0:\n",
    "#             return \"VALID\" \n",
    "#             print(text[index - 1], word)\n",
    "            return  float(words[index - 1])\n",
    "#             return text\n",
    "\n",
    "    return \"tmp\"\n",
    "#     return text"
   ]
  },
  {
   "cell_type": "code",
   "execution_count": 36,
   "id": "b22d03f4",
   "metadata": {
    "execution": {
     "iopub.execute_input": "2024-06-16T15:49:15.180754Z",
     "iopub.status.busy": "2024-06-16T15:49:15.180477Z",
     "iopub.status.idle": "2024-06-16T15:49:15.335182Z",
     "shell.execute_reply": "2024-06-16T15:49:15.334267Z"
    },
    "papermill": {
     "duration": 0.207316,
     "end_time": "2024-06-16T15:49:15.337883",
     "exception": false,
     "start_time": "2024-06-16T15:49:15.130567",
     "status": "completed"
    },
    "tags": []
   },
   "outputs": [],
   "source": [
    "# Ensure engine is not yet edited\n",
    "df[\"engine\"] = unedited_df[\"engine\"]\n",
    "test_df[\"engine\"] = unedited_test_df[\"engine\"]\n",
    "\n",
    "\n",
    "# Filter the horsepower from engine feature\n",
    "df[\"displacement\"] = df[\"engine\"].apply(extract_displacement)\n",
    "test_df[\"displacement\"] = test_df[\"engine\"].apply(extract_displacement)"
   ]
  },
  {
   "cell_type": "code",
   "execution_count": 37,
   "id": "4623b218",
   "metadata": {
    "execution": {
     "iopub.execute_input": "2024-06-16T15:49:15.438782Z",
     "iopub.status.busy": "2024-06-16T15:49:15.438065Z",
     "iopub.status.idle": "2024-06-16T15:49:15.456215Z",
     "shell.execute_reply": "2024-06-16T15:49:15.455337Z"
    },
    "papermill": {
     "duration": 0.068876,
     "end_time": "2024-06-16T15:49:15.458019",
     "exception": false,
     "start_time": "2024-06-16T15:49:15.389143",
     "status": "completed"
    },
    "tags": []
   },
   "outputs": [
    {
     "data": {
      "text/plain": [
       "3.7"
      ]
     },
     "execution_count": 37,
     "metadata": {},
     "output_type": "execute_result"
    }
   ],
   "source": [
    "# Get the mean from the valid displacement to be used for no/invalid displacement\n",
    "with_displacement = df.loc[df[\"displacement\"] != 'tmp', 'displacement']\n",
    "displacement_ave = round(with_displacement.mean(), 1)\n",
    "displacement_ave"
   ]
  },
  {
   "cell_type": "code",
   "execution_count": 38,
   "id": "43eee313",
   "metadata": {
    "execution": {
     "iopub.execute_input": "2024-06-16T15:49:15.556555Z",
     "iopub.status.busy": "2024-06-16T15:49:15.556068Z",
     "iopub.status.idle": "2024-06-16T15:49:15.572834Z",
     "shell.execute_reply": "2024-06-16T15:49:15.572025Z"
    },
    "papermill": {
     "duration": 0.068104,
     "end_time": "2024-06-16T15:49:15.574768",
     "exception": false,
     "start_time": "2024-06-16T15:49:15.506664",
     "status": "completed"
    },
    "tags": []
   },
   "outputs": [],
   "source": [
    "# Replace no/invalid displacement to the average displacement\n",
    "df.loc[df[\"displacement\"] == \"tmp\",\"displacement\"] = displacement_ave\n",
    "test_df.loc[test_df[\"displacement\"] == \"tmp\",\"displacement\"] = displacement_ave"
   ]
  },
  {
   "cell_type": "code",
   "execution_count": 39,
   "id": "d422459c",
   "metadata": {
    "execution": {
     "iopub.execute_input": "2024-06-16T15:49:15.674842Z",
     "iopub.status.busy": "2024-06-16T15:49:15.674524Z",
     "iopub.status.idle": "2024-06-16T15:49:15.972980Z",
     "shell.execute_reply": "2024-06-16T15:49:15.972259Z"
    },
    "papermill": {
     "duration": 0.350119,
     "end_time": "2024-06-16T15:49:15.974927",
     "exception": false,
     "start_time": "2024-06-16T15:49:15.624808",
     "status": "completed"
    },
    "tags": []
   },
   "outputs": [],
   "source": [
    "# Convert the displacement column/feature to float\n",
    "df[\"displacement\"] = df[\"displacement\"].apply(pd.to_numeric)\n",
    "test_df[\"displacement\"] = test_df[\"displacement\"].apply(pd.to_numeric)"
   ]
  },
  {
   "cell_type": "code",
   "execution_count": 40,
   "id": "19ee8585",
   "metadata": {
    "execution": {
     "iopub.execute_input": "2024-06-16T15:49:16.074448Z",
     "iopub.status.busy": "2024-06-16T15:49:16.074131Z",
     "iopub.status.idle": "2024-06-16T15:49:16.085606Z",
     "shell.execute_reply": "2024-06-16T15:49:16.084674Z"
    },
    "papermill": {
     "duration": 0.063614,
     "end_time": "2024-06-16T15:49:16.087611",
     "exception": false,
     "start_time": "2024-06-16T15:49:16.023997",
     "status": "completed"
    },
    "tags": []
   },
   "outputs": [
    {
     "data": {
      "text/html": [
       "<div>\n",
       "<style scoped>\n",
       "    .dataframe tbody tr th:only-of-type {\n",
       "        vertical-align: middle;\n",
       "    }\n",
       "\n",
       "    .dataframe tbody tr th {\n",
       "        vertical-align: top;\n",
       "    }\n",
       "\n",
       "    .dataframe thead th {\n",
       "        text-align: right;\n",
       "    }\n",
       "</style>\n",
       "<table border=\"1\" class=\"dataframe\">\n",
       "  <thead>\n",
       "    <tr style=\"text-align: right;\">\n",
       "      <th></th>\n",
       "      <th>engine</th>\n",
       "      <th>displacement</th>\n",
       "    </tr>\n",
       "  </thead>\n",
       "  <tbody>\n",
       "    <tr>\n",
       "      <th>0</th>\n",
       "      <td>375.0HP 3.5L V6 Cylinder Engine Gasoline Fuel</td>\n",
       "      <td>3.5</td>\n",
       "    </tr>\n",
       "    <tr>\n",
       "      <th>1</th>\n",
       "      <td>300.0HP 3.0L Straight 6 Cylinder Engine Gasoli...</td>\n",
       "      <td>3.0</td>\n",
       "    </tr>\n",
       "    <tr>\n",
       "      <th>2</th>\n",
       "      <td>300.0HP 4.2L 8 Cylinder Engine Gasoline Fuel</td>\n",
       "      <td>4.2</td>\n",
       "    </tr>\n",
       "    <tr>\n",
       "      <th>3</th>\n",
       "      <td>335.0HP 3.0L Straight 6 Cylinder Engine Gasoli...</td>\n",
       "      <td>3.0</td>\n",
       "    </tr>\n",
       "    <tr>\n",
       "      <th>4</th>\n",
       "      <td>200.0HP 3.8L V6 Cylinder Engine Gasoline Fuel</td>\n",
       "      <td>3.8</td>\n",
       "    </tr>\n",
       "  </tbody>\n",
       "</table>\n",
       "</div>"
      ],
      "text/plain": [
       "                                              engine  displacement\n",
       "0      375.0HP 3.5L V6 Cylinder Engine Gasoline Fuel           3.5\n",
       "1  300.0HP 3.0L Straight 6 Cylinder Engine Gasoli...           3.0\n",
       "2       300.0HP 4.2L 8 Cylinder Engine Gasoline Fuel           4.2\n",
       "3  335.0HP 3.0L Straight 6 Cylinder Engine Gasoli...           3.0\n",
       "4      200.0HP 3.8L V6 Cylinder Engine Gasoline Fuel           3.8"
      ]
     },
     "execution_count": 40,
     "metadata": {},
     "output_type": "execute_result"
    }
   ],
   "source": [
    "# print(unedited_df[\"engine\"].head())\n",
    "df[[\"engine\", \"displacement\"]].head()"
   ]
  },
  {
   "cell_type": "markdown",
   "id": "306250ba",
   "metadata": {
    "papermill": {
     "duration": 0.04852,
     "end_time": "2024-06-16T15:49:16.185388",
     "exception": false,
     "start_time": "2024-06-16T15:49:16.136868",
     "status": "completed"
    },
    "tags": []
   },
   "source": [
    "### Extract Number of Cylinders"
   ]
  },
  {
   "cell_type": "code",
   "execution_count": 41,
   "id": "77d9b932",
   "metadata": {
    "execution": {
     "iopub.execute_input": "2024-06-16T15:49:16.284602Z",
     "iopub.status.busy": "2024-06-16T15:49:16.283904Z",
     "iopub.status.idle": "2024-06-16T15:49:16.290162Z",
     "shell.execute_reply": "2024-06-16T15:49:16.289341Z"
    },
    "papermill": {
     "duration": 0.0579,
     "end_time": "2024-06-16T15:49:16.292048",
     "exception": false,
     "start_time": "2024-06-16T15:49:16.234148",
     "status": "completed"
    },
    "tags": []
   },
   "outputs": [],
   "source": [
    "def extract_num_cylinders(text):\n",
    "    \"\"\" Extract number of cylinders using I, H, V, W, and Cylinder keywords \"\"\"\n",
    "#     print(text.split())\n",
    "    words = text.split()\n",
    "    types_of_cylinders = [\"I\", \"H\", \"V\", \"W\"]\n",
    "    for index, word in enumerate(words):\n",
    "\n",
    "        if  word == \"Cylinder\":\n",
    "#             return \"VALID\" \n",
    "#             print(text[index - 1], word)\n",
    "            return  int(words[index - 1])\n",
    "#             return text\n",
    "\n",
    "        if word[0] in types_of_cylinders:\n",
    "            word = word.replace(\"-\", \"\")\n",
    "            if 2 <= len(word) <= 3 and word[1].isdigit():\n",
    "#                 return \"VALID\" \n",
    "                return int(word[1:])\n",
    "#             return text\n",
    "\n",
    "    return \"tmp\"\n",
    "#     return text"
   ]
  },
  {
   "cell_type": "code",
   "execution_count": 42,
   "id": "afa709b6",
   "metadata": {
    "execution": {
     "iopub.execute_input": "2024-06-16T15:49:16.393065Z",
     "iopub.status.busy": "2024-06-16T15:49:16.392790Z",
     "iopub.status.idle": "2024-06-16T15:49:16.627870Z",
     "shell.execute_reply": "2024-06-16T15:49:16.627202Z"
    },
    "papermill": {
     "duration": 0.289068,
     "end_time": "2024-06-16T15:49:16.629831",
     "exception": false,
     "start_time": "2024-06-16T15:49:16.340763",
     "status": "completed"
    },
    "tags": []
   },
   "outputs": [],
   "source": [
    "# Ensure engine is not yet edited\n",
    "df[\"engine\"] = unedited_df[\"engine\"]\n",
    "test_df[\"engine\"] = unedited_test_df[\"engine\"]\n",
    "\n",
    "# Extract the num of cylinders from engine feature\n",
    "df[\"num_cylinders\"] = df[\"engine\"].apply(extract_num_cylinders)\n",
    "test_df[\"num_cylinders\"] = test_df[\"engine\"].apply(extract_num_cylinders)"
   ]
  },
  {
   "cell_type": "code",
   "execution_count": 43,
   "id": "49fe94c2",
   "metadata": {
    "execution": {
     "iopub.execute_input": "2024-06-16T15:49:16.728669Z",
     "iopub.status.busy": "2024-06-16T15:49:16.728374Z",
     "iopub.status.idle": "2024-06-16T15:49:16.752313Z",
     "shell.execute_reply": "2024-06-16T15:49:16.751502Z"
    },
    "papermill": {
     "duration": 0.075432,
     "end_time": "2024-06-16T15:49:16.754171",
     "exception": false,
     "start_time": "2024-06-16T15:49:16.678739",
     "status": "completed"
    },
    "tags": []
   },
   "outputs": [
    {
     "data": {
      "text/plain": [
       "6"
      ]
     },
     "execution_count": 43,
     "metadata": {},
     "output_type": "execute_result"
    }
   ],
   "source": [
    "# Get the mean from the valid num of cylinders to be used for no/invalid num of cylinders\n",
    "with_num_cylinders = df.loc[df[\"num_cylinders\"] != 'tmp', 'num_cylinders']\n",
    "num_cylinders_ave = round(with_num_cylinders.mean())\n",
    "num_cylinders_ave"
   ]
  },
  {
   "cell_type": "code",
   "execution_count": 44,
   "id": "1045d863",
   "metadata": {
    "execution": {
     "iopub.execute_input": "2024-06-16T15:49:16.853451Z",
     "iopub.status.busy": "2024-06-16T15:49:16.852987Z",
     "iopub.status.idle": "2024-06-16T15:49:16.873633Z",
     "shell.execute_reply": "2024-06-16T15:49:16.872819Z"
    },
    "papermill": {
     "duration": 0.072353,
     "end_time": "2024-06-16T15:49:16.875443",
     "exception": false,
     "start_time": "2024-06-16T15:49:16.803090",
     "status": "completed"
    },
    "tags": []
   },
   "outputs": [],
   "source": [
    "# Replace no/invalid num of cylinders to the average num of cylinders\n",
    "df.loc[df[\"num_cylinders\"] == \"tmp\",\"num_cylinders\"] = num_cylinders_ave\n",
    "test_df.loc[test_df[\"num_cylinders\"] == \"tmp\",\"num_cylinders\"] = num_cylinders_ave"
   ]
  },
  {
   "cell_type": "code",
   "execution_count": 45,
   "id": "43ce50f3",
   "metadata": {
    "execution": {
     "iopub.execute_input": "2024-06-16T15:49:16.976769Z",
     "iopub.status.busy": "2024-06-16T15:49:16.975957Z",
     "iopub.status.idle": "2024-06-16T15:49:17.307956Z",
     "shell.execute_reply": "2024-06-16T15:49:17.307208Z"
    },
    "papermill": {
     "duration": 0.38478,
     "end_time": "2024-06-16T15:49:17.310388",
     "exception": false,
     "start_time": "2024-06-16T15:49:16.925608",
     "status": "completed"
    },
    "tags": []
   },
   "outputs": [],
   "source": [
    "# Convert the num of cylinders column/feature to int\n",
    "df[\"num_cylinders\"] = df[\"num_cylinders\"].apply(pd.to_numeric)\n",
    "test_df[\"num_cylinders\"] = test_df[\"num_cylinders\"].apply(pd.to_numeric)"
   ]
  },
  {
   "cell_type": "code",
   "execution_count": 46,
   "id": "0596f933",
   "metadata": {
    "execution": {
     "iopub.execute_input": "2024-06-16T15:49:17.414190Z",
     "iopub.status.busy": "2024-06-16T15:49:17.413495Z",
     "iopub.status.idle": "2024-06-16T15:49:17.423850Z",
     "shell.execute_reply": "2024-06-16T15:49:17.423029Z"
    },
    "papermill": {
     "duration": 0.063979,
     "end_time": "2024-06-16T15:49:17.425662",
     "exception": false,
     "start_time": "2024-06-16T15:49:17.361683",
     "status": "completed"
    },
    "tags": []
   },
   "outputs": [
    {
     "data": {
      "text/html": [
       "<div>\n",
       "<style scoped>\n",
       "    .dataframe tbody tr th:only-of-type {\n",
       "        vertical-align: middle;\n",
       "    }\n",
       "\n",
       "    .dataframe tbody tr th {\n",
       "        vertical-align: top;\n",
       "    }\n",
       "\n",
       "    .dataframe thead th {\n",
       "        text-align: right;\n",
       "    }\n",
       "</style>\n",
       "<table border=\"1\" class=\"dataframe\">\n",
       "  <thead>\n",
       "    <tr style=\"text-align: right;\">\n",
       "      <th></th>\n",
       "      <th>engine</th>\n",
       "      <th>num_cylinders</th>\n",
       "    </tr>\n",
       "  </thead>\n",
       "  <tbody>\n",
       "    <tr>\n",
       "      <th>54268</th>\n",
       "      <td>445.0HP 4.4L 8 Cylinder Engine Gasoline Fuel</td>\n",
       "      <td>8</td>\n",
       "    </tr>\n",
       "    <tr>\n",
       "      <th>54269</th>\n",
       "      <td>220.0HP 2.0L 4 Cylinder Engine Flex Fuel Capab...</td>\n",
       "      <td>4</td>\n",
       "    </tr>\n",
       "    <tr>\n",
       "      <th>54270</th>\n",
       "      <td>420.0HP 3.6L V6 Cylinder Engine Gasoline Fuel</td>\n",
       "      <td>6</td>\n",
       "    </tr>\n",
       "    <tr>\n",
       "      <th>54271</th>\n",
       "      <td>4.0L H6 24V GDI DOHC</td>\n",
       "      <td>6</td>\n",
       "    </tr>\n",
       "    <tr>\n",
       "      <th>54272</th>\n",
       "      <td>261.0HP 2.0L 4 Cylinder Engine Gasoline/Mild E...</td>\n",
       "      <td>4</td>\n",
       "    </tr>\n",
       "  </tbody>\n",
       "</table>\n",
       "</div>"
      ],
      "text/plain": [
       "                                                  engine  num_cylinders\n",
       "54268       445.0HP 4.4L 8 Cylinder Engine Gasoline Fuel              8\n",
       "54269  220.0HP 2.0L 4 Cylinder Engine Flex Fuel Capab...              4\n",
       "54270      420.0HP 3.6L V6 Cylinder Engine Gasoline Fuel              6\n",
       "54271                               4.0L H6 24V GDI DOHC              6\n",
       "54272  261.0HP 2.0L 4 Cylinder Engine Gasoline/Mild E...              4"
      ]
     },
     "execution_count": 46,
     "metadata": {},
     "output_type": "execute_result"
    }
   ],
   "source": [
    "df[[\"engine\", \"num_cylinders\"]].tail()"
   ]
  },
  {
   "cell_type": "markdown",
   "id": "e5347fa9",
   "metadata": {
    "papermill": {
     "duration": 0.048748,
     "end_time": "2024-06-16T15:49:17.523417",
     "exception": false,
     "start_time": "2024-06-16T15:49:17.474669",
     "status": "completed"
    },
    "tags": []
   },
   "source": [
    "### Extract engine shape"
   ]
  },
  {
   "cell_type": "code",
   "execution_count": 47,
   "id": "868738ad",
   "metadata": {
    "execution": {
     "iopub.execute_input": "2024-06-16T15:49:17.621997Z",
     "iopub.status.busy": "2024-06-16T15:49:17.621723Z",
     "iopub.status.idle": "2024-06-16T15:49:17.631377Z",
     "shell.execute_reply": "2024-06-16T15:49:17.630667Z"
    },
    "papermill": {
     "duration": 0.061295,
     "end_time": "2024-06-16T15:49:17.633195",
     "exception": false,
     "start_time": "2024-06-16T15:49:17.571900",
     "status": "completed"
    },
    "tags": []
   },
   "outputs": [],
   "source": [
    "def extract_engine_shape(text):\n",
    "    \"\"\" Extract horsepower using the L and Liters keyword \"\"\"\n",
    "    words = text.split()\n",
    "    types_of_cylinders = [\"I\", \"H\", \"V\", \"W\"]\n",
    "    for index, word in enumerate(words):\n",
    "        if  word.lower() == \"straight\":\n",
    "            return \"I\" \n",
    "#             print(text[index - 1], word)\n",
    "#             return  int(words[index - 1])\n",
    "            return word\n",
    "\n",
    "        if  word.lower() == \"flat\":\n",
    "            return \"H\" \n",
    "#             print(text[index - 1], word)\n",
    "#             return  int(words[index - 1])\n",
    "            return word\n",
    "\n",
    "        if word.lower() == \"rotary\":\n",
    "            return \"R\"\n",
    "\n",
    "        if word[0] in types_of_cylinders:\n",
    "            word = word.replace(\"-\", \"\")\n",
    "            if 2 <= len(word) <= 3 and word[1].isdigit():\n",
    "#                 return \"VALID\" \n",
    "                return word[0]\n",
    "#             return text\n",
    "\n",
    "        if  word == \"Cylinder\":\n",
    "            return \"I\" \n",
    "#             print(text[index - 1], word)\n",
    "#             return  int(words[index - 1])\n",
    "#             return text\n",
    "\n",
    "    return \"tmp\"\n",
    "#     return text"
   ]
  },
  {
   "cell_type": "code",
   "execution_count": 48,
   "id": "1d1b5d31",
   "metadata": {
    "execution": {
     "iopub.execute_input": "2024-06-16T15:49:17.735952Z",
     "iopub.status.busy": "2024-06-16T15:49:17.735132Z",
     "iopub.status.idle": "2024-06-16T15:49:18.027654Z",
     "shell.execute_reply": "2024-06-16T15:49:18.026735Z"
    },
    "papermill": {
     "duration": 0.346496,
     "end_time": "2024-06-16T15:49:18.030194",
     "exception": false,
     "start_time": "2024-06-16T15:49:17.683698",
     "status": "completed"
    },
    "tags": []
   },
   "outputs": [],
   "source": [
    "# Ensure engine is not yet edited\n",
    "df[\"engine\"] = unedited_df[\"engine\"]\n",
    "test_df[\"engine\"] = unedited_test_df[\"engine\"]\n",
    "\n",
    "# Extract the num of cylinders from engine feature\n",
    "df[\"engine_shape\"] = df[\"engine\"].apply(extract_engine_shape)\n",
    "test_df[\"engine_shape\"] = test_df[\"engine\"].apply(extract_engine_shape)"
   ]
  },
  {
   "cell_type": "code",
   "execution_count": 49,
   "id": "992f082a",
   "metadata": {
    "execution": {
     "iopub.execute_input": "2024-06-16T15:49:18.133956Z",
     "iopub.status.busy": "2024-06-16T15:49:18.133381Z",
     "iopub.status.idle": "2024-06-16T15:49:18.147589Z",
     "shell.execute_reply": "2024-06-16T15:49:18.146726Z"
    },
    "papermill": {
     "duration": 0.068139,
     "end_time": "2024-06-16T15:49:18.149894",
     "exception": false,
     "start_time": "2024-06-16T15:49:18.081755",
     "status": "completed"
    },
    "tags": []
   },
   "outputs": [
    {
     "data": {
      "text/plain": [
       "'I'"
      ]
     },
     "execution_count": 49,
     "metadata": {},
     "output_type": "execute_result"
    }
   ],
   "source": [
    "# Get the most common engine shape to be used for no/invalid engine shape\n",
    "with_engine_shape = df[\"engine_shape\"].value_counts().sort_values(ascending=False)\n",
    "engine_shapes = with_engine_shape.index\n",
    "common_engine_shape = engine_shapes[0]\n",
    "common_engine_shape"
   ]
  },
  {
   "cell_type": "code",
   "execution_count": 50,
   "id": "d97c02d5",
   "metadata": {
    "execution": {
     "iopub.execute_input": "2024-06-16T15:49:18.251165Z",
     "iopub.status.busy": "2024-06-16T15:49:18.250525Z",
     "iopub.status.idle": "2024-06-16T15:49:18.270815Z",
     "shell.execute_reply": "2024-06-16T15:49:18.270092Z"
    },
    "papermill": {
     "duration": 0.07194,
     "end_time": "2024-06-16T15:49:18.272688",
     "exception": false,
     "start_time": "2024-06-16T15:49:18.200748",
     "status": "completed"
    },
    "tags": []
   },
   "outputs": [],
   "source": [
    "# Replace no/invalid num of cylinders to the most common num of cylinders\n",
    "df.loc[df[\"engine_shape\"] == \"tmp\",\"engine_shape\"] = common_engine_shape\n",
    "test_df.loc[test_df[\"engine_shape\"] == \"tmp\",\"engine_shape\"] = common_engine_shape"
   ]
  },
  {
   "cell_type": "code",
   "execution_count": 51,
   "id": "e79da162",
   "metadata": {
    "execution": {
     "iopub.execute_input": "2024-06-16T15:49:18.389662Z",
     "iopub.status.busy": "2024-06-16T15:49:18.389302Z",
     "iopub.status.idle": "2024-06-16T15:49:18.400767Z",
     "shell.execute_reply": "2024-06-16T15:49:18.399875Z"
    },
    "papermill": {
     "duration": 0.07408,
     "end_time": "2024-06-16T15:49:18.403204",
     "exception": false,
     "start_time": "2024-06-16T15:49:18.329124",
     "status": "completed"
    },
    "tags": []
   },
   "outputs": [
    {
     "data": {
      "text/html": [
       "<div>\n",
       "<style scoped>\n",
       "    .dataframe tbody tr th:only-of-type {\n",
       "        vertical-align: middle;\n",
       "    }\n",
       "\n",
       "    .dataframe tbody tr th {\n",
       "        vertical-align: top;\n",
       "    }\n",
       "\n",
       "    .dataframe thead th {\n",
       "        text-align: right;\n",
       "    }\n",
       "</style>\n",
       "<table border=\"1\" class=\"dataframe\">\n",
       "  <thead>\n",
       "    <tr style=\"text-align: right;\">\n",
       "      <th></th>\n",
       "      <th>engine</th>\n",
       "      <th>engine_shape</th>\n",
       "    </tr>\n",
       "  </thead>\n",
       "  <tbody>\n",
       "    <tr>\n",
       "      <th>0</th>\n",
       "      <td>375.0HP 3.5L V6 Cylinder Engine Gasoline Fuel</td>\n",
       "      <td>V</td>\n",
       "    </tr>\n",
       "    <tr>\n",
       "      <th>1</th>\n",
       "      <td>300.0HP 3.0L Straight 6 Cylinder Engine Gasoli...</td>\n",
       "      <td>I</td>\n",
       "    </tr>\n",
       "    <tr>\n",
       "      <th>2</th>\n",
       "      <td>300.0HP 4.2L 8 Cylinder Engine Gasoline Fuel</td>\n",
       "      <td>I</td>\n",
       "    </tr>\n",
       "    <tr>\n",
       "      <th>3</th>\n",
       "      <td>335.0HP 3.0L Straight 6 Cylinder Engine Gasoli...</td>\n",
       "      <td>I</td>\n",
       "    </tr>\n",
       "    <tr>\n",
       "      <th>4</th>\n",
       "      <td>200.0HP 3.8L V6 Cylinder Engine Gasoline Fuel</td>\n",
       "      <td>V</td>\n",
       "    </tr>\n",
       "  </tbody>\n",
       "</table>\n",
       "</div>"
      ],
      "text/plain": [
       "                                              engine engine_shape\n",
       "0      375.0HP 3.5L V6 Cylinder Engine Gasoline Fuel            V\n",
       "1  300.0HP 3.0L Straight 6 Cylinder Engine Gasoli...            I\n",
       "2       300.0HP 4.2L 8 Cylinder Engine Gasoline Fuel            I\n",
       "3  335.0HP 3.0L Straight 6 Cylinder Engine Gasoli...            I\n",
       "4      200.0HP 3.8L V6 Cylinder Engine Gasoline Fuel            V"
      ]
     },
     "execution_count": 51,
     "metadata": {},
     "output_type": "execute_result"
    }
   ],
   "source": [
    "df[[\"engine\", \"engine_shape\"]].head()"
   ]
  },
  {
   "cell_type": "markdown",
   "id": "2028e9cb",
   "metadata": {
    "papermill": {
     "duration": 0.049888,
     "end_time": "2024-06-16T15:49:18.505969",
     "exception": false,
     "start_time": "2024-06-16T15:49:18.456081",
     "status": "completed"
    },
    "tags": []
   },
   "source": [
    "### Clean transmission feature"
   ]
  },
  {
   "cell_type": "code",
   "execution_count": 52,
   "id": "f7846467",
   "metadata": {
    "execution": {
     "iopub.execute_input": "2024-06-16T15:49:18.607729Z",
     "iopub.status.busy": "2024-06-16T15:49:18.606943Z",
     "iopub.status.idle": "2024-06-16T15:49:18.613152Z",
     "shell.execute_reply": "2024-06-16T15:49:18.612326Z"
    },
    "papermill": {
     "duration": 0.059766,
     "end_time": "2024-06-16T15:49:18.614988",
     "exception": false,
     "start_time": "2024-06-16T15:49:18.555222",
     "status": "completed"
    },
    "tags": []
   },
   "outputs": [],
   "source": [
    "def clean_tranmission(text):\n",
    "    \"\"\" Clean tranmission \"\"\"\n",
    "    words = text.split()\n",
    "    automatic_keywords = [\"a/t\", \"automatic\", \"w/dual\", \"cvt\", \"overdrive\"]\n",
    "    manual_keywords = [\"m/t\", \"manual\", \"mt\"]\n",
    "    for index, word in enumerate(words):\n",
    "\n",
    "        if  word.lower() in automatic_keywords:\n",
    "#             return \"VALID\" \n",
    "            return \"A/T\"\n",
    "        if  word.lower() in manual_keywords:\n",
    "#             return \"VALID\" \n",
    "            return \"M/T\"\n",
    "        \n",
    "\n",
    "    return \"tmp\"\n",
    "#     return text"
   ]
  },
  {
   "cell_type": "code",
   "execution_count": 53,
   "id": "1a77393f",
   "metadata": {
    "execution": {
     "iopub.execute_input": "2024-06-16T15:49:18.719728Z",
     "iopub.status.busy": "2024-06-16T15:49:18.719407Z",
     "iopub.status.idle": "2024-06-16T15:49:18.863188Z",
     "shell.execute_reply": "2024-06-16T15:49:18.862262Z"
    },
    "papermill": {
     "duration": 0.199607,
     "end_time": "2024-06-16T15:49:18.865503",
     "exception": false,
     "start_time": "2024-06-16T15:49:18.665896",
     "status": "completed"
    },
    "tags": []
   },
   "outputs": [],
   "source": [
    "# Ensure engine is not yet edited\n",
    "df[\"transmission\"] = unedited_df[\"transmission\"]\n",
    "test_df[\"transmission\"] = unedited_test_df[\"transmission\"]\n",
    "\n",
    "# Extract the num of cylinders from engine feature\n",
    "df[\"transmission\"] = df[\"transmission\"].apply(clean_tranmission)\n",
    "test_df[\"transmission\"] = test_df[\"transmission\"].apply(clean_tranmission)"
   ]
  },
  {
   "cell_type": "code",
   "execution_count": 54,
   "id": "37ecff94",
   "metadata": {
    "execution": {
     "iopub.execute_input": "2024-06-16T15:49:18.970687Z",
     "iopub.status.busy": "2024-06-16T15:49:18.970137Z",
     "iopub.status.idle": "2024-06-16T15:49:18.983916Z",
     "shell.execute_reply": "2024-06-16T15:49:18.983095Z"
    },
    "papermill": {
     "duration": 0.069404,
     "end_time": "2024-06-16T15:49:18.985867",
     "exception": false,
     "start_time": "2024-06-16T15:49:18.916463",
     "status": "completed"
    },
    "tags": []
   },
   "outputs": [
    {
     "data": {
      "text/plain": [
       "'A/T'"
      ]
     },
     "execution_count": 54,
     "metadata": {},
     "output_type": "execute_result"
    }
   ],
   "source": [
    "# Get the most common transmission to be used for no/invalid transmission\n",
    "with_transmission = df[\"transmission\"].value_counts().sort_values(ascending=False)\n",
    "transmissions = with_transmission.index\n",
    "common_transmission = transmissions[0]\n",
    "common_transmission"
   ]
  },
  {
   "cell_type": "code",
   "execution_count": 55,
   "id": "65ae5777",
   "metadata": {
    "execution": {
     "iopub.execute_input": "2024-06-16T15:49:19.088737Z",
     "iopub.status.busy": "2024-06-16T15:49:19.088185Z",
     "iopub.status.idle": "2024-06-16T15:49:19.110726Z",
     "shell.execute_reply": "2024-06-16T15:49:19.109999Z"
    },
    "papermill": {
     "duration": 0.075553,
     "end_time": "2024-06-16T15:49:19.112691",
     "exception": false,
     "start_time": "2024-06-16T15:49:19.037138",
     "status": "completed"
    },
    "tags": []
   },
   "outputs": [],
   "source": [
    "# Replace no/invalid transmission to the most common transmission\n",
    "df.loc[df[\"transmission\"] == \"tmp\",\"transmission\"] = common_transmission\n",
    "test_df.loc[test_df[\"transmission\"] == \"tmp\",\"transmission\"] = common_transmission"
   ]
  },
  {
   "cell_type": "code",
   "execution_count": 56,
   "id": "d5660068",
   "metadata": {
    "execution": {
     "iopub.execute_input": "2024-06-16T15:49:19.217240Z",
     "iopub.status.busy": "2024-06-16T15:49:19.216973Z",
     "iopub.status.idle": "2024-06-16T15:49:19.226262Z",
     "shell.execute_reply": "2024-06-16T15:49:19.225443Z"
    },
    "papermill": {
     "duration": 0.065582,
     "end_time": "2024-06-16T15:49:19.228652",
     "exception": false,
     "start_time": "2024-06-16T15:49:19.163070",
     "status": "completed"
    },
    "tags": []
   },
   "outputs": [
    {
     "name": "stdout",
     "output_type": "stream",
     "text": [
      "                     transmission\n",
      "0                    10-Speed A/T\n",
      "1                     6-Speed M/T\n",
      "2                     6-Speed A/T\n",
      "3  Transmission w/Dual Shift Mode\n",
      "4                             A/T\n",
      "  transmission\n",
      "0          A/T\n",
      "1          M/T\n",
      "2          A/T\n",
      "3          A/T\n",
      "4          A/T\n"
     ]
    }
   ],
   "source": [
    "print(unedited_df[[\"transmission\"]].head())\n",
    "print(df[[\"transmission\"]].head())"
   ]
  },
  {
   "cell_type": "markdown",
   "id": "4a2c1d01",
   "metadata": {
    "papermill": {
     "duration": 0.057856,
     "end_time": "2024-06-16T15:49:19.338770",
     "exception": false,
     "start_time": "2024-06-16T15:49:19.280914",
     "status": "completed"
    },
    "tags": []
   },
   "source": [
    "### Clean Exterior and Interior Color Features"
   ]
  },
  {
   "cell_type": "code",
   "execution_count": 57,
   "id": "7d0bf575",
   "metadata": {
    "execution": {
     "iopub.execute_input": "2024-06-16T15:49:19.448426Z",
     "iopub.status.busy": "2024-06-16T15:49:19.448067Z",
     "iopub.status.idle": "2024-06-16T15:49:19.452124Z",
     "shell.execute_reply": "2024-06-16T15:49:19.451259Z"
    },
    "papermill": {
     "duration": 0.056995,
     "end_time": "2024-06-16T15:49:19.454103",
     "exception": false,
     "start_time": "2024-06-16T15:49:19.397108",
     "status": "completed"
    },
    "tags": []
   },
   "outputs": [],
   "source": [
    "### Use numbers for accidents"
   ]
  },
  {
   "cell_type": "code",
   "execution_count": 58,
   "id": "608a0690",
   "metadata": {
    "execution": {
     "iopub.execute_input": "2024-06-16T15:49:19.554962Z",
     "iopub.status.busy": "2024-06-16T15:49:19.554717Z",
     "iopub.status.idle": "2024-06-16T15:49:19.564591Z",
     "shell.execute_reply": "2024-06-16T15:49:19.563753Z"
    },
    "papermill": {
     "duration": 0.062577,
     "end_time": "2024-06-16T15:49:19.566526",
     "exception": false,
     "start_time": "2024-06-16T15:49:19.503949",
     "status": "completed"
    },
    "tags": []
   },
   "outputs": [],
   "source": [
    "color_keywords = {\n",
    "    \"Black\": [\n",
    "        \"black\", \n",
    "        \"blk\", \n",
    "        \"charcoal\", \n",
    "        \"nero\", \n",
    "        \"beluga\", \n",
    "        \"ebony\", \n",
    "        \"galvanized\", \n",
    "        \"matter\", \n",
    "        \"magnetic\", \n",
    "        \"granite\", \n",
    "        \"tungsten\", \n",
    "        \"onyx\", \n",
    "        \"dark\"\n",
    "    ],\n",
    "    \"Beige\":  [\n",
    "        \"beige\", \n",
    "        \"sandstone\", \n",
    "        \"tan\", \n",
    "        \"cappuccino\", \n",
    "        \"parchment\"\n",
    "    ],\n",
    "    \"Gray\": [\n",
    "        \"gray\", \n",
    "        \"grey\", \n",
    "        \"ash\", \n",
    "        \"slate\", \n",
    "        \"graystone\", \n",
    "        \"shale\", \n",
    "        \"stone\", \n",
    "        \"graphite\", \n",
    "        \"mesa\", \n",
    "        \"boulder\", \n",
    "        \"pewter\", \n",
    "        \"steel\", \n",
    "        \"rock\"\n",
    "    ],\n",
    "    \"Brown\": [\n",
    "        \"brown\", \n",
    "        \"chestnut\", \n",
    "        \"macchiato\", \n",
    "        \"caramel\", \n",
    "        \"camel\", \n",
    "        \"walnut\", \n",
    "        \"mocha\", \n",
    "        \"cocoa\", \n",
    "        \"espresso\", \n",
    "        \"brandy\", \n",
    "        \"bronze\", \n",
    "        \"ametrin\"\n",
    "    ],\n",
    "    \"Red\": [\n",
    "        \"red\", \n",
    "        \"auburn\", \n",
    "        \"hotspur\", \n",
    "        \"garnet\", \n",
    "        \"maroon\", \n",
    "        \"rosso\"\n",
    "    ],\n",
    "    \"White\": [\n",
    "        \"white\", \n",
    "        \"cashmere\", \n",
    "        \"silver\", \n",
    "        \"titanium\", \n",
    "        \"platinum\", \n",
    "        \"oyster\", \n",
    "        \"linen\", \n",
    "        \"pearl\", \n",
    "        \"chalk\", \n",
    "        \"rift\", \n",
    "        \"quicksilver\", \n",
    "        \"bianco\", \n",
    "        \"glacier\"\n",
    "    ],\n",
    "    \"Gold\": [\n",
    "        \"gold\", \n",
    "        \"amber\", \n",
    "        \"yellow\"\n",
    "    ],\n",
    "    \"Blue\": [\n",
    "        \"blue\", \n",
    "        \"navy\", \n",
    "        \"ice\", \n",
    "        \"blu\", \n",
    "        \"blueprint\", \n",
    "        \"moonlight\", \n",
    "        \"nightfall\", \n",
    "        \"sea\", \n",
    "        \"mountain\"\n",
    "    ],\n",
    "    \"Green\": [\n",
    "        \"green\", \n",
    "        \"cypress\", \n",
    "        \"gecko\", \n",
    "        \"verde\"\n",
    "    ],\n",
    "    \"Orange\": [\n",
    "        \"orange\", \n",
    "        \"mango!\"\n",
    "    ],\n",
    "    \"Purple\": [\n",
    "        \"purple\", \n",
    "        \"tempest\", \n",
    "        \"plum\"\n",
    "    ],\n",
    "}"
   ]
  },
  {
   "cell_type": "code",
   "execution_count": 59,
   "id": "847bc269",
   "metadata": {
    "execution": {
     "iopub.execute_input": "2024-06-16T15:49:19.667395Z",
     "iopub.status.busy": "2024-06-16T15:49:19.666841Z",
     "iopub.status.idle": "2024-06-16T15:49:19.672393Z",
     "shell.execute_reply": "2024-06-16T15:49:19.671590Z"
    },
    "papermill": {
     "duration": 0.058031,
     "end_time": "2024-06-16T15:49:19.674264",
     "exception": false,
     "start_time": "2024-06-16T15:49:19.616233",
     "status": "completed"
    },
    "tags": []
   },
   "outputs": [],
   "source": [
    "def clean_color(text):\n",
    "    \"\"\" Clean color \"\"\"\n",
    "    words = text.split()\n",
    "    \n",
    "    for word in words:\n",
    "        word = word.replace(\".\", \"\")\n",
    "        words = word.split(\"/\")\n",
    "        \n",
    "        for word  in words:\n",
    "            word = word.lower()\n",
    "            \n",
    "            for color in color_keywords:\n",
    "                if word in color_keywords[color]:\n",
    "                    return color\n",
    "            \n",
    "        \n",
    "\n",
    "    return \"tmp\"\n",
    "    return text"
   ]
  },
  {
   "cell_type": "code",
   "execution_count": 60,
   "id": "ee617210",
   "metadata": {
    "execution": {
     "iopub.execute_input": "2024-06-16T15:49:19.774905Z",
     "iopub.status.busy": "2024-06-16T15:49:19.774661Z",
     "iopub.status.idle": "2024-06-16T15:49:19.917113Z",
     "shell.execute_reply": "2024-06-16T15:49:19.916326Z"
    },
    "papermill": {
     "duration": 0.195417,
     "end_time": "2024-06-16T15:49:19.919454",
     "exception": false,
     "start_time": "2024-06-16T15:49:19.724037",
     "status": "completed"
    },
    "tags": []
   },
   "outputs": [],
   "source": [
    "# Ensure engine is not yet edited\n",
    "df[\"int_col\"] = unedited_df[\"int_col\"]\n",
    "test_df[\"int_col\"] = unedited_test_df[\"int_col\"]\n",
    "\n",
    "# Extract the num of cylinders from engine feature\n",
    "df[\"int_col\"] = df[\"int_col\"].apply(clean_color)\n",
    "test_df[\"int_col\"] = test_df[\"int_col\"].apply(clean_color)"
   ]
  },
  {
   "cell_type": "code",
   "execution_count": 61,
   "id": "620dfc09",
   "metadata": {
    "execution": {
     "iopub.execute_input": "2024-06-16T15:49:20.023838Z",
     "iopub.status.busy": "2024-06-16T15:49:20.023483Z",
     "iopub.status.idle": "2024-06-16T15:49:20.215426Z",
     "shell.execute_reply": "2024-06-16T15:49:20.214648Z"
    },
    "papermill": {
     "duration": 0.246586,
     "end_time": "2024-06-16T15:49:20.217692",
     "exception": false,
     "start_time": "2024-06-16T15:49:19.971106",
     "status": "completed"
    },
    "tags": []
   },
   "outputs": [],
   "source": [
    "# Ensure engine is not yet edited\n",
    "df[\"ext_col\"] = unedited_df[\"ext_col\"]\n",
    "test_df[\"ext_col\"] = unedited_test_df[\"ext_col\"]\n",
    "\n",
    "\n",
    "# Extract the num of cylinders from engine feature\n",
    "df[\"ext_col\"] = df[\"ext_col\"].apply(clean_color)\n",
    "test_df[\"ext_col\"] = test_df[\"ext_col\"].apply(clean_color)"
   ]
  },
  {
   "cell_type": "code",
   "execution_count": 62,
   "id": "0b3e20da",
   "metadata": {
    "execution": {
     "iopub.execute_input": "2024-06-16T15:49:20.320808Z",
     "iopub.status.busy": "2024-06-16T15:49:20.320479Z",
     "iopub.status.idle": "2024-06-16T15:49:20.334768Z",
     "shell.execute_reply": "2024-06-16T15:49:20.333817Z"
    },
    "papermill": {
     "duration": 0.068307,
     "end_time": "2024-06-16T15:49:20.337002",
     "exception": false,
     "start_time": "2024-06-16T15:49:20.268695",
     "status": "completed"
    },
    "tags": []
   },
   "outputs": [
    {
     "data": {
      "text/plain": [
       "'Black'"
      ]
     },
     "execution_count": 62,
     "metadata": {},
     "output_type": "execute_result"
    }
   ],
   "source": [
    "# Get the most common interior color to be used for no/invalid interior color\n",
    "with_int_col = df[\"int_col\"].value_counts().sort_values(ascending=False)\n",
    "int_cols = with_int_col.index\n",
    "common_int_col = int_cols[0]\n",
    "common_int_col"
   ]
  },
  {
   "cell_type": "code",
   "execution_count": 63,
   "id": "ee46e9da",
   "metadata": {
    "execution": {
     "iopub.execute_input": "2024-06-16T15:49:20.445226Z",
     "iopub.status.busy": "2024-06-16T15:49:20.444539Z",
     "iopub.status.idle": "2024-06-16T15:49:20.458458Z",
     "shell.execute_reply": "2024-06-16T15:49:20.457628Z"
    },
    "papermill": {
     "duration": 0.067295,
     "end_time": "2024-06-16T15:49:20.460428",
     "exception": false,
     "start_time": "2024-06-16T15:49:20.393133",
     "status": "completed"
    },
    "tags": []
   },
   "outputs": [
    {
     "data": {
      "text/plain": [
       "'White'"
      ]
     },
     "execution_count": 63,
     "metadata": {},
     "output_type": "execute_result"
    }
   ],
   "source": [
    "# Get the most common exterior color to be used for no/invalid exterior color\n",
    "with_ext_col = df[\"ext_col\"].value_counts().sort_values(ascending=False)\n",
    "ext_cols = with_ext_col.index\n",
    "common_ext_col = ext_cols[0]\n",
    "common_ext_col"
   ]
  },
  {
   "cell_type": "code",
   "execution_count": 64,
   "id": "55ed4620",
   "metadata": {
    "execution": {
     "iopub.execute_input": "2024-06-16T15:49:20.563590Z",
     "iopub.status.busy": "2024-06-16T15:49:20.563043Z",
     "iopub.status.idle": "2024-06-16T15:49:20.583989Z",
     "shell.execute_reply": "2024-06-16T15:49:20.583194Z"
    },
    "papermill": {
     "duration": 0.074354,
     "end_time": "2024-06-16T15:49:20.585779",
     "exception": false,
     "start_time": "2024-06-16T15:49:20.511425",
     "status": "completed"
    },
    "tags": []
   },
   "outputs": [],
   "source": [
    "# Replace no/invalid interior color to the most common interior color\n",
    "df.loc[df[\"int_col\"] == \"tmp\",\"int_col\"] = common_int_col\n",
    "test_df.loc[test_df[\"int_col\"] == \"tmp\",\"int_col\"] = common_int_col"
   ]
  },
  {
   "cell_type": "code",
   "execution_count": 65,
   "id": "4d6e707f",
   "metadata": {
    "execution": {
     "iopub.execute_input": "2024-06-16T15:49:20.692231Z",
     "iopub.status.busy": "2024-06-16T15:49:20.691599Z",
     "iopub.status.idle": "2024-06-16T15:49:20.713343Z",
     "shell.execute_reply": "2024-06-16T15:49:20.712472Z"
    },
    "papermill": {
     "duration": 0.076564,
     "end_time": "2024-06-16T15:49:20.715411",
     "exception": false,
     "start_time": "2024-06-16T15:49:20.638847",
     "status": "completed"
    },
    "tags": []
   },
   "outputs": [],
   "source": [
    "# Replace no/invalid interior color to the most common interior color\n",
    "df.loc[df[\"ext_col\"] == \"tmp\",\"ext_col\"] = common_ext_col\n",
    "test_df.loc[test_df[\"ext_col\"] == \"tmp\",\"ext_col\"] = common_ext_col"
   ]
  },
  {
   "cell_type": "code",
   "execution_count": 66,
   "id": "be89199c",
   "metadata": {
    "execution": {
     "iopub.execute_input": "2024-06-16T15:49:20.823603Z",
     "iopub.status.busy": "2024-06-16T15:49:20.822976Z",
     "iopub.status.idle": "2024-06-16T15:49:20.833318Z",
     "shell.execute_reply": "2024-06-16T15:49:20.832470Z"
    },
    "papermill": {
     "duration": 0.067576,
     "end_time": "2024-06-16T15:49:20.836230",
     "exception": false,
     "start_time": "2024-06-16T15:49:20.768654",
     "status": "completed"
    },
    "tags": []
   },
   "outputs": [
    {
     "name": "stdout",
     "output_type": "stream",
     "text": [
      "      int_col\n",
      "54268   Brown\n",
      "54269   Black\n",
      "54270   Black\n",
      "54271   Brown\n",
      "54272   Black\n",
      "      int_col\n",
      "54268   Brown\n",
      "54269   Black\n",
      "54270   Black\n",
      "54271   Brown\n",
      "54272   Black\n"
     ]
    }
   ],
   "source": [
    "print(unedited_df[[\"int_col\"]].tail())\n",
    "print(df[[\"int_col\"]].tail())"
   ]
  },
  {
   "cell_type": "code",
   "execution_count": 67,
   "id": "dbc289e8",
   "metadata": {
    "execution": {
     "iopub.execute_input": "2024-06-16T15:49:20.946022Z",
     "iopub.status.busy": "2024-06-16T15:49:20.945686Z",
     "iopub.status.idle": "2024-06-16T15:49:20.955952Z",
     "shell.execute_reply": "2024-06-16T15:49:20.955056Z"
    },
    "papermill": {
     "duration": 0.064718,
     "end_time": "2024-06-16T15:49:20.958125",
     "exception": false,
     "start_time": "2024-06-16T15:49:20.893407",
     "status": "completed"
    },
    "tags": []
   },
   "outputs": [
    {
     "name": "stdout",
     "output_type": "stream",
     "text": [
      "  ext_col\n",
      "0    Blue\n",
      "1   Black\n",
      "2  Purple\n",
      "3    Gray\n",
      "4   White\n",
      "  ext_col\n",
      "0    Blue\n",
      "1   Black\n",
      "2  Purple\n",
      "3    Gray\n",
      "4   White\n"
     ]
    }
   ],
   "source": [
    "print(unedited_df[[\"ext_col\"]].head())\n",
    "print(df[[\"ext_col\"]].head())"
   ]
  },
  {
   "cell_type": "markdown",
   "id": "553c6ce8",
   "metadata": {
    "papermill": {
     "duration": 0.050279,
     "end_time": "2024-06-16T15:49:21.060104",
     "exception": false,
     "start_time": "2024-06-16T15:49:21.009825",
     "status": "completed"
    },
    "tags": []
   },
   "source": [
    "### Convert accidents to number of accients"
   ]
  },
  {
   "cell_type": "code",
   "execution_count": 68,
   "id": "185fd674",
   "metadata": {
    "execution": {
     "iopub.execute_input": "2024-06-16T15:49:21.163380Z",
     "iopub.status.busy": "2024-06-16T15:49:21.162801Z",
     "iopub.status.idle": "2024-06-16T15:49:21.167494Z",
     "shell.execute_reply": "2024-06-16T15:49:21.166641Z"
    },
    "papermill": {
     "duration": 0.058248,
     "end_time": "2024-06-16T15:49:21.169369",
     "exception": false,
     "start_time": "2024-06-16T15:49:21.111121",
     "status": "completed"
    },
    "tags": []
   },
   "outputs": [],
   "source": [
    "def count_num_of_accidents(text):\n",
    "    words = text.split()\n",
    "    for word in words:\n",
    "        if word == \"None\":\n",
    "            return 0\n",
    "        if word == \"1\":\n",
    "            return 1"
   ]
  },
  {
   "cell_type": "code",
   "execution_count": 69,
   "id": "740143ea",
   "metadata": {
    "execution": {
     "iopub.execute_input": "2024-06-16T15:49:21.271989Z",
     "iopub.status.busy": "2024-06-16T15:49:21.271178Z",
     "iopub.status.idle": "2024-06-16T15:49:21.380172Z",
     "shell.execute_reply": "2024-06-16T15:49:21.379263Z"
    },
    "papermill": {
     "duration": 0.162378,
     "end_time": "2024-06-16T15:49:21.382506",
     "exception": false,
     "start_time": "2024-06-16T15:49:21.220128",
     "status": "completed"
    },
    "tags": []
   },
   "outputs": [],
   "source": [
    "# Ensure accidents feature is not yet edited\n",
    "df[\"accident\"] = unedited_df[\"accident\"]\n",
    "test_df[\"accident\"] = unedited_test_df[\"accident\"]\n",
    "\n",
    "# Count the number of accidents and replace the data with it\n",
    "df[\"accident\"] = df[\"accident\"].apply(count_num_of_accidents)\n",
    "test_df[\"accident\"] = test_df[\"accident\"].apply(count_num_of_accidents)\n"
   ]
  },
  {
   "cell_type": "code",
   "execution_count": 70,
   "id": "8e48219c",
   "metadata": {
    "execution": {
     "iopub.execute_input": "2024-06-16T15:49:21.489532Z",
     "iopub.status.busy": "2024-06-16T15:49:21.489013Z",
     "iopub.status.idle": "2024-06-16T15:49:21.823491Z",
     "shell.execute_reply": "2024-06-16T15:49:21.822722Z"
    },
    "papermill": {
     "duration": 0.390285,
     "end_time": "2024-06-16T15:49:21.825798",
     "exception": false,
     "start_time": "2024-06-16T15:49:21.435513",
     "status": "completed"
    },
    "tags": []
   },
   "outputs": [],
   "source": [
    "# Convert the accident column/feature to type int\n",
    "df[\"accident\"] = df[\"accident\"].apply(pd.to_numeric)\n",
    "test_df[\"accident\"] = test_df[\"accident\"].apply(pd.to_numeric)"
   ]
  },
  {
   "cell_type": "code",
   "execution_count": 71,
   "id": "da49c409",
   "metadata": {
    "execution": {
     "iopub.execute_input": "2024-06-16T15:49:21.930389Z",
     "iopub.status.busy": "2024-06-16T15:49:21.929754Z",
     "iopub.status.idle": "2024-06-16T15:49:21.939030Z",
     "shell.execute_reply": "2024-06-16T15:49:21.938017Z"
    },
    "papermill": {
     "duration": 0.064223,
     "end_time": "2024-06-16T15:49:21.942087",
     "exception": false,
     "start_time": "2024-06-16T15:49:21.877864",
     "status": "completed"
    },
    "tags": []
   },
   "outputs": [
    {
     "name": "stdout",
     "output_type": "stream",
     "text": [
      "                                     accident\n",
      "54268                           None reported\n",
      "54269  At least 1 accident or damage reported\n",
      "54270  At least 1 accident or damage reported\n",
      "54271                           None reported\n",
      "54272                           None reported\n",
      "       accident\n",
      "54268         0\n",
      "54269         1\n",
      "54270         1\n",
      "54271         0\n",
      "54272         0\n"
     ]
    }
   ],
   "source": [
    "print(unedited_df[[\"accident\"]].tail())\n",
    "print(df[[\"accident\"]].tail())"
   ]
  },
  {
   "cell_type": "markdown",
   "id": "6564f256",
   "metadata": {
    "papermill": {
     "duration": 0.050498,
     "end_time": "2024-06-16T15:49:22.046619",
     "exception": false,
     "start_time": "2024-06-16T15:49:21.996121",
     "status": "completed"
    },
    "tags": []
   },
   "source": [
    "### Drop clean title since all data are the same in that column"
   ]
  },
  {
   "cell_type": "code",
   "execution_count": 72,
   "id": "45eb1d83",
   "metadata": {
    "execution": {
     "iopub.execute_input": "2024-06-16T15:49:22.151588Z",
     "iopub.status.busy": "2024-06-16T15:49:22.150645Z",
     "iopub.status.idle": "2024-06-16T15:49:22.169713Z",
     "shell.execute_reply": "2024-06-16T15:49:22.168921Z"
    },
    "papermill": {
     "duration": 0.073636,
     "end_time": "2024-06-16T15:49:22.171851",
     "exception": false,
     "start_time": "2024-06-16T15:49:22.098215",
     "status": "completed"
    },
    "tags": []
   },
   "outputs": [],
   "source": [
    "df = df.drop(\"clean_title\", axis=\"columns\", errors=\"ignore\")\n",
    "test_df = test_df.drop(\"clean_title\", axis=\"columns\", errors=\"ignore\")"
   ]
  },
  {
   "cell_type": "markdown",
   "id": "94ced6d9",
   "metadata": {
    "papermill": {
     "duration": 0.051157,
     "end_time": "2024-06-16T15:49:22.275984",
     "exception": false,
     "start_time": "2024-06-16T15:49:22.224827",
     "status": "completed"
    },
    "tags": []
   },
   "source": [
    "### Drop engine feature since it is unclean and that we already engineered new features from it"
   ]
  },
  {
   "cell_type": "code",
   "execution_count": 73,
   "id": "22ce2ff9",
   "metadata": {
    "execution": {
     "iopub.execute_input": "2024-06-16T15:49:22.385115Z",
     "iopub.status.busy": "2024-06-16T15:49:22.384750Z",
     "iopub.status.idle": "2024-06-16T15:49:22.404014Z",
     "shell.execute_reply": "2024-06-16T15:49:22.403015Z"
    },
    "papermill": {
     "duration": 0.078299,
     "end_time": "2024-06-16T15:49:22.406248",
     "exception": false,
     "start_time": "2024-06-16T15:49:22.327949",
     "status": "completed"
    },
    "tags": []
   },
   "outputs": [],
   "source": [
    "df = df.drop(\"engine\", axis=\"columns\", errors=\"ignore\")\n",
    "test_df = test_df.drop(\"engine\", axis=\"columns\", errors=\"ignore\")"
   ]
  },
  {
   "cell_type": "code",
   "execution_count": 74,
   "id": "a4fac22e",
   "metadata": {
    "execution": {
     "iopub.execute_input": "2024-06-16T15:49:22.512214Z",
     "iopub.status.busy": "2024-06-16T15:49:22.511549Z",
     "iopub.status.idle": "2024-06-16T15:49:22.542102Z",
     "shell.execute_reply": "2024-06-16T15:49:22.541315Z"
    },
    "papermill": {
     "duration": 0.086497,
     "end_time": "2024-06-16T15:49:22.544271",
     "exception": false,
     "start_time": "2024-06-16T15:49:22.457774",
     "status": "completed"
    },
    "tags": []
   },
   "outputs": [],
   "source": [
    "cleaned_df = copy.deepcopy(df)\n",
    "cleaned_test_df = copy.deepcopy(test_df)"
   ]
  },
  {
   "cell_type": "markdown",
   "id": "e629ec37",
   "metadata": {
    "papermill": {
     "duration": 0.051502,
     "end_time": "2024-06-16T15:49:22.648111",
     "exception": false,
     "start_time": "2024-06-16T15:49:22.596609",
     "status": "completed"
    },
    "tags": []
   },
   "source": [
    "### Find outliers in our label (Price)"
   ]
  },
  {
   "cell_type": "code",
   "execution_count": 75,
   "id": "dda63a47",
   "metadata": {
    "execution": {
     "iopub.execute_input": "2024-06-16T15:49:22.756095Z",
     "iopub.status.busy": "2024-06-16T15:49:22.755253Z",
     "iopub.status.idle": "2024-06-16T15:49:22.992638Z",
     "shell.execute_reply": "2024-06-16T15:49:22.991689Z"
    },
    "papermill": {
     "duration": 0.294489,
     "end_time": "2024-06-16T15:49:22.995266",
     "exception": false,
     "start_time": "2024-06-16T15:49:22.700777",
     "status": "completed"
    },
    "tags": []
   },
   "outputs": [
    {
     "data": {
      "text/plain": [
       "<Axes: xlabel='price'>"
      ]
     },
     "execution_count": 75,
     "metadata": {},
     "output_type": "execute_result"
    },
    {
     "data": {
      "image/png": "[encoded data removed]",
      "text/plain": [
       "<Figure size 640x480 with 1 Axes>"
      ]
     },
     "metadata": {},
     "output_type": "display_data"
    }
   ],
   "source": [
    "sns.boxplot(data=cleaned_df, x=\"price\")"
   ]
  },
  {
   "cell_type": "code",
   "execution_count": 76,
   "id": "5ad22b42",
   "metadata": {
    "execution": {
     "iopub.execute_input": "2024-06-16T15:49:23.105217Z",
     "iopub.status.busy": "2024-06-16T15:49:23.104870Z",
     "iopub.status.idle": "2024-06-16T15:49:23.115448Z",
     "shell.execute_reply": "2024-06-16T15:49:23.114531Z"
    },
    "papermill": {
     "duration": 0.067289,
     "end_time": "2024-06-16T15:49:23.117505",
     "exception": false,
     "start_time": "2024-06-16T15:49:23.050216",
     "status": "completed"
    },
    "tags": []
   },
   "outputs": [
    {
     "data": {
      "text/plain": [
       "29500.0"
      ]
     },
     "execution_count": 76,
     "metadata": {},
     "output_type": "execute_result"
    }
   ],
   "source": [
    "# Get IQR \n",
    "Q1 = cleaned_df[\"price\"].quantile(0.25)\n",
    "Q3 = cleaned_df[\"price\"].quantile(0.75)\n",
    "IQR = Q3 - Q1\n",
    "IQR"
   ]
  },
  {
   "cell_type": "code",
   "execution_count": 77,
   "id": "1804d4aa",
   "metadata": {
    "execution": {
     "iopub.execute_input": "2024-06-16T15:49:23.223352Z",
     "iopub.status.busy": "2024-06-16T15:49:23.222992Z",
     "iopub.status.idle": "2024-06-16T15:49:23.228031Z",
     "shell.execute_reply": "2024-06-16T15:49:23.227225Z"
    },
    "papermill": {
     "duration": 0.06104,
     "end_time": "2024-06-16T15:49:23.230342",
     "exception": false,
     "start_time": "2024-06-16T15:49:23.169302",
     "status": "completed"
    },
    "tags": []
   },
   "outputs": [
    {
     "name": "stdout",
     "output_type": "stream",
     "text": [
      "range: -28,750.0 to 89,250.0\n"
     ]
    }
   ],
   "source": [
    "lower_bound = Q1 - 1.5 * IQR \n",
    "upper_bound = Q3 + 1.5 * IQR \n",
    "\n",
    "print(f\"range: {lower_bound:,} to {upper_bound:,}\")"
   ]
  },
  {
   "cell_type": "code",
   "execution_count": 78,
   "id": "18c608ec",
   "metadata": {
    "execution": {
     "iopub.execute_input": "2024-06-16T15:49:23.340096Z",
     "iopub.status.busy": "2024-06-16T15:49:23.339759Z",
     "iopub.status.idle": "2024-06-16T15:49:23.355387Z",
     "shell.execute_reply": "2024-06-16T15:49:23.354316Z"
    },
    "papermill": {
     "duration": 0.073176,
     "end_time": "2024-06-16T15:49:23.357569",
     "exception": false,
     "start_time": "2024-06-16T15:49:23.284393",
     "status": "completed"
    },
    "tags": []
   },
   "outputs": [
    {
     "name": "stdout",
     "output_type": "stream",
     "text": [
      "Non-outliers: 51176\n",
      "Outliers: 3097\n",
      "Percentage of Outliers: 5.7063\n"
     ]
    }
   ],
   "source": [
    "non_outliers = df[ (df[\"price\"] > lower_bound) & (df[\"price\"] < upper_bound) ]\n",
    "\n",
    "num_non_outliers = len(non_outliers)\n",
    "num_outliers = len(df) - num_non_outliers\n",
    "\n",
    "print(f\"Non-outliers: {num_non_outliers}\")\n",
    "print(f\"Outliers: {num_outliers}\")\n",
    "print(f\"Percentage of Outliers: {(num_outliers / len(df) * 100):.4f}\")"
   ]
  },
  {
   "cell_type": "code",
   "execution_count": 79,
   "id": "464aa7a4",
   "metadata": {
    "execution": {
     "iopub.execute_input": "2024-06-16T15:49:23.467160Z",
     "iopub.status.busy": "2024-06-16T15:49:23.466345Z",
     "iopub.status.idle": "2024-06-16T15:49:23.471782Z",
     "shell.execute_reply": "2024-06-16T15:49:23.470969Z"
    },
    "papermill": {
     "duration": 0.061341,
     "end_time": "2024-06-16T15:49:23.473682",
     "exception": false,
     "start_time": "2024-06-16T15:49:23.412341",
     "status": "completed"
    },
    "tags": []
   },
   "outputs": [],
   "source": [
    "df = non_outliers"
   ]
  },
  {
   "cell_type": "code",
   "execution_count": 80,
   "id": "62a53169",
   "metadata": {
    "execution": {
     "iopub.execute_input": "2024-06-16T15:49:23.580071Z",
     "iopub.status.busy": "2024-06-16T15:49:23.579475Z",
     "iopub.status.idle": "2024-06-16T15:49:23.720620Z",
     "shell.execute_reply": "2024-06-16T15:49:23.719469Z"
    },
    "papermill": {
     "duration": 0.197693,
     "end_time": "2024-06-16T15:49:23.722891",
     "exception": false,
     "start_time": "2024-06-16T15:49:23.525198",
     "status": "completed"
    },
    "tags": []
   },
   "outputs": [
    {
     "data": {
      "text/plain": [
       "<Axes: xlabel='price'>"
      ]
     },
     "execution_count": 80,
     "metadata": {},
     "output_type": "execute_result"
    },
    {
     "data": {
      "image/png": "[encoded data removed]",
      "text/plain": [
       "<Figure size 640x480 with 1 Axes>"
      ]
     },
     "metadata": {},
     "output_type": "display_data"
    }
   ],
   "source": [
    "sns.boxplot(data=df, x=\"price\")"
   ]
  },
  {
   "cell_type": "markdown",
   "id": "95402271",
   "metadata": {
    "papermill": {
     "duration": 0.052936,
     "end_time": "2024-06-16T15:49:23.830944",
     "exception": false,
     "start_time": "2024-06-16T15:49:23.778008",
     "status": "completed"
    },
    "tags": []
   },
   "source": [
    "### Find outliers for milage feature"
   ]
  },
  {
   "cell_type": "code",
   "execution_count": null,
   "id": "156aff0e",
   "metadata": {
    "papermill": {
     "duration": 0.052417,
     "end_time": "2024-06-16T15:49:23.936652",
     "exception": false,
     "start_time": "2024-06-16T15:49:23.884235",
     "status": "completed"
    },
    "tags": []
   },
   "outputs": [],
   "source": []
  },
  {
   "cell_type": "code",
   "execution_count": 81,
   "id": "632b13af",
   "metadata": {
    "execution": {
     "iopub.execute_input": "2024-06-16T15:49:24.046196Z",
     "iopub.status.busy": "2024-06-16T15:49:24.045566Z",
     "iopub.status.idle": "2024-06-16T15:49:24.295380Z",
     "shell.execute_reply": "2024-06-16T15:49:24.294203Z"
    },
    "papermill": {
     "duration": 0.306727,
     "end_time": "2024-06-16T15:49:24.297608",
     "exception": false,
     "start_time": "2024-06-16T15:49:23.990881",
     "status": "completed"
    },
    "tags": []
   },
   "outputs": [
    {
     "data": {
      "text/plain": [
       "<Axes: xlabel='milage'>"
      ]
     },
     "execution_count": 81,
     "metadata": {},
     "output_type": "execute_result"
    },
    {
     "data": {
      "image/png": "[encoded data removed]",
      "text/plain": [
       "<Figure size 640x480 with 1 Axes>"
      ]
     },
     "metadata": {},
     "output_type": "display_data"
    }
   ],
   "source": [
    "sns.boxplot(data=cleaned_df, x=\"milage\")"
   ]
  },
  {
   "cell_type": "code",
   "execution_count": 82,
   "id": "4f4f7c41",
   "metadata": {
    "execution": {
     "iopub.execute_input": "2024-06-16T15:49:24.409519Z",
     "iopub.status.busy": "2024-06-16T15:49:24.409053Z",
     "iopub.status.idle": "2024-06-16T15:49:24.422203Z",
     "shell.execute_reply": "2024-06-16T15:49:24.421354Z"
    },
    "papermill": {
     "duration": 0.075318,
     "end_time": "2024-06-16T15:49:24.427157",
     "exception": false,
     "start_time": "2024-06-16T15:49:24.351839",
     "status": "completed"
    },
    "tags": []
   },
   "outputs": [
    {
     "data": {
      "text/plain": [
       "69732.0"
      ]
     },
     "execution_count": 82,
     "metadata": {},
     "output_type": "execute_result"
    }
   ],
   "source": [
    "# Get IQR \n",
    "Q1 = cleaned_df[\"milage\"].quantile(0.25)\n",
    "Q3 = cleaned_df[\"milage\"].quantile(0.75)\n",
    "IQR = Q3 - Q1\n",
    "IQR"
   ]
  },
  {
   "cell_type": "code",
   "execution_count": 83,
   "id": "d82ad8f4",
   "metadata": {
    "execution": {
     "iopub.execute_input": "2024-06-16T15:49:24.543464Z",
     "iopub.status.busy": "2024-06-16T15:49:24.542563Z",
     "iopub.status.idle": "2024-06-16T15:49:24.548625Z",
     "shell.execute_reply": "2024-06-16T15:49:24.547739Z"
    },
    "papermill": {
     "duration": 0.06546,
     "end_time": "2024-06-16T15:49:24.551362",
     "exception": false,
     "start_time": "2024-06-16T15:49:24.485902",
     "status": "completed"
    },
    "tags": []
   },
   "outputs": [
    {
     "name": "stdout",
     "output_type": "stream",
     "text": [
      "range: -72,330.0 to 206,598.0\n"
     ]
    }
   ],
   "source": [
    "lower_bound = Q1 - 1.5 * IQR \n",
    "upper_bound = Q3 + 1.5 * IQR \n",
    "\n",
    "print(f\"range: {lower_bound:,} to {upper_bound:,}\")"
   ]
  },
  {
   "cell_type": "code",
   "execution_count": 84,
   "id": "79f6db93",
   "metadata": {
    "execution": {
     "iopub.execute_input": "2024-06-16T15:49:24.679372Z",
     "iopub.status.busy": "2024-06-16T15:49:24.678507Z",
     "iopub.status.idle": "2024-06-16T15:49:24.697095Z",
     "shell.execute_reply": "2024-06-16T15:49:24.695860Z"
    },
    "papermill": {
     "duration": 0.081868,
     "end_time": "2024-06-16T15:49:24.699348",
     "exception": false,
     "start_time": "2024-06-16T15:49:24.617480",
     "status": "completed"
    },
    "tags": []
   },
   "outputs": [
    {
     "name": "stdout",
     "output_type": "stream",
     "text": [
      "Non-outliers: 50460\n",
      "Outliers: 716\n",
      "Percentage of Outliers: 1.3991\n"
     ]
    }
   ],
   "source": [
    "non_outliers = df[ (df[\"milage\"] > lower_bound) & (df[\"milage\"] < upper_bound) ]\n",
    "\n",
    "num_non_outliers = len(non_outliers)\n",
    "num_outliers = len(df) - num_non_outliers\n",
    "\n",
    "print(f\"Non-outliers: {num_non_outliers}\")\n",
    "print(f\"Outliers: {num_outliers}\")\n",
    "print(f\"Percentage of Outliers: {(num_outliers / len(df) * 100):.4f}\")"
   ]
  },
  {
   "cell_type": "markdown",
   "id": "9fdb5c9a",
   "metadata": {
    "papermill": {
     "duration": 0.056196,
     "end_time": "2024-06-16T15:49:24.810954",
     "exception": false,
     "start_time": "2024-06-16T15:49:24.754758",
     "status": "completed"
    },
    "tags": []
   },
   "source": []
  },
  {
   "cell_type": "code",
   "execution_count": 85,
   "id": "eec8d986",
   "metadata": {
    "execution": {
     "iopub.execute_input": "2024-06-16T15:49:24.924764Z",
     "iopub.status.busy": "2024-06-16T15:49:24.924407Z",
     "iopub.status.idle": "2024-06-16T15:49:24.930548Z",
     "shell.execute_reply": "2024-06-16T15:49:24.929355Z"
    },
    "papermill": {
     "duration": 0.064776,
     "end_time": "2024-06-16T15:49:24.932877",
     "exception": false,
     "start_time": "2024-06-16T15:49:24.868101",
     "status": "completed"
    },
    "tags": []
   },
   "outputs": [],
   "source": [
    "df = non_outliers"
   ]
  },
  {
   "cell_type": "code",
   "execution_count": 86,
   "id": "b59a3ec2",
   "metadata": {
    "execution": {
     "iopub.execute_input": "2024-06-16T15:49:25.044469Z",
     "iopub.status.busy": "2024-06-16T15:49:25.044080Z",
     "iopub.status.idle": "2024-06-16T15:49:25.250159Z",
     "shell.execute_reply": "2024-06-16T15:49:25.249287Z"
    },
    "papermill": {
     "duration": 0.265514,
     "end_time": "2024-06-16T15:49:25.252329",
     "exception": false,
     "start_time": "2024-06-16T15:49:24.986815",
     "status": "completed"
    },
    "tags": []
   },
   "outputs": [
    {
     "data": {
      "text/plain": [
       "<Axes: xlabel='milage'>"
      ]
     },
     "execution_count": 86,
     "metadata": {},
     "output_type": "execute_result"
    },
    {
     "data": {
      "image/png": "[encoded data removed]",
      "text/plain": [
       "<Figure size 640x480 with 1 Axes>"
      ]
     },
     "metadata": {},
     "output_type": "display_data"
    }
   ],
   "source": [
    "sns.boxplot(data=df, x=\"milage\")"
   ]
  },
  {
   "cell_type": "markdown",
   "id": "519fe625",
   "metadata": {
    "papermill": {
     "duration": 0.060017,
     "end_time": "2024-06-16T15:49:25.367393",
     "exception": false,
     "start_time": "2024-06-16T15:49:25.307376",
     "status": "completed"
    },
    "tags": []
   },
   "source": [
    "### Find outliers for model_year feature"
   ]
  },
  {
   "cell_type": "code",
   "execution_count": 87,
   "id": "128fca63",
   "metadata": {
    "execution": {
     "iopub.execute_input": "2024-06-16T15:49:25.479093Z",
     "iopub.status.busy": "2024-06-16T15:49:25.478756Z",
     "iopub.status.idle": "2024-06-16T15:49:25.688977Z",
     "shell.execute_reply": "2024-06-16T15:49:25.688124Z"
    },
    "papermill": {
     "duration": 0.266906,
     "end_time": "2024-06-16T15:49:25.691082",
     "exception": false,
     "start_time": "2024-06-16T15:49:25.424176",
     "status": "completed"
    },
    "tags": []
   },
   "outputs": [
    {
     "data": {
      "text/plain": [
       "<Axes: xlabel='model_year'>"
      ]
     },
     "execution_count": 87,
     "metadata": {},
     "output_type": "execute_result"
    },
    {
     "data": {
      "image/png": "[encoded data removed]",
      "text/plain": [
       "<Figure size 640x480 with 1 Axes>"
      ]
     },
     "metadata": {},
     "output_type": "display_data"
    }
   ],
   "source": [
    "sns.boxplot(data=cleaned_df, x=\"model_year\")"
   ]
  },
  {
   "cell_type": "code",
   "execution_count": 88,
   "id": "bde03aba",
   "metadata": {
    "execution": {
     "iopub.execute_input": "2024-06-16T15:49:25.803735Z",
     "iopub.status.busy": "2024-06-16T15:49:25.803381Z",
     "iopub.status.idle": "2024-06-16T15:49:25.813751Z",
     "shell.execute_reply": "2024-06-16T15:49:25.812859Z"
    },
    "papermill": {
     "duration": 0.069229,
     "end_time": "2024-06-16T15:49:25.815984",
     "exception": false,
     "start_time": "2024-06-16T15:49:25.746755",
     "status": "completed"
    },
    "tags": []
   },
   "outputs": [
    {
     "data": {
      "text/plain": [
       "7.0"
      ]
     },
     "execution_count": 88,
     "metadata": {},
     "output_type": "execute_result"
    }
   ],
   "source": [
    "# Get IQR \n",
    "Q1 = cleaned_df[\"model_year\"].quantile(0.25)\n",
    "Q3 = cleaned_df[\"model_year\"].quantile(0.75)\n",
    "IQR = Q3 - Q1\n",
    "IQR"
   ]
  },
  {
   "cell_type": "code",
   "execution_count": 89,
   "id": "5c7b805b",
   "metadata": {
    "execution": {
     "iopub.execute_input": "2024-06-16T15:49:25.931564Z",
     "iopub.status.busy": "2024-06-16T15:49:25.931187Z",
     "iopub.status.idle": "2024-06-16T15:49:25.936131Z",
     "shell.execute_reply": "2024-06-16T15:49:25.935168Z"
    },
    "papermill": {
     "duration": 0.062799,
     "end_time": "2024-06-16T15:49:25.938465",
     "exception": false,
     "start_time": "2024-06-16T15:49:25.875666",
     "status": "completed"
    },
    "tags": []
   },
   "outputs": [
    {
     "name": "stdout",
     "output_type": "stream",
     "text": [
      "range: 2001.5 to 2029.5\n"
     ]
    }
   ],
   "source": [
    "lower_bound = Q1 - 1.5 * IQR \n",
    "upper_bound = Q3 + 1.5 * IQR \n",
    "\n",
    "print(f\"range: {lower_bound} to {upper_bound}\")"
   ]
  },
  {
   "cell_type": "code",
   "execution_count": 90,
   "id": "25fef113",
   "metadata": {
    "execution": {
     "iopub.execute_input": "2024-06-16T15:49:26.049471Z",
     "iopub.status.busy": "2024-06-16T15:49:26.048736Z",
     "iopub.status.idle": "2024-06-16T15:49:26.064271Z",
     "shell.execute_reply": "2024-06-16T15:49:26.063310Z"
    },
    "papermill": {
     "duration": 0.073831,
     "end_time": "2024-06-16T15:49:26.066307",
     "exception": false,
     "start_time": "2024-06-16T15:49:25.992476",
     "status": "completed"
    },
    "tags": []
   },
   "outputs": [
    {
     "name": "stdout",
     "output_type": "stream",
     "text": [
      "Non-outliers: 49383\n",
      "Outliers: 1077\n",
      "Percentage of Outliers: 2.1344\n"
     ]
    }
   ],
   "source": [
    "non_outliers = df[ (df[\"model_year\"] > lower_bound) & (df[\"model_year\"] < upper_bound) ]\n",
    "\n",
    "num_non_outliers = len(non_outliers)\n",
    "num_outliers = len(df) - num_non_outliers\n",
    "\n",
    "print(f\"Non-outliers: {num_non_outliers}\")\n",
    "print(f\"Outliers: {num_outliers}\")\n",
    "print(f\"Percentage of Outliers: {(num_outliers / len(df) * 100):.4f}\")"
   ]
  },
  {
   "cell_type": "code",
   "execution_count": 91,
   "id": "1ecdbbf6",
   "metadata": {
    "execution": {
     "iopub.execute_input": "2024-06-16T15:49:26.177598Z",
     "iopub.status.busy": "2024-06-16T15:49:26.177006Z",
     "iopub.status.idle": "2024-06-16T15:49:26.182296Z",
     "shell.execute_reply": "2024-06-16T15:49:26.181443Z"
    },
    "papermill": {
     "duration": 0.061728,
     "end_time": "2024-06-16T15:49:26.184100",
     "exception": false,
     "start_time": "2024-06-16T15:49:26.122372",
     "status": "completed"
    },
    "tags": []
   },
   "outputs": [],
   "source": [
    "df = non_outliers"
   ]
  },
  {
   "cell_type": "code",
   "execution_count": 92,
   "id": "e0ecb07a",
   "metadata": {
    "execution": {
     "iopub.execute_input": "2024-06-16T15:49:26.293322Z",
     "iopub.status.busy": "2024-06-16T15:49:26.293009Z",
     "iopub.status.idle": "2024-06-16T15:49:26.434389Z",
     "shell.execute_reply": "2024-06-16T15:49:26.433472Z"
    },
    "papermill": {
     "duration": 0.200668,
     "end_time": "2024-06-16T15:49:26.438485",
     "exception": false,
     "start_time": "2024-06-16T15:49:26.237817",
     "status": "completed"
    },
    "tags": []
   },
   "outputs": [
    {
     "data": {
      "text/plain": [
       "<Axes: xlabel='model_year'>"
      ]
     },
     "execution_count": 92,
     "metadata": {},
     "output_type": "execute_result"
    },
    {
     "data": {
      "image/png": "[encoded data removed]",
      "text/plain": [
       "<Figure size 640x480 with 1 Axes>"
      ]
     },
     "metadata": {},
     "output_type": "display_data"
    }
   ],
   "source": [
    "sns.boxplot(data=df, x=\"model_year\")"
   ]
  },
  {
   "cell_type": "markdown",
   "id": "bd5ba1d5",
   "metadata": {
    "papermill": {
     "duration": 0.054226,
     "end_time": "2024-06-16T15:49:26.565870",
     "exception": false,
     "start_time": "2024-06-16T15:49:26.511644",
     "status": "completed"
    },
    "tags": []
   },
   "source": [
    "### Find outliers in horsepower feature"
   ]
  },
  {
   "cell_type": "code",
   "execution_count": 93,
   "id": "ffa015d8",
   "metadata": {
    "execution": {
     "iopub.execute_input": "2024-06-16T15:49:26.675792Z",
     "iopub.status.busy": "2024-06-16T15:49:26.675404Z",
     "iopub.status.idle": "2024-06-16T15:49:26.816105Z",
     "shell.execute_reply": "2024-06-16T15:49:26.815163Z"
    },
    "papermill": {
     "duration": 0.198549,
     "end_time": "2024-06-16T15:49:26.818185",
     "exception": false,
     "start_time": "2024-06-16T15:49:26.619636",
     "status": "completed"
    },
    "tags": []
   },
   "outputs": [
    {
     "data": {
      "text/plain": [
       "<Axes: xlabel='horsepower'>"
      ]
     },
     "execution_count": 93,
     "metadata": {},
     "output_type": "execute_result"
    },
    {
     "data": {
      "image/png": "[encoded data removed]",
      "text/plain": [
       "<Figure size 640x480 with 1 Axes>"
      ]
     },
     "metadata": {},
     "output_type": "display_data"
    }
   ],
   "source": [
    "sns.boxplot(data=cleaned_df, x=\"horsepower\")"
   ]
  },
  {
   "cell_type": "code",
   "execution_count": 94,
   "id": "db505dc2",
   "metadata": {
    "execution": {
     "iopub.execute_input": "2024-06-16T15:49:26.932153Z",
     "iopub.status.busy": "2024-06-16T15:49:26.931825Z",
     "iopub.status.idle": "2024-06-16T15:49:26.942772Z",
     "shell.execute_reply": "2024-06-16T15:49:26.941780Z"
    },
    "papermill": {
     "duration": 0.070546,
     "end_time": "2024-06-16T15:49:26.945221",
     "exception": false,
     "start_time": "2024-06-16T15:49:26.874675",
     "status": "completed"
    },
    "tags": []
   },
   "outputs": [
    {
     "data": {
      "text/plain": [
       "134.0"
      ]
     },
     "execution_count": 94,
     "metadata": {},
     "output_type": "execute_result"
    }
   ],
   "source": [
    "# Get IQR \n",
    "Q1 = cleaned_df[\"horsepower\"].quantile(0.25)\n",
    "Q3 = cleaned_df[\"horsepower\"].quantile(0.75)\n",
    "IQR = Q3 - Q1\n",
    "IQR"
   ]
  },
  {
   "cell_type": "code",
   "execution_count": 95,
   "id": "ee3c5a24",
   "metadata": {
    "execution": {
     "iopub.execute_input": "2024-06-16T15:49:27.066510Z",
     "iopub.status.busy": "2024-06-16T15:49:27.066058Z",
     "iopub.status.idle": "2024-06-16T15:49:27.071516Z",
     "shell.execute_reply": "2024-06-16T15:49:27.070541Z"
    },
    "papermill": {
     "duration": 0.06589,
     "end_time": "2024-06-16T15:49:27.073502",
     "exception": false,
     "start_time": "2024-06-16T15:49:27.007612",
     "status": "completed"
    },
    "tags": []
   },
   "outputs": [
    {
     "name": "stdout",
     "output_type": "stream",
     "text": [
      "range: 60.0 to 596.0\n"
     ]
    }
   ],
   "source": [
    "lower_bound = Q1 - 1.5 * IQR \n",
    "upper_bound = Q3 + 1.5 * IQR \n",
    "\n",
    "print(f\"range: {lower_bound} to {upper_bound}\")"
   ]
  },
  {
   "cell_type": "code",
   "execution_count": 96,
   "id": "489925b8",
   "metadata": {
    "execution": {
     "iopub.execute_input": "2024-06-16T15:49:27.188222Z",
     "iopub.status.busy": "2024-06-16T15:49:27.187475Z",
     "iopub.status.idle": "2024-06-16T15:49:27.203376Z",
     "shell.execute_reply": "2024-06-16T15:49:27.202333Z"
    },
    "papermill": {
     "duration": 0.074289,
     "end_time": "2024-06-16T15:49:27.205592",
     "exception": false,
     "start_time": "2024-06-16T15:49:27.131303",
     "status": "completed"
    },
    "tags": []
   },
   "outputs": [
    {
     "name": "stdout",
     "output_type": "stream",
     "text": [
      "Non-outliers: 48754\n",
      "Outliers: 629\n",
      "Percentage of Outliers: 1.2737\n"
     ]
    }
   ],
   "source": [
    "non_outliers = df[ (df[\"horsepower\"] > lower_bound) & (df[\"horsepower\"] < upper_bound) ]\n",
    "\n",
    "num_non_outliers = len(non_outliers)\n",
    "num_outliers = len(df) - num_non_outliers\n",
    "\n",
    "print(f\"Non-outliers: {num_non_outliers}\")\n",
    "print(f\"Outliers: {num_outliers}\")\n",
    "print(f\"Percentage of Outliers: {(num_outliers / len(df) * 100):.4f}\")"
   ]
  },
  {
   "cell_type": "code",
   "execution_count": 97,
   "id": "ce97653b",
   "metadata": {
    "execution": {
     "iopub.execute_input": "2024-06-16T15:49:27.323462Z",
     "iopub.status.busy": "2024-06-16T15:49:27.322747Z",
     "iopub.status.idle": "2024-06-16T15:49:27.328263Z",
     "shell.execute_reply": "2024-06-16T15:49:27.327412Z"
    },
    "papermill": {
     "duration": 0.06542,
     "end_time": "2024-06-16T15:49:27.330401",
     "exception": false,
     "start_time": "2024-06-16T15:49:27.264981",
     "status": "completed"
    },
    "tags": []
   },
   "outputs": [],
   "source": [
    "df = non_outliers"
   ]
  },
  {
   "cell_type": "code",
   "execution_count": 98,
   "id": "ca31cae4",
   "metadata": {
    "execution": {
     "iopub.execute_input": "2024-06-16T15:49:27.449599Z",
     "iopub.status.busy": "2024-06-16T15:49:27.449229Z",
     "iopub.status.idle": "2024-06-16T15:49:27.659587Z",
     "shell.execute_reply": "2024-06-16T15:49:27.658626Z"
    },
    "papermill": {
     "duration": 0.27217,
     "end_time": "2024-06-16T15:49:27.661901",
     "exception": false,
     "start_time": "2024-06-16T15:49:27.389731",
     "status": "completed"
    },
    "tags": []
   },
   "outputs": [
    {
     "data": {
      "text/plain": [
       "<Axes: xlabel='horsepower'>"
      ]
     },
     "execution_count": 98,
     "metadata": {},
     "output_type": "execute_result"
    },
    {
     "data": {
      "image/png": "[encoded data removed]",
      "text/plain": [
       "<Figure size 640x480 with 1 Axes>"
      ]
     },
     "metadata": {},
     "output_type": "display_data"
    }
   ],
   "source": [
    "sns.boxplot(data=df, x=\"horsepower\")"
   ]
  },
  {
   "cell_type": "markdown",
   "id": "bc0d142f",
   "metadata": {
    "papermill": {
     "duration": 0.056332,
     "end_time": "2024-06-16T15:49:27.777826",
     "exception": false,
     "start_time": "2024-06-16T15:49:27.721494",
     "status": "completed"
    },
    "tags": []
   },
   "source": [
    "### Find outliers in displacement"
   ]
  },
  {
   "cell_type": "code",
   "execution_count": 99,
   "id": "daba00fd",
   "metadata": {
    "execution": {
     "iopub.execute_input": "2024-06-16T15:49:27.896090Z",
     "iopub.status.busy": "2024-06-16T15:49:27.895710Z",
     "iopub.status.idle": "2024-06-16T15:49:28.054912Z",
     "shell.execute_reply": "2024-06-16T15:49:28.053667Z"
    },
    "papermill": {
     "duration": 0.223703,
     "end_time": "2024-06-16T15:49:28.059427",
     "exception": false,
     "start_time": "2024-06-16T15:49:27.835724",
     "status": "completed"
    },
    "tags": []
   },
   "outputs": [
    {
     "data": {
      "text/plain": [
       "<Axes: xlabel='displacement'>"
      ]
     },
     "execution_count": 99,
     "metadata": {},
     "output_type": "execute_result"
    },
    {
     "data": {
      "image/png": "[encoded data removed]",
      "text/plain": [
       "<Figure size 640x480 with 1 Axes>"
      ]
     },
     "metadata": {},
     "output_type": "display_data"
    }
   ],
   "source": [
    "sns.boxplot(data=cleaned_df, x=\"displacement\")"
   ]
  },
  {
   "cell_type": "code",
   "execution_count": 100,
   "id": "58fab14a",
   "metadata": {
    "execution": {
     "iopub.execute_input": "2024-06-16T15:49:28.188747Z",
     "iopub.status.busy": "2024-06-16T15:49:28.188030Z",
     "iopub.status.idle": "2024-06-16T15:49:28.198847Z",
     "shell.execute_reply": "2024-06-16T15:49:28.197973Z"
    },
    "papermill": {
     "duration": 0.073554,
     "end_time": "2024-06-16T15:49:28.200947",
     "exception": false,
     "start_time": "2024-06-16T15:49:28.127393",
     "status": "completed"
    },
    "tags": []
   },
   "outputs": [
    {
     "data": {
      "text/plain": [
       "1.5999999999999996"
      ]
     },
     "execution_count": 100,
     "metadata": {},
     "output_type": "execute_result"
    }
   ],
   "source": [
    "# Get IQR \n",
    "Q1 = cleaned_df[\"displacement\"].quantile(0.25)\n",
    "Q3 = cleaned_df[\"displacement\"].quantile(0.75)\n",
    "IQR = Q3 - Q1\n",
    "IQR"
   ]
  },
  {
   "cell_type": "code",
   "execution_count": 101,
   "id": "91f2c4f6",
   "metadata": {
    "execution": {
     "iopub.execute_input": "2024-06-16T15:49:28.321587Z",
     "iopub.status.busy": "2024-06-16T15:49:28.321189Z",
     "iopub.status.idle": "2024-06-16T15:49:28.326745Z",
     "shell.execute_reply": "2024-06-16T15:49:28.325872Z"
    },
    "papermill": {
     "duration": 0.06668,
     "end_time": "2024-06-16T15:49:28.329000",
     "exception": false,
     "start_time": "2024-06-16T15:49:28.262320",
     "status": "completed"
    },
    "tags": []
   },
   "outputs": [
    {
     "name": "stdout",
     "output_type": "stream",
     "text": [
      "range: 0.60 to 7.00\n"
     ]
    }
   ],
   "source": [
    "lower_bound = Q1 - 1.5 * IQR \n",
    "upper_bound = Q3 + 1.5 * IQR \n",
    "\n",
    "print(f\"range: {lower_bound:.2f} to {upper_bound:.2f}\")"
   ]
  },
  {
   "cell_type": "code",
   "execution_count": 102,
   "id": "b3a1c707",
   "metadata": {
    "execution": {
     "iopub.execute_input": "2024-06-16T15:49:28.492834Z",
     "iopub.status.busy": "2024-06-16T15:49:28.492490Z",
     "iopub.status.idle": "2024-06-16T15:49:28.508352Z",
     "shell.execute_reply": "2024-06-16T15:49:28.507098Z"
    },
    "papermill": {
     "duration": 0.076662,
     "end_time": "2024-06-16T15:49:28.510411",
     "exception": false,
     "start_time": "2024-06-16T15:49:28.433749",
     "status": "completed"
    },
    "tags": []
   },
   "outputs": [
    {
     "name": "stdout",
     "output_type": "stream",
     "text": [
      "Non-outliers: 48657\n",
      "Outliers: 97\n",
      "Percentage of Outliers: 0.1990\n"
     ]
    }
   ],
   "source": [
    "non_outliers = df[ (df[\"displacement\"] > lower_bound) & (df[\"displacement\"] < upper_bound) ]\n",
    "\n",
    "num_non_outliers = len(non_outliers)\n",
    "num_outliers = len(df) - num_non_outliers\n",
    "\n",
    "print(f\"Non-outliers: {num_non_outliers}\")\n",
    "print(f\"Outliers: {num_outliers}\")\n",
    "print(f\"Percentage of Outliers: {(num_outliers / len(df) * 100):.4f}\")"
   ]
  },
  {
   "cell_type": "code",
   "execution_count": 103,
   "id": "cd65b13d",
   "metadata": {
    "execution": {
     "iopub.execute_input": "2024-06-16T15:49:28.625098Z",
     "iopub.status.busy": "2024-06-16T15:49:28.624536Z",
     "iopub.status.idle": "2024-06-16T15:49:28.629944Z",
     "shell.execute_reply": "2024-06-16T15:49:28.629094Z"
    },
    "papermill": {
     "duration": 0.065219,
     "end_time": "2024-06-16T15:49:28.632042",
     "exception": false,
     "start_time": "2024-06-16T15:49:28.566823",
     "status": "completed"
    },
    "tags": []
   },
   "outputs": [],
   "source": [
    "df = non_outliers"
   ]
  },
  {
   "cell_type": "code",
   "execution_count": 104,
   "id": "f840c63b",
   "metadata": {
    "execution": {
     "iopub.execute_input": "2024-06-16T15:49:28.749999Z",
     "iopub.status.busy": "2024-06-16T15:49:28.748901Z",
     "iopub.status.idle": "2024-06-16T15:49:28.965076Z",
     "shell.execute_reply": "2024-06-16T15:49:28.964191Z"
    },
    "papermill": {
     "duration": 0.278254,
     "end_time": "2024-06-16T15:49:28.967094",
     "exception": false,
     "start_time": "2024-06-16T15:49:28.688840",
     "status": "completed"
    },
    "tags": []
   },
   "outputs": [
    {
     "data": {
      "text/plain": [
       "<Axes: xlabel='displacement'>"
      ]
     },
     "execution_count": 104,
     "metadata": {},
     "output_type": "execute_result"
    },
    {
     "data": {
      "image/png": "[encoded data removed]",
      "text/plain": [
       "<Figure size 640x480 with 1 Axes>"
      ]
     },
     "metadata": {},
     "output_type": "display_data"
    }
   ],
   "source": [
    "sns.boxplot(data=df, x=\"displacement\")"
   ]
  },
  {
   "cell_type": "markdown",
   "id": "ef3e8fa7",
   "metadata": {
    "papermill": {
     "duration": 0.060939,
     "end_time": "2024-06-16T15:49:29.086742",
     "exception": false,
     "start_time": "2024-06-16T15:49:29.025803",
     "status": "completed"
    },
    "tags": []
   },
   "source": [
    "### Find outliers in displacement"
   ]
  },
  {
   "cell_type": "code",
   "execution_count": 105,
   "id": "bac92180",
   "metadata": {
    "execution": {
     "iopub.execute_input": "2024-06-16T15:49:29.211744Z",
     "iopub.status.busy": "2024-06-16T15:49:29.211009Z",
     "iopub.status.idle": "2024-06-16T15:49:29.453900Z",
     "shell.execute_reply": "2024-06-16T15:49:29.452984Z"
    },
    "papermill": {
     "duration": 0.30702,
     "end_time": "2024-06-16T15:49:29.456318",
     "exception": false,
     "start_time": "2024-06-16T15:49:29.149298",
     "status": "completed"
    },
    "tags": []
   },
   "outputs": [
    {
     "data": {
      "text/plain": [
       "<Axes: xlabel='num_cylinders'>"
      ]
     },
     "execution_count": 105,
     "metadata": {},
     "output_type": "execute_result"
    },
    {
     "data": {
      "image/png": "[encoded data removed]",
      "text/plain": [
       "<Figure size 640x480 with 1 Axes>"
      ]
     },
     "metadata": {},
     "output_type": "display_data"
    }
   ],
   "source": [
    "sns.boxplot(data=cleaned_df, x=\"num_cylinders\")"
   ]
  },
  {
   "cell_type": "code",
   "execution_count": 106,
   "id": "e15a9792",
   "metadata": {
    "execution": {
     "iopub.execute_input": "2024-06-16T15:49:29.573407Z",
     "iopub.status.busy": "2024-06-16T15:49:29.573034Z",
     "iopub.status.idle": "2024-06-16T15:49:29.583552Z",
     "shell.execute_reply": "2024-06-16T15:49:29.582645Z"
    },
    "papermill": {
     "duration": 0.07142,
     "end_time": "2024-06-16T15:49:29.585531",
     "exception": false,
     "start_time": "2024-06-16T15:49:29.514111",
     "status": "completed"
    },
    "tags": []
   },
   "outputs": [
    {
     "data": {
      "text/plain": [
       "2.0"
      ]
     },
     "execution_count": 106,
     "metadata": {},
     "output_type": "execute_result"
    }
   ],
   "source": [
    "# Get IQR \n",
    "Q1 = cleaned_df[\"num_cylinders\"].quantile(0.25)\n",
    "Q3 = cleaned_df[\"num_cylinders\"].quantile(0.75)\n",
    "IQR = Q3 - Q1\n",
    "IQR"
   ]
  },
  {
   "cell_type": "code",
   "execution_count": 107,
   "id": "9853f910",
   "metadata": {
    "execution": {
     "iopub.execute_input": "2024-06-16T15:49:29.704231Z",
     "iopub.status.busy": "2024-06-16T15:49:29.703636Z",
     "iopub.status.idle": "2024-06-16T15:49:29.708974Z",
     "shell.execute_reply": "2024-06-16T15:49:29.708069Z"
    },
    "papermill": {
     "duration": 0.067172,
     "end_time": "2024-06-16T15:49:29.711001",
     "exception": false,
     "start_time": "2024-06-16T15:49:29.643829",
     "status": "completed"
    },
    "tags": []
   },
   "outputs": [
    {
     "name": "stdout",
     "output_type": "stream",
     "text": [
      "range: 3.00 to 11.00\n"
     ]
    }
   ],
   "source": [
    "lower_bound = Q1 - 1.5 * IQR \n",
    "upper_bound = Q3 + 1.5 * IQR \n",
    "\n",
    "print(f\"range: {lower_bound:.2f} to {upper_bound:.2f}\")"
   ]
  },
  {
   "cell_type": "code",
   "execution_count": 108,
   "id": "ecb2e1d3",
   "metadata": {
    "execution": {
     "iopub.execute_input": "2024-06-16T15:49:29.832056Z",
     "iopub.status.busy": "2024-06-16T15:49:29.831418Z",
     "iopub.status.idle": "2024-06-16T15:49:29.847434Z",
     "shell.execute_reply": "2024-06-16T15:49:29.846175Z"
    },
    "papermill": {
     "duration": 0.079295,
     "end_time": "2024-06-16T15:49:29.849567",
     "exception": false,
     "start_time": "2024-06-16T15:49:29.770272",
     "status": "completed"
    },
    "tags": []
   },
   "outputs": [
    {
     "name": "stdout",
     "output_type": "stream",
     "text": [
      "Non-outliers: 48304\n",
      "Outliers: 353\n",
      "Percentage of Outliers: 0.7255\n"
     ]
    }
   ],
   "source": [
    "non_outliers = df[ (df[\"num_cylinders\"] > lower_bound) & (df[\"num_cylinders\"] < upper_bound) ]\n",
    "\n",
    "num_non_outliers = len(non_outliers)\n",
    "num_outliers = len(df) - num_non_outliers\n",
    "\n",
    "print(f\"Non-outliers: {num_non_outliers}\")\n",
    "print(f\"Outliers: {num_outliers}\")\n",
    "print(f\"Percentage of Outliers: {(num_outliers / len(df) * 100):.4f}\")"
   ]
  },
  {
   "cell_type": "code",
   "execution_count": 109,
   "id": "4611562e",
   "metadata": {
    "execution": {
     "iopub.execute_input": "2024-06-16T15:49:29.968656Z",
     "iopub.status.busy": "2024-06-16T15:49:29.967974Z",
     "iopub.status.idle": "2024-06-16T15:49:29.973645Z",
     "shell.execute_reply": "2024-06-16T15:49:29.972739Z"
    },
    "papermill": {
     "duration": 0.068644,
     "end_time": "2024-06-16T15:49:29.975815",
     "exception": false,
     "start_time": "2024-06-16T15:49:29.907171",
     "status": "completed"
    },
    "tags": []
   },
   "outputs": [],
   "source": [
    "df = non_outliers"
   ]
  },
  {
   "cell_type": "code",
   "execution_count": 110,
   "id": "82531ce2",
   "metadata": {
    "execution": {
     "iopub.execute_input": "2024-06-16T15:49:30.097532Z",
     "iopub.status.busy": "2024-06-16T15:49:30.097132Z",
     "iopub.status.idle": "2024-06-16T15:49:30.315583Z",
     "shell.execute_reply": "2024-06-16T15:49:30.314617Z"
    },
    "papermill": {
     "duration": 0.282408,
     "end_time": "2024-06-16T15:49:30.317722",
     "exception": false,
     "start_time": "2024-06-16T15:49:30.035314",
     "status": "completed"
    },
    "tags": []
   },
   "outputs": [
    {
     "data": {
      "text/plain": [
       "<Axes: xlabel='num_cylinders'>"
      ]
     },
     "execution_count": 110,
     "metadata": {},
     "output_type": "execute_result"
    },
    {
     "data": {
      "image/png": "[encoded data removed]",
      "text/plain": [
       "<Figure size 640x480 with 1 Axes>"
      ]
     },
     "metadata": {},
     "output_type": "display_data"
    }
   ],
   "source": [
    "sns.boxplot(data=df, x=\"num_cylinders\")"
   ]
  },
  {
   "cell_type": "markdown",
   "id": "45f2ef4d",
   "metadata": {
    "papermill": {
     "duration": 0.061499,
     "end_time": "2024-06-16T15:49:30.438894",
     "exception": false,
     "start_time": "2024-06-16T15:49:30.377395",
     "status": "completed"
    },
    "tags": []
   },
   "source": []
  },
  {
   "cell_type": "code",
   "execution_count": 111,
   "id": "c8e2f955",
   "metadata": {
    "execution": {
     "iopub.execute_input": "2024-06-16T15:49:30.558001Z",
     "iopub.status.busy": "2024-06-16T15:49:30.557151Z",
     "iopub.status.idle": "2024-06-16T15:49:30.563409Z",
     "shell.execute_reply": "2024-06-16T15:49:30.562555Z"
    },
    "papermill": {
     "duration": 0.068403,
     "end_time": "2024-06-16T15:49:30.565807",
     "exception": false,
     "start_time": "2024-06-16T15:49:30.497404",
     "status": "completed"
    },
    "tags": []
   },
   "outputs": [
    {
     "name": "stdout",
     "output_type": "stream",
     "text": [
      "total data: 54,273\n",
      "total outliers: 5,969\n",
      "data without outliers: 48,304\n",
      "percentage of outliers: 11.00%\n"
     ]
    }
   ],
   "source": [
    "total_data = len(unedited_df)\n",
    "total_outliers = len(unedited_df) - len(df)\n",
    "data_without_outliers = total_data - total_outliers\n",
    "removed_outlier_perc = (total_outliers / total_data) * 100\n",
    "\n",
    "print(f\"total data: {total_data:,}\")\n",
    "print(f\"total outliers: {total_outliers:,}\")\n",
    "print(f\"data without outliers: {data_without_outliers:,}\")\n",
    "print(f\"percentage of outliers: {removed_outlier_perc:.2f}%\")"
   ]
  },
  {
   "cell_type": "code",
   "execution_count": 112,
   "id": "b04c1713",
   "metadata": {
    "execution": {
     "iopub.execute_input": "2024-06-16T15:49:30.686018Z",
     "iopub.status.busy": "2024-06-16T15:49:30.685315Z",
     "iopub.status.idle": "2024-06-16T15:49:30.691289Z",
     "shell.execute_reply": "2024-06-16T15:49:30.690350Z"
    },
    "papermill": {
     "duration": 0.069138,
     "end_time": "2024-06-16T15:49:30.693656",
     "exception": false,
     "start_time": "2024-06-16T15:49:30.624518",
     "status": "completed"
    },
    "tags": []
   },
   "outputs": [
    {
     "data": {
      "text/plain": [
       "9.09247780197688"
      ]
     },
     "execution_count": 112,
     "metadata": {},
     "output_type": "execute_result"
    }
   ],
   "source": [
    "54273 / 5969\n"
   ]
  },
  {
   "cell_type": "code",
   "execution_count": 113,
   "id": "cc74cec7",
   "metadata": {
    "execution": {
     "iopub.execute_input": "2024-06-16T15:49:30.819693Z",
     "iopub.status.busy": "2024-06-16T15:49:30.818797Z",
     "iopub.status.idle": "2024-06-16T15:49:30.837013Z",
     "shell.execute_reply": "2024-06-16T15:49:30.835963Z"
    },
    "papermill": {
     "duration": 0.084125,
     "end_time": "2024-06-16T15:49:30.839546",
     "exception": false,
     "start_time": "2024-06-16T15:49:30.755421",
     "status": "completed"
    },
    "tags": []
   },
   "outputs": [
    {
     "data": {
      "text/html": [
       "<div>\n",
       "<style scoped>\n",
       "    .dataframe tbody tr th:only-of-type {\n",
       "        vertical-align: middle;\n",
       "    }\n",
       "\n",
       "    .dataframe tbody tr th {\n",
       "        vertical-align: top;\n",
       "    }\n",
       "\n",
       "    .dataframe thead th {\n",
       "        text-align: right;\n",
       "    }\n",
       "</style>\n",
       "<table border=\"1\" class=\"dataframe\">\n",
       "  <thead>\n",
       "    <tr style=\"text-align: right;\">\n",
       "      <th></th>\n",
       "      <th>id</th>\n",
       "      <th>brand</th>\n",
       "      <th>model</th>\n",
       "      <th>model_year</th>\n",
       "      <th>milage</th>\n",
       "      <th>fuel_type</th>\n",
       "      <th>transmission</th>\n",
       "      <th>ext_col</th>\n",
       "      <th>int_col</th>\n",
       "      <th>accident</th>\n",
       "      <th>price</th>\n",
       "      <th>horsepower</th>\n",
       "      <th>displacement</th>\n",
       "      <th>num_cylinders</th>\n",
       "      <th>engine_shape</th>\n",
       "    </tr>\n",
       "  </thead>\n",
       "  <tbody>\n",
       "    <tr>\n",
       "      <th>54267</th>\n",
       "      <td>54267</td>\n",
       "      <td>Land</td>\n",
       "      <td>Rover</td>\n",
       "      <td>2020</td>\n",
       "      <td>69000</td>\n",
       "      <td>Hybrid</td>\n",
       "      <td>A/T</td>\n",
       "      <td>White</td>\n",
       "      <td>Black</td>\n",
       "      <td>0</td>\n",
       "      <td>32500</td>\n",
       "      <td>395</td>\n",
       "      <td>3.0</td>\n",
       "      <td>6</td>\n",
       "      <td>I</td>\n",
       "    </tr>\n",
       "    <tr>\n",
       "      <th>54268</th>\n",
       "      <td>54268</td>\n",
       "      <td>BMW</td>\n",
       "      <td>X6</td>\n",
       "      <td>2017</td>\n",
       "      <td>29000</td>\n",
       "      <td>Gasoline</td>\n",
       "      <td>A/T</td>\n",
       "      <td>White</td>\n",
       "      <td>Brown</td>\n",
       "      <td>0</td>\n",
       "      <td>29000</td>\n",
       "      <td>445</td>\n",
       "      <td>4.4</td>\n",
       "      <td>8</td>\n",
       "      <td>I</td>\n",
       "    </tr>\n",
       "    <tr>\n",
       "      <th>54269</th>\n",
       "      <td>54269</td>\n",
       "      <td>Audi</td>\n",
       "      <td>A4</td>\n",
       "      <td>2015</td>\n",
       "      <td>94634</td>\n",
       "      <td>E85 Flex Fuel</td>\n",
       "      <td>A/T</td>\n",
       "      <td>Black</td>\n",
       "      <td>Black</td>\n",
       "      <td>1</td>\n",
       "      <td>6500</td>\n",
       "      <td>220</td>\n",
       "      <td>2.0</td>\n",
       "      <td>4</td>\n",
       "      <td>I</td>\n",
       "    </tr>\n",
       "    <tr>\n",
       "      <th>54270</th>\n",
       "      <td>54270</td>\n",
       "      <td>Porsche</td>\n",
       "      <td>Cayenne</td>\n",
       "      <td>2013</td>\n",
       "      <td>40989</td>\n",
       "      <td>Gasoline</td>\n",
       "      <td>A/T</td>\n",
       "      <td>White</td>\n",
       "      <td>Black</td>\n",
       "      <td>1</td>\n",
       "      <td>18950</td>\n",
       "      <td>420</td>\n",
       "      <td>3.6</td>\n",
       "      <td>6</td>\n",
       "      <td>V</td>\n",
       "    </tr>\n",
       "    <tr>\n",
       "      <th>54272</th>\n",
       "      <td>54272</td>\n",
       "      <td>Audi</td>\n",
       "      <td>A5</td>\n",
       "      <td>2021</td>\n",
       "      <td>35000</td>\n",
       "      <td>Hybrid</td>\n",
       "      <td>A/T</td>\n",
       "      <td>Black</td>\n",
       "      <td>Black</td>\n",
       "      <td>0</td>\n",
       "      <td>37499</td>\n",
       "      <td>261</td>\n",
       "      <td>2.0</td>\n",
       "      <td>4</td>\n",
       "      <td>I</td>\n",
       "    </tr>\n",
       "  </tbody>\n",
       "</table>\n",
       "</div>"
      ],
      "text/plain": [
       "          id    brand    model  model_year  milage      fuel_type  \\\n",
       "54267  54267     Land    Rover        2020   69000         Hybrid   \n",
       "54268  54268      BMW       X6        2017   29000       Gasoline   \n",
       "54269  54269     Audi       A4        2015   94634  E85 Flex Fuel   \n",
       "54270  54270  Porsche  Cayenne        2013   40989       Gasoline   \n",
       "54272  54272     Audi       A5        2021   35000         Hybrid   \n",
       "\n",
       "      transmission ext_col int_col  accident  price  horsepower  displacement  \\\n",
       "54267          A/T   White   Black         0  32500         395           3.0   \n",
       "54268          A/T   White   Brown         0  29000         445           4.4   \n",
       "54269          A/T   Black   Black         1   6500         220           2.0   \n",
       "54270          A/T   White   Black         1  18950         420           3.6   \n",
       "54272          A/T   Black   Black         0  37499         261           2.0   \n",
       "\n",
       "       num_cylinders engine_shape  \n",
       "54267              6            I  \n",
       "54268              8            I  \n",
       "54269              4            I  \n",
       "54270              6            V  \n",
       "54272              4            I  "
      ]
     },
     "execution_count": 113,
     "metadata": {},
     "output_type": "execute_result"
    }
   ],
   "source": [
    "non_outliers.tail()"
   ]
  },
  {
   "cell_type": "code",
   "execution_count": 114,
   "id": "d3a0dad7",
   "metadata": {
    "execution": {
     "iopub.execute_input": "2024-06-16T15:49:30.968636Z",
     "iopub.status.busy": "2024-06-16T15:49:30.967974Z",
     "iopub.status.idle": "2024-06-16T15:49:31.045761Z",
     "shell.execute_reply": "2024-06-16T15:49:31.044749Z"
    },
    "papermill": {
     "duration": 0.141558,
     "end_time": "2024-06-16T15:49:31.048084",
     "exception": false,
     "start_time": "2024-06-16T15:49:30.906526",
     "status": "completed"
    },
    "tags": []
   },
   "outputs": [
    {
     "data": {
      "text/plain": [
       "0.10998102187091185"
      ]
     },
     "execution_count": 114,
     "metadata": {},
     "output_type": "execute_result"
    }
   ],
   "source": [
    "# TEST\n",
    "# df[\"engine\"] = unedited_df[\"engine\"]\n",
    "feature = \"engine\"\n",
    "combined_df = pd.concat([df, test_df])\n",
    "# combined_df[\"engine\"].value_counts().tail(50)\n",
    "\n",
    "# df.groupby(feature).head()\n",
    "combined_df.nunique()\n",
    "\n",
    "# df[\"engine\"].value_counts().head(50)\n",
    "\n",
    "# df[\"horsepower\"] = df[\"engine\"].apply(lambda x: x.split()[0])\n",
    "# df[\"engine\"].value_counts().head(50)\n",
    "\n",
    "\n",
    "# # df.describe()\n",
    "# test_df.loc[df[\"displacement\"] != 'tmp', 'displacement'].value_counts().tail(50)\n",
    "\n",
    "# df.loc[df[\"displacement\"] != 'VALID', 'displacement'].mean()\n",
    "\n",
    "# df.loc[ :, \"displacement\"].tail(50)\n",
    "# df[\"engine\"].tail(50)\n",
    "# df[[\"engine\", \"num_cylinders\"]].head(50)\n",
    "# df[\"ext_col\"].value_counts().head(50)\n",
    "# df[\"ext_col\"].value_counts().head(50)\n",
    "\n",
    "# df.groupby(\"engine_shape\")[\"engine_shape\"].count().sort_values(ascending=False).head(50)\n",
    "# df[\"engine_shape\"].value_counts().tail(50).index\n",
    "\n",
    "# df[\"accident\"].head(50)\n",
    "# combined_df.head(50)\n",
    "\n",
    "1-len(df) / len(unedited_df)"
   ]
  },
  {
   "cell_type": "code",
   "execution_count": 115,
   "id": "f9350f51",
   "metadata": {
    "execution": {
     "iopub.execute_input": "2024-06-16T15:49:31.172373Z",
     "iopub.status.busy": "2024-06-16T15:49:31.171730Z",
     "iopub.status.idle": "2024-06-16T15:49:31.212687Z",
     "shell.execute_reply": "2024-06-16T15:49:31.211713Z"
    },
    "papermill": {
     "duration": 0.104477,
     "end_time": "2024-06-16T15:49:31.215093",
     "exception": false,
     "start_time": "2024-06-16T15:49:31.110616",
     "status": "completed"
    },
    "tags": []
   },
   "outputs": [
    {
     "data": {
      "text/plain": [
       "id               48304\n",
       "brand               50\n",
       "model              478\n",
       "model_year          23\n",
       "milage            3052\n",
       "fuel_type            4\n",
       "transmission         2\n",
       "ext_col             11\n",
       "int_col             10\n",
       "accident             2\n",
       "price             1252\n",
       "horsepower         301\n",
       "displacement        51\n",
       "num_cylinders        5\n",
       "engine_shape         4\n",
       "dtype: int64"
      ]
     },
     "execution_count": 115,
     "metadata": {},
     "output_type": "execute_result"
    }
   ],
   "source": [
    "# unedited_df[\"accident\"].head(50)\n",
    "df.nunique()"
   ]
  },
  {
   "cell_type": "code",
   "execution_count": 116,
   "id": "ac542e53",
   "metadata": {
    "execution": {
     "iopub.execute_input": "2024-06-16T15:49:31.344648Z",
     "iopub.status.busy": "2024-06-16T15:49:31.343871Z",
     "iopub.status.idle": "2024-06-16T15:49:31.350443Z",
     "shell.execute_reply": "2024-06-16T15:49:31.349473Z"
    },
    "papermill": {
     "duration": 0.072442,
     "end_time": "2024-06-16T15:49:31.352675",
     "exception": false,
     "start_time": "2024-06-16T15:49:31.280233",
     "status": "completed"
    },
    "tags": []
   },
   "outputs": [
    {
     "data": {
      "text/plain": [
       "0.002380755216959258"
      ]
     },
     "execution_count": 116,
     "metadata": {},
     "output_type": "execute_result"
    }
   ],
   "source": [
    "115 / len(df) "
   ]
  },
  {
   "cell_type": "code",
   "execution_count": 117,
   "id": "5cdea588",
   "metadata": {
    "execution": {
     "iopub.execute_input": "2024-06-16T15:49:31.478971Z",
     "iopub.status.busy": "2024-06-16T15:49:31.477904Z",
     "iopub.status.idle": "2024-06-16T15:49:31.483975Z",
     "shell.execute_reply": "2024-06-16T15:49:31.483094Z"
    },
    "papermill": {
     "duration": 0.069983,
     "end_time": "2024-06-16T15:49:31.486056",
     "exception": false,
     "start_time": "2024-06-16T15:49:31.416073",
     "status": "completed"
    },
    "tags": []
   },
   "outputs": [
    {
     "data": {
      "text/plain": [
       "33821"
      ]
     },
     "execution_count": 117,
     "metadata": {},
     "output_type": "execute_result"
    }
   ],
   "source": [
    "32734 + 1087"
   ]
  },
  {
   "cell_type": "markdown",
   "id": "6543a9bf",
   "metadata": {
    "papermill": {
     "duration": 0.06121,
     "end_time": "2024-06-16T15:49:31.608008",
     "exception": false,
     "start_time": "2024-06-16T15:49:31.546798",
     "status": "completed"
    },
    "tags": []
   },
   "source": [
    "### Separate Features and Labels"
   ]
  },
  {
   "cell_type": "code",
   "execution_count": 118,
   "id": "108c8dd5",
   "metadata": {
    "execution": {
     "iopub.execute_input": "2024-06-16T15:49:31.733743Z",
     "iopub.status.busy": "2024-06-16T15:49:31.733347Z",
     "iopub.status.idle": "2024-06-16T15:49:31.768750Z",
     "shell.execute_reply": "2024-06-16T15:49:31.767615Z"
    },
    "papermill": {
     "duration": 0.101954,
     "end_time": "2024-06-16T15:49:31.771217",
     "exception": false,
     "start_time": "2024-06-16T15:49:31.669263",
     "status": "completed"
    },
    "tags": []
   },
   "outputs": [
    {
     "data": {
      "text/html": [
       "<div>\n",
       "<style scoped>\n",
       "    .dataframe tbody tr th:only-of-type {\n",
       "        vertical-align: middle;\n",
       "    }\n",
       "\n",
       "    .dataframe tbody tr th {\n",
       "        vertical-align: top;\n",
       "    }\n",
       "\n",
       "    .dataframe thead th {\n",
       "        text-align: right;\n",
       "    }\n",
       "</style>\n",
       "<table border=\"1\" class=\"dataframe\">\n",
       "  <thead>\n",
       "    <tr style=\"text-align: right;\">\n",
       "      <th></th>\n",
       "      <th>brand</th>\n",
       "      <th>model</th>\n",
       "      <th>model_year</th>\n",
       "      <th>milage</th>\n",
       "      <th>fuel_type</th>\n",
       "      <th>transmission</th>\n",
       "      <th>ext_col</th>\n",
       "      <th>int_col</th>\n",
       "      <th>accident</th>\n",
       "      <th>horsepower</th>\n",
       "      <th>displacement</th>\n",
       "      <th>num_cylinders</th>\n",
       "      <th>engine_shape</th>\n",
       "    </tr>\n",
       "  </thead>\n",
       "  <tbody>\n",
       "    <tr>\n",
       "      <th>0</th>\n",
       "      <td>Ford</td>\n",
       "      <td>F-150</td>\n",
       "      <td>2018</td>\n",
       "      <td>74349</td>\n",
       "      <td>Gasoline</td>\n",
       "      <td>A/T</td>\n",
       "      <td>Blue</td>\n",
       "      <td>Gray</td>\n",
       "      <td>0</td>\n",
       "      <td>375</td>\n",
       "      <td>3.5</td>\n",
       "      <td>6</td>\n",
       "      <td>V</td>\n",
       "    </tr>\n",
       "    <tr>\n",
       "      <th>1</th>\n",
       "      <td>BMW</td>\n",
       "      <td>335</td>\n",
       "      <td>2007</td>\n",
       "      <td>80000</td>\n",
       "      <td>Gasoline</td>\n",
       "      <td>M/T</td>\n",
       "      <td>Black</td>\n",
       "      <td>Black</td>\n",
       "      <td>0</td>\n",
       "      <td>300</td>\n",
       "      <td>3.0</td>\n",
       "      <td>6</td>\n",
       "      <td>I</td>\n",
       "    </tr>\n",
       "    <tr>\n",
       "      <th>2</th>\n",
       "      <td>Jaguar</td>\n",
       "      <td>XF</td>\n",
       "      <td>2009</td>\n",
       "      <td>91491</td>\n",
       "      <td>Gasoline</td>\n",
       "      <td>A/T</td>\n",
       "      <td>Purple</td>\n",
       "      <td>Beige</td>\n",
       "      <td>0</td>\n",
       "      <td>300</td>\n",
       "      <td>4.2</td>\n",
       "      <td>8</td>\n",
       "      <td>I</td>\n",
       "    </tr>\n",
       "    <tr>\n",
       "      <th>3</th>\n",
       "      <td>BMW</td>\n",
       "      <td>X7</td>\n",
       "      <td>2022</td>\n",
       "      <td>2437</td>\n",
       "      <td>Hybrid</td>\n",
       "      <td>A/T</td>\n",
       "      <td>Gray</td>\n",
       "      <td>Brown</td>\n",
       "      <td>0</td>\n",
       "      <td>335</td>\n",
       "      <td>3.0</td>\n",
       "      <td>6</td>\n",
       "      <td>I</td>\n",
       "    </tr>\n",
       "    <tr>\n",
       "      <th>5</th>\n",
       "      <td>Acura</td>\n",
       "      <td>Integra</td>\n",
       "      <td>2003</td>\n",
       "      <td>124756</td>\n",
       "      <td>Gasoline</td>\n",
       "      <td>M/T</td>\n",
       "      <td>Red</td>\n",
       "      <td>Beige</td>\n",
       "      <td>1</td>\n",
       "      <td>140</td>\n",
       "      <td>1.8</td>\n",
       "      <td>4</td>\n",
       "      <td>I</td>\n",
       "    </tr>\n",
       "  </tbody>\n",
       "</table>\n",
       "</div>"
      ],
      "text/plain": [
       "    brand    model  model_year  milage fuel_type transmission ext_col int_col  \\\n",
       "0    Ford    F-150        2018   74349  Gasoline          A/T    Blue    Gray   \n",
       "1     BMW      335        2007   80000  Gasoline          M/T   Black   Black   \n",
       "2  Jaguar       XF        2009   91491  Gasoline          A/T  Purple   Beige   \n",
       "3     BMW       X7        2022    2437    Hybrid          A/T    Gray   Brown   \n",
       "5   Acura  Integra        2003  124756  Gasoline          M/T     Red   Beige   \n",
       "\n",
       "   accident  horsepower  displacement  num_cylinders engine_shape  \n",
       "0         0         375           3.5              6            V  \n",
       "1         0         300           3.0              6            I  \n",
       "2         0         300           4.2              8            I  \n",
       "3         0         335           3.0              6            I  \n",
       "5         1         140           1.8              4            I  "
      ]
     },
     "execution_count": 118,
     "metadata": {},
     "output_type": "execute_result"
    }
   ],
   "source": [
    "# Set features similar to the test set only without id column\n",
    "features = df.copy()\n",
    "features.pop(\"id\")\n",
    "\n",
    "# Remove price column in features and save it in labels\n",
    "labels = features.pop(\"price\")\n",
    "features.head()"
   ]
  },
  {
   "cell_type": "code",
   "execution_count": 119,
   "id": "09901669",
   "metadata": {
    "execution": {
     "iopub.execute_input": "2024-06-16T15:49:31.902077Z",
     "iopub.status.busy": "2024-06-16T15:49:31.901698Z",
     "iopub.status.idle": "2024-06-16T15:49:31.909154Z",
     "shell.execute_reply": "2024-06-16T15:49:31.908139Z"
    },
    "papermill": {
     "duration": 0.07566,
     "end_time": "2024-06-16T15:49:31.911518",
     "exception": false,
     "start_time": "2024-06-16T15:49:31.835858",
     "status": "completed"
    },
    "tags": []
   },
   "outputs": [
    {
     "data": {
      "text/plain": [
       "0    11000\n",
       "1     8250\n",
       "2    15000\n",
       "3    63500\n",
       "5     4995\n",
       "Name: price, dtype: int64"
      ]
     },
     "execution_count": 119,
     "metadata": {},
     "output_type": "execute_result"
    }
   ],
   "source": [
    "labels.head()"
   ]
  },
  {
   "cell_type": "markdown",
   "id": "17156422",
   "metadata": {
    "papermill": {
     "duration": 0.063781,
     "end_time": "2024-06-16T15:49:32.037475",
     "exception": false,
     "start_time": "2024-06-16T15:49:31.973694",
     "status": "completed"
    },
    "tags": []
   },
   "source": [
    "## Split Dataset"
   ]
  },
  {
   "cell_type": "code",
   "execution_count": 120,
   "id": "40b53490",
   "metadata": {
    "execution": {
     "iopub.execute_input": "2024-06-16T15:49:32.169444Z",
     "iopub.status.busy": "2024-06-16T15:49:32.168460Z",
     "iopub.status.idle": "2024-06-16T15:49:32.199934Z",
     "shell.execute_reply": "2024-06-16T15:49:32.198906Z"
    },
    "papermill": {
     "duration": 0.10028,
     "end_time": "2024-06-16T15:49:32.202407",
     "exception": false,
     "start_time": "2024-06-16T15:49:32.102127",
     "status": "completed"
    },
    "tags": []
   },
   "outputs": [],
   "source": [
    "# Split the dataset into train (70%) and remain (30%) subsets\n",
    "train_features, remain_features, train_labels, remain_labels = sklearn.model_selection.train_test_split(\n",
    "    features, \n",
    "    labels,\n",
    "    test_size=0.3,\n",
    "    shuffle=True\n",
    ")\n",
    "\n",
    "# Split the remain subset into valid (70%) and test (30%) subset\n",
    "valid_features, test_features, valid_labels, test_labels = sklearn.model_selection.train_test_split(\n",
    "    remain_features, \n",
    "    remain_labels,\n",
    "    test_size=0.3,\n",
    "    shuffle=True\n",
    ")"
   ]
  },
  {
   "cell_type": "code",
   "execution_count": 121,
   "id": "a41b571f",
   "metadata": {
    "execution": {
     "iopub.execute_input": "2024-06-16T15:49:32.332765Z",
     "iopub.status.busy": "2024-06-16T15:49:32.331937Z",
     "iopub.status.idle": "2024-06-16T15:49:32.339959Z",
     "shell.execute_reply": "2024-06-16T15:49:32.339077Z"
    },
    "papermill": {
     "duration": 0.074417,
     "end_time": "2024-06-16T15:49:32.342239",
     "exception": false,
     "start_time": "2024-06-16T15:49:32.267822",
     "status": "completed"
    },
    "tags": []
   },
   "outputs": [
    {
     "name": "stdout",
     "output_type": "stream",
     "text": [
      "Index([30285, 6311, 24104, 49576, 47722], dtype='int64')\n",
      "Index([30285, 6311, 24104, 49576, 47722], dtype='int64')\n",
      "Index([5588, 23043, 29532, 30097, 18332], dtype='int64')\n",
      "Index([5588, 23043, 29532, 30097, 18332], dtype='int64')\n",
      "Index([53737, 30502, 37096, 30957, 51698], dtype='int64')\n",
      "Index([53737, 30502, 37096, 30957, 51698], dtype='int64')\n"
     ]
    }
   ],
   "source": [
    "# Check if indices of features and labels still match\n",
    "print(train_features.head().index)\n",
    "print(train_labels.head().index)\n",
    "\n",
    "print(test_features.head().index)\n",
    "print(test_labels.head().index)\n",
    "\n",
    "print(valid_features.head().index)\n",
    "print(valid_labels.head().index)"
   ]
  },
  {
   "cell_type": "code",
   "execution_count": 122,
   "id": "92c78961",
   "metadata": {
    "execution": {
     "iopub.execute_input": "2024-06-16T15:49:32.470605Z",
     "iopub.status.busy": "2024-06-16T15:49:32.469765Z",
     "iopub.status.idle": "2024-06-16T15:49:32.479357Z",
     "shell.execute_reply": "2024-06-16T15:49:32.478188Z"
    },
    "papermill": {
     "duration": 0.075785,
     "end_time": "2024-06-16T15:49:32.481733",
     "exception": false,
     "start_time": "2024-06-16T15:49:32.405948",
     "status": "completed"
    },
    "tags": []
   },
   "outputs": [
    {
     "name": "stdout",
     "output_type": "stream",
     "text": [
      "33812.799999999996 33812 33812\n",
      "10143.839999999998 10144 10144\n",
      "4347.36 4348 4348\n"
     ]
    },
    {
     "data": {
      "text/plain": [
       "(48304, 48304, 48304)"
      ]
     },
     "execution_count": 122,
     "metadata": {},
     "output_type": "execute_result"
    }
   ],
   "source": [
    "# Check if dataset were split correctly\n",
    "dataset_size = len(df)\n",
    "print(dataset_size * 0.7, len(train_features), len(train_labels))\n",
    "print(dataset_size * 0.3 * 0.7, len(valid_features), len(valid_labels))\n",
    "print(dataset_size * 0.3 * 0.3, len(test_features), len(test_labels))\n",
    "\n",
    "# Check if total of the subsets the same as dataset_size\n",
    "dataset_size, len(train_features) + len(valid_features) + len(test_features), len(train_labels) + len(valid_labels) + len(test_labels)"
   ]
  },
  {
   "cell_type": "code",
   "execution_count": null,
   "id": "eb630dde",
   "metadata": {
    "papermill": {
     "duration": 0.061119,
     "end_time": "2024-06-16T15:49:32.605170",
     "exception": false,
     "start_time": "2024-06-16T15:49:32.544051",
     "status": "completed"
    },
    "tags": []
   },
   "outputs": [],
   "source": []
  },
  {
   "cell_type": "markdown",
   "id": "ae5d2484",
   "metadata": {
    "papermill": {
     "duration": 0.06402,
     "end_time": "2024-06-16T15:49:32.731083",
     "exception": false,
     "start_time": "2024-06-16T15:49:32.667063",
     "status": "completed"
    },
    "tags": []
   },
   "source": [
    "## Build the model"
   ]
  },
  {
   "cell_type": "code",
   "execution_count": 123,
   "id": "03d0c484",
   "metadata": {
    "execution": {
     "iopub.execute_input": "2024-06-16T15:49:32.860168Z",
     "iopub.status.busy": "2024-06-16T15:49:32.859263Z",
     "iopub.status.idle": "2024-06-16T15:49:33.786217Z",
     "shell.execute_reply": "2024-06-16T15:49:33.785226Z"
    },
    "papermill": {
     "duration": 0.994523,
     "end_time": "2024-06-16T15:49:33.788880",
     "exception": false,
     "start_time": "2024-06-16T15:49:32.794357",
     "status": "completed"
    },
    "tags": []
   },
   "outputs": [],
   "source": [
    "model = tf.keras.Sequential(\n",
    "    [\n",
    "        # Input Layer, Normalized Layer Here \n",
    "        tf.keras.layers.Dense(units=128, activation=\"relu\", name=\"Hidden Layer\"),\n",
    "        tf.keras.layers.Dense(units=1, activation=\"softmax\", name=\"Output Layer\"),\n",
    "    ]\n",
    ")\n",
    "\n",
    "\n",
    "\n",
    "model.compile(\n",
    "    optimizer=tf.keras.optimizers.Adam(learning_rate=0.0001),\n",
    "    loss=tf.keras.losses.MeanSquaredError(),\n",
    "    metrics=[tf.keras.metrics.MeanSquaredError()],\n",
    ")"
   ]
  },
  {
   "cell_type": "markdown",
   "id": "841ec262",
   "metadata": {
    "papermill": {
     "duration": 0.062587,
     "end_time": "2024-06-16T15:49:33.914966",
     "exception": false,
     "start_time": "2024-06-16T15:49:33.852379",
     "status": "completed"
    },
    "tags": []
   },
   "source": [
    "## Train Model"
   ]
  },
  {
   "cell_type": "code",
   "execution_count": 124,
   "id": "16625704",
   "metadata": {
    "execution": {
     "iopub.execute_input": "2024-06-16T15:49:34.043763Z",
     "iopub.status.busy": "2024-06-16T15:49:34.042927Z",
     "iopub.status.idle": "2024-06-16T15:49:34.064188Z",
     "shell.execute_reply": "2024-06-16T15:49:34.063172Z"
    },
    "papermill": {
     "duration": 0.088114,
     "end_time": "2024-06-16T15:49:34.066517",
     "exception": false,
     "start_time": "2024-06-16T15:49:33.978403",
     "status": "completed"
    },
    "tags": []
   },
   "outputs": [
    {
     "data": {
      "text/html": [
       "<div>\n",
       "<style scoped>\n",
       "    .dataframe tbody tr th:only-of-type {\n",
       "        vertical-align: middle;\n",
       "    }\n",
       "\n",
       "    .dataframe tbody tr th {\n",
       "        vertical-align: top;\n",
       "    }\n",
       "\n",
       "    .dataframe thead th {\n",
       "        text-align: right;\n",
       "    }\n",
       "</style>\n",
       "<table border=\"1\" class=\"dataframe\">\n",
       "  <thead>\n",
       "    <tr style=\"text-align: right;\">\n",
       "      <th></th>\n",
       "      <th>brand</th>\n",
       "      <th>model</th>\n",
       "      <th>model_year</th>\n",
       "      <th>milage</th>\n",
       "      <th>fuel_type</th>\n",
       "      <th>transmission</th>\n",
       "      <th>ext_col</th>\n",
       "      <th>int_col</th>\n",
       "      <th>accident</th>\n",
       "      <th>horsepower</th>\n",
       "      <th>displacement</th>\n",
       "      <th>num_cylinders</th>\n",
       "      <th>engine_shape</th>\n",
       "    </tr>\n",
       "  </thead>\n",
       "  <tbody>\n",
       "    <tr>\n",
       "      <th>30285</th>\n",
       "      <td>Ford</td>\n",
       "      <td>F-150</td>\n",
       "      <td>2021</td>\n",
       "      <td>86281</td>\n",
       "      <td>Gasoline</td>\n",
       "      <td>A/T</td>\n",
       "      <td>Blue</td>\n",
       "      <td>Black</td>\n",
       "      <td>0</td>\n",
       "      <td>332</td>\n",
       "      <td>2.7</td>\n",
       "      <td>6</td>\n",
       "      <td>V</td>\n",
       "    </tr>\n",
       "    <tr>\n",
       "      <th>6311</th>\n",
       "      <td>Ford</td>\n",
       "      <td>F-250</td>\n",
       "      <td>2008</td>\n",
       "      <td>97700</td>\n",
       "      <td>Gasoline</td>\n",
       "      <td>A/T</td>\n",
       "      <td>Blue</td>\n",
       "      <td>Gray</td>\n",
       "      <td>0</td>\n",
       "      <td>300</td>\n",
       "      <td>5.4</td>\n",
       "      <td>8</td>\n",
       "      <td>I</td>\n",
       "    </tr>\n",
       "    <tr>\n",
       "      <th>24104</th>\n",
       "      <td>Land</td>\n",
       "      <td>Rover</td>\n",
       "      <td>2016</td>\n",
       "      <td>84000</td>\n",
       "      <td>Gasoline</td>\n",
       "      <td>A/T</td>\n",
       "      <td>White</td>\n",
       "      <td>Black</td>\n",
       "      <td>0</td>\n",
       "      <td>240</td>\n",
       "      <td>2.0</td>\n",
       "      <td>4</td>\n",
       "      <td>I</td>\n",
       "    </tr>\n",
       "    <tr>\n",
       "      <th>49576</th>\n",
       "      <td>Ford</td>\n",
       "      <td>F-150</td>\n",
       "      <td>2022</td>\n",
       "      <td>15000</td>\n",
       "      <td>Gasoline</td>\n",
       "      <td>A/T</td>\n",
       "      <td>White</td>\n",
       "      <td>Black</td>\n",
       "      <td>0</td>\n",
       "      <td>450</td>\n",
       "      <td>3.5</td>\n",
       "      <td>6</td>\n",
       "      <td>V</td>\n",
       "    </tr>\n",
       "    <tr>\n",
       "      <th>47722</th>\n",
       "      <td>Cadillac</td>\n",
       "      <td>Escalade</td>\n",
       "      <td>2021</td>\n",
       "      <td>18500</td>\n",
       "      <td>Gasoline</td>\n",
       "      <td>A/T</td>\n",
       "      <td>Black</td>\n",
       "      <td>Black</td>\n",
       "      <td>0</td>\n",
       "      <td>420</td>\n",
       "      <td>6.2</td>\n",
       "      <td>8</td>\n",
       "      <td>I</td>\n",
       "    </tr>\n",
       "    <tr>\n",
       "      <th>...</th>\n",
       "      <td>...</td>\n",
       "      <td>...</td>\n",
       "      <td>...</td>\n",
       "      <td>...</td>\n",
       "      <td>...</td>\n",
       "      <td>...</td>\n",
       "      <td>...</td>\n",
       "      <td>...</td>\n",
       "      <td>...</td>\n",
       "      <td>...</td>\n",
       "      <td>...</td>\n",
       "      <td>...</td>\n",
       "      <td>...</td>\n",
       "    </tr>\n",
       "    <tr>\n",
       "      <th>24035</th>\n",
       "      <td>Kia</td>\n",
       "      <td>Sorento</td>\n",
       "      <td>2022</td>\n",
       "      <td>16400</td>\n",
       "      <td>Hybrid</td>\n",
       "      <td>A/T</td>\n",
       "      <td>Black</td>\n",
       "      <td>Black</td>\n",
       "      <td>0</td>\n",
       "      <td>261</td>\n",
       "      <td>2.0</td>\n",
       "      <td>4</td>\n",
       "      <td>I</td>\n",
       "    </tr>\n",
       "    <tr>\n",
       "      <th>21300</th>\n",
       "      <td>Ford</td>\n",
       "      <td>F-150</td>\n",
       "      <td>2018</td>\n",
       "      <td>51351</td>\n",
       "      <td>Gasoline</td>\n",
       "      <td>A/T</td>\n",
       "      <td>White</td>\n",
       "      <td>Black</td>\n",
       "      <td>0</td>\n",
       "      <td>332</td>\n",
       "      <td>3.5</td>\n",
       "      <td>6</td>\n",
       "      <td>V</td>\n",
       "    </tr>\n",
       "    <tr>\n",
       "      <th>21357</th>\n",
       "      <td>BMW</td>\n",
       "      <td>M3</td>\n",
       "      <td>2015</td>\n",
       "      <td>55000</td>\n",
       "      <td>Gasoline</td>\n",
       "      <td>M/T</td>\n",
       "      <td>Black</td>\n",
       "      <td>Black</td>\n",
       "      <td>0</td>\n",
       "      <td>425</td>\n",
       "      <td>3.0</td>\n",
       "      <td>6</td>\n",
       "      <td>I</td>\n",
       "    </tr>\n",
       "    <tr>\n",
       "      <th>3874</th>\n",
       "      <td>Chevrolet</td>\n",
       "      <td>Camaro</td>\n",
       "      <td>2019</td>\n",
       "      <td>45000</td>\n",
       "      <td>Gasoline</td>\n",
       "      <td>M/T</td>\n",
       "      <td>Gray</td>\n",
       "      <td>Black</td>\n",
       "      <td>0</td>\n",
       "      <td>455</td>\n",
       "      <td>6.2</td>\n",
       "      <td>8</td>\n",
       "      <td>I</td>\n",
       "    </tr>\n",
       "    <tr>\n",
       "      <th>32113</th>\n",
       "      <td>BMW</td>\n",
       "      <td>540</td>\n",
       "      <td>2013</td>\n",
       "      <td>26000</td>\n",
       "      <td>Gasoline</td>\n",
       "      <td>A/T</td>\n",
       "      <td>White</td>\n",
       "      <td>Black</td>\n",
       "      <td>1</td>\n",
       "      <td>335</td>\n",
       "      <td>3.0</td>\n",
       "      <td>6</td>\n",
       "      <td>I</td>\n",
       "    </tr>\n",
       "  </tbody>\n",
       "</table>\n",
       "<p>33812 rows × 13 columns</p>\n",
       "</div>"
      ],
      "text/plain": [
       "           brand     model  model_year  milage fuel_type transmission ext_col  \\\n",
       "30285       Ford     F-150        2021   86281  Gasoline          A/T    Blue   \n",
       "6311        Ford     F-250        2008   97700  Gasoline          A/T    Blue   \n",
       "24104       Land     Rover        2016   84000  Gasoline          A/T   White   \n",
       "49576       Ford     F-150        2022   15000  Gasoline          A/T   White   \n",
       "47722   Cadillac  Escalade        2021   18500  Gasoline          A/T   Black   \n",
       "...          ...       ...         ...     ...       ...          ...     ...   \n",
       "24035        Kia   Sorento        2022   16400    Hybrid          A/T   Black   \n",
       "21300       Ford     F-150        2018   51351  Gasoline          A/T   White   \n",
       "21357        BMW        M3        2015   55000  Gasoline          M/T   Black   \n",
       "3874   Chevrolet    Camaro        2019   45000  Gasoline          M/T    Gray   \n",
       "32113        BMW       540        2013   26000  Gasoline          A/T   White   \n",
       "\n",
       "      int_col  accident  horsepower  displacement  num_cylinders engine_shape  \n",
       "30285   Black         0         332           2.7              6            V  \n",
       "6311     Gray         0         300           5.4              8            I  \n",
       "24104   Black         0         240           2.0              4            I  \n",
       "49576   Black         0         450           3.5              6            V  \n",
       "47722   Black         0         420           6.2              8            I  \n",
       "...       ...       ...         ...           ...            ...          ...  \n",
       "24035   Black         0         261           2.0              4            I  \n",
       "21300   Black         0         332           3.5              6            V  \n",
       "21357   Black         0         425           3.0              6            I  \n",
       "3874    Black         0         455           6.2              8            I  \n",
       "32113   Black         1         335           3.0              6            I  \n",
       "\n",
       "[33812 rows x 13 columns]"
      ]
     },
     "execution_count": 124,
     "metadata": {},
     "output_type": "execute_result"
    }
   ],
   "source": [
    "# View an example of input\n",
    "train_features\n",
    "\n",
    "# Model fit"
   ]
  },
  {
   "cell_type": "markdown",
   "id": "dbe2a1eb",
   "metadata": {
    "papermill": {
     "duration": 0.065146,
     "end_time": "2024-06-16T15:49:34.200680",
     "exception": false,
     "start_time": "2024-06-16T15:49:34.135534",
     "status": "completed"
    },
    "tags": []
   },
   "source": [
    "## Predict"
   ]
  },
  {
   "cell_type": "markdown",
   "id": "a0861182",
   "metadata": {
    "papermill": {
     "duration": 0.063821,
     "end_time": "2024-06-16T15:49:34.328184",
     "exception": false,
     "start_time": "2024-06-16T15:49:34.264363",
     "status": "completed"
    },
    "tags": []
   },
   "source": [
    "TODO\n",
    "- build model\n",
    "- separate engine into different parameters\n",
    "- remove id on train\n",
    "- train model\n",
    "- early stop\n",
    "- graph result\n",
    "- group lines\n",
    "- find outliers"
   ]
  },
  {
   "cell_type": "code",
   "execution_count": 125,
   "id": "54f2b74f",
   "metadata": {
    "execution": {
     "iopub.execute_input": "2024-06-16T15:49:34.459724Z",
     "iopub.status.busy": "2024-06-16T15:49:34.459363Z",
     "iopub.status.idle": "2024-06-16T15:49:34.463691Z",
     "shell.execute_reply": "2024-06-16T15:49:34.462735Z"
    },
    "papermill": {
     "duration": 0.074593,
     "end_time": "2024-06-16T15:49:34.465800",
     "exception": false,
     "start_time": "2024-06-16T15:49:34.391207",
     "status": "completed"
    },
    "tags": []
   },
   "outputs": [],
   "source": [
    "# train_subset.shape"
   ]
  },
  {
   "cell_type": "code",
   "execution_count": 126,
   "id": "ab71d1aa",
   "metadata": {
    "execution": {
     "iopub.execute_input": "2024-06-16T15:49:34.594751Z",
     "iopub.status.busy": "2024-06-16T15:49:34.594267Z",
     "iopub.status.idle": "2024-06-16T15:49:34.598792Z",
     "shell.execute_reply": "2024-06-16T15:49:34.597853Z"
    },
    "papermill": {
     "duration": 0.070856,
     "end_time": "2024-06-16T15:49:34.600861",
     "exception": false,
     "start_time": "2024-06-16T15:49:34.530005",
     "status": "completed"
    },
    "tags": []
   },
   "outputs": [],
   "source": [
    "# valid_subset.shape"
   ]
  },
  {
   "cell_type": "code",
   "execution_count": 127,
   "id": "4b7ce2c9",
   "metadata": {
    "execution": {
     "iopub.execute_input": "2024-06-16T15:49:34.731137Z",
     "iopub.status.busy": "2024-06-16T15:49:34.730410Z",
     "iopub.status.idle": "2024-06-16T15:49:34.734905Z",
     "shell.execute_reply": "2024-06-16T15:49:34.733868Z"
    },
    "papermill": {
     "duration": 0.072413,
     "end_time": "2024-06-16T15:49:34.737262",
     "exception": false,
     "start_time": "2024-06-16T15:49:34.664849",
     "status": "completed"
    },
    "tags": []
   },
   "outputs": [],
   "source": [
    "# test_subset.shape"
   ]
  },
  {
   "cell_type": "code",
   "execution_count": null,
   "id": "6bafd0d4",
   "metadata": {
    "papermill": {
     "duration": 0.064237,
     "end_time": "2024-06-16T15:49:34.865655",
     "exception": false,
     "start_time": "2024-06-16T15:49:34.801418",
     "status": "completed"
    },
    "tags": []
   },
   "outputs": [],
   "source": []
  },
  {
   "cell_type": "code",
   "execution_count": null,
   "id": "1bb1749e",
   "metadata": {
    "papermill": {
     "duration": 0.062687,
     "end_time": "2024-06-16T15:49:34.990447",
     "exception": false,
     "start_time": "2024-06-16T15:49:34.927760",
     "status": "completed"
    },
    "tags": []
   },
   "outputs": [],
   "source": []
  }
 ],
 "metadata": {
  "kaggle": {
   "accelerator": "nvidiaTeslaT4",
   "dataSources": [
    {
     "databundleVersionId": 7461897,
     "sourceId": 67167,
     "sourceType": "competition"
    },
    {
     "datasetId": 5208192,
     "sourceId": 8686686,
     "sourceType": "datasetVersion"
    }
   ],
   "dockerImageVersionId": 30733,
   "isGpuEnabled": true,
   "isInternetEnabled": true,
   "language": "python",
   "sourceType": "notebook"
  },
  "kernelspec": {
   "display_name": "Python 3",
   "language": "python",
   "name": "python3"
  },
  "language_info": {
   "codemirror_mode": {
    "name": "ipython",
    "version": 3
   },
   "file_extension": ".py",
   "mimetype": "text/x-python",
   "name": "python",
   "nbconvert_exporter": "python",
   "pygments_lexer": "ipython3",
   "version": "3.10.13"
  },
  "papermill": {
   "default_parameters": {},
   "duration": 54.606231,
   "end_time": "2024-06-16T15:49:38.134904",
   "environment_variables": {},
   "exception": null,
   "input_path": "__notebook__.ipynb",
   "output_path": "__notebook__.ipynb",
   "parameters": {},
   "start_time": "2024-06-16T15:48:43.528673",
   "version": "2.5.0"
  }
 },
 "nbformat": 4,
 "nbformat_minor": 5
}
