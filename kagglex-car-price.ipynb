{
 "cells": [
  {
   "cell_type": "code",
   "execution_count": 1,
   "id": "85e2358a",
   "metadata": {
    "execution": {
     "iopub.execute_input": "2024-06-14T15:17:26.545940Z",
     "iopub.status.busy": "2024-06-14T15:17:26.545078Z",
     "iopub.status.idle": "2024-06-14T15:17:26.550351Z",
     "shell.execute_reply": "2024-06-14T15:17:26.549467Z"
    },
    "papermill": {
     "duration": 0.016552,
     "end_time": "2024-06-14T15:17:26.552708",
     "exception": false,
     "start_time": "2024-06-14T15:17:26.536156",
     "status": "completed"
    },
    "tags": []
   },
   "outputs": [],
   "source": [
    "# KaggleX Cohert 4 Skill Assessment Challenge"
   ]
  },
  {
   "cell_type": "markdown",
   "id": "1a524a85",
   "metadata": {
    "papermill": {
     "duration": 0.008724,
     "end_time": "2024-06-14T15:17:26.570965",
     "exception": false,
     "start_time": "2024-06-14T15:17:26.562241",
     "status": "completed"
    },
    "tags": []
   },
   "source": [
    "#### import libraries"
   ]
  },
  {
   "cell_type": "code",
   "execution_count": 2,
   "id": "950cfd97",
   "metadata": {
    "_cell_guid": "b1076dfc-b9ad-4769-8c92-a6c4dae69d19",
    "_uuid": "8f2839f25d086af736a60e9eeb907d3b93b6e0e5",
    "execution": {
     "iopub.execute_input": "2024-06-14T15:17:26.585901Z",
     "iopub.status.busy": "2024-06-14T15:17:26.585545Z",
     "iopub.status.idle": "2024-06-14T15:17:38.822916Z",
     "shell.execute_reply": "2024-06-14T15:17:38.822160Z"
    },
    "papermill": {
     "duration": 12.247441,
     "end_time": "2024-06-14T15:17:38.825252",
     "exception": false,
     "start_time": "2024-06-14T15:17:26.577811",
     "status": "completed"
    },
    "tags": []
   },
   "outputs": [
    {
     "name": "stderr",
     "output_type": "stream",
     "text": [
      "2024-06-14 15:17:28.839092: E external/local_xla/xla/stream_executor/cuda/cuda_dnn.cc:9261] Unable to register cuDNN factory: Attempting to register factory for plugin cuDNN when one has already been registered\n",
      "2024-06-14 15:17:28.839193: E external/local_xla/xla/stream_executor/cuda/cuda_fft.cc:607] Unable to register cuFFT factory: Attempting to register factory for plugin cuFFT when one has already been registered\n",
      "2024-06-14 15:17:28.941633: E external/local_xla/xla/stream_executor/cuda/cuda_blas.cc:1515] Unable to register cuBLAS factory: Attempting to register factory for plugin cuBLAS when one has already been registered\n"
     ]
    }
   ],
   "source": [
    "# Import libraries\n",
    "import numpy as np\n",
    "import pandas as pd\n",
    "import tensorflow as tf\n",
    "import sklearn"
   ]
  },
  {
   "cell_type": "markdown",
   "id": "29fb720b",
   "metadata": {
    "papermill": {
     "duration": 0.006526,
     "end_time": "2024-06-14T15:17:38.839000",
     "exception": false,
     "start_time": "2024-06-14T15:17:38.832474",
     "status": "completed"
    },
    "tags": []
   },
   "source": [
    "#### Dataset Paths"
   ]
  },
  {
   "cell_type": "code",
   "execution_count": 3,
   "id": "eef22f16",
   "metadata": {
    "execution": {
     "iopub.execute_input": "2024-06-14T15:17:38.854833Z",
     "iopub.status.busy": "2024-06-14T15:17:38.854330Z",
     "iopub.status.idle": "2024-06-14T15:17:38.858589Z",
     "shell.execute_reply": "2024-06-14T15:17:38.857793Z"
    },
    "papermill": {
     "duration": 0.014719,
     "end_time": "2024-06-14T15:17:38.860410",
     "exception": false,
     "start_time": "2024-06-14T15:17:38.845691",
     "status": "completed"
    },
    "tags": []
   },
   "outputs": [],
   "source": [
    "# Dataset paths\n",
    "train_path = \"/kaggle/input/kagglex-car-price-prediction-dataset/train.csv\"\n",
    "test_path = \"/kaggle/input/kagglex-car-price-prediction-dataset/test.csv\""
   ]
  },
  {
   "cell_type": "code",
   "execution_count": 4,
   "id": "a7c25f5d",
   "metadata": {
    "execution": {
     "iopub.execute_input": "2024-06-14T15:17:38.874703Z",
     "iopub.status.busy": "2024-06-14T15:17:38.874450Z",
     "iopub.status.idle": "2024-06-14T15:17:39.299212Z",
     "shell.execute_reply": "2024-06-14T15:17:39.298434Z"
    },
    "papermill": {
     "duration": 0.434374,
     "end_time": "2024-06-14T15:17:39.301422",
     "exception": false,
     "start_time": "2024-06-14T15:17:38.867048",
     "status": "completed"
    },
    "tags": []
   },
   "outputs": [],
   "source": [
    "train_set = pd.read_csv(train_path)\n",
    "test_set = pd.read_csv(test_path)"
   ]
  },
  {
   "cell_type": "code",
   "execution_count": 5,
   "id": "a15a97e4",
   "metadata": {
    "execution": {
     "iopub.execute_input": "2024-06-14T15:17:39.316527Z",
     "iopub.status.busy": "2024-06-14T15:17:39.316203Z",
     "iopub.status.idle": "2024-06-14T15:17:39.322500Z",
     "shell.execute_reply": "2024-06-14T15:17:39.321666Z"
    },
    "papermill": {
     "duration": 0.015862,
     "end_time": "2024-06-14T15:17:39.324465",
     "exception": false,
     "start_time": "2024-06-14T15:17:39.308603",
     "status": "completed"
    },
    "tags": []
   },
   "outputs": [
    {
     "data": {
      "text/plain": [
       "(54273, 13)"
      ]
     },
     "execution_count": 5,
     "metadata": {},
     "output_type": "execute_result"
    }
   ],
   "source": [
    "train_set.shape"
   ]
  },
  {
   "cell_type": "code",
   "execution_count": 6,
   "id": "1f562f78",
   "metadata": {
    "execution": {
     "iopub.execute_input": "2024-06-14T15:17:39.339169Z",
     "iopub.status.busy": "2024-06-14T15:17:39.338896Z",
     "iopub.status.idle": "2024-06-14T15:17:39.344283Z",
     "shell.execute_reply": "2024-06-14T15:17:39.343420Z"
    },
    "papermill": {
     "duration": 0.014874,
     "end_time": "2024-06-14T15:17:39.346119",
     "exception": false,
     "start_time": "2024-06-14T15:17:39.331245",
     "status": "completed"
    },
    "tags": []
   },
   "outputs": [
    {
     "data": {
      "text/plain": [
       "(36183, 12)"
      ]
     },
     "execution_count": 6,
     "metadata": {},
     "output_type": "execute_result"
    }
   ],
   "source": [
    "test_set.shape"
   ]
  },
  {
   "cell_type": "code",
   "execution_count": 7,
   "id": "b38b4a69",
   "metadata": {
    "execution": {
     "iopub.execute_input": "2024-06-14T15:17:39.361136Z",
     "iopub.status.busy": "2024-06-14T15:17:39.360880Z",
     "iopub.status.idle": "2024-06-14T15:17:39.366237Z",
     "shell.execute_reply": "2024-06-14T15:17:39.365445Z"
    },
    "papermill": {
     "duration": 0.015008,
     "end_time": "2024-06-14T15:17:39.368083",
     "exception": false,
     "start_time": "2024-06-14T15:17:39.353075",
     "status": "completed"
    },
    "tags": []
   },
   "outputs": [
    {
     "data": {
      "text/plain": [
       "10854.9"
      ]
     },
     "execution_count": 7,
     "metadata": {},
     "output_type": "execute_result"
    }
   ],
   "source": [
    "test_set.shape[0] * 0.3"
   ]
  },
  {
   "cell_type": "code",
   "execution_count": 8,
   "id": "e54cc594",
   "metadata": {
    "execution": {
     "iopub.execute_input": "2024-06-14T15:17:39.384209Z",
     "iopub.status.busy": "2024-06-14T15:17:39.383948Z",
     "iopub.status.idle": "2024-06-14T15:17:39.405602Z",
     "shell.execute_reply": "2024-06-14T15:17:39.404749Z"
    },
    "papermill": {
     "duration": 0.031648,
     "end_time": "2024-06-14T15:17:39.407637",
     "exception": false,
     "start_time": "2024-06-14T15:17:39.375989",
     "status": "completed"
    },
    "tags": []
   },
   "outputs": [
    {
     "data": {
      "text/html": [
       "<div>\n",
       "<style scoped>\n",
       "    .dataframe tbody tr th:only-of-type {\n",
       "        vertical-align: middle;\n",
       "    }\n",
       "\n",
       "    .dataframe tbody tr th {\n",
       "        vertical-align: top;\n",
       "    }\n",
       "\n",
       "    .dataframe thead th {\n",
       "        text-align: right;\n",
       "    }\n",
       "</style>\n",
       "<table border=\"1\" class=\"dataframe\">\n",
       "  <thead>\n",
       "    <tr style=\"text-align: right;\">\n",
       "      <th></th>\n",
       "      <th>id</th>\n",
       "      <th>brand</th>\n",
       "      <th>model</th>\n",
       "      <th>model_year</th>\n",
       "      <th>milage</th>\n",
       "      <th>fuel_type</th>\n",
       "      <th>engine</th>\n",
       "      <th>transmission</th>\n",
       "      <th>ext_col</th>\n",
       "      <th>int_col</th>\n",
       "      <th>accident</th>\n",
       "      <th>clean_title</th>\n",
       "      <th>price</th>\n",
       "    </tr>\n",
       "  </thead>\n",
       "  <tbody>\n",
       "    <tr>\n",
       "      <th>0</th>\n",
       "      <td>0</td>\n",
       "      <td>Ford</td>\n",
       "      <td>F-150 Lariat</td>\n",
       "      <td>2018</td>\n",
       "      <td>74349</td>\n",
       "      <td>Gasoline</td>\n",
       "      <td>375.0HP 3.5L V6 Cylinder Engine Gasoline Fuel</td>\n",
       "      <td>10-Speed A/T</td>\n",
       "      <td>Blue</td>\n",
       "      <td>Gray</td>\n",
       "      <td>None reported</td>\n",
       "      <td>Yes</td>\n",
       "      <td>11000</td>\n",
       "    </tr>\n",
       "    <tr>\n",
       "      <th>1</th>\n",
       "      <td>1</td>\n",
       "      <td>BMW</td>\n",
       "      <td>335 i</td>\n",
       "      <td>2007</td>\n",
       "      <td>80000</td>\n",
       "      <td>Gasoline</td>\n",
       "      <td>300.0HP 3.0L Straight 6 Cylinder Engine Gasoli...</td>\n",
       "      <td>6-Speed M/T</td>\n",
       "      <td>Black</td>\n",
       "      <td>Black</td>\n",
       "      <td>None reported</td>\n",
       "      <td>Yes</td>\n",
       "      <td>8250</td>\n",
       "    </tr>\n",
       "    <tr>\n",
       "      <th>2</th>\n",
       "      <td>2</td>\n",
       "      <td>Jaguar</td>\n",
       "      <td>XF Luxury</td>\n",
       "      <td>2009</td>\n",
       "      <td>91491</td>\n",
       "      <td>Gasoline</td>\n",
       "      <td>300.0HP 4.2L 8 Cylinder Engine Gasoline Fuel</td>\n",
       "      <td>6-Speed A/T</td>\n",
       "      <td>Purple</td>\n",
       "      <td>Beige</td>\n",
       "      <td>None reported</td>\n",
       "      <td>Yes</td>\n",
       "      <td>15000</td>\n",
       "    </tr>\n",
       "    <tr>\n",
       "      <th>3</th>\n",
       "      <td>3</td>\n",
       "      <td>BMW</td>\n",
       "      <td>X7 xDrive40i</td>\n",
       "      <td>2022</td>\n",
       "      <td>2437</td>\n",
       "      <td>Hybrid</td>\n",
       "      <td>335.0HP 3.0L Straight 6 Cylinder Engine Gasoli...</td>\n",
       "      <td>Transmission w/Dual Shift Mode</td>\n",
       "      <td>Gray</td>\n",
       "      <td>Brown</td>\n",
       "      <td>None reported</td>\n",
       "      <td>Yes</td>\n",
       "      <td>63500</td>\n",
       "    </tr>\n",
       "    <tr>\n",
       "      <th>4</th>\n",
       "      <td>4</td>\n",
       "      <td>Pontiac</td>\n",
       "      <td>Firebird Base</td>\n",
       "      <td>2001</td>\n",
       "      <td>111000</td>\n",
       "      <td>Gasoline</td>\n",
       "      <td>200.0HP 3.8L V6 Cylinder Engine Gasoline Fuel</td>\n",
       "      <td>A/T</td>\n",
       "      <td>White</td>\n",
       "      <td>Black</td>\n",
       "      <td>None reported</td>\n",
       "      <td>Yes</td>\n",
       "      <td>7850</td>\n",
       "    </tr>\n",
       "  </tbody>\n",
       "</table>\n",
       "</div>"
      ],
      "text/plain": [
       "   id    brand          model  model_year  milage fuel_type  \\\n",
       "0   0     Ford   F-150 Lariat        2018   74349  Gasoline   \n",
       "1   1      BMW          335 i        2007   80000  Gasoline   \n",
       "2   2   Jaguar      XF Luxury        2009   91491  Gasoline   \n",
       "3   3      BMW   X7 xDrive40i        2022    2437    Hybrid   \n",
       "4   4  Pontiac  Firebird Base        2001  111000  Gasoline   \n",
       "\n",
       "                                              engine  \\\n",
       "0      375.0HP 3.5L V6 Cylinder Engine Gasoline Fuel   \n",
       "1  300.0HP 3.0L Straight 6 Cylinder Engine Gasoli...   \n",
       "2       300.0HP 4.2L 8 Cylinder Engine Gasoline Fuel   \n",
       "3  335.0HP 3.0L Straight 6 Cylinder Engine Gasoli...   \n",
       "4      200.0HP 3.8L V6 Cylinder Engine Gasoline Fuel   \n",
       "\n",
       "                     transmission ext_col int_col       accident clean_title  \\\n",
       "0                    10-Speed A/T    Blue    Gray  None reported         Yes   \n",
       "1                     6-Speed M/T   Black   Black  None reported         Yes   \n",
       "2                     6-Speed A/T  Purple   Beige  None reported         Yes   \n",
       "3  Transmission w/Dual Shift Mode    Gray   Brown  None reported         Yes   \n",
       "4                             A/T   White   Black  None reported         Yes   \n",
       "\n",
       "   price  \n",
       "0  11000  \n",
       "1   8250  \n",
       "2  15000  \n",
       "3  63500  \n",
       "4   7850  "
      ]
     },
     "execution_count": 8,
     "metadata": {},
     "output_type": "execute_result"
    }
   ],
   "source": [
    "train_set.head()"
   ]
  },
  {
   "cell_type": "code",
   "execution_count": 9,
   "id": "e5bcb90c",
   "metadata": {
    "execution": {
     "iopub.execute_input": "2024-06-14T15:17:39.424042Z",
     "iopub.status.busy": "2024-06-14T15:17:39.423785Z",
     "iopub.status.idle": "2024-06-14T15:17:39.437620Z",
     "shell.execute_reply": "2024-06-14T15:17:39.436748Z"
    },
    "papermill": {
     "duration": 0.024104,
     "end_time": "2024-06-14T15:17:39.439762",
     "exception": false,
     "start_time": "2024-06-14T15:17:39.415658",
     "status": "completed"
    },
    "tags": []
   },
   "outputs": [
    {
     "data": {
      "text/html": [
       "<div>\n",
       "<style scoped>\n",
       "    .dataframe tbody tr th:only-of-type {\n",
       "        vertical-align: middle;\n",
       "    }\n",
       "\n",
       "    .dataframe tbody tr th {\n",
       "        vertical-align: top;\n",
       "    }\n",
       "\n",
       "    .dataframe thead th {\n",
       "        text-align: right;\n",
       "    }\n",
       "</style>\n",
       "<table border=\"1\" class=\"dataframe\">\n",
       "  <thead>\n",
       "    <tr style=\"text-align: right;\">\n",
       "      <th></th>\n",
       "      <th>id</th>\n",
       "      <th>brand</th>\n",
       "      <th>model</th>\n",
       "      <th>model_year</th>\n",
       "      <th>milage</th>\n",
       "      <th>fuel_type</th>\n",
       "      <th>engine</th>\n",
       "      <th>transmission</th>\n",
       "      <th>ext_col</th>\n",
       "      <th>int_col</th>\n",
       "      <th>accident</th>\n",
       "      <th>clean_title</th>\n",
       "    </tr>\n",
       "  </thead>\n",
       "  <tbody>\n",
       "    <tr>\n",
       "      <th>0</th>\n",
       "      <td>54273</td>\n",
       "      <td>Mercedes-Benz</td>\n",
       "      <td>E-Class E 350</td>\n",
       "      <td>2014</td>\n",
       "      <td>73000</td>\n",
       "      <td>Gasoline</td>\n",
       "      <td>302.0HP 3.5L V6 Cylinder Engine Gasoline Fuel</td>\n",
       "      <td>A/T</td>\n",
       "      <td>White</td>\n",
       "      <td>Beige</td>\n",
       "      <td>None reported</td>\n",
       "      <td>Yes</td>\n",
       "    </tr>\n",
       "    <tr>\n",
       "      <th>1</th>\n",
       "      <td>54274</td>\n",
       "      <td>Lexus</td>\n",
       "      <td>RX 350 Base</td>\n",
       "      <td>2015</td>\n",
       "      <td>128032</td>\n",
       "      <td>Gasoline</td>\n",
       "      <td>275.0HP 3.5L V6 Cylinder Engine Gasoline Fuel</td>\n",
       "      <td>8-Speed A/T</td>\n",
       "      <td>Silver</td>\n",
       "      <td>Black</td>\n",
       "      <td>None reported</td>\n",
       "      <td>Yes</td>\n",
       "    </tr>\n",
       "    <tr>\n",
       "      <th>2</th>\n",
       "      <td>54275</td>\n",
       "      <td>Mercedes-Benz</td>\n",
       "      <td>C-Class C 300</td>\n",
       "      <td>2015</td>\n",
       "      <td>51983</td>\n",
       "      <td>Gasoline</td>\n",
       "      <td>241.0HP 2.0L 4 Cylinder Engine Gasoline Fuel</td>\n",
       "      <td>7-Speed A/T</td>\n",
       "      <td>Blue</td>\n",
       "      <td>White</td>\n",
       "      <td>None reported</td>\n",
       "      <td>Yes</td>\n",
       "    </tr>\n",
       "    <tr>\n",
       "      <th>3</th>\n",
       "      <td>54276</td>\n",
       "      <td>Land</td>\n",
       "      <td>Rover Range Rover 5.0L Supercharged Autobiogra...</td>\n",
       "      <td>2018</td>\n",
       "      <td>29500</td>\n",
       "      <td>Gasoline</td>\n",
       "      <td>518.0HP 5.0L 8 Cylinder Engine Gasoline Fuel</td>\n",
       "      <td>Transmission w/Dual Shift Mode</td>\n",
       "      <td>White</td>\n",
       "      <td>White</td>\n",
       "      <td>At least 1 accident or damage reported</td>\n",
       "      <td>Yes</td>\n",
       "    </tr>\n",
       "    <tr>\n",
       "      <th>4</th>\n",
       "      <td>54277</td>\n",
       "      <td>BMW</td>\n",
       "      <td>X6 xDrive40i</td>\n",
       "      <td>2020</td>\n",
       "      <td>90000</td>\n",
       "      <td>Gasoline</td>\n",
       "      <td>335.0HP 3.0L Straight 6 Cylinder Engine Gasoli...</td>\n",
       "      <td>8-Speed A/T</td>\n",
       "      <td>White</td>\n",
       "      <td>Black</td>\n",
       "      <td>At least 1 accident or damage reported</td>\n",
       "      <td>Yes</td>\n",
       "    </tr>\n",
       "  </tbody>\n",
       "</table>\n",
       "</div>"
      ],
      "text/plain": [
       "      id          brand                                              model  \\\n",
       "0  54273  Mercedes-Benz                                      E-Class E 350   \n",
       "1  54274          Lexus                                        RX 350 Base   \n",
       "2  54275  Mercedes-Benz                                      C-Class C 300   \n",
       "3  54276           Land  Rover Range Rover 5.0L Supercharged Autobiogra...   \n",
       "4  54277            BMW                                       X6 xDrive40i   \n",
       "\n",
       "   model_year  milage fuel_type  \\\n",
       "0        2014   73000  Gasoline   \n",
       "1        2015  128032  Gasoline   \n",
       "2        2015   51983  Gasoline   \n",
       "3        2018   29500  Gasoline   \n",
       "4        2020   90000  Gasoline   \n",
       "\n",
       "                                              engine  \\\n",
       "0      302.0HP 3.5L V6 Cylinder Engine Gasoline Fuel   \n",
       "1      275.0HP 3.5L V6 Cylinder Engine Gasoline Fuel   \n",
       "2       241.0HP 2.0L 4 Cylinder Engine Gasoline Fuel   \n",
       "3       518.0HP 5.0L 8 Cylinder Engine Gasoline Fuel   \n",
       "4  335.0HP 3.0L Straight 6 Cylinder Engine Gasoli...   \n",
       "\n",
       "                     transmission ext_col int_col  \\\n",
       "0                             A/T   White   Beige   \n",
       "1                     8-Speed A/T  Silver   Black   \n",
       "2                     7-Speed A/T    Blue   White   \n",
       "3  Transmission w/Dual Shift Mode   White   White   \n",
       "4                     8-Speed A/T   White   Black   \n",
       "\n",
       "                                 accident clean_title  \n",
       "0                           None reported         Yes  \n",
       "1                           None reported         Yes  \n",
       "2                           None reported         Yes  \n",
       "3  At least 1 accident or damage reported         Yes  \n",
       "4  At least 1 accident or damage reported         Yes  "
      ]
     },
     "execution_count": 9,
     "metadata": {},
     "output_type": "execute_result"
    }
   ],
   "source": [
    "test_set.head()"
   ]
  },
  {
   "cell_type": "code",
   "execution_count": 10,
   "id": "598e5231",
   "metadata": {
    "execution": {
     "iopub.execute_input": "2024-06-14T15:17:39.456887Z",
     "iopub.status.busy": "2024-06-14T15:17:39.456627Z",
     "iopub.status.idle": "2024-06-14T15:17:39.533903Z",
     "shell.execute_reply": "2024-06-14T15:17:39.533091Z"
    },
    "papermill": {
     "duration": 0.087725,
     "end_time": "2024-06-14T15:17:39.535957",
     "exception": false,
     "start_time": "2024-06-14T15:17:39.448232",
     "status": "completed"
    },
    "tags": []
   },
   "outputs": [
    {
     "data": {
      "text/plain": [
       "id              False\n",
       "brand           False\n",
       "model           False\n",
       "model_year      False\n",
       "milage          False\n",
       "fuel_type       False\n",
       "engine          False\n",
       "transmission    False\n",
       "ext_col         False\n",
       "int_col         False\n",
       "accident        False\n",
       "clean_title     False\n",
       "price           False\n",
       "dtype: bool"
      ]
     },
     "execution_count": 10,
     "metadata": {},
     "output_type": "execute_result"
    }
   ],
   "source": [
    "train_set.any().isna()"
   ]
  },
  {
   "cell_type": "code",
   "execution_count": 11,
   "id": "56044d1c",
   "metadata": {
    "execution": {
     "iopub.execute_input": "2024-06-14T15:17:39.552766Z",
     "iopub.status.busy": "2024-06-14T15:17:39.552499Z",
     "iopub.status.idle": "2024-06-14T15:17:39.606169Z",
     "shell.execute_reply": "2024-06-14T15:17:39.605442Z"
    },
    "papermill": {
     "duration": 0.064206,
     "end_time": "2024-06-14T15:17:39.608056",
     "exception": false,
     "start_time": "2024-06-14T15:17:39.543850",
     "status": "completed"
    },
    "tags": []
   },
   "outputs": [
    {
     "data": {
      "text/plain": [
       "id              False\n",
       "brand           False\n",
       "model           False\n",
       "model_year      False\n",
       "milage          False\n",
       "fuel_type       False\n",
       "engine          False\n",
       "transmission    False\n",
       "ext_col         False\n",
       "int_col         False\n",
       "accident        False\n",
       "clean_title     False\n",
       "dtype: bool"
      ]
     },
     "execution_count": 11,
     "metadata": {},
     "output_type": "execute_result"
    }
   ],
   "source": [
    "test_set.any().isna()"
   ]
  },
  {
   "cell_type": "markdown",
   "id": "b2b8e0dd",
   "metadata": {
    "papermill": {
     "duration": 0.007968,
     "end_time": "2024-06-14T15:17:39.624185",
     "exception": false,
     "start_time": "2024-06-14T15:17:39.616217",
     "status": "completed"
    },
    "tags": []
   },
   "source": [
    "## Shuffle Train Set"
   ]
  },
  {
   "cell_type": "markdown",
   "id": "1cb51613",
   "metadata": {
    "papermill": {
     "duration": 0.007949,
     "end_time": "2024-06-14T15:17:39.640185",
     "exception": false,
     "start_time": "2024-06-14T15:17:39.632236",
     "status": "completed"
    },
    "tags": []
   },
   "source": []
  },
  {
   "cell_type": "code",
   "execution_count": 12,
   "id": "0efdc9e7",
   "metadata": {
    "execution": {
     "iopub.execute_input": "2024-06-14T15:17:39.658268Z",
     "iopub.status.busy": "2024-06-14T15:17:39.658000Z",
     "iopub.status.idle": "2024-06-14T15:17:39.691244Z",
     "shell.execute_reply": "2024-06-14T15:17:39.690422Z"
    },
    "papermill": {
     "duration": 0.044209,
     "end_time": "2024-06-14T15:17:39.693116",
     "exception": false,
     "start_time": "2024-06-14T15:17:39.648907",
     "status": "completed"
    },
    "tags": []
   },
   "outputs": [
    {
     "data": {
      "text/html": [
       "<div>\n",
       "<style scoped>\n",
       "    .dataframe tbody tr th:only-of-type {\n",
       "        vertical-align: middle;\n",
       "    }\n",
       "\n",
       "    .dataframe tbody tr th {\n",
       "        vertical-align: top;\n",
       "    }\n",
       "\n",
       "    .dataframe thead th {\n",
       "        text-align: right;\n",
       "    }\n",
       "</style>\n",
       "<table border=\"1\" class=\"dataframe\">\n",
       "  <thead>\n",
       "    <tr style=\"text-align: right;\">\n",
       "      <th></th>\n",
       "      <th>id</th>\n",
       "      <th>brand</th>\n",
       "      <th>model</th>\n",
       "      <th>model_year</th>\n",
       "      <th>milage</th>\n",
       "      <th>fuel_type</th>\n",
       "      <th>engine</th>\n",
       "      <th>transmission</th>\n",
       "      <th>ext_col</th>\n",
       "      <th>int_col</th>\n",
       "      <th>accident</th>\n",
       "      <th>clean_title</th>\n",
       "      <th>price</th>\n",
       "    </tr>\n",
       "  </thead>\n",
       "  <tbody>\n",
       "    <tr>\n",
       "      <th>16363</th>\n",
       "      <td>16363</td>\n",
       "      <td>Buick</td>\n",
       "      <td>LaCrosse CX</td>\n",
       "      <td>2007</td>\n",
       "      <td>215000</td>\n",
       "      <td>Gasoline</td>\n",
       "      <td>200.0HP 3.8L V6 Cylinder Engine Gasoline Fuel</td>\n",
       "      <td>A/T</td>\n",
       "      <td>Red</td>\n",
       "      <td>Gray</td>\n",
       "      <td>At least 1 accident or damage reported</td>\n",
       "      <td>Yes</td>\n",
       "      <td>6500</td>\n",
       "    </tr>\n",
       "    <tr>\n",
       "      <th>397</th>\n",
       "      <td>397</td>\n",
       "      <td>Ford</td>\n",
       "      <td>Mustang GT Premium</td>\n",
       "      <td>2020</td>\n",
       "      <td>35999</td>\n",
       "      <td>Gasoline</td>\n",
       "      <td>460.0HP 5.0L 8 Cylinder Engine Gasoline Fuel</td>\n",
       "      <td>10-Speed A/T</td>\n",
       "      <td>Red</td>\n",
       "      <td>Black</td>\n",
       "      <td>None reported</td>\n",
       "      <td>Yes</td>\n",
       "      <td>35999</td>\n",
       "    </tr>\n",
       "    <tr>\n",
       "      <th>27638</th>\n",
       "      <td>27638</td>\n",
       "      <td>BMW</td>\n",
       "      <td>X5 xDrive35i</td>\n",
       "      <td>2012</td>\n",
       "      <td>75500</td>\n",
       "      <td>Gasoline</td>\n",
       "      <td>300.0HP 3.0L Straight 6 Cylinder Engine Gasoli...</td>\n",
       "      <td>A/T</td>\n",
       "      <td>White</td>\n",
       "      <td>Brown</td>\n",
       "      <td>None reported</td>\n",
       "      <td>Yes</td>\n",
       "      <td>19975</td>\n",
       "    </tr>\n",
       "    <tr>\n",
       "      <th>27721</th>\n",
       "      <td>27721</td>\n",
       "      <td>Audi</td>\n",
       "      <td>A5 2.0T Premium Plus</td>\n",
       "      <td>2018</td>\n",
       "      <td>67035</td>\n",
       "      <td>Gasoline</td>\n",
       "      <td>252.0HP 2.0L 4 Cylinder Engine Gasoline Fuel</td>\n",
       "      <td>7-Speed A/T</td>\n",
       "      <td>Pink</td>\n",
       "      <td>Gray</td>\n",
       "      <td>At least 1 accident or damage reported</td>\n",
       "      <td>Yes</td>\n",
       "      <td>28000</td>\n",
       "    </tr>\n",
       "    <tr>\n",
       "      <th>8915</th>\n",
       "      <td>8915</td>\n",
       "      <td>Dodge</td>\n",
       "      <td>Dakota SLT Quad Cab</td>\n",
       "      <td>2008</td>\n",
       "      <td>163500</td>\n",
       "      <td>Gasoline</td>\n",
       "      <td>210.0HP 3.7L V6 Cylinder Engine Gasoline Fuel</td>\n",
       "      <td>6-Speed A/T</td>\n",
       "      <td>Gray</td>\n",
       "      <td>Black</td>\n",
       "      <td>At least 1 accident or damage reported</td>\n",
       "      <td>Yes</td>\n",
       "      <td>15900</td>\n",
       "    </tr>\n",
       "  </tbody>\n",
       "</table>\n",
       "</div>"
      ],
      "text/plain": [
       "          id  brand                 model  model_year  milage fuel_type  \\\n",
       "16363  16363  Buick           LaCrosse CX        2007  215000  Gasoline   \n",
       "397      397   Ford    Mustang GT Premium        2020   35999  Gasoline   \n",
       "27638  27638    BMW          X5 xDrive35i        2012   75500  Gasoline   \n",
       "27721  27721   Audi  A5 2.0T Premium Plus        2018   67035  Gasoline   \n",
       "8915    8915  Dodge   Dakota SLT Quad Cab        2008  163500  Gasoline   \n",
       "\n",
       "                                                  engine  transmission  \\\n",
       "16363      200.0HP 3.8L V6 Cylinder Engine Gasoline Fuel           A/T   \n",
       "397         460.0HP 5.0L 8 Cylinder Engine Gasoline Fuel  10-Speed A/T   \n",
       "27638  300.0HP 3.0L Straight 6 Cylinder Engine Gasoli...           A/T   \n",
       "27721       252.0HP 2.0L 4 Cylinder Engine Gasoline Fuel   7-Speed A/T   \n",
       "8915       210.0HP 3.7L V6 Cylinder Engine Gasoline Fuel   6-Speed A/T   \n",
       "\n",
       "      ext_col int_col                                accident clean_title  \\\n",
       "16363     Red    Gray  At least 1 accident or damage reported         Yes   \n",
       "397       Red   Black                           None reported         Yes   \n",
       "27638   White   Brown                           None reported         Yes   \n",
       "27721    Pink    Gray  At least 1 accident or damage reported         Yes   \n",
       "8915     Gray   Black  At least 1 accident or damage reported         Yes   \n",
       "\n",
       "       price  \n",
       "16363   6500  \n",
       "397    35999  \n",
       "27638  19975  \n",
       "27721  28000  \n",
       "8915   15900  "
      ]
     },
     "execution_count": 12,
     "metadata": {},
     "output_type": "execute_result"
    }
   ],
   "source": [
    "train_set = train_set.sample(frac=1)\n",
    "train_set.head()"
   ]
  },
  {
   "cell_type": "markdown",
   "id": "ba93f8b8",
   "metadata": {
    "papermill": {
     "duration": 0.007955,
     "end_time": "2024-06-14T15:17:39.709515",
     "exception": false,
     "start_time": "2024-06-14T15:17:39.701560",
     "status": "completed"
    },
    "tags": []
   },
   "source": [
    "## Separate Features and Labels"
   ]
  },
  {
   "cell_type": "code",
   "execution_count": 13,
   "id": "7380f25c",
   "metadata": {
    "execution": {
     "iopub.execute_input": "2024-06-14T15:17:39.727270Z",
     "iopub.status.busy": "2024-06-14T15:17:39.727027Z",
     "iopub.status.idle": "2024-06-14T15:17:39.746718Z",
     "shell.execute_reply": "2024-06-14T15:17:39.745823Z"
    },
    "papermill": {
     "duration": 0.031175,
     "end_time": "2024-06-14T15:17:39.748922",
     "exception": false,
     "start_time": "2024-06-14T15:17:39.717747",
     "status": "completed"
    },
    "tags": []
   },
   "outputs": [
    {
     "data": {
      "text/html": [
       "<div>\n",
       "<style scoped>\n",
       "    .dataframe tbody tr th:only-of-type {\n",
       "        vertical-align: middle;\n",
       "    }\n",
       "\n",
       "    .dataframe tbody tr th {\n",
       "        vertical-align: top;\n",
       "    }\n",
       "\n",
       "    .dataframe thead th {\n",
       "        text-align: right;\n",
       "    }\n",
       "</style>\n",
       "<table border=\"1\" class=\"dataframe\">\n",
       "  <thead>\n",
       "    <tr style=\"text-align: right;\">\n",
       "      <th></th>\n",
       "      <th>brand</th>\n",
       "      <th>model</th>\n",
       "      <th>model_year</th>\n",
       "      <th>milage</th>\n",
       "      <th>fuel_type</th>\n",
       "      <th>engine</th>\n",
       "      <th>transmission</th>\n",
       "      <th>ext_col</th>\n",
       "      <th>int_col</th>\n",
       "      <th>accident</th>\n",
       "      <th>clean_title</th>\n",
       "    </tr>\n",
       "  </thead>\n",
       "  <tbody>\n",
       "    <tr>\n",
       "      <th>16363</th>\n",
       "      <td>Buick</td>\n",
       "      <td>LaCrosse CX</td>\n",
       "      <td>2007</td>\n",
       "      <td>215000</td>\n",
       "      <td>Gasoline</td>\n",
       "      <td>200.0HP 3.8L V6 Cylinder Engine Gasoline Fuel</td>\n",
       "      <td>A/T</td>\n",
       "      <td>Red</td>\n",
       "      <td>Gray</td>\n",
       "      <td>At least 1 accident or damage reported</td>\n",
       "      <td>Yes</td>\n",
       "    </tr>\n",
       "    <tr>\n",
       "      <th>397</th>\n",
       "      <td>Ford</td>\n",
       "      <td>Mustang GT Premium</td>\n",
       "      <td>2020</td>\n",
       "      <td>35999</td>\n",
       "      <td>Gasoline</td>\n",
       "      <td>460.0HP 5.0L 8 Cylinder Engine Gasoline Fuel</td>\n",
       "      <td>10-Speed A/T</td>\n",
       "      <td>Red</td>\n",
       "      <td>Black</td>\n",
       "      <td>None reported</td>\n",
       "      <td>Yes</td>\n",
       "    </tr>\n",
       "    <tr>\n",
       "      <th>27638</th>\n",
       "      <td>BMW</td>\n",
       "      <td>X5 xDrive35i</td>\n",
       "      <td>2012</td>\n",
       "      <td>75500</td>\n",
       "      <td>Gasoline</td>\n",
       "      <td>300.0HP 3.0L Straight 6 Cylinder Engine Gasoli...</td>\n",
       "      <td>A/T</td>\n",
       "      <td>White</td>\n",
       "      <td>Brown</td>\n",
       "      <td>None reported</td>\n",
       "      <td>Yes</td>\n",
       "    </tr>\n",
       "    <tr>\n",
       "      <th>27721</th>\n",
       "      <td>Audi</td>\n",
       "      <td>A5 2.0T Premium Plus</td>\n",
       "      <td>2018</td>\n",
       "      <td>67035</td>\n",
       "      <td>Gasoline</td>\n",
       "      <td>252.0HP 2.0L 4 Cylinder Engine Gasoline Fuel</td>\n",
       "      <td>7-Speed A/T</td>\n",
       "      <td>Pink</td>\n",
       "      <td>Gray</td>\n",
       "      <td>At least 1 accident or damage reported</td>\n",
       "      <td>Yes</td>\n",
       "    </tr>\n",
       "    <tr>\n",
       "      <th>8915</th>\n",
       "      <td>Dodge</td>\n",
       "      <td>Dakota SLT Quad Cab</td>\n",
       "      <td>2008</td>\n",
       "      <td>163500</td>\n",
       "      <td>Gasoline</td>\n",
       "      <td>210.0HP 3.7L V6 Cylinder Engine Gasoline Fuel</td>\n",
       "      <td>6-Speed A/T</td>\n",
       "      <td>Gray</td>\n",
       "      <td>Black</td>\n",
       "      <td>At least 1 accident or damage reported</td>\n",
       "      <td>Yes</td>\n",
       "    </tr>\n",
       "  </tbody>\n",
       "</table>\n",
       "</div>"
      ],
      "text/plain": [
       "       brand                 model  model_year  milage fuel_type  \\\n",
       "16363  Buick           LaCrosse CX        2007  215000  Gasoline   \n",
       "397     Ford    Mustang GT Premium        2020   35999  Gasoline   \n",
       "27638    BMW          X5 xDrive35i        2012   75500  Gasoline   \n",
       "27721   Audi  A5 2.0T Premium Plus        2018   67035  Gasoline   \n",
       "8915   Dodge   Dakota SLT Quad Cab        2008  163500  Gasoline   \n",
       "\n",
       "                                                  engine  transmission  \\\n",
       "16363      200.0HP 3.8L V6 Cylinder Engine Gasoline Fuel           A/T   \n",
       "397         460.0HP 5.0L 8 Cylinder Engine Gasoline Fuel  10-Speed A/T   \n",
       "27638  300.0HP 3.0L Straight 6 Cylinder Engine Gasoli...           A/T   \n",
       "27721       252.0HP 2.0L 4 Cylinder Engine Gasoline Fuel   7-Speed A/T   \n",
       "8915       210.0HP 3.7L V6 Cylinder Engine Gasoline Fuel   6-Speed A/T   \n",
       "\n",
       "      ext_col int_col                                accident clean_title  \n",
       "16363     Red    Gray  At least 1 accident or damage reported         Yes  \n",
       "397       Red   Black                           None reported         Yes  \n",
       "27638   White   Brown                           None reported         Yes  \n",
       "27721    Pink    Gray  At least 1 accident or damage reported         Yes  \n",
       "8915     Gray   Black  At least 1 accident or damage reported         Yes  "
      ]
     },
     "execution_count": 13,
     "metadata": {},
     "output_type": "execute_result"
    }
   ],
   "source": [
    "# Set features similar to the test set only without id column\n",
    "features = train_set.copy()\n",
    "features.pop(\"id\")\n",
    "\n",
    "# Remove price column in features and save it in labels\n",
    "labels = features.pop(\"price\")\n",
    "features.head()"
   ]
  },
  {
   "cell_type": "code",
   "execution_count": 14,
   "id": "28198206",
   "metadata": {
    "execution": {
     "iopub.execute_input": "2024-06-14T15:17:39.767475Z",
     "iopub.status.busy": "2024-06-14T15:17:39.766945Z",
     "iopub.status.idle": "2024-06-14T15:17:39.772839Z",
     "shell.execute_reply": "2024-06-14T15:17:39.772029Z"
    },
    "papermill": {
     "duration": 0.016885,
     "end_time": "2024-06-14T15:17:39.774699",
     "exception": false,
     "start_time": "2024-06-14T15:17:39.757814",
     "status": "completed"
    },
    "tags": []
   },
   "outputs": [
    {
     "data": {
      "text/plain": [
       "16363     6500\n",
       "397      35999\n",
       "27638    19975\n",
       "27721    28000\n",
       "8915     15900\n",
       "Name: price, dtype: int64"
      ]
     },
     "execution_count": 14,
     "metadata": {},
     "output_type": "execute_result"
    }
   ],
   "source": [
    "labels.head()"
   ]
  },
  {
   "cell_type": "markdown",
   "id": "f5812180",
   "metadata": {
    "papermill": {
     "duration": 0.008415,
     "end_time": "2024-06-14T15:17:39.791744",
     "exception": false,
     "start_time": "2024-06-14T15:17:39.783329",
     "status": "completed"
    },
    "tags": []
   },
   "source": [
    "## Split Train Set"
   ]
  },
  {
   "cell_type": "code",
   "execution_count": 15,
   "id": "a01c9e09",
   "metadata": {
    "execution": {
     "iopub.execute_input": "2024-06-14T15:17:39.809877Z",
     "iopub.status.busy": "2024-06-14T15:17:39.809621Z",
     "iopub.status.idle": "2024-06-14T15:17:39.813525Z",
     "shell.execute_reply": "2024-06-14T15:17:39.812607Z"
    },
    "papermill": {
     "duration": 0.015368,
     "end_time": "2024-06-14T15:17:39.815605",
     "exception": false,
     "start_time": "2024-06-14T15:17:39.800237",
     "status": "completed"
    },
    "tags": []
   },
   "outputs": [],
   "source": [
    "# sklearn.model_selection.train_test_split(\n",
    "#     features, \n",
    "#     labels\n",
    "# )\n",
    "# valid_subset,\n",
    "# valid_subset = train_set.sample(frac=0.2)\n",
    "# test_subset = train_set.sample(frac=0.1)\n",
    "# train_subset = train_set.sample(frac=0.7)\n",
    "\n",
    "\n"
   ]
  },
  {
   "cell_type": "markdown",
   "id": "8d9952a7",
   "metadata": {
    "papermill": {
     "duration": 0.008586,
     "end_time": "2024-06-14T15:17:39.833130",
     "exception": false,
     "start_time": "2024-06-14T15:17:39.824544",
     "status": "completed"
    },
    "tags": []
   },
   "source": [
    "TODO\n",
    "- split train into train and valid (70/30)\n",
    "- separate engine into different parameters\n",
    "- remove id on train\n",
    "- train model\n",
    "- group lines"
   ]
  },
  {
   "cell_type": "code",
   "execution_count": 16,
   "id": "c19cf264",
   "metadata": {
    "execution": {
     "iopub.execute_input": "2024-06-14T15:17:39.851922Z",
     "iopub.status.busy": "2024-06-14T15:17:39.851656Z",
     "iopub.status.idle": "2024-06-14T15:17:39.856088Z",
     "shell.execute_reply": "2024-06-14T15:17:39.854929Z"
    },
    "papermill": {
     "duration": 0.016112,
     "end_time": "2024-06-14T15:17:39.858190",
     "exception": false,
     "start_time": "2024-06-14T15:17:39.842078",
     "status": "completed"
    },
    "tags": []
   },
   "outputs": [],
   "source": [
    "# train_subset.shape"
   ]
  },
  {
   "cell_type": "code",
   "execution_count": 17,
   "id": "1c954f36",
   "metadata": {
    "execution": {
     "iopub.execute_input": "2024-06-14T15:17:39.876990Z",
     "iopub.status.busy": "2024-06-14T15:17:39.876208Z",
     "iopub.status.idle": "2024-06-14T15:17:39.879837Z",
     "shell.execute_reply": "2024-06-14T15:17:39.879083Z"
    },
    "papermill": {
     "duration": 0.014824,
     "end_time": "2024-06-14T15:17:39.881751",
     "exception": false,
     "start_time": "2024-06-14T15:17:39.866927",
     "status": "completed"
    },
    "tags": []
   },
   "outputs": [],
   "source": [
    "# valid_subset.shape"
   ]
  },
  {
   "cell_type": "code",
   "execution_count": 18,
   "id": "6a0867c0",
   "metadata": {
    "execution": {
     "iopub.execute_input": "2024-06-14T15:17:39.900096Z",
     "iopub.status.busy": "2024-06-14T15:17:39.899837Z",
     "iopub.status.idle": "2024-06-14T15:17:39.903518Z",
     "shell.execute_reply": "2024-06-14T15:17:39.902645Z"
    },
    "papermill": {
     "duration": 0.01498,
     "end_time": "2024-06-14T15:17:39.905468",
     "exception": false,
     "start_time": "2024-06-14T15:17:39.890488",
     "status": "completed"
    },
    "tags": []
   },
   "outputs": [],
   "source": [
    "# test_subset.shape"
   ]
  },
  {
   "cell_type": "code",
   "execution_count": null,
   "id": "3b83038f",
   "metadata": {
    "papermill": {
     "duration": 0.008559,
     "end_time": "2024-06-14T15:17:39.922763",
     "exception": false,
     "start_time": "2024-06-14T15:17:39.914204",
     "status": "completed"
    },
    "tags": []
   },
   "outputs": [],
   "source": []
  },
  {
   "cell_type": "code",
   "execution_count": null,
   "id": "7bc361e4",
   "metadata": {
    "papermill": {
     "duration": 0.008475,
     "end_time": "2024-06-14T15:17:39.939986",
     "exception": false,
     "start_time": "2024-06-14T15:17:39.931511",
     "status": "completed"
    },
    "tags": []
   },
   "outputs": [],
   "source": []
  }
 ],
 "metadata": {
  "kaggle": {
   "accelerator": "nvidiaTeslaT4",
   "dataSources": [
    {
     "databundleVersionId": 7461897,
     "sourceId": 67167,
     "sourceType": "competition"
    },
    {
     "datasetId": 5208192,
     "sourceId": 8686686,
     "sourceType": "datasetVersion"
    }
   ],
   "dockerImageVersionId": 30733,
   "isGpuEnabled": true,
   "isInternetEnabled": true,
   "language": "python",
   "sourceType": "notebook"
  },
  "kernelspec": {
   "display_name": "Python 3",
   "language": "python",
   "name": "python3"
  },
  "language_info": {
   "codemirror_mode": {
    "name": "ipython",
    "version": 3
   },
   "file_extension": ".py",
   "mimetype": "text/x-python",
   "name": "python",
   "nbconvert_exporter": "python",
   "pygments_lexer": "ipython3",
   "version": "3.10.13"
  },
  "papermill": {
   "default_parameters": {},
   "duration": 17.664738,
   "end_time": "2024-06-14T15:17:41.470716",
   "environment_variables": {},
   "exception": null,
   "input_path": "__notebook__.ipynb",
   "output_path": "__notebook__.ipynb",
   "parameters": {},
   "start_time": "2024-06-14T15:17:23.805978",
   "version": "2.5.0"
  }
 },
 "nbformat": 4,
 "nbformat_minor": 5
}
