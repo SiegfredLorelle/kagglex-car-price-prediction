{
 "cells": [
  {
   "cell_type": "code",
   "execution_count": 1,
   "id": "98f9d81a",
   "metadata": {
    "execution": {
     "iopub.execute_input": "2024-06-14T16:51:22.882390Z",
     "iopub.status.busy": "2024-06-14T16:51:22.881819Z",
     "iopub.status.idle": "2024-06-14T16:51:22.886675Z",
     "shell.execute_reply": "2024-06-14T16:51:22.885771Z"
    },
    "papermill": {
     "duration": 0.017517,
     "end_time": "2024-06-14T16:51:22.888503",
     "exception": false,
     "start_time": "2024-06-14T16:51:22.870986",
     "status": "completed"
    },
    "tags": []
   },
   "outputs": [],
   "source": [
    "# KaggleX Cohert 4 Skill Assessment Challenge"
   ]
  },
  {
   "cell_type": "markdown",
   "id": "630225cb",
   "metadata": {
    "papermill": {
     "duration": 0.008102,
     "end_time": "2024-06-14T16:51:22.904885",
     "exception": false,
     "start_time": "2024-06-14T16:51:22.896783",
     "status": "completed"
    },
    "tags": []
   },
   "source": [
    "#### import libraries"
   ]
  },
  {
   "cell_type": "code",
   "execution_count": 2,
   "id": "114fb681",
   "metadata": {
    "_cell_guid": "b1076dfc-b9ad-4769-8c92-a6c4dae69d19",
    "_uuid": "8f2839f25d086af736a60e9eeb907d3b93b6e0e5",
    "execution": {
     "iopub.execute_input": "2024-06-14T16:51:22.922316Z",
     "iopub.status.busy": "2024-06-14T16:51:22.922040Z",
     "iopub.status.idle": "2024-06-14T16:51:35.936342Z",
     "shell.execute_reply": "2024-06-14T16:51:35.935448Z"
    },
    "papermill": {
     "duration": 13.02556,
     "end_time": "2024-06-14T16:51:35.938641",
     "exception": false,
     "start_time": "2024-06-14T16:51:22.913081",
     "status": "completed"
    },
    "tags": []
   },
   "outputs": [
    {
     "name": "stderr",
     "output_type": "stream",
     "text": [
      "2024-06-14 16:51:25.403729: E external/local_xla/xla/stream_executor/cuda/cuda_dnn.cc:9261] Unable to register cuDNN factory: Attempting to register factory for plugin cuDNN when one has already been registered\n",
      "2024-06-14 16:51:25.403825: E external/local_xla/xla/stream_executor/cuda/cuda_fft.cc:607] Unable to register cuFFT factory: Attempting to register factory for plugin cuFFT when one has already been registered\n",
      "2024-06-14 16:51:25.542977: E external/local_xla/xla/stream_executor/cuda/cuda_blas.cc:1515] Unable to register cuBLAS factory: Attempting to register factory for plugin cuBLAS when one has already been registered\n"
     ]
    }
   ],
   "source": [
    "# Import libraries\n",
    "import numpy as np\n",
    "import pandas as pd\n",
    "import tensorflow as tf\n",
    "import sklearn\n",
    "from sklearn.model_selection import train_test_split"
   ]
  },
  {
   "cell_type": "markdown",
   "id": "91b8efa4",
   "metadata": {
    "papermill": {
     "duration": 0.008329,
     "end_time": "2024-06-14T16:51:35.955954",
     "exception": false,
     "start_time": "2024-06-14T16:51:35.947625",
     "status": "completed"
    },
    "tags": []
   },
   "source": [
    "#### Dataset Paths"
   ]
  },
  {
   "cell_type": "code",
   "execution_count": 3,
   "id": "af117833",
   "metadata": {
    "execution": {
     "iopub.execute_input": "2024-06-14T16:51:35.974443Z",
     "iopub.status.busy": "2024-06-14T16:51:35.973922Z",
     "iopub.status.idle": "2024-06-14T16:51:35.978282Z",
     "shell.execute_reply": "2024-06-14T16:51:35.977481Z"
    },
    "papermill": {
     "duration": 0.015973,
     "end_time": "2024-06-14T16:51:35.980225",
     "exception": false,
     "start_time": "2024-06-14T16:51:35.964252",
     "status": "completed"
    },
    "tags": []
   },
   "outputs": [],
   "source": [
    "# Dataset paths\n",
    "train_path = \"/kaggle/input/kagglex-car-price-prediction-dataset/train.csv\"\n",
    "test_path = \"/kaggle/input/kagglex-car-price-prediction-dataset/test.csv\""
   ]
  },
  {
   "cell_type": "code",
   "execution_count": 4,
   "id": "cbcee44e",
   "metadata": {
    "execution": {
     "iopub.execute_input": "2024-06-14T16:51:35.998769Z",
     "iopub.status.busy": "2024-06-14T16:51:35.998301Z",
     "iopub.status.idle": "2024-06-14T16:51:36.416540Z",
     "shell.execute_reply": "2024-06-14T16:51:36.415715Z"
    },
    "papermill": {
     "duration": 0.430349,
     "end_time": "2024-06-14T16:51:36.419091",
     "exception": false,
     "start_time": "2024-06-14T16:51:35.988742",
     "status": "completed"
    },
    "tags": []
   },
   "outputs": [],
   "source": [
    "train_set = pd.read_csv(train_path)\n",
    "test_set = pd.read_csv(test_path)"
   ]
  },
  {
   "cell_type": "code",
   "execution_count": 5,
   "id": "03b75f79",
   "metadata": {
    "execution": {
     "iopub.execute_input": "2024-06-14T16:51:36.439560Z",
     "iopub.status.busy": "2024-06-14T16:51:36.439233Z",
     "iopub.status.idle": "2024-06-14T16:51:36.446531Z",
     "shell.execute_reply": "2024-06-14T16:51:36.445541Z"
    },
    "papermill": {
     "duration": 0.020458,
     "end_time": "2024-06-14T16:51:36.448738",
     "exception": false,
     "start_time": "2024-06-14T16:51:36.428280",
     "status": "completed"
    },
    "tags": []
   },
   "outputs": [
    {
     "data": {
      "text/plain": [
       "(54273, 13)"
      ]
     },
     "execution_count": 5,
     "metadata": {},
     "output_type": "execute_result"
    }
   ],
   "source": [
    "train_set.shape"
   ]
  },
  {
   "cell_type": "code",
   "execution_count": 6,
   "id": "49791c71",
   "metadata": {
    "execution": {
     "iopub.execute_input": "2024-06-14T16:51:36.468750Z",
     "iopub.status.busy": "2024-06-14T16:51:36.468068Z",
     "iopub.status.idle": "2024-06-14T16:51:36.473609Z",
     "shell.execute_reply": "2024-06-14T16:51:36.472715Z"
    },
    "papermill": {
     "duration": 0.018073,
     "end_time": "2024-06-14T16:51:36.475858",
     "exception": false,
     "start_time": "2024-06-14T16:51:36.457785",
     "status": "completed"
    },
    "tags": []
   },
   "outputs": [
    {
     "data": {
      "text/plain": [
       "(36183, 12)"
      ]
     },
     "execution_count": 6,
     "metadata": {},
     "output_type": "execute_result"
    }
   ],
   "source": [
    "test_set.shape"
   ]
  },
  {
   "cell_type": "code",
   "execution_count": 7,
   "id": "c2b82432",
   "metadata": {
    "execution": {
     "iopub.execute_input": "2024-06-14T16:51:36.496219Z",
     "iopub.status.busy": "2024-06-14T16:51:36.495721Z",
     "iopub.status.idle": "2024-06-14T16:51:36.501411Z",
     "shell.execute_reply": "2024-06-14T16:51:36.500512Z"
    },
    "papermill": {
     "duration": 0.018177,
     "end_time": "2024-06-14T16:51:36.503556",
     "exception": false,
     "start_time": "2024-06-14T16:51:36.485379",
     "status": "completed"
    },
    "tags": []
   },
   "outputs": [
    {
     "data": {
      "text/plain": [
       "10854.9"
      ]
     },
     "execution_count": 7,
     "metadata": {},
     "output_type": "execute_result"
    }
   ],
   "source": [
    "test_set.shape[0] * 0.3"
   ]
  },
  {
   "cell_type": "code",
   "execution_count": 8,
   "id": "40abca06",
   "metadata": {
    "execution": {
     "iopub.execute_input": "2024-06-14T16:51:36.523856Z",
     "iopub.status.busy": "2024-06-14T16:51:36.523174Z",
     "iopub.status.idle": "2024-06-14T16:51:36.728207Z",
     "shell.execute_reply": "2024-06-14T16:51:36.727327Z"
    },
    "papermill": {
     "duration": 0.217131,
     "end_time": "2024-06-14T16:51:36.730311",
     "exception": false,
     "start_time": "2024-06-14T16:51:36.513180",
     "status": "completed"
    },
    "tags": []
   },
   "outputs": [
    {
     "data": {
      "text/html": [
       "<div>\n",
       "<style scoped>\n",
       "    .dataframe tbody tr th:only-of-type {\n",
       "        vertical-align: middle;\n",
       "    }\n",
       "\n",
       "    .dataframe tbody tr th {\n",
       "        vertical-align: top;\n",
       "    }\n",
       "\n",
       "    .dataframe thead th {\n",
       "        text-align: right;\n",
       "    }\n",
       "</style>\n",
       "<table border=\"1\" class=\"dataframe\">\n",
       "  <thead>\n",
       "    <tr style=\"text-align: right;\">\n",
       "      <th></th>\n",
       "      <th>id</th>\n",
       "      <th>brand</th>\n",
       "      <th>model</th>\n",
       "      <th>model_year</th>\n",
       "      <th>milage</th>\n",
       "      <th>fuel_type</th>\n",
       "      <th>engine</th>\n",
       "      <th>transmission</th>\n",
       "      <th>ext_col</th>\n",
       "      <th>int_col</th>\n",
       "      <th>accident</th>\n",
       "      <th>clean_title</th>\n",
       "      <th>price</th>\n",
       "    </tr>\n",
       "  </thead>\n",
       "  <tbody>\n",
       "    <tr>\n",
       "      <th>0</th>\n",
       "      <td>0</td>\n",
       "      <td>Ford</td>\n",
       "      <td>F-150 Lariat</td>\n",
       "      <td>2018</td>\n",
       "      <td>74349</td>\n",
       "      <td>Gasoline</td>\n",
       "      <td>375.0HP 3.5L V6 Cylinder Engine Gasoline Fuel</td>\n",
       "      <td>10-Speed A/T</td>\n",
       "      <td>Blue</td>\n",
       "      <td>Gray</td>\n",
       "      <td>None reported</td>\n",
       "      <td>Yes</td>\n",
       "      <td>11000</td>\n",
       "    </tr>\n",
       "    <tr>\n",
       "      <th>1</th>\n",
       "      <td>1</td>\n",
       "      <td>BMW</td>\n",
       "      <td>335 i</td>\n",
       "      <td>2007</td>\n",
       "      <td>80000</td>\n",
       "      <td>Gasoline</td>\n",
       "      <td>300.0HP 3.0L Straight 6 Cylinder Engine Gasoli...</td>\n",
       "      <td>6-Speed M/T</td>\n",
       "      <td>Black</td>\n",
       "      <td>Black</td>\n",
       "      <td>None reported</td>\n",
       "      <td>Yes</td>\n",
       "      <td>8250</td>\n",
       "    </tr>\n",
       "    <tr>\n",
       "      <th>2</th>\n",
       "      <td>2</td>\n",
       "      <td>Jaguar</td>\n",
       "      <td>XF Luxury</td>\n",
       "      <td>2009</td>\n",
       "      <td>91491</td>\n",
       "      <td>Gasoline</td>\n",
       "      <td>300.0HP 4.2L 8 Cylinder Engine Gasoline Fuel</td>\n",
       "      <td>6-Speed A/T</td>\n",
       "      <td>Purple</td>\n",
       "      <td>Beige</td>\n",
       "      <td>None reported</td>\n",
       "      <td>Yes</td>\n",
       "      <td>15000</td>\n",
       "    </tr>\n",
       "    <tr>\n",
       "      <th>3</th>\n",
       "      <td>3</td>\n",
       "      <td>BMW</td>\n",
       "      <td>X7 xDrive40i</td>\n",
       "      <td>2022</td>\n",
       "      <td>2437</td>\n",
       "      <td>Hybrid</td>\n",
       "      <td>335.0HP 3.0L Straight 6 Cylinder Engine Gasoli...</td>\n",
       "      <td>Transmission w/Dual Shift Mode</td>\n",
       "      <td>Gray</td>\n",
       "      <td>Brown</td>\n",
       "      <td>None reported</td>\n",
       "      <td>Yes</td>\n",
       "      <td>63500</td>\n",
       "    </tr>\n",
       "    <tr>\n",
       "      <th>4</th>\n",
       "      <td>4</td>\n",
       "      <td>Pontiac</td>\n",
       "      <td>Firebird Base</td>\n",
       "      <td>2001</td>\n",
       "      <td>111000</td>\n",
       "      <td>Gasoline</td>\n",
       "      <td>200.0HP 3.8L V6 Cylinder Engine Gasoline Fuel</td>\n",
       "      <td>A/T</td>\n",
       "      <td>White</td>\n",
       "      <td>Black</td>\n",
       "      <td>None reported</td>\n",
       "      <td>Yes</td>\n",
       "      <td>7850</td>\n",
       "    </tr>\n",
       "  </tbody>\n",
       "</table>\n",
       "</div>"
      ],
      "text/plain": [
       "   id    brand          model  model_year  milage fuel_type  \\\n",
       "0   0     Ford   F-150 Lariat        2018   74349  Gasoline   \n",
       "1   1      BMW          335 i        2007   80000  Gasoline   \n",
       "2   2   Jaguar      XF Luxury        2009   91491  Gasoline   \n",
       "3   3      BMW   X7 xDrive40i        2022    2437    Hybrid   \n",
       "4   4  Pontiac  Firebird Base        2001  111000  Gasoline   \n",
       "\n",
       "                                              engine  \\\n",
       "0      375.0HP 3.5L V6 Cylinder Engine Gasoline Fuel   \n",
       "1  300.0HP 3.0L Straight 6 Cylinder Engine Gasoli...   \n",
       "2       300.0HP 4.2L 8 Cylinder Engine Gasoline Fuel   \n",
       "3  335.0HP 3.0L Straight 6 Cylinder Engine Gasoli...   \n",
       "4      200.0HP 3.8L V6 Cylinder Engine Gasoline Fuel   \n",
       "\n",
       "                     transmission ext_col int_col       accident clean_title  \\\n",
       "0                    10-Speed A/T    Blue    Gray  None reported         Yes   \n",
       "1                     6-Speed M/T   Black   Black  None reported         Yes   \n",
       "2                     6-Speed A/T  Purple   Beige  None reported         Yes   \n",
       "3  Transmission w/Dual Shift Mode    Gray   Brown  None reported         Yes   \n",
       "4                             A/T   White   Black  None reported         Yes   \n",
       "\n",
       "   price  \n",
       "0  11000  \n",
       "1   8250  \n",
       "2  15000  \n",
       "3  63500  \n",
       "4   7850  "
      ]
     },
     "execution_count": 8,
     "metadata": {},
     "output_type": "execute_result"
    }
   ],
   "source": [
    "train_set.head()"
   ]
  },
  {
   "cell_type": "code",
   "execution_count": 9,
   "id": "6f299ab8",
   "metadata": {
    "execution": {
     "iopub.execute_input": "2024-06-14T16:51:36.750728Z",
     "iopub.status.busy": "2024-06-14T16:51:36.750095Z",
     "iopub.status.idle": "2024-06-14T16:51:36.764533Z",
     "shell.execute_reply": "2024-06-14T16:51:36.763686Z"
    },
    "papermill": {
     "duration": 0.026595,
     "end_time": "2024-06-14T16:51:36.766686",
     "exception": false,
     "start_time": "2024-06-14T16:51:36.740091",
     "status": "completed"
    },
    "tags": []
   },
   "outputs": [
    {
     "data": {
      "text/html": [
       "<div>\n",
       "<style scoped>\n",
       "    .dataframe tbody tr th:only-of-type {\n",
       "        vertical-align: middle;\n",
       "    }\n",
       "\n",
       "    .dataframe tbody tr th {\n",
       "        vertical-align: top;\n",
       "    }\n",
       "\n",
       "    .dataframe thead th {\n",
       "        text-align: right;\n",
       "    }\n",
       "</style>\n",
       "<table border=\"1\" class=\"dataframe\">\n",
       "  <thead>\n",
       "    <tr style=\"text-align: right;\">\n",
       "      <th></th>\n",
       "      <th>id</th>\n",
       "      <th>brand</th>\n",
       "      <th>model</th>\n",
       "      <th>model_year</th>\n",
       "      <th>milage</th>\n",
       "      <th>fuel_type</th>\n",
       "      <th>engine</th>\n",
       "      <th>transmission</th>\n",
       "      <th>ext_col</th>\n",
       "      <th>int_col</th>\n",
       "      <th>accident</th>\n",
       "      <th>clean_title</th>\n",
       "    </tr>\n",
       "  </thead>\n",
       "  <tbody>\n",
       "    <tr>\n",
       "      <th>0</th>\n",
       "      <td>54273</td>\n",
       "      <td>Mercedes-Benz</td>\n",
       "      <td>E-Class E 350</td>\n",
       "      <td>2014</td>\n",
       "      <td>73000</td>\n",
       "      <td>Gasoline</td>\n",
       "      <td>302.0HP 3.5L V6 Cylinder Engine Gasoline Fuel</td>\n",
       "      <td>A/T</td>\n",
       "      <td>White</td>\n",
       "      <td>Beige</td>\n",
       "      <td>None reported</td>\n",
       "      <td>Yes</td>\n",
       "    </tr>\n",
       "    <tr>\n",
       "      <th>1</th>\n",
       "      <td>54274</td>\n",
       "      <td>Lexus</td>\n",
       "      <td>RX 350 Base</td>\n",
       "      <td>2015</td>\n",
       "      <td>128032</td>\n",
       "      <td>Gasoline</td>\n",
       "      <td>275.0HP 3.5L V6 Cylinder Engine Gasoline Fuel</td>\n",
       "      <td>8-Speed A/T</td>\n",
       "      <td>Silver</td>\n",
       "      <td>Black</td>\n",
       "      <td>None reported</td>\n",
       "      <td>Yes</td>\n",
       "    </tr>\n",
       "    <tr>\n",
       "      <th>2</th>\n",
       "      <td>54275</td>\n",
       "      <td>Mercedes-Benz</td>\n",
       "      <td>C-Class C 300</td>\n",
       "      <td>2015</td>\n",
       "      <td>51983</td>\n",
       "      <td>Gasoline</td>\n",
       "      <td>241.0HP 2.0L 4 Cylinder Engine Gasoline Fuel</td>\n",
       "      <td>7-Speed A/T</td>\n",
       "      <td>Blue</td>\n",
       "      <td>White</td>\n",
       "      <td>None reported</td>\n",
       "      <td>Yes</td>\n",
       "    </tr>\n",
       "    <tr>\n",
       "      <th>3</th>\n",
       "      <td>54276</td>\n",
       "      <td>Land</td>\n",
       "      <td>Rover Range Rover 5.0L Supercharged Autobiogra...</td>\n",
       "      <td>2018</td>\n",
       "      <td>29500</td>\n",
       "      <td>Gasoline</td>\n",
       "      <td>518.0HP 5.0L 8 Cylinder Engine Gasoline Fuel</td>\n",
       "      <td>Transmission w/Dual Shift Mode</td>\n",
       "      <td>White</td>\n",
       "      <td>White</td>\n",
       "      <td>At least 1 accident or damage reported</td>\n",
       "      <td>Yes</td>\n",
       "    </tr>\n",
       "    <tr>\n",
       "      <th>4</th>\n",
       "      <td>54277</td>\n",
       "      <td>BMW</td>\n",
       "      <td>X6 xDrive40i</td>\n",
       "      <td>2020</td>\n",
       "      <td>90000</td>\n",
       "      <td>Gasoline</td>\n",
       "      <td>335.0HP 3.0L Straight 6 Cylinder Engine Gasoli...</td>\n",
       "      <td>8-Speed A/T</td>\n",
       "      <td>White</td>\n",
       "      <td>Black</td>\n",
       "      <td>At least 1 accident or damage reported</td>\n",
       "      <td>Yes</td>\n",
       "    </tr>\n",
       "  </tbody>\n",
       "</table>\n",
       "</div>"
      ],
      "text/plain": [
       "      id          brand                                              model  \\\n",
       "0  54273  Mercedes-Benz                                      E-Class E 350   \n",
       "1  54274          Lexus                                        RX 350 Base   \n",
       "2  54275  Mercedes-Benz                                      C-Class C 300   \n",
       "3  54276           Land  Rover Range Rover 5.0L Supercharged Autobiogra...   \n",
       "4  54277            BMW                                       X6 xDrive40i   \n",
       "\n",
       "   model_year  milage fuel_type  \\\n",
       "0        2014   73000  Gasoline   \n",
       "1        2015  128032  Gasoline   \n",
       "2        2015   51983  Gasoline   \n",
       "3        2018   29500  Gasoline   \n",
       "4        2020   90000  Gasoline   \n",
       "\n",
       "                                              engine  \\\n",
       "0      302.0HP 3.5L V6 Cylinder Engine Gasoline Fuel   \n",
       "1      275.0HP 3.5L V6 Cylinder Engine Gasoline Fuel   \n",
       "2       241.0HP 2.0L 4 Cylinder Engine Gasoline Fuel   \n",
       "3       518.0HP 5.0L 8 Cylinder Engine Gasoline Fuel   \n",
       "4  335.0HP 3.0L Straight 6 Cylinder Engine Gasoli...   \n",
       "\n",
       "                     transmission ext_col int_col  \\\n",
       "0                             A/T   White   Beige   \n",
       "1                     8-Speed A/T  Silver   Black   \n",
       "2                     7-Speed A/T    Blue   White   \n",
       "3  Transmission w/Dual Shift Mode   White   White   \n",
       "4                     8-Speed A/T   White   Black   \n",
       "\n",
       "                                 accident clean_title  \n",
       "0                           None reported         Yes  \n",
       "1                           None reported         Yes  \n",
       "2                           None reported         Yes  \n",
       "3  At least 1 accident or damage reported         Yes  \n",
       "4  At least 1 accident or damage reported         Yes  "
      ]
     },
     "execution_count": 9,
     "metadata": {},
     "output_type": "execute_result"
    }
   ],
   "source": [
    "test_set.head()"
   ]
  },
  {
   "cell_type": "code",
   "execution_count": 10,
   "id": "561dc663",
   "metadata": {
    "execution": {
     "iopub.execute_input": "2024-06-14T16:51:36.788250Z",
     "iopub.status.busy": "2024-06-14T16:51:36.787694Z",
     "iopub.status.idle": "2024-06-14T16:51:36.870497Z",
     "shell.execute_reply": "2024-06-14T16:51:36.869623Z"
    },
    "papermill": {
     "duration": 0.095537,
     "end_time": "2024-06-14T16:51:36.872501",
     "exception": false,
     "start_time": "2024-06-14T16:51:36.776964",
     "status": "completed"
    },
    "tags": []
   },
   "outputs": [
    {
     "data": {
      "text/plain": [
       "id              False\n",
       "brand           False\n",
       "model           False\n",
       "model_year      False\n",
       "milage          False\n",
       "fuel_type       False\n",
       "engine          False\n",
       "transmission    False\n",
       "ext_col         False\n",
       "int_col         False\n",
       "accident        False\n",
       "clean_title     False\n",
       "price           False\n",
       "dtype: bool"
      ]
     },
     "execution_count": 10,
     "metadata": {},
     "output_type": "execute_result"
    }
   ],
   "source": [
    "train_set.any().isna()"
   ]
  },
  {
   "cell_type": "code",
   "execution_count": 11,
   "id": "c1d7de02",
   "metadata": {
    "execution": {
     "iopub.execute_input": "2024-06-14T16:51:36.893237Z",
     "iopub.status.busy": "2024-06-14T16:51:36.892597Z",
     "iopub.status.idle": "2024-06-14T16:51:36.948508Z",
     "shell.execute_reply": "2024-06-14T16:51:36.947612Z"
    },
    "papermill": {
     "duration": 0.06824,
     "end_time": "2024-06-14T16:51:36.950642",
     "exception": false,
     "start_time": "2024-06-14T16:51:36.882402",
     "status": "completed"
    },
    "tags": []
   },
   "outputs": [
    {
     "data": {
      "text/plain": [
       "id              False\n",
       "brand           False\n",
       "model           False\n",
       "model_year      False\n",
       "milage          False\n",
       "fuel_type       False\n",
       "engine          False\n",
       "transmission    False\n",
       "ext_col         False\n",
       "int_col         False\n",
       "accident        False\n",
       "clean_title     False\n",
       "dtype: bool"
      ]
     },
     "execution_count": 11,
     "metadata": {},
     "output_type": "execute_result"
    }
   ],
   "source": [
    "test_set.any().isna()"
   ]
  },
  {
   "cell_type": "markdown",
   "id": "7d92eaf1",
   "metadata": {
    "papermill": {
     "duration": 0.009264,
     "end_time": "2024-06-14T16:51:36.980974",
     "exception": false,
     "start_time": "2024-06-14T16:51:36.971710",
     "status": "completed"
    },
    "tags": []
   },
   "source": [
    "## Shuffle Train Set"
   ]
  },
  {
   "cell_type": "markdown",
   "id": "26bfc3c1",
   "metadata": {
    "papermill": {
     "duration": 0.009457,
     "end_time": "2024-06-14T16:51:36.999844",
     "exception": false,
     "start_time": "2024-06-14T16:51:36.990387",
     "status": "completed"
    },
    "tags": []
   },
   "source": []
  },
  {
   "cell_type": "code",
   "execution_count": 12,
   "id": "de4387ff",
   "metadata": {
    "execution": {
     "iopub.execute_input": "2024-06-14T16:51:37.030448Z",
     "iopub.status.busy": "2024-06-14T16:51:37.030068Z",
     "iopub.status.idle": "2024-06-14T16:51:37.035958Z",
     "shell.execute_reply": "2024-06-14T16:51:37.033712Z"
    },
    "papermill": {
     "duration": 0.025009,
     "end_time": "2024-06-14T16:51:37.038971",
     "exception": false,
     "start_time": "2024-06-14T16:51:37.013962",
     "status": "completed"
    },
    "tags": []
   },
   "outputs": [],
   "source": [
    "# train_set = train_set.sample(frac=1)\n",
    "# train_set.head()"
   ]
  },
  {
   "cell_type": "markdown",
   "id": "ad4a8e63",
   "metadata": {
    "papermill": {
     "duration": 0.011491,
     "end_time": "2024-06-14T16:51:37.062035",
     "exception": false,
     "start_time": "2024-06-14T16:51:37.050544",
     "status": "completed"
    },
    "tags": []
   },
   "source": [
    "## Separate Features and Labels"
   ]
  },
  {
   "cell_type": "code",
   "execution_count": 13,
   "id": "857cb45d",
   "metadata": {
    "execution": {
     "iopub.execute_input": "2024-06-14T16:51:37.083075Z",
     "iopub.status.busy": "2024-06-14T16:51:37.082813Z",
     "iopub.status.idle": "2024-06-14T16:51:37.102731Z",
     "shell.execute_reply": "2024-06-14T16:51:37.101768Z"
    },
    "papermill": {
     "duration": 0.032699,
     "end_time": "2024-06-14T16:51:37.104827",
     "exception": false,
     "start_time": "2024-06-14T16:51:37.072128",
     "status": "completed"
    },
    "tags": []
   },
   "outputs": [
    {
     "data": {
      "text/html": [
       "<div>\n",
       "<style scoped>\n",
       "    .dataframe tbody tr th:only-of-type {\n",
       "        vertical-align: middle;\n",
       "    }\n",
       "\n",
       "    .dataframe tbody tr th {\n",
       "        vertical-align: top;\n",
       "    }\n",
       "\n",
       "    .dataframe thead th {\n",
       "        text-align: right;\n",
       "    }\n",
       "</style>\n",
       "<table border=\"1\" class=\"dataframe\">\n",
       "  <thead>\n",
       "    <tr style=\"text-align: right;\">\n",
       "      <th></th>\n",
       "      <th>brand</th>\n",
       "      <th>model</th>\n",
       "      <th>model_year</th>\n",
       "      <th>milage</th>\n",
       "      <th>fuel_type</th>\n",
       "      <th>engine</th>\n",
       "      <th>transmission</th>\n",
       "      <th>ext_col</th>\n",
       "      <th>int_col</th>\n",
       "      <th>accident</th>\n",
       "      <th>clean_title</th>\n",
       "    </tr>\n",
       "  </thead>\n",
       "  <tbody>\n",
       "    <tr>\n",
       "      <th>0</th>\n",
       "      <td>Ford</td>\n",
       "      <td>F-150 Lariat</td>\n",
       "      <td>2018</td>\n",
       "      <td>74349</td>\n",
       "      <td>Gasoline</td>\n",
       "      <td>375.0HP 3.5L V6 Cylinder Engine Gasoline Fuel</td>\n",
       "      <td>10-Speed A/T</td>\n",
       "      <td>Blue</td>\n",
       "      <td>Gray</td>\n",
       "      <td>None reported</td>\n",
       "      <td>Yes</td>\n",
       "    </tr>\n",
       "    <tr>\n",
       "      <th>1</th>\n",
       "      <td>BMW</td>\n",
       "      <td>335 i</td>\n",
       "      <td>2007</td>\n",
       "      <td>80000</td>\n",
       "      <td>Gasoline</td>\n",
       "      <td>300.0HP 3.0L Straight 6 Cylinder Engine Gasoli...</td>\n",
       "      <td>6-Speed M/T</td>\n",
       "      <td>Black</td>\n",
       "      <td>Black</td>\n",
       "      <td>None reported</td>\n",
       "      <td>Yes</td>\n",
       "    </tr>\n",
       "    <tr>\n",
       "      <th>2</th>\n",
       "      <td>Jaguar</td>\n",
       "      <td>XF Luxury</td>\n",
       "      <td>2009</td>\n",
       "      <td>91491</td>\n",
       "      <td>Gasoline</td>\n",
       "      <td>300.0HP 4.2L 8 Cylinder Engine Gasoline Fuel</td>\n",
       "      <td>6-Speed A/T</td>\n",
       "      <td>Purple</td>\n",
       "      <td>Beige</td>\n",
       "      <td>None reported</td>\n",
       "      <td>Yes</td>\n",
       "    </tr>\n",
       "    <tr>\n",
       "      <th>3</th>\n",
       "      <td>BMW</td>\n",
       "      <td>X7 xDrive40i</td>\n",
       "      <td>2022</td>\n",
       "      <td>2437</td>\n",
       "      <td>Hybrid</td>\n",
       "      <td>335.0HP 3.0L Straight 6 Cylinder Engine Gasoli...</td>\n",
       "      <td>Transmission w/Dual Shift Mode</td>\n",
       "      <td>Gray</td>\n",
       "      <td>Brown</td>\n",
       "      <td>None reported</td>\n",
       "      <td>Yes</td>\n",
       "    </tr>\n",
       "    <tr>\n",
       "      <th>4</th>\n",
       "      <td>Pontiac</td>\n",
       "      <td>Firebird Base</td>\n",
       "      <td>2001</td>\n",
       "      <td>111000</td>\n",
       "      <td>Gasoline</td>\n",
       "      <td>200.0HP 3.8L V6 Cylinder Engine Gasoline Fuel</td>\n",
       "      <td>A/T</td>\n",
       "      <td>White</td>\n",
       "      <td>Black</td>\n",
       "      <td>None reported</td>\n",
       "      <td>Yes</td>\n",
       "    </tr>\n",
       "  </tbody>\n",
       "</table>\n",
       "</div>"
      ],
      "text/plain": [
       "     brand          model  model_year  milage fuel_type  \\\n",
       "0     Ford   F-150 Lariat        2018   74349  Gasoline   \n",
       "1      BMW          335 i        2007   80000  Gasoline   \n",
       "2   Jaguar      XF Luxury        2009   91491  Gasoline   \n",
       "3      BMW   X7 xDrive40i        2022    2437    Hybrid   \n",
       "4  Pontiac  Firebird Base        2001  111000  Gasoline   \n",
       "\n",
       "                                              engine  \\\n",
       "0      375.0HP 3.5L V6 Cylinder Engine Gasoline Fuel   \n",
       "1  300.0HP 3.0L Straight 6 Cylinder Engine Gasoli...   \n",
       "2       300.0HP 4.2L 8 Cylinder Engine Gasoline Fuel   \n",
       "3  335.0HP 3.0L Straight 6 Cylinder Engine Gasoli...   \n",
       "4      200.0HP 3.8L V6 Cylinder Engine Gasoline Fuel   \n",
       "\n",
       "                     transmission ext_col int_col       accident clean_title  \n",
       "0                    10-Speed A/T    Blue    Gray  None reported         Yes  \n",
       "1                     6-Speed M/T   Black   Black  None reported         Yes  \n",
       "2                     6-Speed A/T  Purple   Beige  None reported         Yes  \n",
       "3  Transmission w/Dual Shift Mode    Gray   Brown  None reported         Yes  \n",
       "4                             A/T   White   Black  None reported         Yes  "
      ]
     },
     "execution_count": 13,
     "metadata": {},
     "output_type": "execute_result"
    }
   ],
   "source": [
    "# Set features similar to the test set only without id column\n",
    "features = train_set.copy()\n",
    "features.pop(\"id\")\n",
    "\n",
    "# Remove price column in features and save it in labels\n",
    "labels = features.pop(\"price\")\n",
    "features.head()"
   ]
  },
  {
   "cell_type": "code",
   "execution_count": 14,
   "id": "e292283c",
   "metadata": {
    "execution": {
     "iopub.execute_input": "2024-06-14T16:51:37.124864Z",
     "iopub.status.busy": "2024-06-14T16:51:37.124561Z",
     "iopub.status.idle": "2024-06-14T16:51:37.130392Z",
     "shell.execute_reply": "2024-06-14T16:51:37.129612Z"
    },
    "papermill": {
     "duration": 0.017752,
     "end_time": "2024-06-14T16:51:37.132238",
     "exception": false,
     "start_time": "2024-06-14T16:51:37.114486",
     "status": "completed"
    },
    "tags": []
   },
   "outputs": [
    {
     "data": {
      "text/plain": [
       "0    11000\n",
       "1     8250\n",
       "2    15000\n",
       "3    63500\n",
       "4     7850\n",
       "Name: price, dtype: int64"
      ]
     },
     "execution_count": 14,
     "metadata": {},
     "output_type": "execute_result"
    }
   ],
   "source": [
    "labels.head()"
   ]
  },
  {
   "cell_type": "markdown",
   "id": "84bf7813",
   "metadata": {
    "papermill": {
     "duration": 0.009432,
     "end_time": "2024-06-14T16:51:37.151300",
     "exception": false,
     "start_time": "2024-06-14T16:51:37.141868",
     "status": "completed"
    },
    "tags": []
   },
   "source": [
    "## Split Dataset"
   ]
  },
  {
   "cell_type": "code",
   "execution_count": 15,
   "id": "f630bc35",
   "metadata": {
    "execution": {
     "iopub.execute_input": "2024-06-14T16:51:37.172022Z",
     "iopub.status.busy": "2024-06-14T16:51:37.171762Z",
     "iopub.status.idle": "2024-06-14T16:51:37.197358Z",
     "shell.execute_reply": "2024-06-14T16:51:37.196691Z"
    },
    "papermill": {
     "duration": 0.038074,
     "end_time": "2024-06-14T16:51:37.199470",
     "exception": false,
     "start_time": "2024-06-14T16:51:37.161396",
     "status": "completed"
    },
    "tags": []
   },
   "outputs": [],
   "source": [
    "# Split the dataset into train (70%) and remain (30%) subsets\n",
    "train_features, remain_features, train_labels, remain_labels = sklearn.model_selection.train_test_split(\n",
    "    features, \n",
    "    labels,\n",
    "    test_size=0.3,\n",
    "    shuffle=True\n",
    ")\n",
    "\n",
    "# Split the remain subset into valid (70%) and test (30%) subset\n",
    "valid_features, test_features, valid_labels, test_labels = sklearn.model_selection.train_test_split(\n",
    "    remain_features, \n",
    "    remain_labels,\n",
    "    test_size=0.3,\n",
    "    shuffle=True\n",
    ")"
   ]
  },
  {
   "cell_type": "code",
   "execution_count": 16,
   "id": "a920bba9",
   "metadata": {
    "execution": {
     "iopub.execute_input": "2024-06-14T16:51:37.221047Z",
     "iopub.status.busy": "2024-06-14T16:51:37.220759Z",
     "iopub.status.idle": "2024-06-14T16:51:37.227969Z",
     "shell.execute_reply": "2024-06-14T16:51:37.227099Z"
    },
    "papermill": {
     "duration": 0.020271,
     "end_time": "2024-06-14T16:51:37.230236",
     "exception": false,
     "start_time": "2024-06-14T16:51:37.209965",
     "status": "completed"
    },
    "tags": []
   },
   "outputs": [
    {
     "name": "stdout",
     "output_type": "stream",
     "text": [
      "Index([29139, 34928, 22865, 49032, 5917], dtype='int64')\n",
      "Index([29139, 34928, 22865, 49032, 5917], dtype='int64')\n",
      "Index([30244, 8328, 37007, 46087, 32288], dtype='int64')\n",
      "Index([30244, 8328, 37007, 46087, 32288], dtype='int64')\n",
      "Index([4763, 52688, 44995, 14156, 32614], dtype='int64')\n",
      "Index([4763, 52688, 44995, 14156, 32614], dtype='int64')\n"
     ]
    }
   ],
   "source": [
    "# Check if indices of features and labels still match\n",
    "print(train_features.head().index)\n",
    "print(train_labels.head().index)\n",
    "\n",
    "print(test_features.head().index)\n",
    "print(test_labels.head().index)\n",
    "\n",
    "print(valid_features.head().index)\n",
    "print(valid_labels.head().index)"
   ]
  },
  {
   "cell_type": "code",
   "execution_count": 17,
   "id": "fcb3cc91",
   "metadata": {
    "execution": {
     "iopub.execute_input": "2024-06-14T16:51:37.252127Z",
     "iopub.status.busy": "2024-06-14T16:51:37.251453Z",
     "iopub.status.idle": "2024-06-14T16:51:37.260040Z",
     "shell.execute_reply": "2024-06-14T16:51:37.259102Z"
    },
    "papermill": {
     "duration": 0.02158,
     "end_time": "2024-06-14T16:51:37.262027",
     "exception": false,
     "start_time": "2024-06-14T16:51:37.240447",
     "status": "completed"
    },
    "tags": []
   },
   "outputs": [
    {
     "name": "stdout",
     "output_type": "stream",
     "text": [
      "37991.1 37991 37991\n",
      "11397.33 11397 11397\n",
      "4884.57 4885 4885\n"
     ]
    },
    {
     "data": {
      "text/plain": [
       "(54273, 54273, 54273)"
      ]
     },
     "execution_count": 17,
     "metadata": {},
     "output_type": "execute_result"
    }
   ],
   "source": [
    "# Check if dataset were split correctly\n",
    "dataset_size = len(train_set)\n",
    "print(dataset_size * 0.7, len(train_features), len(train_labels))\n",
    "print(dataset_size * 0.3 * 0.7, len(valid_features), len(valid_labels))\n",
    "print(dataset_size * 0.3 * 0.3, len(test_features), len(test_labels))\n",
    "\n",
    "# Check if total of the subsets the same as dataset_size\n",
    "dataset_size, len(train_features) + len(valid_features) + len(test_features), len(train_labels) + len(valid_labels) + len(test_labels)"
   ]
  },
  {
   "cell_type": "markdown",
   "id": "dc900b45",
   "metadata": {
    "papermill": {
     "duration": 0.011387,
     "end_time": "2024-06-14T16:51:37.283792",
     "exception": false,
     "start_time": "2024-06-14T16:51:37.272405",
     "status": "completed"
    },
    "tags": []
   },
   "source": [
    "## Build the model"
   ]
  },
  {
   "cell_type": "code",
   "execution_count": 18,
   "id": "da09a6d9",
   "metadata": {
    "execution": {
     "iopub.execute_input": "2024-06-14T16:51:37.305992Z",
     "iopub.status.busy": "2024-06-14T16:51:37.305434Z",
     "iopub.status.idle": "2024-06-14T16:51:38.132186Z",
     "shell.execute_reply": "2024-06-14T16:51:38.131360Z"
    },
    "papermill": {
     "duration": 0.840323,
     "end_time": "2024-06-14T16:51:38.134602",
     "exception": false,
     "start_time": "2024-06-14T16:51:37.294279",
     "status": "completed"
    },
    "tags": []
   },
   "outputs": [],
   "source": [
    "model = tf.keras.Sequential(\n",
    "    [\n",
    "        # Input Layer, Normalized Layer Here \n",
    "        tf.keras.layers.Dense(128, activation=\"relu\", name=\"Hidden Layer\"),\n",
    "        tf.keras.layers.Dense(1, activation=\"softmax\", name=\"Output Layer\"),\n",
    "    ]\n",
    ")\n",
    "\n",
    "\n",
    "\n",
    "model.compile(\n",
    "    optimizer=tf.keras.optimizers.Adam(learning_rate=0.0001),\n",
    "    loss=tf.keras.losses.MeanSquaredError(),\n",
    "    metrics=[tf.keras.metrics.MeanSquaredError()],\n",
    ")"
   ]
  },
  {
   "cell_type": "markdown",
   "id": "439a5d02",
   "metadata": {
    "papermill": {
     "duration": 0.01028,
     "end_time": "2024-06-14T16:51:38.155681",
     "exception": false,
     "start_time": "2024-06-14T16:51:38.145401",
     "status": "completed"
    },
    "tags": []
   },
   "source": [
    "## Train Model"
   ]
  },
  {
   "cell_type": "code",
   "execution_count": 19,
   "id": "70b91b2d",
   "metadata": {
    "execution": {
     "iopub.execute_input": "2024-06-14T16:51:38.177236Z",
     "iopub.status.busy": "2024-06-14T16:51:38.176704Z",
     "iopub.status.idle": "2024-06-14T16:51:38.180452Z",
     "shell.execute_reply": "2024-06-14T16:51:38.179649Z"
    },
    "papermill": {
     "duration": 0.01662,
     "end_time": "2024-06-14T16:51:38.182304",
     "exception": false,
     "start_time": "2024-06-14T16:51:38.165684",
     "status": "completed"
    },
    "tags": []
   },
   "outputs": [],
   "source": [
    "# View an example of input\n",
    "\n",
    "# Model fit"
   ]
  },
  {
   "cell_type": "markdown",
   "id": "45b92f81",
   "metadata": {
    "papermill": {
     "duration": 0.009891,
     "end_time": "2024-06-14T16:51:38.202180",
     "exception": false,
     "start_time": "2024-06-14T16:51:38.192289",
     "status": "completed"
    },
    "tags": []
   },
   "source": [
    "## Predict"
   ]
  },
  {
   "cell_type": "markdown",
   "id": "ce171258",
   "metadata": {
    "papermill": {
     "duration": 0.009775,
     "end_time": "2024-06-14T16:51:38.222007",
     "exception": false,
     "start_time": "2024-06-14T16:51:38.212232",
     "status": "completed"
    },
    "tags": []
   },
   "source": [
    "TODO\n",
    "- build model\n",
    "- separate engine into different parameters\n",
    "- remove id on train\n",
    "- train model\n",
    "- early stop\n",
    "- graph result\n",
    "- group lines"
   ]
  },
  {
   "cell_type": "code",
   "execution_count": 20,
   "id": "70916b6e",
   "metadata": {
    "execution": {
     "iopub.execute_input": "2024-06-14T16:51:38.243322Z",
     "iopub.status.busy": "2024-06-14T16:51:38.242860Z",
     "iopub.status.idle": "2024-06-14T16:51:38.246458Z",
     "shell.execute_reply": "2024-06-14T16:51:38.245676Z"
    },
    "papermill": {
     "duration": 0.016178,
     "end_time": "2024-06-14T16:51:38.248240",
     "exception": false,
     "start_time": "2024-06-14T16:51:38.232062",
     "status": "completed"
    },
    "tags": []
   },
   "outputs": [],
   "source": [
    "# train_subset.shape"
   ]
  },
  {
   "cell_type": "code",
   "execution_count": 21,
   "id": "df8de2e5",
   "metadata": {
    "execution": {
     "iopub.execute_input": "2024-06-14T16:51:38.269559Z",
     "iopub.status.busy": "2024-06-14T16:51:38.269139Z",
     "iopub.status.idle": "2024-06-14T16:51:38.272643Z",
     "shell.execute_reply": "2024-06-14T16:51:38.271817Z"
    },
    "papermill": {
     "duration": 0.016215,
     "end_time": "2024-06-14T16:51:38.274432",
     "exception": false,
     "start_time": "2024-06-14T16:51:38.258217",
     "status": "completed"
    },
    "tags": []
   },
   "outputs": [],
   "source": [
    "# valid_subset.shape"
   ]
  },
  {
   "cell_type": "code",
   "execution_count": 22,
   "id": "01ea7dbf",
   "metadata": {
    "execution": {
     "iopub.execute_input": "2024-06-14T16:51:38.295400Z",
     "iopub.status.busy": "2024-06-14T16:51:38.295146Z",
     "iopub.status.idle": "2024-06-14T16:51:38.298537Z",
     "shell.execute_reply": "2024-06-14T16:51:38.297759Z"
    },
    "papermill": {
     "duration": 0.01577,
     "end_time": "2024-06-14T16:51:38.300304",
     "exception": false,
     "start_time": "2024-06-14T16:51:38.284534",
     "status": "completed"
    },
    "tags": []
   },
   "outputs": [],
   "source": [
    "# test_subset.shape"
   ]
  },
  {
   "cell_type": "code",
   "execution_count": null,
   "id": "74c435b7",
   "metadata": {
    "papermill": {
     "duration": 0.010167,
     "end_time": "2024-06-14T16:51:38.320310",
     "exception": false,
     "start_time": "2024-06-14T16:51:38.310143",
     "status": "completed"
    },
    "tags": []
   },
   "outputs": [],
   "source": []
  },
  {
   "cell_type": "code",
   "execution_count": null,
   "id": "d2bf6fe8",
   "metadata": {
    "papermill": {
     "duration": 0.00978,
     "end_time": "2024-06-14T16:51:38.339939",
     "exception": false,
     "start_time": "2024-06-14T16:51:38.330159",
     "status": "completed"
    },
    "tags": []
   },
   "outputs": [],
   "source": []
  }
 ],
 "metadata": {
  "kaggle": {
   "accelerator": "nvidiaTeslaT4",
   "dataSources": [
    {
     "databundleVersionId": 7461897,
     "sourceId": 67167,
     "sourceType": "competition"
    },
    {
     "datasetId": 5208192,
     "sourceId": 8686686,
     "sourceType": "datasetVersion"
    }
   ],
   "dockerImageVersionId": 30733,
   "isGpuEnabled": true,
   "isInternetEnabled": true,
   "language": "python",
   "sourceType": "notebook"
  },
  "kernelspec": {
   "display_name": "Python 3",
   "language": "python",
   "name": "python3"
  },
  "language_info": {
   "codemirror_mode": {
    "name": "ipython",
    "version": 3
   },
   "file_extension": ".py",
   "mimetype": "text/x-python",
   "name": "python",
   "nbconvert_exporter": "python",
   "pygments_lexer": "ipython3",
   "version": "3.10.13"
  },
  "papermill": {
   "default_parameters": {},
   "duration": 20.02334,
   "end_time": "2024-06-14T16:51:40.071246",
   "environment_variables": {},
   "exception": null,
   "input_path": "__notebook__.ipynb",
   "output_path": "__notebook__.ipynb",
   "parameters": {},
   "start_time": "2024-06-14T16:51:20.047906",
   "version": "2.5.0"
  }
 },
 "nbformat": 4,
 "nbformat_minor": 5
}
