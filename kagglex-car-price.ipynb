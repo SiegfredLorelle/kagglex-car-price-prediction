{
 "cells": [
  {
   "cell_type": "code",
   "execution_count": 1,
   "id": "015beb8e",
   "metadata": {
    "execution": {
     "iopub.execute_input": "2024-06-14T19:17:12.674883Z",
     "iopub.status.busy": "2024-06-14T19:17:12.674536Z",
     "iopub.status.idle": "2024-06-14T19:17:12.678838Z",
     "shell.execute_reply": "2024-06-14T19:17:12.678156Z"
    },
    "papermill": {
     "duration": 0.018082,
     "end_time": "2024-06-14T19:17:12.680676",
     "exception": false,
     "start_time": "2024-06-14T19:17:12.662594",
     "status": "completed"
    },
    "tags": []
   },
   "outputs": [],
   "source": [
    "# KaggleX Cohert 4 Skill Assessment Challenge"
   ]
  },
  {
   "cell_type": "markdown",
   "id": "45e514d1",
   "metadata": {
    "papermill": {
     "duration": 0.009855,
     "end_time": "2024-06-14T19:17:12.700981",
     "exception": false,
     "start_time": "2024-06-14T19:17:12.691126",
     "status": "completed"
    },
    "tags": []
   },
   "source": [
    "## Import Library and Download Dataset"
   ]
  },
  {
   "cell_type": "code",
   "execution_count": 2,
   "id": "fd853985",
   "metadata": {
    "_cell_guid": "b1076dfc-b9ad-4769-8c92-a6c4dae69d19",
    "_uuid": "8f2839f25d086af736a60e9eeb907d3b93b6e0e5",
    "execution": {
     "iopub.execute_input": "2024-06-14T19:17:12.722291Z",
     "iopub.status.busy": "2024-06-14T19:17:12.722055Z",
     "iopub.status.idle": "2024-06-14T19:17:25.901552Z",
     "shell.execute_reply": "2024-06-14T19:17:25.900784Z"
    },
    "papermill": {
     "duration": 13.192541,
     "end_time": "2024-06-14T19:17:25.903789",
     "exception": false,
     "start_time": "2024-06-14T19:17:12.711248",
     "status": "completed"
    },
    "tags": []
   },
   "outputs": [
    {
     "name": "stderr",
     "output_type": "stream",
     "text": [
      "2024-06-14 19:17:15.118346: E external/local_xla/xla/stream_executor/cuda/cuda_dnn.cc:9261] Unable to register cuDNN factory: Attempting to register factory for plugin cuDNN when one has already been registered\n",
      "2024-06-14 19:17:15.118435: E external/local_xla/xla/stream_executor/cuda/cuda_fft.cc:607] Unable to register cuFFT factory: Attempting to register factory for plugin cuFFT when one has already been registered\n",
      "2024-06-14 19:17:15.239612: E external/local_xla/xla/stream_executor/cuda/cuda_blas.cc:1515] Unable to register cuBLAS factory: Attempting to register factory for plugin cuBLAS when one has already been registered\n"
     ]
    }
   ],
   "source": [
    "# Import libraries\n",
    "import numpy as np\n",
    "import pandas as pd\n",
    "import tensorflow as tf\n",
    "import sklearn\n",
    "from sklearn.model_selection import train_test_split\n",
    "import matplotlib.pyplot as plt\n",
    "import seaborn as sns"
   ]
  },
  {
   "cell_type": "code",
   "execution_count": 3,
   "id": "9931cf75",
   "metadata": {
    "execution": {
     "iopub.execute_input": "2024-06-14T19:17:25.927111Z",
     "iopub.status.busy": "2024-06-14T19:17:25.926635Z",
     "iopub.status.idle": "2024-06-14T19:17:26.350118Z",
     "shell.execute_reply": "2024-06-14T19:17:26.349369Z"
    },
    "papermill": {
     "duration": 0.437901,
     "end_time": "2024-06-14T19:17:26.352369",
     "exception": false,
     "start_time": "2024-06-14T19:17:25.914468",
     "status": "completed"
    },
    "tags": []
   },
   "outputs": [],
   "source": [
    "# Dataset paths\n",
    "train_path = \"/kaggle/input/kagglex-car-price-prediction-dataset/train.csv\"\n",
    "test_path = \"/kaggle/input/kagglex-car-price-prediction-dataset/test.csv\"\n",
    "\n",
    "df = pd.read_csv(train_path)\n",
    "test_df = pd.read_csv(test_path)"
   ]
  },
  {
   "cell_type": "markdown",
   "id": "161a2579",
   "metadata": {
    "papermill": {
     "duration": 0.010054,
     "end_time": "2024-06-14T19:17:26.372994",
     "exception": false,
     "start_time": "2024-06-14T19:17:26.362940",
     "status": "completed"
    },
    "tags": []
   },
   "source": [
    "## Check data"
   ]
  },
  {
   "cell_type": "code",
   "execution_count": 4,
   "id": "04f97e47",
   "metadata": {
    "execution": {
     "iopub.execute_input": "2024-06-14T19:17:26.394612Z",
     "iopub.status.busy": "2024-06-14T19:17:26.394300Z",
     "iopub.status.idle": "2024-06-14T19:17:26.400426Z",
     "shell.execute_reply": "2024-06-14T19:17:26.399635Z"
    },
    "papermill": {
     "duration": 0.019026,
     "end_time": "2024-06-14T19:17:26.402317",
     "exception": false,
     "start_time": "2024-06-14T19:17:26.383291",
     "status": "completed"
    },
    "tags": []
   },
   "outputs": [
    {
     "data": {
      "text/plain": [
       "(54273, 13)"
      ]
     },
     "execution_count": 4,
     "metadata": {},
     "output_type": "execute_result"
    }
   ],
   "source": [
    "df.shape"
   ]
  },
  {
   "cell_type": "code",
   "execution_count": 5,
   "id": "f5f68eca",
   "metadata": {
    "execution": {
     "iopub.execute_input": "2024-06-14T19:17:26.424210Z",
     "iopub.status.busy": "2024-06-14T19:17:26.423964Z",
     "iopub.status.idle": "2024-06-14T19:17:26.429199Z",
     "shell.execute_reply": "2024-06-14T19:17:26.428399Z"
    },
    "papermill": {
     "duration": 0.018295,
     "end_time": "2024-06-14T19:17:26.431031",
     "exception": false,
     "start_time": "2024-06-14T19:17:26.412736",
     "status": "completed"
    },
    "tags": []
   },
   "outputs": [
    {
     "data": {
      "text/plain": [
       "(36183, 12)"
      ]
     },
     "execution_count": 5,
     "metadata": {},
     "output_type": "execute_result"
    }
   ],
   "source": [
    "test_df.shape"
   ]
  },
  {
   "cell_type": "code",
   "execution_count": 6,
   "id": "2d8fdb09",
   "metadata": {
    "execution": {
     "iopub.execute_input": "2024-06-14T19:17:26.453425Z",
     "iopub.status.busy": "2024-06-14T19:17:26.453168Z",
     "iopub.status.idle": "2024-06-14T19:17:26.474623Z",
     "shell.execute_reply": "2024-06-14T19:17:26.473679Z"
    },
    "papermill": {
     "duration": 0.034368,
     "end_time": "2024-06-14T19:17:26.476491",
     "exception": false,
     "start_time": "2024-06-14T19:17:26.442123",
     "status": "completed"
    },
    "tags": []
   },
   "outputs": [
    {
     "data": {
      "text/html": [
       "<div>\n",
       "<style scoped>\n",
       "    .dataframe tbody tr th:only-of-type {\n",
       "        vertical-align: middle;\n",
       "    }\n",
       "\n",
       "    .dataframe tbody tr th {\n",
       "        vertical-align: top;\n",
       "    }\n",
       "\n",
       "    .dataframe thead th {\n",
       "        text-align: right;\n",
       "    }\n",
       "</style>\n",
       "<table border=\"1\" class=\"dataframe\">\n",
       "  <thead>\n",
       "    <tr style=\"text-align: right;\">\n",
       "      <th></th>\n",
       "      <th>id</th>\n",
       "      <th>brand</th>\n",
       "      <th>model</th>\n",
       "      <th>model_year</th>\n",
       "      <th>milage</th>\n",
       "      <th>fuel_type</th>\n",
       "      <th>engine</th>\n",
       "      <th>transmission</th>\n",
       "      <th>ext_col</th>\n",
       "      <th>int_col</th>\n",
       "      <th>accident</th>\n",
       "      <th>clean_title</th>\n",
       "      <th>price</th>\n",
       "    </tr>\n",
       "  </thead>\n",
       "  <tbody>\n",
       "    <tr>\n",
       "      <th>0</th>\n",
       "      <td>0</td>\n",
       "      <td>Ford</td>\n",
       "      <td>F-150 Lariat</td>\n",
       "      <td>2018</td>\n",
       "      <td>74349</td>\n",
       "      <td>Gasoline</td>\n",
       "      <td>375.0HP 3.5L V6 Cylinder Engine Gasoline Fuel</td>\n",
       "      <td>10-Speed A/T</td>\n",
       "      <td>Blue</td>\n",
       "      <td>Gray</td>\n",
       "      <td>None reported</td>\n",
       "      <td>Yes</td>\n",
       "      <td>11000</td>\n",
       "    </tr>\n",
       "    <tr>\n",
       "      <th>1</th>\n",
       "      <td>1</td>\n",
       "      <td>BMW</td>\n",
       "      <td>335 i</td>\n",
       "      <td>2007</td>\n",
       "      <td>80000</td>\n",
       "      <td>Gasoline</td>\n",
       "      <td>300.0HP 3.0L Straight 6 Cylinder Engine Gasoli...</td>\n",
       "      <td>6-Speed M/T</td>\n",
       "      <td>Black</td>\n",
       "      <td>Black</td>\n",
       "      <td>None reported</td>\n",
       "      <td>Yes</td>\n",
       "      <td>8250</td>\n",
       "    </tr>\n",
       "    <tr>\n",
       "      <th>2</th>\n",
       "      <td>2</td>\n",
       "      <td>Jaguar</td>\n",
       "      <td>XF Luxury</td>\n",
       "      <td>2009</td>\n",
       "      <td>91491</td>\n",
       "      <td>Gasoline</td>\n",
       "      <td>300.0HP 4.2L 8 Cylinder Engine Gasoline Fuel</td>\n",
       "      <td>6-Speed A/T</td>\n",
       "      <td>Purple</td>\n",
       "      <td>Beige</td>\n",
       "      <td>None reported</td>\n",
       "      <td>Yes</td>\n",
       "      <td>15000</td>\n",
       "    </tr>\n",
       "    <tr>\n",
       "      <th>3</th>\n",
       "      <td>3</td>\n",
       "      <td>BMW</td>\n",
       "      <td>X7 xDrive40i</td>\n",
       "      <td>2022</td>\n",
       "      <td>2437</td>\n",
       "      <td>Hybrid</td>\n",
       "      <td>335.0HP 3.0L Straight 6 Cylinder Engine Gasoli...</td>\n",
       "      <td>Transmission w/Dual Shift Mode</td>\n",
       "      <td>Gray</td>\n",
       "      <td>Brown</td>\n",
       "      <td>None reported</td>\n",
       "      <td>Yes</td>\n",
       "      <td>63500</td>\n",
       "    </tr>\n",
       "    <tr>\n",
       "      <th>4</th>\n",
       "      <td>4</td>\n",
       "      <td>Pontiac</td>\n",
       "      <td>Firebird Base</td>\n",
       "      <td>2001</td>\n",
       "      <td>111000</td>\n",
       "      <td>Gasoline</td>\n",
       "      <td>200.0HP 3.8L V6 Cylinder Engine Gasoline Fuel</td>\n",
       "      <td>A/T</td>\n",
       "      <td>White</td>\n",
       "      <td>Black</td>\n",
       "      <td>None reported</td>\n",
       "      <td>Yes</td>\n",
       "      <td>7850</td>\n",
       "    </tr>\n",
       "  </tbody>\n",
       "</table>\n",
       "</div>"
      ],
      "text/plain": [
       "   id    brand          model  model_year  milage fuel_type  \\\n",
       "0   0     Ford   F-150 Lariat        2018   74349  Gasoline   \n",
       "1   1      BMW          335 i        2007   80000  Gasoline   \n",
       "2   2   Jaguar      XF Luxury        2009   91491  Gasoline   \n",
       "3   3      BMW   X7 xDrive40i        2022    2437    Hybrid   \n",
       "4   4  Pontiac  Firebird Base        2001  111000  Gasoline   \n",
       "\n",
       "                                              engine  \\\n",
       "0      375.0HP 3.5L V6 Cylinder Engine Gasoline Fuel   \n",
       "1  300.0HP 3.0L Straight 6 Cylinder Engine Gasoli...   \n",
       "2       300.0HP 4.2L 8 Cylinder Engine Gasoline Fuel   \n",
       "3  335.0HP 3.0L Straight 6 Cylinder Engine Gasoli...   \n",
       "4      200.0HP 3.8L V6 Cylinder Engine Gasoline Fuel   \n",
       "\n",
       "                     transmission ext_col int_col       accident clean_title  \\\n",
       "0                    10-Speed A/T    Blue    Gray  None reported         Yes   \n",
       "1                     6-Speed M/T   Black   Black  None reported         Yes   \n",
       "2                     6-Speed A/T  Purple   Beige  None reported         Yes   \n",
       "3  Transmission w/Dual Shift Mode    Gray   Brown  None reported         Yes   \n",
       "4                             A/T   White   Black  None reported         Yes   \n",
       "\n",
       "   price  \n",
       "0  11000  \n",
       "1   8250  \n",
       "2  15000  \n",
       "3  63500  \n",
       "4   7850  "
      ]
     },
     "execution_count": 6,
     "metadata": {},
     "output_type": "execute_result"
    }
   ],
   "source": [
    "df.head()"
   ]
  },
  {
   "cell_type": "code",
   "execution_count": 7,
   "id": "30f73d41",
   "metadata": {
    "execution": {
     "iopub.execute_input": "2024-06-14T19:17:26.499465Z",
     "iopub.status.busy": "2024-06-14T19:17:26.499109Z",
     "iopub.status.idle": "2024-06-14T19:17:26.513385Z",
     "shell.execute_reply": "2024-06-14T19:17:26.512546Z"
    },
    "papermill": {
     "duration": 0.027923,
     "end_time": "2024-06-14T19:17:26.515265",
     "exception": false,
     "start_time": "2024-06-14T19:17:26.487342",
     "status": "completed"
    },
    "tags": []
   },
   "outputs": [
    {
     "data": {
      "text/html": [
       "<div>\n",
       "<style scoped>\n",
       "    .dataframe tbody tr th:only-of-type {\n",
       "        vertical-align: middle;\n",
       "    }\n",
       "\n",
       "    .dataframe tbody tr th {\n",
       "        vertical-align: top;\n",
       "    }\n",
       "\n",
       "    .dataframe thead th {\n",
       "        text-align: right;\n",
       "    }\n",
       "</style>\n",
       "<table border=\"1\" class=\"dataframe\">\n",
       "  <thead>\n",
       "    <tr style=\"text-align: right;\">\n",
       "      <th></th>\n",
       "      <th>id</th>\n",
       "      <th>brand</th>\n",
       "      <th>model</th>\n",
       "      <th>model_year</th>\n",
       "      <th>milage</th>\n",
       "      <th>fuel_type</th>\n",
       "      <th>engine</th>\n",
       "      <th>transmission</th>\n",
       "      <th>ext_col</th>\n",
       "      <th>int_col</th>\n",
       "      <th>accident</th>\n",
       "      <th>clean_title</th>\n",
       "    </tr>\n",
       "  </thead>\n",
       "  <tbody>\n",
       "    <tr>\n",
       "      <th>0</th>\n",
       "      <td>54273</td>\n",
       "      <td>Mercedes-Benz</td>\n",
       "      <td>E-Class E 350</td>\n",
       "      <td>2014</td>\n",
       "      <td>73000</td>\n",
       "      <td>Gasoline</td>\n",
       "      <td>302.0HP 3.5L V6 Cylinder Engine Gasoline Fuel</td>\n",
       "      <td>A/T</td>\n",
       "      <td>White</td>\n",
       "      <td>Beige</td>\n",
       "      <td>None reported</td>\n",
       "      <td>Yes</td>\n",
       "    </tr>\n",
       "    <tr>\n",
       "      <th>1</th>\n",
       "      <td>54274</td>\n",
       "      <td>Lexus</td>\n",
       "      <td>RX 350 Base</td>\n",
       "      <td>2015</td>\n",
       "      <td>128032</td>\n",
       "      <td>Gasoline</td>\n",
       "      <td>275.0HP 3.5L V6 Cylinder Engine Gasoline Fuel</td>\n",
       "      <td>8-Speed A/T</td>\n",
       "      <td>Silver</td>\n",
       "      <td>Black</td>\n",
       "      <td>None reported</td>\n",
       "      <td>Yes</td>\n",
       "    </tr>\n",
       "    <tr>\n",
       "      <th>2</th>\n",
       "      <td>54275</td>\n",
       "      <td>Mercedes-Benz</td>\n",
       "      <td>C-Class C 300</td>\n",
       "      <td>2015</td>\n",
       "      <td>51983</td>\n",
       "      <td>Gasoline</td>\n",
       "      <td>241.0HP 2.0L 4 Cylinder Engine Gasoline Fuel</td>\n",
       "      <td>7-Speed A/T</td>\n",
       "      <td>Blue</td>\n",
       "      <td>White</td>\n",
       "      <td>None reported</td>\n",
       "      <td>Yes</td>\n",
       "    </tr>\n",
       "    <tr>\n",
       "      <th>3</th>\n",
       "      <td>54276</td>\n",
       "      <td>Land</td>\n",
       "      <td>Rover Range Rover 5.0L Supercharged Autobiogra...</td>\n",
       "      <td>2018</td>\n",
       "      <td>29500</td>\n",
       "      <td>Gasoline</td>\n",
       "      <td>518.0HP 5.0L 8 Cylinder Engine Gasoline Fuel</td>\n",
       "      <td>Transmission w/Dual Shift Mode</td>\n",
       "      <td>White</td>\n",
       "      <td>White</td>\n",
       "      <td>At least 1 accident or damage reported</td>\n",
       "      <td>Yes</td>\n",
       "    </tr>\n",
       "    <tr>\n",
       "      <th>4</th>\n",
       "      <td>54277</td>\n",
       "      <td>BMW</td>\n",
       "      <td>X6 xDrive40i</td>\n",
       "      <td>2020</td>\n",
       "      <td>90000</td>\n",
       "      <td>Gasoline</td>\n",
       "      <td>335.0HP 3.0L Straight 6 Cylinder Engine Gasoli...</td>\n",
       "      <td>8-Speed A/T</td>\n",
       "      <td>White</td>\n",
       "      <td>Black</td>\n",
       "      <td>At least 1 accident or damage reported</td>\n",
       "      <td>Yes</td>\n",
       "    </tr>\n",
       "  </tbody>\n",
       "</table>\n",
       "</div>"
      ],
      "text/plain": [
       "      id          brand                                              model  \\\n",
       "0  54273  Mercedes-Benz                                      E-Class E 350   \n",
       "1  54274          Lexus                                        RX 350 Base   \n",
       "2  54275  Mercedes-Benz                                      C-Class C 300   \n",
       "3  54276           Land  Rover Range Rover 5.0L Supercharged Autobiogra...   \n",
       "4  54277            BMW                                       X6 xDrive40i   \n",
       "\n",
       "   model_year  milage fuel_type  \\\n",
       "0        2014   73000  Gasoline   \n",
       "1        2015  128032  Gasoline   \n",
       "2        2015   51983  Gasoline   \n",
       "3        2018   29500  Gasoline   \n",
       "4        2020   90000  Gasoline   \n",
       "\n",
       "                                              engine  \\\n",
       "0      302.0HP 3.5L V6 Cylinder Engine Gasoline Fuel   \n",
       "1      275.0HP 3.5L V6 Cylinder Engine Gasoline Fuel   \n",
       "2       241.0HP 2.0L 4 Cylinder Engine Gasoline Fuel   \n",
       "3       518.0HP 5.0L 8 Cylinder Engine Gasoline Fuel   \n",
       "4  335.0HP 3.0L Straight 6 Cylinder Engine Gasoli...   \n",
       "\n",
       "                     transmission ext_col int_col  \\\n",
       "0                             A/T   White   Beige   \n",
       "1                     8-Speed A/T  Silver   Black   \n",
       "2                     7-Speed A/T    Blue   White   \n",
       "3  Transmission w/Dual Shift Mode   White   White   \n",
       "4                     8-Speed A/T   White   Black   \n",
       "\n",
       "                                 accident clean_title  \n",
       "0                           None reported         Yes  \n",
       "1                           None reported         Yes  \n",
       "2                           None reported         Yes  \n",
       "3  At least 1 accident or damage reported         Yes  \n",
       "4  At least 1 accident or damage reported         Yes  "
      ]
     },
     "execution_count": 7,
     "metadata": {},
     "output_type": "execute_result"
    }
   ],
   "source": [
    "test_df.head()"
   ]
  },
  {
   "cell_type": "code",
   "execution_count": 8,
   "id": "5c496da1",
   "metadata": {
    "execution": {
     "iopub.execute_input": "2024-06-14T19:17:26.538894Z",
     "iopub.status.busy": "2024-06-14T19:17:26.538611Z",
     "iopub.status.idle": "2024-06-14T19:17:26.591026Z",
     "shell.execute_reply": "2024-06-14T19:17:26.590142Z"
    },
    "papermill": {
     "duration": 0.066437,
     "end_time": "2024-06-14T19:17:26.593027",
     "exception": false,
     "start_time": "2024-06-14T19:17:26.526590",
     "status": "completed"
    },
    "tags": []
   },
   "outputs": [
    {
     "data": {
      "text/plain": [
       "id              0\n",
       "brand           0\n",
       "model           0\n",
       "model_year      0\n",
       "milage          0\n",
       "fuel_type       0\n",
       "engine          0\n",
       "transmission    0\n",
       "ext_col         0\n",
       "int_col         0\n",
       "accident        0\n",
       "clean_title     0\n",
       "price           0\n",
       "dtype: int64"
      ]
     },
     "execution_count": 8,
     "metadata": {},
     "output_type": "execute_result"
    }
   ],
   "source": [
    "df.isna().sum()"
   ]
  },
  {
   "cell_type": "code",
   "execution_count": 9,
   "id": "94bbf26d",
   "metadata": {
    "execution": {
     "iopub.execute_input": "2024-06-14T19:17:26.616589Z",
     "iopub.status.busy": "2024-06-14T19:17:26.616296Z",
     "iopub.status.idle": "2024-06-14T19:17:26.673213Z",
     "shell.execute_reply": "2024-06-14T19:17:26.672361Z"
    },
    "papermill": {
     "duration": 0.070715,
     "end_time": "2024-06-14T19:17:26.675176",
     "exception": false,
     "start_time": "2024-06-14T19:17:26.604461",
     "status": "completed"
    },
    "tags": []
   },
   "outputs": [
    {
     "data": {
      "text/plain": [
       "0"
      ]
     },
     "execution_count": 9,
     "metadata": {},
     "output_type": "execute_result"
    }
   ],
   "source": [
    "df.duplicated().sum()"
   ]
  },
  {
   "cell_type": "markdown",
   "id": "6212bf43",
   "metadata": {
    "papermill": {
     "duration": 0.011033,
     "end_time": "2024-06-14T19:17:26.706533",
     "exception": false,
     "start_time": "2024-06-14T19:17:26.695500",
     "status": "completed"
    },
    "tags": []
   },
   "source": []
  },
  {
   "cell_type": "code",
   "execution_count": 10,
   "id": "56475d62",
   "metadata": {
    "execution": {
     "iopub.execute_input": "2024-06-14T19:17:26.730810Z",
     "iopub.status.busy": "2024-06-14T19:17:26.730510Z",
     "iopub.status.idle": "2024-06-14T19:17:26.790792Z",
     "shell.execute_reply": "2024-06-14T19:17:26.789638Z"
    },
    "papermill": {
     "duration": 0.07467,
     "end_time": "2024-06-14T19:17:26.792840",
     "exception": false,
     "start_time": "2024-06-14T19:17:26.718170",
     "status": "completed"
    },
    "tags": []
   },
   "outputs": [
    {
     "name": "stdout",
     "output_type": "stream",
     "text": [
      "<class 'pandas.core.frame.DataFrame'>\n",
      "RangeIndex: 54273 entries, 0 to 54272\n",
      "Data columns (total 13 columns):\n",
      " #   Column        Non-Null Count  Dtype \n",
      "---  ------        --------------  ----- \n",
      " 0   id            54273 non-null  int64 \n",
      " 1   brand         54273 non-null  object\n",
      " 2   model         54273 non-null  object\n",
      " 3   model_year    54273 non-null  int64 \n",
      " 4   milage        54273 non-null  int64 \n",
      " 5   fuel_type     54273 non-null  object\n",
      " 6   engine        54273 non-null  object\n",
      " 7   transmission  54273 non-null  object\n",
      " 8   ext_col       54273 non-null  object\n",
      " 9   int_col       54273 non-null  object\n",
      " 10  accident      54273 non-null  object\n",
      " 11  clean_title   54273 non-null  object\n",
      " 12  price         54273 non-null  int64 \n",
      "dtypes: int64(4), object(9)\n",
      "memory usage: 5.4+ MB\n"
     ]
    }
   ],
   "source": [
    "df.info()"
   ]
  },
  {
   "cell_type": "code",
   "execution_count": 11,
   "id": "6e6c565f",
   "metadata": {
    "execution": {
     "iopub.execute_input": "2024-06-14T19:17:26.817597Z",
     "iopub.status.busy": "2024-06-14T19:17:26.817269Z",
     "iopub.status.idle": "2024-06-14T19:17:26.869851Z",
     "shell.execute_reply": "2024-06-14T19:17:26.869007Z"
    },
    "papermill": {
     "duration": 0.066631,
     "end_time": "2024-06-14T19:17:26.871678",
     "exception": false,
     "start_time": "2024-06-14T19:17:26.805047",
     "status": "completed"
    },
    "tags": []
   },
   "outputs": [
    {
     "data": {
      "text/plain": [
       "id              54273\n",
       "brand              53\n",
       "model            1827\n",
       "model_year         34\n",
       "milage           3212\n",
       "fuel_type           7\n",
       "engine           1061\n",
       "transmission       46\n",
       "ext_col           260\n",
       "int_col           124\n",
       "accident            2\n",
       "clean_title         1\n",
       "price            1481\n",
       "dtype: int64"
      ]
     },
     "execution_count": 11,
     "metadata": {},
     "output_type": "execute_result"
    }
   ],
   "source": [
    "df.nunique()"
   ]
  },
  {
   "cell_type": "code",
   "execution_count": 12,
   "id": "0466f7c5",
   "metadata": {
    "execution": {
     "iopub.execute_input": "2024-06-14T19:17:26.900989Z",
     "iopub.status.busy": "2024-06-14T19:17:26.900715Z",
     "iopub.status.idle": "2024-06-14T19:17:26.927718Z",
     "shell.execute_reply": "2024-06-14T19:17:26.926770Z"
    },
    "papermill": {
     "duration": 0.045984,
     "end_time": "2024-06-14T19:17:26.929634",
     "exception": false,
     "start_time": "2024-06-14T19:17:26.883650",
     "status": "completed"
    },
    "tags": []
   },
   "outputs": [
    {
     "data": {
      "text/html": [
       "<div>\n",
       "<style scoped>\n",
       "    .dataframe tbody tr th:only-of-type {\n",
       "        vertical-align: middle;\n",
       "    }\n",
       "\n",
       "    .dataframe tbody tr th {\n",
       "        vertical-align: top;\n",
       "    }\n",
       "\n",
       "    .dataframe thead th {\n",
       "        text-align: right;\n",
       "    }\n",
       "</style>\n",
       "<table border=\"1\" class=\"dataframe\">\n",
       "  <thead>\n",
       "    <tr style=\"text-align: right;\">\n",
       "      <th></th>\n",
       "      <th>id</th>\n",
       "      <th>model_year</th>\n",
       "      <th>milage</th>\n",
       "      <th>price</th>\n",
       "    </tr>\n",
       "  </thead>\n",
       "  <tbody>\n",
       "    <tr>\n",
       "      <th>count</th>\n",
       "      <td>54273.000000</td>\n",
       "      <td>54273.000000</td>\n",
       "      <td>54273.000000</td>\n",
       "      <td>5.427300e+04</td>\n",
       "    </tr>\n",
       "    <tr>\n",
       "      <th>mean</th>\n",
       "      <td>27136.000000</td>\n",
       "      <td>2015.091979</td>\n",
       "      <td>72746.175667</td>\n",
       "      <td>3.921844e+04</td>\n",
       "    </tr>\n",
       "    <tr>\n",
       "      <th>std</th>\n",
       "      <td>15667.409917</td>\n",
       "      <td>5.588909</td>\n",
       "      <td>50469.490448</td>\n",
       "      <td>7.282634e+04</td>\n",
       "    </tr>\n",
       "    <tr>\n",
       "      <th>min</th>\n",
       "      <td>0.000000</td>\n",
       "      <td>1974.000000</td>\n",
       "      <td>100.000000</td>\n",
       "      <td>2.000000e+03</td>\n",
       "    </tr>\n",
       "    <tr>\n",
       "      <th>25%</th>\n",
       "      <td>13568.000000</td>\n",
       "      <td>2012.000000</td>\n",
       "      <td>32268.000000</td>\n",
       "      <td>1.550000e+04</td>\n",
       "    </tr>\n",
       "    <tr>\n",
       "      <th>50%</th>\n",
       "      <td>27136.000000</td>\n",
       "      <td>2016.000000</td>\n",
       "      <td>66107.000000</td>\n",
       "      <td>2.800000e+04</td>\n",
       "    </tr>\n",
       "    <tr>\n",
       "      <th>75%</th>\n",
       "      <td>40704.000000</td>\n",
       "      <td>2019.000000</td>\n",
       "      <td>102000.000000</td>\n",
       "      <td>4.500000e+04</td>\n",
       "    </tr>\n",
       "    <tr>\n",
       "      <th>max</th>\n",
       "      <td>54272.000000</td>\n",
       "      <td>2024.000000</td>\n",
       "      <td>405000.000000</td>\n",
       "      <td>2.954083e+06</td>\n",
       "    </tr>\n",
       "  </tbody>\n",
       "</table>\n",
       "</div>"
      ],
      "text/plain": [
       "                 id    model_year         milage         price\n",
       "count  54273.000000  54273.000000   54273.000000  5.427300e+04\n",
       "mean   27136.000000   2015.091979   72746.175667  3.921844e+04\n",
       "std    15667.409917      5.588909   50469.490448  7.282634e+04\n",
       "min        0.000000   1974.000000     100.000000  2.000000e+03\n",
       "25%    13568.000000   2012.000000   32268.000000  1.550000e+04\n",
       "50%    27136.000000   2016.000000   66107.000000  2.800000e+04\n",
       "75%    40704.000000   2019.000000  102000.000000  4.500000e+04\n",
       "max    54272.000000   2024.000000  405000.000000  2.954083e+06"
      ]
     },
     "execution_count": 12,
     "metadata": {},
     "output_type": "execute_result"
    }
   ],
   "source": [
    "df.describe()"
   ]
  },
  {
   "cell_type": "markdown",
   "id": "ada3a621",
   "metadata": {
    "papermill": {
     "duration": 0.016896,
     "end_time": "2024-06-14T19:17:26.958701",
     "exception": false,
     "start_time": "2024-06-14T19:17:26.941805",
     "status": "completed"
    },
    "tags": []
   },
   "source": [
    "### Based on the data\n",
    "- #### Too many models and engine\n",
    "- #### Engine could probably be broken down into more features"
   ]
  },
  {
   "cell_type": "markdown",
   "id": "4f97a628",
   "metadata": {
    "papermill": {
     "duration": 0.0184,
     "end_time": "2024-06-14T19:17:26.996631",
     "exception": false,
     "start_time": "2024-06-14T19:17:26.978231",
     "status": "completed"
    },
    "tags": []
   },
   "source": [
    "## Exploratory Data Analysis (EDA) and Data Preprocessing"
   ]
  },
  {
   "cell_type": "code",
   "execution_count": 13,
   "id": "ba362a34",
   "metadata": {
    "execution": {
     "iopub.execute_input": "2024-06-14T19:17:27.026547Z",
     "iopub.status.busy": "2024-06-14T19:17:27.026120Z",
     "iopub.status.idle": "2024-06-14T19:17:27.032102Z",
     "shell.execute_reply": "2024-06-14T19:17:27.031174Z"
    },
    "papermill": {
     "duration": 0.02131,
     "end_time": "2024-06-14T19:17:27.034578",
     "exception": false,
     "start_time": "2024-06-14T19:17:27.013268",
     "status": "completed"
    },
    "tags": []
   },
   "outputs": [
    {
     "name": "stdout",
     "output_type": "stream",
     "text": [
      "Number of Columns: 13\n",
      "Number of Categorical Features: 9\n",
      "Number of Numerical Features: 2\n"
     ]
    }
   ],
   "source": [
    "categorical_features = [\n",
    "    \"brand\",\n",
    "    \"model\",\n",
    "    \"fuel_type\",\n",
    "    \"engine\",\n",
    "    \"transmission\",\n",
    "    \"ext_col\",\n",
    "    \"int_col\",\n",
    "    \"accident\",\n",
    "    \"clean_title\",\n",
    "]\n",
    "\n",
    "numerical_features = [\n",
    "    \"milage\",\n",
    "    \"model_year\",\n",
    "]\n",
    "\n",
    "print(f\"Number of Columns: {len(df.columns)}\")\n",
    "print(f\"Number of Categorical Features: {len(categorical_features)}\")\n",
    "print(f\"Number of Numerical Features: {len(numerical_features)}\")"
   ]
  },
  {
   "cell_type": "markdown",
   "id": "7e8291dc",
   "metadata": {
    "papermill": {
     "duration": 0.015082,
     "end_time": "2024-06-14T19:17:27.063464",
     "exception": false,
     "start_time": "2024-06-14T19:17:27.048382",
     "status": "completed"
    },
    "tags": []
   },
   "source": [
    "### The 2 columns not used as features are:\n",
    "- #### id\n",
    "- #### price, which will be the label"
   ]
  },
  {
   "cell_type": "code",
   "execution_count": 14,
   "id": "8718e4c7",
   "metadata": {
    "execution": {
     "iopub.execute_input": "2024-06-14T19:17:27.095658Z",
     "iopub.status.busy": "2024-06-14T19:17:27.095321Z",
     "iopub.status.idle": "2024-06-14T19:17:28.141770Z",
     "shell.execute_reply": "2024-06-14T19:17:28.141052Z"
    },
    "papermill": {
     "duration": 1.063962,
     "end_time": "2024-06-14T19:17:28.143805",
     "exception": false,
     "start_time": "2024-06-14T19:17:27.079843",
     "status": "completed"
    },
    "tags": []
   },
   "outputs": [
    {
     "name": "stderr",
     "output_type": "stream",
     "text": [
      "/opt/conda/lib/python3.10/site-packages/seaborn/_oldcore.py:1119: FutureWarning: use_inf_as_na option is deprecated and will be removed in a future version. Convert inf values to NaN before operating instead.\n",
      "  with pd.option_context('mode.use_inf_as_na', True):\n",
      "/opt/conda/lib/python3.10/site-packages/seaborn/_oldcore.py:1119: FutureWarning: use_inf_as_na option is deprecated and will be removed in a future version. Convert inf values to NaN before operating instead.\n",
      "  with pd.option_context('mode.use_inf_as_na', True):\n"
     ]
    },
    {
     "data": {
      "image/png": "[encoded data removed]",
      "text/plain": [
       "<Figure size 1200x800 with 2 Axes>"
      ]
     },
     "metadata": {},
     "output_type": "display_data"
    }
   ],
   "source": [
    "plt.figure(figsize=(12, 8))\n",
    "for index, feature in enumerate(numerical_features, start=1):\n",
    "    plt.subplot(3, 3, index)\n",
    "    sns.histplot(data=df[feature], bins=10, kde=True)\n",
    "    plt.title(f\"{feature} vs price\")\n",
    "plt.show()"
   ]
  },
  {
   "cell_type": "code",
   "execution_count": 15,
   "id": "3f44cb0c",
   "metadata": {
    "execution": {
     "iopub.execute_input": "2024-06-14T19:17:28.171271Z",
     "iopub.status.busy": "2024-06-14T19:17:28.170524Z",
     "iopub.status.idle": "2024-06-14T19:17:30.107890Z",
     "shell.execute_reply": "2024-06-14T19:17:30.106877Z"
    },
    "papermill": {
     "duration": 1.953136,
     "end_time": "2024-06-14T19:17:30.110170",
     "exception": false,
     "start_time": "2024-06-14T19:17:28.157034",
     "status": "completed"
    },
    "tags": []
   },
   "outputs": [
    {
     "data": {
      "image/png": "[encoded data removed]",
      "text/plain": [
       "<Figure size 1200x800 with 3 Axes>"
      ]
     },
     "metadata": {},
     "output_type": "display_data"
    }
   ],
   "source": [
    "categorical_few_uniques_features = [\"fuel_type\", \"accident\", \"clean_title\"]\n",
    "\n",
    "plt.figure(figsize=(12, 8))\n",
    "for index, feature in enumerate(categorical_few_uniques_features, start=1):\n",
    "    plt.subplot(3, 3, index)\n",
    "    sns.barplot(data=df, x=feature, y=\"price\")\n",
    "    plt.title(f\"{feature} vs price\")\n",
    "plt.show()"
   ]
  },
  {
   "cell_type": "markdown",
   "id": "415c2a9c",
   "metadata": {
    "papermill": {
     "duration": 0.013142,
     "end_time": "2024-06-14T19:17:30.136912",
     "exception": false,
     "start_time": "2024-06-14T19:17:30.123770",
     "status": "completed"
    },
    "tags": []
   },
   "source": []
  },
  {
   "cell_type": "code",
   "execution_count": 16,
   "id": "c8746e46",
   "metadata": {
    "execution": {
     "iopub.execute_input": "2024-06-14T19:17:30.164667Z",
     "iopub.status.busy": "2024-06-14T19:17:30.164355Z",
     "iopub.status.idle": "2024-06-14T19:17:30.168519Z",
     "shell.execute_reply": "2024-06-14T19:17:30.167546Z"
    },
    "papermill": {
     "duration": 0.020669,
     "end_time": "2024-06-14T19:17:30.170823",
     "exception": false,
     "start_time": "2024-06-14T19:17:30.150154",
     "status": "completed"
    },
    "tags": []
   },
   "outputs": [],
   "source": [
    "# Plot top 20 of \n",
    "#     \"model\",\n",
    "#     \"engine\",\n",
    "#     \"transmission\",\n",
    "#     \"ext_col\",\n",
    "#     \"int_col\",\n"
   ]
  },
  {
   "cell_type": "code",
   "execution_count": 17,
   "id": "02c04a83",
   "metadata": {
    "execution": {
     "iopub.execute_input": "2024-06-14T19:17:30.204069Z",
     "iopub.status.busy": "2024-06-14T19:17:30.203773Z",
     "iopub.status.idle": "2024-06-14T19:17:30.207719Z",
     "shell.execute_reply": "2024-06-14T19:17:30.206826Z"
    },
    "papermill": {
     "duration": 0.0211,
     "end_time": "2024-06-14T19:17:30.209643",
     "exception": false,
     "start_time": "2024-06-14T19:17:30.188543",
     "status": "completed"
    },
    "tags": []
   },
   "outputs": [],
   "source": [
    "# Plot price"
   ]
  },
  {
   "cell_type": "code",
   "execution_count": 18,
   "id": "62d59a03",
   "metadata": {
    "execution": {
     "iopub.execute_input": "2024-06-14T19:17:30.242338Z",
     "iopub.status.busy": "2024-06-14T19:17:30.241600Z",
     "iopub.status.idle": "2024-06-14T19:17:30.246216Z",
     "shell.execute_reply": "2024-06-14T19:17:30.245295Z"
    },
    "papermill": {
     "duration": 0.025369,
     "end_time": "2024-06-14T19:17:30.248745",
     "exception": false,
     "start_time": "2024-06-14T19:17:30.223376",
     "status": "completed"
    },
    "tags": []
   },
   "outputs": [],
   "source": [
    "# Plot heatmap"
   ]
  },
  {
   "cell_type": "markdown",
   "id": "44fa7ea5",
   "metadata": {
    "papermill": {
     "duration": 0.013518,
     "end_time": "2024-06-14T19:17:30.278678",
     "exception": false,
     "start_time": "2024-06-14T19:17:30.265160",
     "status": "completed"
    },
    "tags": []
   },
   "source": [
    "## Separate Features and Labels"
   ]
  },
  {
   "cell_type": "code",
   "execution_count": 19,
   "id": "fdf724d8",
   "metadata": {
    "execution": {
     "iopub.execute_input": "2024-06-14T19:17:30.310781Z",
     "iopub.status.busy": "2024-06-14T19:17:30.310435Z",
     "iopub.status.idle": "2024-06-14T19:17:30.329951Z",
     "shell.execute_reply": "2024-06-14T19:17:30.328842Z"
    },
    "papermill": {
     "duration": 0.038428,
     "end_time": "2024-06-14T19:17:30.332286",
     "exception": false,
     "start_time": "2024-06-14T19:17:30.293858",
     "status": "completed"
    },
    "tags": []
   },
   "outputs": [
    {
     "data": {
      "text/html": [
       "<div>\n",
       "<style scoped>\n",
       "    .dataframe tbody tr th:only-of-type {\n",
       "        vertical-align: middle;\n",
       "    }\n",
       "\n",
       "    .dataframe tbody tr th {\n",
       "        vertical-align: top;\n",
       "    }\n",
       "\n",
       "    .dataframe thead th {\n",
       "        text-align: right;\n",
       "    }\n",
       "</style>\n",
       "<table border=\"1\" class=\"dataframe\">\n",
       "  <thead>\n",
       "    <tr style=\"text-align: right;\">\n",
       "      <th></th>\n",
       "      <th>brand</th>\n",
       "      <th>model</th>\n",
       "      <th>model_year</th>\n",
       "      <th>milage</th>\n",
       "      <th>fuel_type</th>\n",
       "      <th>engine</th>\n",
       "      <th>transmission</th>\n",
       "      <th>ext_col</th>\n",
       "      <th>int_col</th>\n",
       "      <th>accident</th>\n",
       "      <th>clean_title</th>\n",
       "    </tr>\n",
       "  </thead>\n",
       "  <tbody>\n",
       "    <tr>\n",
       "      <th>0</th>\n",
       "      <td>Ford</td>\n",
       "      <td>F-150 Lariat</td>\n",
       "      <td>2018</td>\n",
       "      <td>74349</td>\n",
       "      <td>Gasoline</td>\n",
       "      <td>375.0HP 3.5L V6 Cylinder Engine Gasoline Fuel</td>\n",
       "      <td>10-Speed A/T</td>\n",
       "      <td>Blue</td>\n",
       "      <td>Gray</td>\n",
       "      <td>None reported</td>\n",
       "      <td>Yes</td>\n",
       "    </tr>\n",
       "    <tr>\n",
       "      <th>1</th>\n",
       "      <td>BMW</td>\n",
       "      <td>335 i</td>\n",
       "      <td>2007</td>\n",
       "      <td>80000</td>\n",
       "      <td>Gasoline</td>\n",
       "      <td>300.0HP 3.0L Straight 6 Cylinder Engine Gasoli...</td>\n",
       "      <td>6-Speed M/T</td>\n",
       "      <td>Black</td>\n",
       "      <td>Black</td>\n",
       "      <td>None reported</td>\n",
       "      <td>Yes</td>\n",
       "    </tr>\n",
       "    <tr>\n",
       "      <th>2</th>\n",
       "      <td>Jaguar</td>\n",
       "      <td>XF Luxury</td>\n",
       "      <td>2009</td>\n",
       "      <td>91491</td>\n",
       "      <td>Gasoline</td>\n",
       "      <td>300.0HP 4.2L 8 Cylinder Engine Gasoline Fuel</td>\n",
       "      <td>6-Speed A/T</td>\n",
       "      <td>Purple</td>\n",
       "      <td>Beige</td>\n",
       "      <td>None reported</td>\n",
       "      <td>Yes</td>\n",
       "    </tr>\n",
       "    <tr>\n",
       "      <th>3</th>\n",
       "      <td>BMW</td>\n",
       "      <td>X7 xDrive40i</td>\n",
       "      <td>2022</td>\n",
       "      <td>2437</td>\n",
       "      <td>Hybrid</td>\n",
       "      <td>335.0HP 3.0L Straight 6 Cylinder Engine Gasoli...</td>\n",
       "      <td>Transmission w/Dual Shift Mode</td>\n",
       "      <td>Gray</td>\n",
       "      <td>Brown</td>\n",
       "      <td>None reported</td>\n",
       "      <td>Yes</td>\n",
       "    </tr>\n",
       "    <tr>\n",
       "      <th>4</th>\n",
       "      <td>Pontiac</td>\n",
       "      <td>Firebird Base</td>\n",
       "      <td>2001</td>\n",
       "      <td>111000</td>\n",
       "      <td>Gasoline</td>\n",
       "      <td>200.0HP 3.8L V6 Cylinder Engine Gasoline Fuel</td>\n",
       "      <td>A/T</td>\n",
       "      <td>White</td>\n",
       "      <td>Black</td>\n",
       "      <td>None reported</td>\n",
       "      <td>Yes</td>\n",
       "    </tr>\n",
       "  </tbody>\n",
       "</table>\n",
       "</div>"
      ],
      "text/plain": [
       "     brand          model  model_year  milage fuel_type  \\\n",
       "0     Ford   F-150 Lariat        2018   74349  Gasoline   \n",
       "1      BMW          335 i        2007   80000  Gasoline   \n",
       "2   Jaguar      XF Luxury        2009   91491  Gasoline   \n",
       "3      BMW   X7 xDrive40i        2022    2437    Hybrid   \n",
       "4  Pontiac  Firebird Base        2001  111000  Gasoline   \n",
       "\n",
       "                                              engine  \\\n",
       "0      375.0HP 3.5L V6 Cylinder Engine Gasoline Fuel   \n",
       "1  300.0HP 3.0L Straight 6 Cylinder Engine Gasoli...   \n",
       "2       300.0HP 4.2L 8 Cylinder Engine Gasoline Fuel   \n",
       "3  335.0HP 3.0L Straight 6 Cylinder Engine Gasoli...   \n",
       "4      200.0HP 3.8L V6 Cylinder Engine Gasoline Fuel   \n",
       "\n",
       "                     transmission ext_col int_col       accident clean_title  \n",
       "0                    10-Speed A/T    Blue    Gray  None reported         Yes  \n",
       "1                     6-Speed M/T   Black   Black  None reported         Yes  \n",
       "2                     6-Speed A/T  Purple   Beige  None reported         Yes  \n",
       "3  Transmission w/Dual Shift Mode    Gray   Brown  None reported         Yes  \n",
       "4                             A/T   White   Black  None reported         Yes  "
      ]
     },
     "execution_count": 19,
     "metadata": {},
     "output_type": "execute_result"
    }
   ],
   "source": [
    "# Set features similar to the test set only without id column\n",
    "features = df.copy()\n",
    "features.pop(\"id\")\n",
    "\n",
    "# Remove price column in features and save it in labels\n",
    "labels = features.pop(\"price\")\n",
    "features.head()"
   ]
  },
  {
   "cell_type": "code",
   "execution_count": 20,
   "id": "1c4d2de0",
   "metadata": {
    "execution": {
     "iopub.execute_input": "2024-06-14T19:17:30.362455Z",
     "iopub.status.busy": "2024-06-14T19:17:30.361887Z",
     "iopub.status.idle": "2024-06-14T19:17:30.367919Z",
     "shell.execute_reply": "2024-06-14T19:17:30.367075Z"
    },
    "papermill": {
     "duration": 0.022878,
     "end_time": "2024-06-14T19:17:30.370147",
     "exception": false,
     "start_time": "2024-06-14T19:17:30.347269",
     "status": "completed"
    },
    "tags": []
   },
   "outputs": [
    {
     "data": {
      "text/plain": [
       "0    11000\n",
       "1     8250\n",
       "2    15000\n",
       "3    63500\n",
       "4     7850\n",
       "Name: price, dtype: int64"
      ]
     },
     "execution_count": 20,
     "metadata": {},
     "output_type": "execute_result"
    }
   ],
   "source": [
    "labels.head()"
   ]
  },
  {
   "cell_type": "markdown",
   "id": "f8698706",
   "metadata": {
    "papermill": {
     "duration": 0.013611,
     "end_time": "2024-06-14T19:17:30.400970",
     "exception": false,
     "start_time": "2024-06-14T19:17:30.387359",
     "status": "completed"
    },
    "tags": []
   },
   "source": [
    "## Split Dataset"
   ]
  },
  {
   "cell_type": "code",
   "execution_count": 21,
   "id": "ba595516",
   "metadata": {
    "execution": {
     "iopub.execute_input": "2024-06-14T19:17:30.470673Z",
     "iopub.status.busy": "2024-06-14T19:17:30.469878Z",
     "iopub.status.idle": "2024-06-14T19:17:30.502607Z",
     "shell.execute_reply": "2024-06-14T19:17:30.501674Z"
    },
    "papermill": {
     "duration": 0.04964,
     "end_time": "2024-06-14T19:17:30.504787",
     "exception": false,
     "start_time": "2024-06-14T19:17:30.455147",
     "status": "completed"
    },
    "tags": []
   },
   "outputs": [],
   "source": [
    "# Split the dataset into train (70%) and remain (30%) subsets\n",
    "train_features, remain_features, train_labels, remain_labels = sklearn.model_selection.train_test_split(\n",
    "    features, \n",
    "    labels,\n",
    "    test_size=0.3,\n",
    "    shuffle=True\n",
    ")\n",
    "\n",
    "# Split the remain subset into valid (70%) and test (30%) subset\n",
    "valid_features, test_features, valid_labels, test_labels = sklearn.model_selection.train_test_split(\n",
    "    remain_features, \n",
    "    remain_labels,\n",
    "    test_size=0.3,\n",
    "    shuffle=True\n",
    ")"
   ]
  },
  {
   "cell_type": "code",
   "execution_count": 22,
   "id": "cb142571",
   "metadata": {
    "execution": {
     "iopub.execute_input": "2024-06-14T19:17:30.535306Z",
     "iopub.status.busy": "2024-06-14T19:17:30.534660Z",
     "iopub.status.idle": "2024-06-14T19:17:30.542614Z",
     "shell.execute_reply": "2024-06-14T19:17:30.541799Z"
    },
    "papermill": {
     "duration": 0.025268,
     "end_time": "2024-06-14T19:17:30.545048",
     "exception": false,
     "start_time": "2024-06-14T19:17:30.519780",
     "status": "completed"
    },
    "tags": []
   },
   "outputs": [
    {
     "name": "stdout",
     "output_type": "stream",
     "text": [
      "Index([5461, 1650, 21844, 24212, 38010], dtype='int64')\n",
      "Index([5461, 1650, 21844, 24212, 38010], dtype='int64')\n",
      "Index([53171, 43081, 35889, 17997, 3901], dtype='int64')\n",
      "Index([53171, 43081, 35889, 17997, 3901], dtype='int64')\n",
      "Index([24022, 30450, 32115, 29791, 31805], dtype='int64')\n",
      "Index([24022, 30450, 32115, 29791, 31805], dtype='int64')\n"
     ]
    }
   ],
   "source": [
    "# Check if indices of features and labels still match\n",
    "print(train_features.head().index)\n",
    "print(train_labels.head().index)\n",
    "\n",
    "print(test_features.head().index)\n",
    "print(test_labels.head().index)\n",
    "\n",
    "print(valid_features.head().index)\n",
    "print(valid_labels.head().index)"
   ]
  },
  {
   "cell_type": "code",
   "execution_count": 23,
   "id": "2ac582fe",
   "metadata": {
    "execution": {
     "iopub.execute_input": "2024-06-14T19:17:30.575092Z",
     "iopub.status.busy": "2024-06-14T19:17:30.574823Z",
     "iopub.status.idle": "2024-06-14T19:17:30.583897Z",
     "shell.execute_reply": "2024-06-14T19:17:30.582727Z"
    },
    "papermill": {
     "duration": 0.025885,
     "end_time": "2024-06-14T19:17:30.586030",
     "exception": false,
     "start_time": "2024-06-14T19:17:30.560145",
     "status": "completed"
    },
    "tags": []
   },
   "outputs": [
    {
     "name": "stdout",
     "output_type": "stream",
     "text": [
      "37991.1 37991 37991\n",
      "11397.33 11397 11397\n",
      "4884.57 4885 4885\n"
     ]
    },
    {
     "data": {
      "text/plain": [
       "(54273, 54273, 54273)"
      ]
     },
     "execution_count": 23,
     "metadata": {},
     "output_type": "execute_result"
    }
   ],
   "source": [
    "# Check if dataset were split correctly\n",
    "dataset_size = len(df)\n",
    "print(dataset_size * 0.7, len(train_features), len(train_labels))\n",
    "print(dataset_size * 0.3 * 0.7, len(valid_features), len(valid_labels))\n",
    "print(dataset_size * 0.3 * 0.3, len(test_features), len(test_labels))\n",
    "\n",
    "# Check if total of the subsets the same as dataset_size\n",
    "dataset_size, len(train_features) + len(valid_features) + len(test_features), len(train_labels) + len(valid_labels) + len(test_labels)"
   ]
  },
  {
   "cell_type": "code",
   "execution_count": null,
   "id": "4e888efb",
   "metadata": {
    "papermill": {
     "duration": 0.014093,
     "end_time": "2024-06-14T19:17:30.615072",
     "exception": false,
     "start_time": "2024-06-14T19:17:30.600979",
     "status": "completed"
    },
    "tags": []
   },
   "outputs": [],
   "source": []
  },
  {
   "cell_type": "markdown",
   "id": "3edc1060",
   "metadata": {
    "papermill": {
     "duration": 0.014459,
     "end_time": "2024-06-14T19:17:30.644015",
     "exception": false,
     "start_time": "2024-06-14T19:17:30.629556",
     "status": "completed"
    },
    "tags": []
   },
   "source": [
    "## Build the model"
   ]
  },
  {
   "cell_type": "code",
   "execution_count": 24,
   "id": "59ee82b4",
   "metadata": {
    "execution": {
     "iopub.execute_input": "2024-06-14T19:17:30.674383Z",
     "iopub.status.busy": "2024-06-14T19:17:30.674090Z",
     "iopub.status.idle": "2024-06-14T19:17:31.480961Z",
     "shell.execute_reply": "2024-06-14T19:17:31.479968Z"
    },
    "papermill": {
     "duration": 0.824613,
     "end_time": "2024-06-14T19:17:31.483406",
     "exception": false,
     "start_time": "2024-06-14T19:17:30.658793",
     "status": "completed"
    },
    "tags": []
   },
   "outputs": [],
   "source": [
    "model = tf.keras.Sequential(\n",
    "    [\n",
    "        # Input Layer, Normalized Layer Here \n",
    "        tf.keras.layers.Dense(units=128, activation=\"relu\", name=\"Hidden Layer\"),\n",
    "        tf.keras.layers.Dense(units=1, activation=\"softmax\", name=\"Output Layer\"),\n",
    "    ]\n",
    ")\n",
    "\n",
    "\n",
    "\n",
    "model.compile(\n",
    "    optimizer=tf.keras.optimizers.Adam(learning_rate=0.0001),\n",
    "    loss=tf.keras.losses.MeanSquaredError(),\n",
    "    metrics=[tf.keras.metrics.MeanSquaredError()],\n",
    ")"
   ]
  },
  {
   "cell_type": "markdown",
   "id": "b8750a38",
   "metadata": {
    "papermill": {
     "duration": 0.014953,
     "end_time": "2024-06-14T19:17:31.513104",
     "exception": false,
     "start_time": "2024-06-14T19:17:31.498151",
     "status": "completed"
    },
    "tags": []
   },
   "source": [
    "## Train Model"
   ]
  },
  {
   "cell_type": "code",
   "execution_count": 25,
   "id": "67f01b94",
   "metadata": {
    "execution": {
     "iopub.execute_input": "2024-06-14T19:17:31.544253Z",
     "iopub.status.busy": "2024-06-14T19:17:31.543622Z",
     "iopub.status.idle": "2024-06-14T19:17:31.562218Z",
     "shell.execute_reply": "2024-06-14T19:17:31.561357Z"
    },
    "papermill": {
     "duration": 0.036105,
     "end_time": "2024-06-14T19:17:31.564121",
     "exception": false,
     "start_time": "2024-06-14T19:17:31.528016",
     "status": "completed"
    },
    "tags": []
   },
   "outputs": [
    {
     "data": {
      "text/html": [
       "<div>\n",
       "<style scoped>\n",
       "    .dataframe tbody tr th:only-of-type {\n",
       "        vertical-align: middle;\n",
       "    }\n",
       "\n",
       "    .dataframe tbody tr th {\n",
       "        vertical-align: top;\n",
       "    }\n",
       "\n",
       "    .dataframe thead th {\n",
       "        text-align: right;\n",
       "    }\n",
       "</style>\n",
       "<table border=\"1\" class=\"dataframe\">\n",
       "  <thead>\n",
       "    <tr style=\"text-align: right;\">\n",
       "      <th></th>\n",
       "      <th>brand</th>\n",
       "      <th>model</th>\n",
       "      <th>model_year</th>\n",
       "      <th>milage</th>\n",
       "      <th>fuel_type</th>\n",
       "      <th>engine</th>\n",
       "      <th>transmission</th>\n",
       "      <th>ext_col</th>\n",
       "      <th>int_col</th>\n",
       "      <th>accident</th>\n",
       "      <th>clean_title</th>\n",
       "    </tr>\n",
       "  </thead>\n",
       "  <tbody>\n",
       "    <tr>\n",
       "      <th>5461</th>\n",
       "      <td>BMW</td>\n",
       "      <td>X1 sDrive28i</td>\n",
       "      <td>2017</td>\n",
       "      <td>43000</td>\n",
       "      <td>Gasoline</td>\n",
       "      <td>228.0HP 2.0L 4 Cylinder Engine Gasoline Fuel</td>\n",
       "      <td>8-Speed A/T</td>\n",
       "      <td>Gray</td>\n",
       "      <td>White</td>\n",
       "      <td>None reported</td>\n",
       "      <td>Yes</td>\n",
       "    </tr>\n",
       "    <tr>\n",
       "      <th>1650</th>\n",
       "      <td>Ford</td>\n",
       "      <td>Mustang V6</td>\n",
       "      <td>2014</td>\n",
       "      <td>118500</td>\n",
       "      <td>Gasoline</td>\n",
       "      <td>305.0HP 3.7L V6 Cylinder Engine Gasoline Fuel</td>\n",
       "      <td>6-Speed M/T</td>\n",
       "      <td>Black</td>\n",
       "      <td>Black</td>\n",
       "      <td>None reported</td>\n",
       "      <td>Yes</td>\n",
       "    </tr>\n",
       "    <tr>\n",
       "      <th>21844</th>\n",
       "      <td>Hyundai</td>\n",
       "      <td>Sonata Sport 2.0T</td>\n",
       "      <td>2016</td>\n",
       "      <td>70500</td>\n",
       "      <td>Gasoline</td>\n",
       "      <td>245.0HP 2.0L 4 Cylinder Engine Gasoline Fuel</td>\n",
       "      <td>A/T</td>\n",
       "      <td>Black</td>\n",
       "      <td>Black</td>\n",
       "      <td>At least 1 accident or damage reported</td>\n",
       "      <td>Yes</td>\n",
       "    </tr>\n",
       "    <tr>\n",
       "      <th>24212</th>\n",
       "      <td>Audi</td>\n",
       "      <td>e-tron Prestige</td>\n",
       "      <td>2019</td>\n",
       "      <td>16000</td>\n",
       "      <td>Gasoline</td>\n",
       "      <td>355.0HP Electric Motor Electric Fuel System</td>\n",
       "      <td>A/T</td>\n",
       "      <td>White</td>\n",
       "      <td>White</td>\n",
       "      <td>None reported</td>\n",
       "      <td>Yes</td>\n",
       "    </tr>\n",
       "    <tr>\n",
       "      <th>38010</th>\n",
       "      <td>Lexus</td>\n",
       "      <td>RX 350 Base</td>\n",
       "      <td>2013</td>\n",
       "      <td>110000</td>\n",
       "      <td>Gasoline</td>\n",
       "      <td>270.0HP 3.5L V6 Cylinder Engine Gasoline Fuel</td>\n",
       "      <td>6-Speed A/T</td>\n",
       "      <td>White</td>\n",
       "      <td>Black</td>\n",
       "      <td>At least 1 accident or damage reported</td>\n",
       "      <td>Yes</td>\n",
       "    </tr>\n",
       "    <tr>\n",
       "      <th>...</th>\n",
       "      <td>...</td>\n",
       "      <td>...</td>\n",
       "      <td>...</td>\n",
       "      <td>...</td>\n",
       "      <td>...</td>\n",
       "      <td>...</td>\n",
       "      <td>...</td>\n",
       "      <td>...</td>\n",
       "      <td>...</td>\n",
       "      <td>...</td>\n",
       "      <td>...</td>\n",
       "    </tr>\n",
       "    <tr>\n",
       "      <th>12500</th>\n",
       "      <td>Nissan</td>\n",
       "      <td>Altima 2.5 S</td>\n",
       "      <td>2014</td>\n",
       "      <td>87066</td>\n",
       "      <td>Gasoline</td>\n",
       "      <td>182.0HP 2.5L 4 Cylinder Engine Gasoline Fuel</td>\n",
       "      <td>A/T</td>\n",
       "      <td>Black</td>\n",
       "      <td>Beige</td>\n",
       "      <td>None reported</td>\n",
       "      <td>Yes</td>\n",
       "    </tr>\n",
       "    <tr>\n",
       "      <th>11111</th>\n",
       "      <td>Alfa</td>\n",
       "      <td>Romeo Giulia Base</td>\n",
       "      <td>2021</td>\n",
       "      <td>21400</td>\n",
       "      <td>Gasoline</td>\n",
       "      <td>280.0HP 2.0L 4 Cylinder Engine Gasoline Fuel</td>\n",
       "      <td>A/T</td>\n",
       "      <td>Gray</td>\n",
       "      <td>Black</td>\n",
       "      <td>None reported</td>\n",
       "      <td>Yes</td>\n",
       "    </tr>\n",
       "    <tr>\n",
       "      <th>6578</th>\n",
       "      <td>Audi</td>\n",
       "      <td>A4 2.0T Premium</td>\n",
       "      <td>2014</td>\n",
       "      <td>125575</td>\n",
       "      <td>Gasoline</td>\n",
       "      <td>211.0HP 2.0L 4 Cylinder Engine Gasoline Fuel</td>\n",
       "      <td>A/T</td>\n",
       "      <td>Silver</td>\n",
       "      <td>Black</td>\n",
       "      <td>None reported</td>\n",
       "      <td>Yes</td>\n",
       "    </tr>\n",
       "    <tr>\n",
       "      <th>39400</th>\n",
       "      <td>Lexus</td>\n",
       "      <td>LC 500 Base</td>\n",
       "      <td>2021</td>\n",
       "      <td>22400</td>\n",
       "      <td>Gasoline</td>\n",
       "      <td>471.0HP 5.0L 8 Cylinder Engine Gasoline Fuel</td>\n",
       "      <td>8-Speed A/T</td>\n",
       "      <td>Red</td>\n",
       "      <td>–</td>\n",
       "      <td>None reported</td>\n",
       "      <td>Yes</td>\n",
       "    </tr>\n",
       "    <tr>\n",
       "      <th>42629</th>\n",
       "      <td>Porsche</td>\n",
       "      <td>Boxster S</td>\n",
       "      <td>2005</td>\n",
       "      <td>120000</td>\n",
       "      <td>Gasoline</td>\n",
       "      <td>280.0HP 3.2L Flat 6 Cylinder Engine Gasoline Fuel</td>\n",
       "      <td>6-Speed M/T</td>\n",
       "      <td>White</td>\n",
       "      <td>Gray</td>\n",
       "      <td>None reported</td>\n",
       "      <td>Yes</td>\n",
       "    </tr>\n",
       "  </tbody>\n",
       "</table>\n",
       "<p>37991 rows × 11 columns</p>\n",
       "</div>"
      ],
      "text/plain": [
       "         brand              model  model_year  milage fuel_type  \\\n",
       "5461       BMW       X1 sDrive28i        2017   43000  Gasoline   \n",
       "1650      Ford         Mustang V6        2014  118500  Gasoline   \n",
       "21844  Hyundai  Sonata Sport 2.0T        2016   70500  Gasoline   \n",
       "24212     Audi    e-tron Prestige        2019   16000  Gasoline   \n",
       "38010    Lexus        RX 350 Base        2013  110000  Gasoline   \n",
       "...        ...                ...         ...     ...       ...   \n",
       "12500   Nissan       Altima 2.5 S        2014   87066  Gasoline   \n",
       "11111     Alfa  Romeo Giulia Base        2021   21400  Gasoline   \n",
       "6578      Audi    A4 2.0T Premium        2014  125575  Gasoline   \n",
       "39400    Lexus        LC 500 Base        2021   22400  Gasoline   \n",
       "42629  Porsche          Boxster S        2005  120000  Gasoline   \n",
       "\n",
       "                                                  engine transmission ext_col  \\\n",
       "5461        228.0HP 2.0L 4 Cylinder Engine Gasoline Fuel  8-Speed A/T    Gray   \n",
       "1650       305.0HP 3.7L V6 Cylinder Engine Gasoline Fuel  6-Speed M/T   Black   \n",
       "21844       245.0HP 2.0L 4 Cylinder Engine Gasoline Fuel          A/T   Black   \n",
       "24212        355.0HP Electric Motor Electric Fuel System          A/T   White   \n",
       "38010      270.0HP 3.5L V6 Cylinder Engine Gasoline Fuel  6-Speed A/T   White   \n",
       "...                                                  ...          ...     ...   \n",
       "12500       182.0HP 2.5L 4 Cylinder Engine Gasoline Fuel          A/T   Black   \n",
       "11111       280.0HP 2.0L 4 Cylinder Engine Gasoline Fuel          A/T    Gray   \n",
       "6578        211.0HP 2.0L 4 Cylinder Engine Gasoline Fuel          A/T  Silver   \n",
       "39400       471.0HP 5.0L 8 Cylinder Engine Gasoline Fuel  8-Speed A/T     Red   \n",
       "42629  280.0HP 3.2L Flat 6 Cylinder Engine Gasoline Fuel  6-Speed M/T   White   \n",
       "\n",
       "      int_col                                accident clean_title  \n",
       "5461    White                           None reported         Yes  \n",
       "1650    Black                           None reported         Yes  \n",
       "21844   Black  At least 1 accident or damage reported         Yes  \n",
       "24212   White                           None reported         Yes  \n",
       "38010   Black  At least 1 accident or damage reported         Yes  \n",
       "...       ...                                     ...         ...  \n",
       "12500   Beige                           None reported         Yes  \n",
       "11111   Black                           None reported         Yes  \n",
       "6578    Black                           None reported         Yes  \n",
       "39400       –                           None reported         Yes  \n",
       "42629    Gray                           None reported         Yes  \n",
       "\n",
       "[37991 rows x 11 columns]"
      ]
     },
     "execution_count": 25,
     "metadata": {},
     "output_type": "execute_result"
    }
   ],
   "source": [
    "# View an example of input\n",
    "train_features\n",
    "\n",
    "# Model fit"
   ]
  },
  {
   "cell_type": "markdown",
   "id": "086a86ba",
   "metadata": {
    "papermill": {
     "duration": 0.015041,
     "end_time": "2024-06-14T19:17:31.594257",
     "exception": false,
     "start_time": "2024-06-14T19:17:31.579216",
     "status": "completed"
    },
    "tags": []
   },
   "source": [
    "## Predict"
   ]
  },
  {
   "cell_type": "markdown",
   "id": "5b2f0a67",
   "metadata": {
    "papermill": {
     "duration": 0.015228,
     "end_time": "2024-06-14T19:17:31.624700",
     "exception": false,
     "start_time": "2024-06-14T19:17:31.609472",
     "status": "completed"
    },
    "tags": []
   },
   "source": [
    "TODO\n",
    "- build model\n",
    "- separate engine into different parameters\n",
    "- remove id on train\n",
    "- train model\n",
    "- early stop\n",
    "- graph result\n",
    "- group lines"
   ]
  },
  {
   "cell_type": "code",
   "execution_count": 26,
   "id": "f546e884",
   "metadata": {
    "execution": {
     "iopub.execute_input": "2024-06-14T19:17:31.656843Z",
     "iopub.status.busy": "2024-06-14T19:17:31.656262Z",
     "iopub.status.idle": "2024-06-14T19:17:31.660089Z",
     "shell.execute_reply": "2024-06-14T19:17:31.659263Z"
    },
    "papermill": {
     "duration": 0.021882,
     "end_time": "2024-06-14T19:17:31.661907",
     "exception": false,
     "start_time": "2024-06-14T19:17:31.640025",
     "status": "completed"
    },
    "tags": []
   },
   "outputs": [],
   "source": [
    "# train_subset.shape"
   ]
  },
  {
   "cell_type": "code",
   "execution_count": 27,
   "id": "6de521b9",
   "metadata": {
    "execution": {
     "iopub.execute_input": "2024-06-14T19:17:31.695623Z",
     "iopub.status.busy": "2024-06-14T19:17:31.695304Z",
     "iopub.status.idle": "2024-06-14T19:17:31.699125Z",
     "shell.execute_reply": "2024-06-14T19:17:31.698316Z"
    },
    "papermill": {
     "duration": 0.023986,
     "end_time": "2024-06-14T19:17:31.701042",
     "exception": false,
     "start_time": "2024-06-14T19:17:31.677056",
     "status": "completed"
    },
    "tags": []
   },
   "outputs": [],
   "source": [
    "# valid_subset.shape"
   ]
  },
  {
   "cell_type": "code",
   "execution_count": 28,
   "id": "bafd9d7d",
   "metadata": {
    "execution": {
     "iopub.execute_input": "2024-06-14T19:17:31.732592Z",
     "iopub.status.busy": "2024-06-14T19:17:31.732259Z",
     "iopub.status.idle": "2024-06-14T19:17:31.735931Z",
     "shell.execute_reply": "2024-06-14T19:17:31.735085Z"
    },
    "papermill": {
     "duration": 0.021255,
     "end_time": "2024-06-14T19:17:31.737869",
     "exception": false,
     "start_time": "2024-06-14T19:17:31.716614",
     "status": "completed"
    },
    "tags": []
   },
   "outputs": [],
   "source": [
    "# test_subset.shape"
   ]
  },
  {
   "cell_type": "code",
   "execution_count": null,
   "id": "583e178c",
   "metadata": {
    "papermill": {
     "duration": 0.015007,
     "end_time": "2024-06-14T19:17:31.768072",
     "exception": false,
     "start_time": "2024-06-14T19:17:31.753065",
     "status": "completed"
    },
    "tags": []
   },
   "outputs": [],
   "source": []
  },
  {
   "cell_type": "code",
   "execution_count": null,
   "id": "ed7cd994",
   "metadata": {
    "papermill": {
     "duration": 0.014366,
     "end_time": "2024-06-14T19:17:31.797162",
     "exception": false,
     "start_time": "2024-06-14T19:17:31.782796",
     "status": "completed"
    },
    "tags": []
   },
   "outputs": [],
   "source": []
  }
 ],
 "metadata": {
  "kaggle": {
   "accelerator": "nvidiaTeslaT4",
   "dataSources": [
    {
     "databundleVersionId": 7461897,
     "sourceId": 67167,
     "sourceType": "competition"
    },
    {
     "datasetId": 5208192,
     "sourceId": 8686686,
     "sourceType": "datasetVersion"
    }
   ],
   "dockerImageVersionId": 30733,
   "isGpuEnabled": true,
   "isInternetEnabled": true,
   "language": "python",
   "sourceType": "notebook"
  },
  "kernelspec": {
   "display_name": "Python 3",
   "language": "python",
   "name": "python3"
  },
  "language_info": {
   "codemirror_mode": {
    "name": "ipython",
    "version": 3
   },
   "file_extension": ".py",
   "mimetype": "text/x-python",
   "name": "python",
   "nbconvert_exporter": "python",
   "pygments_lexer": "ipython3",
   "version": "3.10.13"
  },
  "papermill": {
   "default_parameters": {},
   "duration": 24.170796,
   "end_time": "2024-06-14T19:17:34.100669",
   "environment_variables": {},
   "exception": null,
   "input_path": "__notebook__.ipynb",
   "output_path": "__notebook__.ipynb",
   "parameters": {},
   "start_time": "2024-06-14T19:17:09.929873",
   "version": "2.5.0"
  }
 },
 "nbformat": 4,
 "nbformat_minor": 5
}
