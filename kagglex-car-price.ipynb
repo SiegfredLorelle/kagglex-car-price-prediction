{
 "cells": [
  {
   "cell_type": "code",
   "execution_count": 1,
   "id": "bb635f94",
   "metadata": {
    "execution": {
     "iopub.execute_input": "2024-06-14T18:17:40.644920Z",
     "iopub.status.busy": "2024-06-14T18:17:40.644333Z",
     "iopub.status.idle": "2024-06-14T18:17:40.648799Z",
     "shell.execute_reply": "2024-06-14T18:17:40.648086Z"
    },
    "papermill": {
     "duration": 0.016761,
     "end_time": "2024-06-14T18:17:40.650762",
     "exception": false,
     "start_time": "2024-06-14T18:17:40.634001",
     "status": "completed"
    },
    "tags": []
   },
   "outputs": [],
   "source": [
    "# KaggleX Cohert 4 Skill Assessment Challenge"
   ]
  },
  {
   "cell_type": "markdown",
   "id": "84cab36c",
   "metadata": {
    "papermill": {
     "duration": 0.008196,
     "end_time": "2024-06-14T18:17:40.667663",
     "exception": false,
     "start_time": "2024-06-14T18:17:40.659467",
     "status": "completed"
    },
    "tags": []
   },
   "source": [
    "## Import Library and Download Dataset"
   ]
  },
  {
   "cell_type": "code",
   "execution_count": 2,
   "id": "a3cc6197",
   "metadata": {
    "_cell_guid": "b1076dfc-b9ad-4769-8c92-a6c4dae69d19",
    "_uuid": "8f2839f25d086af736a60e9eeb907d3b93b6e0e5",
    "execution": {
     "iopub.execute_input": "2024-06-14T18:17:40.685613Z",
     "iopub.status.busy": "2024-06-14T18:17:40.685350Z",
     "iopub.status.idle": "2024-06-14T18:17:56.049267Z",
     "shell.execute_reply": "2024-06-14T18:17:56.048513Z"
    },
    "papermill": {
     "duration": 15.375149,
     "end_time": "2024-06-14T18:17:56.051497",
     "exception": false,
     "start_time": "2024-06-14T18:17:40.676348",
     "status": "completed"
    },
    "tags": []
   },
   "outputs": [
    {
     "name": "stderr",
     "output_type": "stream",
     "text": [
      "2024-06-14 18:17:43.832242: E external/local_xla/xla/stream_executor/cuda/cuda_dnn.cc:9261] Unable to register cuDNN factory: Attempting to register factory for plugin cuDNN when one has already been registered\n",
      "2024-06-14 18:17:43.832369: E external/local_xla/xla/stream_executor/cuda/cuda_fft.cc:607] Unable to register cuFFT factory: Attempting to register factory for plugin cuFFT when one has already been registered\n",
      "2024-06-14 18:17:44.000998: E external/local_xla/xla/stream_executor/cuda/cuda_blas.cc:1515] Unable to register cuBLAS factory: Attempting to register factory for plugin cuBLAS when one has already been registered\n"
     ]
    }
   ],
   "source": [
    "# Import libraries\n",
    "import numpy as np\n",
    "import pandas as pd\n",
    "import tensorflow as tf\n",
    "import sklearn\n",
    "from sklearn.model_selection import train_test_split"
   ]
  },
  {
   "cell_type": "code",
   "execution_count": 3,
   "id": "3ea287e2",
   "metadata": {
    "execution": {
     "iopub.execute_input": "2024-06-14T18:17:56.070411Z",
     "iopub.status.busy": "2024-06-14T18:17:56.069889Z",
     "iopub.status.idle": "2024-06-14T18:17:56.488770Z",
     "shell.execute_reply": "2024-06-14T18:17:56.487876Z"
    },
    "papermill": {
     "duration": 0.431078,
     "end_time": "2024-06-14T18:17:56.491482",
     "exception": false,
     "start_time": "2024-06-14T18:17:56.060404",
     "status": "completed"
    },
    "tags": []
   },
   "outputs": [],
   "source": [
    "# Dataset paths\n",
    "train_path = \"/kaggle/input/kagglex-car-price-prediction-dataset/train.csv\"\n",
    "test_path = \"/kaggle/input/kagglex-car-price-prediction-dataset/test.csv\"\n",
    "\n",
    "df = pd.read_csv(train_path)\n",
    "test_df = pd.read_csv(test_path)"
   ]
  },
  {
   "cell_type": "markdown",
   "id": "b412a08c",
   "metadata": {
    "papermill": {
     "duration": 0.00951,
     "end_time": "2024-06-14T18:17:56.511492",
     "exception": false,
     "start_time": "2024-06-14T18:17:56.501982",
     "status": "completed"
    },
    "tags": []
   },
   "source": [
    "## Check data"
   ]
  },
  {
   "cell_type": "code",
   "execution_count": 4,
   "id": "be981fe7",
   "metadata": {
    "execution": {
     "iopub.execute_input": "2024-06-14T18:17:56.531536Z",
     "iopub.status.busy": "2024-06-14T18:17:56.531202Z",
     "iopub.status.idle": "2024-06-14T18:17:56.537786Z",
     "shell.execute_reply": "2024-06-14T18:17:56.536938Z"
    },
    "papermill": {
     "duration": 0.01917,
     "end_time": "2024-06-14T18:17:56.539691",
     "exception": false,
     "start_time": "2024-06-14T18:17:56.520521",
     "status": "completed"
    },
    "tags": []
   },
   "outputs": [
    {
     "data": {
      "text/plain": [
       "(54273, 13)"
      ]
     },
     "execution_count": 4,
     "metadata": {},
     "output_type": "execute_result"
    }
   ],
   "source": [
    "df.shape"
   ]
  },
  {
   "cell_type": "code",
   "execution_count": 5,
   "id": "e3632124",
   "metadata": {
    "execution": {
     "iopub.execute_input": "2024-06-14T18:17:56.559086Z",
     "iopub.status.busy": "2024-06-14T18:17:56.558580Z",
     "iopub.status.idle": "2024-06-14T18:17:56.563862Z",
     "shell.execute_reply": "2024-06-14T18:17:56.562975Z"
    },
    "papermill": {
     "duration": 0.01692,
     "end_time": "2024-06-14T18:17:56.566122",
     "exception": false,
     "start_time": "2024-06-14T18:17:56.549202",
     "status": "completed"
    },
    "tags": []
   },
   "outputs": [
    {
     "data": {
      "text/plain": [
       "(36183, 12)"
      ]
     },
     "execution_count": 5,
     "metadata": {},
     "output_type": "execute_result"
    }
   ],
   "source": [
    "test_df.shape"
   ]
  },
  {
   "cell_type": "code",
   "execution_count": 6,
   "id": "a7ec9ec8",
   "metadata": {
    "execution": {
     "iopub.execute_input": "2024-06-14T18:17:56.588427Z",
     "iopub.status.busy": "2024-06-14T18:17:56.588163Z",
     "iopub.status.idle": "2024-06-14T18:17:56.789294Z",
     "shell.execute_reply": "2024-06-14T18:17:56.788445Z"
    },
    "papermill": {
     "duration": 0.214586,
     "end_time": "2024-06-14T18:17:56.791541",
     "exception": false,
     "start_time": "2024-06-14T18:17:56.576955",
     "status": "completed"
    },
    "tags": []
   },
   "outputs": [
    {
     "data": {
      "text/html": [
       "<div>\n",
       "<style scoped>\n",
       "    .dataframe tbody tr th:only-of-type {\n",
       "        vertical-align: middle;\n",
       "    }\n",
       "\n",
       "    .dataframe tbody tr th {\n",
       "        vertical-align: top;\n",
       "    }\n",
       "\n",
       "    .dataframe thead th {\n",
       "        text-align: right;\n",
       "    }\n",
       "</style>\n",
       "<table border=\"1\" class=\"dataframe\">\n",
       "  <thead>\n",
       "    <tr style=\"text-align: right;\">\n",
       "      <th></th>\n",
       "      <th>id</th>\n",
       "      <th>brand</th>\n",
       "      <th>model</th>\n",
       "      <th>model_year</th>\n",
       "      <th>milage</th>\n",
       "      <th>fuel_type</th>\n",
       "      <th>engine</th>\n",
       "      <th>transmission</th>\n",
       "      <th>ext_col</th>\n",
       "      <th>int_col</th>\n",
       "      <th>accident</th>\n",
       "      <th>clean_title</th>\n",
       "      <th>price</th>\n",
       "    </tr>\n",
       "  </thead>\n",
       "  <tbody>\n",
       "    <tr>\n",
       "      <th>0</th>\n",
       "      <td>0</td>\n",
       "      <td>Ford</td>\n",
       "      <td>F-150 Lariat</td>\n",
       "      <td>2018</td>\n",
       "      <td>74349</td>\n",
       "      <td>Gasoline</td>\n",
       "      <td>375.0HP 3.5L V6 Cylinder Engine Gasoline Fuel</td>\n",
       "      <td>10-Speed A/T</td>\n",
       "      <td>Blue</td>\n",
       "      <td>Gray</td>\n",
       "      <td>None reported</td>\n",
       "      <td>Yes</td>\n",
       "      <td>11000</td>\n",
       "    </tr>\n",
       "    <tr>\n",
       "      <th>1</th>\n",
       "      <td>1</td>\n",
       "      <td>BMW</td>\n",
       "      <td>335 i</td>\n",
       "      <td>2007</td>\n",
       "      <td>80000</td>\n",
       "      <td>Gasoline</td>\n",
       "      <td>300.0HP 3.0L Straight 6 Cylinder Engine Gasoli...</td>\n",
       "      <td>6-Speed M/T</td>\n",
       "      <td>Black</td>\n",
       "      <td>Black</td>\n",
       "      <td>None reported</td>\n",
       "      <td>Yes</td>\n",
       "      <td>8250</td>\n",
       "    </tr>\n",
       "    <tr>\n",
       "      <th>2</th>\n",
       "      <td>2</td>\n",
       "      <td>Jaguar</td>\n",
       "      <td>XF Luxury</td>\n",
       "      <td>2009</td>\n",
       "      <td>91491</td>\n",
       "      <td>Gasoline</td>\n",
       "      <td>300.0HP 4.2L 8 Cylinder Engine Gasoline Fuel</td>\n",
       "      <td>6-Speed A/T</td>\n",
       "      <td>Purple</td>\n",
       "      <td>Beige</td>\n",
       "      <td>None reported</td>\n",
       "      <td>Yes</td>\n",
       "      <td>15000</td>\n",
       "    </tr>\n",
       "    <tr>\n",
       "      <th>3</th>\n",
       "      <td>3</td>\n",
       "      <td>BMW</td>\n",
       "      <td>X7 xDrive40i</td>\n",
       "      <td>2022</td>\n",
       "      <td>2437</td>\n",
       "      <td>Hybrid</td>\n",
       "      <td>335.0HP 3.0L Straight 6 Cylinder Engine Gasoli...</td>\n",
       "      <td>Transmission w/Dual Shift Mode</td>\n",
       "      <td>Gray</td>\n",
       "      <td>Brown</td>\n",
       "      <td>None reported</td>\n",
       "      <td>Yes</td>\n",
       "      <td>63500</td>\n",
       "    </tr>\n",
       "    <tr>\n",
       "      <th>4</th>\n",
       "      <td>4</td>\n",
       "      <td>Pontiac</td>\n",
       "      <td>Firebird Base</td>\n",
       "      <td>2001</td>\n",
       "      <td>111000</td>\n",
       "      <td>Gasoline</td>\n",
       "      <td>200.0HP 3.8L V6 Cylinder Engine Gasoline Fuel</td>\n",
       "      <td>A/T</td>\n",
       "      <td>White</td>\n",
       "      <td>Black</td>\n",
       "      <td>None reported</td>\n",
       "      <td>Yes</td>\n",
       "      <td>7850</td>\n",
       "    </tr>\n",
       "  </tbody>\n",
       "</table>\n",
       "</div>"
      ],
      "text/plain": [
       "   id    brand          model  model_year  milage fuel_type  \\\n",
       "0   0     Ford   F-150 Lariat        2018   74349  Gasoline   \n",
       "1   1      BMW          335 i        2007   80000  Gasoline   \n",
       "2   2   Jaguar      XF Luxury        2009   91491  Gasoline   \n",
       "3   3      BMW   X7 xDrive40i        2022    2437    Hybrid   \n",
       "4   4  Pontiac  Firebird Base        2001  111000  Gasoline   \n",
       "\n",
       "                                              engine  \\\n",
       "0      375.0HP 3.5L V6 Cylinder Engine Gasoline Fuel   \n",
       "1  300.0HP 3.0L Straight 6 Cylinder Engine Gasoli...   \n",
       "2       300.0HP 4.2L 8 Cylinder Engine Gasoline Fuel   \n",
       "3  335.0HP 3.0L Straight 6 Cylinder Engine Gasoli...   \n",
       "4      200.0HP 3.8L V6 Cylinder Engine Gasoline Fuel   \n",
       "\n",
       "                     transmission ext_col int_col       accident clean_title  \\\n",
       "0                    10-Speed A/T    Blue    Gray  None reported         Yes   \n",
       "1                     6-Speed M/T   Black   Black  None reported         Yes   \n",
       "2                     6-Speed A/T  Purple   Beige  None reported         Yes   \n",
       "3  Transmission w/Dual Shift Mode    Gray   Brown  None reported         Yes   \n",
       "4                             A/T   White   Black  None reported         Yes   \n",
       "\n",
       "   price  \n",
       "0  11000  \n",
       "1   8250  \n",
       "2  15000  \n",
       "3  63500  \n",
       "4   7850  "
      ]
     },
     "execution_count": 6,
     "metadata": {},
     "output_type": "execute_result"
    }
   ],
   "source": [
    "df.head()"
   ]
  },
  {
   "cell_type": "code",
   "execution_count": 7,
   "id": "fe61163a",
   "metadata": {
    "execution": {
     "iopub.execute_input": "2024-06-14T18:17:56.812357Z",
     "iopub.status.busy": "2024-06-14T18:17:56.812092Z",
     "iopub.status.idle": "2024-06-14T18:17:56.826710Z",
     "shell.execute_reply": "2024-06-14T18:17:56.825870Z"
    },
    "papermill": {
     "duration": 0.026964,
     "end_time": "2024-06-14T18:17:56.828726",
     "exception": false,
     "start_time": "2024-06-14T18:17:56.801762",
     "status": "completed"
    },
    "tags": []
   },
   "outputs": [
    {
     "data": {
      "text/html": [
       "<div>\n",
       "<style scoped>\n",
       "    .dataframe tbody tr th:only-of-type {\n",
       "        vertical-align: middle;\n",
       "    }\n",
       "\n",
       "    .dataframe tbody tr th {\n",
       "        vertical-align: top;\n",
       "    }\n",
       "\n",
       "    .dataframe thead th {\n",
       "        text-align: right;\n",
       "    }\n",
       "</style>\n",
       "<table border=\"1\" class=\"dataframe\">\n",
       "  <thead>\n",
       "    <tr style=\"text-align: right;\">\n",
       "      <th></th>\n",
       "      <th>id</th>\n",
       "      <th>brand</th>\n",
       "      <th>model</th>\n",
       "      <th>model_year</th>\n",
       "      <th>milage</th>\n",
       "      <th>fuel_type</th>\n",
       "      <th>engine</th>\n",
       "      <th>transmission</th>\n",
       "      <th>ext_col</th>\n",
       "      <th>int_col</th>\n",
       "      <th>accident</th>\n",
       "      <th>clean_title</th>\n",
       "    </tr>\n",
       "  </thead>\n",
       "  <tbody>\n",
       "    <tr>\n",
       "      <th>0</th>\n",
       "      <td>54273</td>\n",
       "      <td>Mercedes-Benz</td>\n",
       "      <td>E-Class E 350</td>\n",
       "      <td>2014</td>\n",
       "      <td>73000</td>\n",
       "      <td>Gasoline</td>\n",
       "      <td>302.0HP 3.5L V6 Cylinder Engine Gasoline Fuel</td>\n",
       "      <td>A/T</td>\n",
       "      <td>White</td>\n",
       "      <td>Beige</td>\n",
       "      <td>None reported</td>\n",
       "      <td>Yes</td>\n",
       "    </tr>\n",
       "    <tr>\n",
       "      <th>1</th>\n",
       "      <td>54274</td>\n",
       "      <td>Lexus</td>\n",
       "      <td>RX 350 Base</td>\n",
       "      <td>2015</td>\n",
       "      <td>128032</td>\n",
       "      <td>Gasoline</td>\n",
       "      <td>275.0HP 3.5L V6 Cylinder Engine Gasoline Fuel</td>\n",
       "      <td>8-Speed A/T</td>\n",
       "      <td>Silver</td>\n",
       "      <td>Black</td>\n",
       "      <td>None reported</td>\n",
       "      <td>Yes</td>\n",
       "    </tr>\n",
       "    <tr>\n",
       "      <th>2</th>\n",
       "      <td>54275</td>\n",
       "      <td>Mercedes-Benz</td>\n",
       "      <td>C-Class C 300</td>\n",
       "      <td>2015</td>\n",
       "      <td>51983</td>\n",
       "      <td>Gasoline</td>\n",
       "      <td>241.0HP 2.0L 4 Cylinder Engine Gasoline Fuel</td>\n",
       "      <td>7-Speed A/T</td>\n",
       "      <td>Blue</td>\n",
       "      <td>White</td>\n",
       "      <td>None reported</td>\n",
       "      <td>Yes</td>\n",
       "    </tr>\n",
       "    <tr>\n",
       "      <th>3</th>\n",
       "      <td>54276</td>\n",
       "      <td>Land</td>\n",
       "      <td>Rover Range Rover 5.0L Supercharged Autobiogra...</td>\n",
       "      <td>2018</td>\n",
       "      <td>29500</td>\n",
       "      <td>Gasoline</td>\n",
       "      <td>518.0HP 5.0L 8 Cylinder Engine Gasoline Fuel</td>\n",
       "      <td>Transmission w/Dual Shift Mode</td>\n",
       "      <td>White</td>\n",
       "      <td>White</td>\n",
       "      <td>At least 1 accident or damage reported</td>\n",
       "      <td>Yes</td>\n",
       "    </tr>\n",
       "    <tr>\n",
       "      <th>4</th>\n",
       "      <td>54277</td>\n",
       "      <td>BMW</td>\n",
       "      <td>X6 xDrive40i</td>\n",
       "      <td>2020</td>\n",
       "      <td>90000</td>\n",
       "      <td>Gasoline</td>\n",
       "      <td>335.0HP 3.0L Straight 6 Cylinder Engine Gasoli...</td>\n",
       "      <td>8-Speed A/T</td>\n",
       "      <td>White</td>\n",
       "      <td>Black</td>\n",
       "      <td>At least 1 accident or damage reported</td>\n",
       "      <td>Yes</td>\n",
       "    </tr>\n",
       "  </tbody>\n",
       "</table>\n",
       "</div>"
      ],
      "text/plain": [
       "      id          brand                                              model  \\\n",
       "0  54273  Mercedes-Benz                                      E-Class E 350   \n",
       "1  54274          Lexus                                        RX 350 Base   \n",
       "2  54275  Mercedes-Benz                                      C-Class C 300   \n",
       "3  54276           Land  Rover Range Rover 5.0L Supercharged Autobiogra...   \n",
       "4  54277            BMW                                       X6 xDrive40i   \n",
       "\n",
       "   model_year  milage fuel_type  \\\n",
       "0        2014   73000  Gasoline   \n",
       "1        2015  128032  Gasoline   \n",
       "2        2015   51983  Gasoline   \n",
       "3        2018   29500  Gasoline   \n",
       "4        2020   90000  Gasoline   \n",
       "\n",
       "                                              engine  \\\n",
       "0      302.0HP 3.5L V6 Cylinder Engine Gasoline Fuel   \n",
       "1      275.0HP 3.5L V6 Cylinder Engine Gasoline Fuel   \n",
       "2       241.0HP 2.0L 4 Cylinder Engine Gasoline Fuel   \n",
       "3       518.0HP 5.0L 8 Cylinder Engine Gasoline Fuel   \n",
       "4  335.0HP 3.0L Straight 6 Cylinder Engine Gasoli...   \n",
       "\n",
       "                     transmission ext_col int_col  \\\n",
       "0                             A/T   White   Beige   \n",
       "1                     8-Speed A/T  Silver   Black   \n",
       "2                     7-Speed A/T    Blue   White   \n",
       "3  Transmission w/Dual Shift Mode   White   White   \n",
       "4                     8-Speed A/T   White   Black   \n",
       "\n",
       "                                 accident clean_title  \n",
       "0                           None reported         Yes  \n",
       "1                           None reported         Yes  \n",
       "2                           None reported         Yes  \n",
       "3  At least 1 accident or damage reported         Yes  \n",
       "4  At least 1 accident or damage reported         Yes  "
      ]
     },
     "execution_count": 7,
     "metadata": {},
     "output_type": "execute_result"
    }
   ],
   "source": [
    "test_df.head()"
   ]
  },
  {
   "cell_type": "code",
   "execution_count": 8,
   "id": "16b6e5ec",
   "metadata": {
    "execution": {
     "iopub.execute_input": "2024-06-14T18:17:56.849315Z",
     "iopub.status.busy": "2024-06-14T18:17:56.849041Z",
     "iopub.status.idle": "2024-06-14T18:17:56.902420Z",
     "shell.execute_reply": "2024-06-14T18:17:56.901483Z"
    },
    "papermill": {
     "duration": 0.065468,
     "end_time": "2024-06-14T18:17:56.904458",
     "exception": false,
     "start_time": "2024-06-14T18:17:56.838990",
     "status": "completed"
    },
    "tags": []
   },
   "outputs": [
    {
     "data": {
      "text/plain": [
       "id              0\n",
       "brand           0\n",
       "model           0\n",
       "model_year      0\n",
       "milage          0\n",
       "fuel_type       0\n",
       "engine          0\n",
       "transmission    0\n",
       "ext_col         0\n",
       "int_col         0\n",
       "accident        0\n",
       "clean_title     0\n",
       "price           0\n",
       "dtype: int64"
      ]
     },
     "execution_count": 8,
     "metadata": {},
     "output_type": "execute_result"
    }
   ],
   "source": [
    "df.isna().sum()"
   ]
  },
  {
   "cell_type": "code",
   "execution_count": 9,
   "id": "cc867530",
   "metadata": {
    "execution": {
     "iopub.execute_input": "2024-06-14T18:17:56.925757Z",
     "iopub.status.busy": "2024-06-14T18:17:56.925485Z",
     "iopub.status.idle": "2024-06-14T18:17:56.984357Z",
     "shell.execute_reply": "2024-06-14T18:17:56.983558Z"
    },
    "papermill": {
     "duration": 0.071303,
     "end_time": "2024-06-14T18:17:56.986308",
     "exception": false,
     "start_time": "2024-06-14T18:17:56.915005",
     "status": "completed"
    },
    "tags": []
   },
   "outputs": [
    {
     "data": {
      "text/plain": [
       "0"
      ]
     },
     "execution_count": 9,
     "metadata": {},
     "output_type": "execute_result"
    }
   ],
   "source": [
    "df.duplicated().sum()"
   ]
  },
  {
   "cell_type": "markdown",
   "id": "16ea60dc",
   "metadata": {
    "papermill": {
     "duration": 0.009314,
     "end_time": "2024-06-14T18:17:57.005505",
     "exception": false,
     "start_time": "2024-06-14T18:17:56.996191",
     "status": "completed"
    },
    "tags": []
   },
   "source": []
  },
  {
   "cell_type": "code",
   "execution_count": 10,
   "id": "f84d1593",
   "metadata": {
    "execution": {
     "iopub.execute_input": "2024-06-14T18:17:57.025663Z",
     "iopub.status.busy": "2024-06-14T18:17:57.025382Z",
     "iopub.status.idle": "2024-06-14T18:17:57.088022Z",
     "shell.execute_reply": "2024-06-14T18:17:57.086955Z"
    },
    "papermill": {
     "duration": 0.075229,
     "end_time": "2024-06-14T18:17:57.090159",
     "exception": false,
     "start_time": "2024-06-14T18:17:57.014930",
     "status": "completed"
    },
    "tags": []
   },
   "outputs": [
    {
     "name": "stdout",
     "output_type": "stream",
     "text": [
      "<class 'pandas.core.frame.DataFrame'>\n",
      "RangeIndex: 54273 entries, 0 to 54272\n",
      "Data columns (total 13 columns):\n",
      " #   Column        Non-Null Count  Dtype \n",
      "---  ------        --------------  ----- \n",
      " 0   id            54273 non-null  int64 \n",
      " 1   brand         54273 non-null  object\n",
      " 2   model         54273 non-null  object\n",
      " 3   model_year    54273 non-null  int64 \n",
      " 4   milage        54273 non-null  int64 \n",
      " 5   fuel_type     54273 non-null  object\n",
      " 6   engine        54273 non-null  object\n",
      " 7   transmission  54273 non-null  object\n",
      " 8   ext_col       54273 non-null  object\n",
      " 9   int_col       54273 non-null  object\n",
      " 10  accident      54273 non-null  object\n",
      " 11  clean_title   54273 non-null  object\n",
      " 12  price         54273 non-null  int64 \n",
      "dtypes: int64(4), object(9)\n",
      "memory usage: 5.4+ MB\n"
     ]
    }
   ],
   "source": [
    "df.info()"
   ]
  },
  {
   "cell_type": "code",
   "execution_count": 11,
   "id": "485d9ff5",
   "metadata": {
    "execution": {
     "iopub.execute_input": "2024-06-14T18:17:57.110802Z",
     "iopub.status.busy": "2024-06-14T18:17:57.110488Z",
     "iopub.status.idle": "2024-06-14T18:17:57.162340Z",
     "shell.execute_reply": "2024-06-14T18:17:57.161443Z"
    },
    "papermill": {
     "duration": 0.064064,
     "end_time": "2024-06-14T18:17:57.164188",
     "exception": false,
     "start_time": "2024-06-14T18:17:57.100124",
     "status": "completed"
    },
    "tags": []
   },
   "outputs": [
    {
     "data": {
      "text/plain": [
       "id              54273\n",
       "brand              53\n",
       "model            1827\n",
       "model_year         34\n",
       "milage           3212\n",
       "fuel_type           7\n",
       "engine           1061\n",
       "transmission       46\n",
       "ext_col           260\n",
       "int_col           124\n",
       "accident            2\n",
       "clean_title         1\n",
       "price            1481\n",
       "dtype: int64"
      ]
     },
     "execution_count": 11,
     "metadata": {},
     "output_type": "execute_result"
    }
   ],
   "source": [
    "df.nunique()"
   ]
  },
  {
   "cell_type": "code",
   "execution_count": 12,
   "id": "b644c457",
   "metadata": {
    "execution": {
     "iopub.execute_input": "2024-06-14T18:17:57.185087Z",
     "iopub.status.busy": "2024-06-14T18:17:57.184829Z",
     "iopub.status.idle": "2024-06-14T18:17:57.212534Z",
     "shell.execute_reply": "2024-06-14T18:17:57.211723Z"
    },
    "papermill": {
     "duration": 0.040171,
     "end_time": "2024-06-14T18:17:57.214431",
     "exception": false,
     "start_time": "2024-06-14T18:17:57.174260",
     "status": "completed"
    },
    "tags": []
   },
   "outputs": [
    {
     "data": {
      "text/html": [
       "<div>\n",
       "<style scoped>\n",
       "    .dataframe tbody tr th:only-of-type {\n",
       "        vertical-align: middle;\n",
       "    }\n",
       "\n",
       "    .dataframe tbody tr th {\n",
       "        vertical-align: top;\n",
       "    }\n",
       "\n",
       "    .dataframe thead th {\n",
       "        text-align: right;\n",
       "    }\n",
       "</style>\n",
       "<table border=\"1\" class=\"dataframe\">\n",
       "  <thead>\n",
       "    <tr style=\"text-align: right;\">\n",
       "      <th></th>\n",
       "      <th>id</th>\n",
       "      <th>model_year</th>\n",
       "      <th>milage</th>\n",
       "      <th>price</th>\n",
       "    </tr>\n",
       "  </thead>\n",
       "  <tbody>\n",
       "    <tr>\n",
       "      <th>count</th>\n",
       "      <td>54273.000000</td>\n",
       "      <td>54273.000000</td>\n",
       "      <td>54273.000000</td>\n",
       "      <td>5.427300e+04</td>\n",
       "    </tr>\n",
       "    <tr>\n",
       "      <th>mean</th>\n",
       "      <td>27136.000000</td>\n",
       "      <td>2015.091979</td>\n",
       "      <td>72746.175667</td>\n",
       "      <td>3.921844e+04</td>\n",
       "    </tr>\n",
       "    <tr>\n",
       "      <th>std</th>\n",
       "      <td>15667.409917</td>\n",
       "      <td>5.588909</td>\n",
       "      <td>50469.490448</td>\n",
       "      <td>7.282634e+04</td>\n",
       "    </tr>\n",
       "    <tr>\n",
       "      <th>min</th>\n",
       "      <td>0.000000</td>\n",
       "      <td>1974.000000</td>\n",
       "      <td>100.000000</td>\n",
       "      <td>2.000000e+03</td>\n",
       "    </tr>\n",
       "    <tr>\n",
       "      <th>25%</th>\n",
       "      <td>13568.000000</td>\n",
       "      <td>2012.000000</td>\n",
       "      <td>32268.000000</td>\n",
       "      <td>1.550000e+04</td>\n",
       "    </tr>\n",
       "    <tr>\n",
       "      <th>50%</th>\n",
       "      <td>27136.000000</td>\n",
       "      <td>2016.000000</td>\n",
       "      <td>66107.000000</td>\n",
       "      <td>2.800000e+04</td>\n",
       "    </tr>\n",
       "    <tr>\n",
       "      <th>75%</th>\n",
       "      <td>40704.000000</td>\n",
       "      <td>2019.000000</td>\n",
       "      <td>102000.000000</td>\n",
       "      <td>4.500000e+04</td>\n",
       "    </tr>\n",
       "    <tr>\n",
       "      <th>max</th>\n",
       "      <td>54272.000000</td>\n",
       "      <td>2024.000000</td>\n",
       "      <td>405000.000000</td>\n",
       "      <td>2.954083e+06</td>\n",
       "    </tr>\n",
       "  </tbody>\n",
       "</table>\n",
       "</div>"
      ],
      "text/plain": [
       "                 id    model_year         milage         price\n",
       "count  54273.000000  54273.000000   54273.000000  5.427300e+04\n",
       "mean   27136.000000   2015.091979   72746.175667  3.921844e+04\n",
       "std    15667.409917      5.588909   50469.490448  7.282634e+04\n",
       "min        0.000000   1974.000000     100.000000  2.000000e+03\n",
       "25%    13568.000000   2012.000000   32268.000000  1.550000e+04\n",
       "50%    27136.000000   2016.000000   66107.000000  2.800000e+04\n",
       "75%    40704.000000   2019.000000  102000.000000  4.500000e+04\n",
       "max    54272.000000   2024.000000  405000.000000  2.954083e+06"
      ]
     },
     "execution_count": 12,
     "metadata": {},
     "output_type": "execute_result"
    }
   ],
   "source": [
    "df.describe()"
   ]
  },
  {
   "cell_type": "markdown",
   "id": "71980b66",
   "metadata": {
    "papermill": {
     "duration": 0.009665,
     "end_time": "2024-06-14T18:17:57.234727",
     "exception": false,
     "start_time": "2024-06-14T18:17:57.225062",
     "status": "completed"
    },
    "tags": []
   },
   "source": [
    "### Based on the data\n",
    "- #### Too many models and engine\n",
    "- #### Engine could probably be broken down into more features"
   ]
  },
  {
   "cell_type": "markdown",
   "id": "1b09b977",
   "metadata": {
    "papermill": {
     "duration": 0.009827,
     "end_time": "2024-06-14T18:17:57.254424",
     "exception": false,
     "start_time": "2024-06-14T18:17:57.244597",
     "status": "completed"
    },
    "tags": []
   },
   "source": [
    "## Preprocess dataset"
   ]
  },
  {
   "cell_type": "markdown",
   "id": "6062ded5",
   "metadata": {
    "papermill": {
     "duration": 0.01023,
     "end_time": "2024-06-14T18:17:57.275429",
     "exception": false,
     "start_time": "2024-06-14T18:17:57.265199",
     "status": "completed"
    },
    "tags": []
   },
   "source": [
    "## Separate Features and Labels"
   ]
  },
  {
   "cell_type": "code",
   "execution_count": 13,
   "id": "1f531f79",
   "metadata": {
    "execution": {
     "iopub.execute_input": "2024-06-14T18:17:57.297330Z",
     "iopub.status.busy": "2024-06-14T18:17:57.297025Z",
     "iopub.status.idle": "2024-06-14T18:17:57.314276Z",
     "shell.execute_reply": "2024-06-14T18:17:57.313354Z"
    },
    "papermill": {
     "duration": 0.030626,
     "end_time": "2024-06-14T18:17:57.316136",
     "exception": false,
     "start_time": "2024-06-14T18:17:57.285510",
     "status": "completed"
    },
    "tags": []
   },
   "outputs": [
    {
     "data": {
      "text/html": [
       "<div>\n",
       "<style scoped>\n",
       "    .dataframe tbody tr th:only-of-type {\n",
       "        vertical-align: middle;\n",
       "    }\n",
       "\n",
       "    .dataframe tbody tr th {\n",
       "        vertical-align: top;\n",
       "    }\n",
       "\n",
       "    .dataframe thead th {\n",
       "        text-align: right;\n",
       "    }\n",
       "</style>\n",
       "<table border=\"1\" class=\"dataframe\">\n",
       "  <thead>\n",
       "    <tr style=\"text-align: right;\">\n",
       "      <th></th>\n",
       "      <th>brand</th>\n",
       "      <th>model</th>\n",
       "      <th>model_year</th>\n",
       "      <th>milage</th>\n",
       "      <th>fuel_type</th>\n",
       "      <th>engine</th>\n",
       "      <th>transmission</th>\n",
       "      <th>ext_col</th>\n",
       "      <th>int_col</th>\n",
       "      <th>accident</th>\n",
       "      <th>clean_title</th>\n",
       "    </tr>\n",
       "  </thead>\n",
       "  <tbody>\n",
       "    <tr>\n",
       "      <th>0</th>\n",
       "      <td>Ford</td>\n",
       "      <td>F-150 Lariat</td>\n",
       "      <td>2018</td>\n",
       "      <td>74349</td>\n",
       "      <td>Gasoline</td>\n",
       "      <td>375.0HP 3.5L V6 Cylinder Engine Gasoline Fuel</td>\n",
       "      <td>10-Speed A/T</td>\n",
       "      <td>Blue</td>\n",
       "      <td>Gray</td>\n",
       "      <td>None reported</td>\n",
       "      <td>Yes</td>\n",
       "    </tr>\n",
       "    <tr>\n",
       "      <th>1</th>\n",
       "      <td>BMW</td>\n",
       "      <td>335 i</td>\n",
       "      <td>2007</td>\n",
       "      <td>80000</td>\n",
       "      <td>Gasoline</td>\n",
       "      <td>300.0HP 3.0L Straight 6 Cylinder Engine Gasoli...</td>\n",
       "      <td>6-Speed M/T</td>\n",
       "      <td>Black</td>\n",
       "      <td>Black</td>\n",
       "      <td>None reported</td>\n",
       "      <td>Yes</td>\n",
       "    </tr>\n",
       "    <tr>\n",
       "      <th>2</th>\n",
       "      <td>Jaguar</td>\n",
       "      <td>XF Luxury</td>\n",
       "      <td>2009</td>\n",
       "      <td>91491</td>\n",
       "      <td>Gasoline</td>\n",
       "      <td>300.0HP 4.2L 8 Cylinder Engine Gasoline Fuel</td>\n",
       "      <td>6-Speed A/T</td>\n",
       "      <td>Purple</td>\n",
       "      <td>Beige</td>\n",
       "      <td>None reported</td>\n",
       "      <td>Yes</td>\n",
       "    </tr>\n",
       "    <tr>\n",
       "      <th>3</th>\n",
       "      <td>BMW</td>\n",
       "      <td>X7 xDrive40i</td>\n",
       "      <td>2022</td>\n",
       "      <td>2437</td>\n",
       "      <td>Hybrid</td>\n",
       "      <td>335.0HP 3.0L Straight 6 Cylinder Engine Gasoli...</td>\n",
       "      <td>Transmission w/Dual Shift Mode</td>\n",
       "      <td>Gray</td>\n",
       "      <td>Brown</td>\n",
       "      <td>None reported</td>\n",
       "      <td>Yes</td>\n",
       "    </tr>\n",
       "    <tr>\n",
       "      <th>4</th>\n",
       "      <td>Pontiac</td>\n",
       "      <td>Firebird Base</td>\n",
       "      <td>2001</td>\n",
       "      <td>111000</td>\n",
       "      <td>Gasoline</td>\n",
       "      <td>200.0HP 3.8L V6 Cylinder Engine Gasoline Fuel</td>\n",
       "      <td>A/T</td>\n",
       "      <td>White</td>\n",
       "      <td>Black</td>\n",
       "      <td>None reported</td>\n",
       "      <td>Yes</td>\n",
       "    </tr>\n",
       "  </tbody>\n",
       "</table>\n",
       "</div>"
      ],
      "text/plain": [
       "     brand          model  model_year  milage fuel_type  \\\n",
       "0     Ford   F-150 Lariat        2018   74349  Gasoline   \n",
       "1      BMW          335 i        2007   80000  Gasoline   \n",
       "2   Jaguar      XF Luxury        2009   91491  Gasoline   \n",
       "3      BMW   X7 xDrive40i        2022    2437    Hybrid   \n",
       "4  Pontiac  Firebird Base        2001  111000  Gasoline   \n",
       "\n",
       "                                              engine  \\\n",
       "0      375.0HP 3.5L V6 Cylinder Engine Gasoline Fuel   \n",
       "1  300.0HP 3.0L Straight 6 Cylinder Engine Gasoli...   \n",
       "2       300.0HP 4.2L 8 Cylinder Engine Gasoline Fuel   \n",
       "3  335.0HP 3.0L Straight 6 Cylinder Engine Gasoli...   \n",
       "4      200.0HP 3.8L V6 Cylinder Engine Gasoline Fuel   \n",
       "\n",
       "                     transmission ext_col int_col       accident clean_title  \n",
       "0                    10-Speed A/T    Blue    Gray  None reported         Yes  \n",
       "1                     6-Speed M/T   Black   Black  None reported         Yes  \n",
       "2                     6-Speed A/T  Purple   Beige  None reported         Yes  \n",
       "3  Transmission w/Dual Shift Mode    Gray   Brown  None reported         Yes  \n",
       "4                             A/T   White   Black  None reported         Yes  "
      ]
     },
     "execution_count": 13,
     "metadata": {},
     "output_type": "execute_result"
    }
   ],
   "source": [
    "# Set features similar to the test set only without id column\n",
    "features = df.copy()\n",
    "features.pop(\"id\")\n",
    "\n",
    "# Remove price column in features and save it in labels\n",
    "labels = features.pop(\"price\")\n",
    "features.head()"
   ]
  },
  {
   "cell_type": "code",
   "execution_count": 14,
   "id": "784fba91",
   "metadata": {
    "execution": {
     "iopub.execute_input": "2024-06-14T18:17:57.337680Z",
     "iopub.status.busy": "2024-06-14T18:17:57.337434Z",
     "iopub.status.idle": "2024-06-14T18:17:57.343203Z",
     "shell.execute_reply": "2024-06-14T18:17:57.342445Z"
    },
    "papermill": {
     "duration": 0.01854,
     "end_time": "2024-06-14T18:17:57.344976",
     "exception": false,
     "start_time": "2024-06-14T18:17:57.326436",
     "status": "completed"
    },
    "tags": []
   },
   "outputs": [
    {
     "data": {
      "text/plain": [
       "0    11000\n",
       "1     8250\n",
       "2    15000\n",
       "3    63500\n",
       "4     7850\n",
       "Name: price, dtype: int64"
      ]
     },
     "execution_count": 14,
     "metadata": {},
     "output_type": "execute_result"
    }
   ],
   "source": [
    "labels.head()"
   ]
  },
  {
   "cell_type": "markdown",
   "id": "dd95d308",
   "metadata": {
    "papermill": {
     "duration": 0.010236,
     "end_time": "2024-06-14T18:17:57.365523",
     "exception": false,
     "start_time": "2024-06-14T18:17:57.355287",
     "status": "completed"
    },
    "tags": []
   },
   "source": [
    "## Split Dataset"
   ]
  },
  {
   "cell_type": "code",
   "execution_count": 15,
   "id": "3ec8b1e4",
   "metadata": {
    "execution": {
     "iopub.execute_input": "2024-06-14T18:17:57.387141Z",
     "iopub.status.busy": "2024-06-14T18:17:57.386884Z",
     "iopub.status.idle": "2024-06-14T18:17:57.412868Z",
     "shell.execute_reply": "2024-06-14T18:17:57.412192Z"
    },
    "papermill": {
     "duration": 0.038955,
     "end_time": "2024-06-14T18:17:57.414853",
     "exception": false,
     "start_time": "2024-06-14T18:17:57.375898",
     "status": "completed"
    },
    "tags": []
   },
   "outputs": [],
   "source": [
    "# Split the dataset into train (70%) and remain (30%) subsets\n",
    "train_features, remain_features, train_labels, remain_labels = sklearn.model_selection.train_test_split(\n",
    "    features, \n",
    "    labels,\n",
    "    test_size=0.3,\n",
    "    shuffle=True\n",
    ")\n",
    "\n",
    "# Split the remain subset into valid (70%) and test (30%) subset\n",
    "valid_features, test_features, valid_labels, test_labels = sklearn.model_selection.train_test_split(\n",
    "    remain_features, \n",
    "    remain_labels,\n",
    "    test_size=0.3,\n",
    "    shuffle=True\n",
    ")"
   ]
  },
  {
   "cell_type": "code",
   "execution_count": 16,
   "id": "121ee9db",
   "metadata": {
    "execution": {
     "iopub.execute_input": "2024-06-14T18:17:57.437013Z",
     "iopub.status.busy": "2024-06-14T18:17:57.436754Z",
     "iopub.status.idle": "2024-06-14T18:17:57.443445Z",
     "shell.execute_reply": "2024-06-14T18:17:57.442639Z"
    },
    "papermill": {
     "duration": 0.019797,
     "end_time": "2024-06-14T18:17:57.445468",
     "exception": false,
     "start_time": "2024-06-14T18:17:57.425671",
     "status": "completed"
    },
    "tags": []
   },
   "outputs": [
    {
     "name": "stdout",
     "output_type": "stream",
     "text": [
      "Index([41507, 48567, 25343, 13946, 34057], dtype='int64')\n",
      "Index([41507, 48567, 25343, 13946, 34057], dtype='int64')\n",
      "Index([41622, 27081, 52006, 20296, 20427], dtype='int64')\n",
      "Index([41622, 27081, 52006, 20296, 20427], dtype='int64')\n",
      "Index([18106, 22612, 16296, 38029, 44596], dtype='int64')\n",
      "Index([18106, 22612, 16296, 38029, 44596], dtype='int64')\n"
     ]
    }
   ],
   "source": [
    "# Check if indices of features and labels still match\n",
    "print(train_features.head().index)\n",
    "print(train_labels.head().index)\n",
    "\n",
    "print(test_features.head().index)\n",
    "print(test_labels.head().index)\n",
    "\n",
    "print(valid_features.head().index)\n",
    "print(valid_labels.head().index)"
   ]
  },
  {
   "cell_type": "code",
   "execution_count": 17,
   "id": "04b6a52f",
   "metadata": {
    "execution": {
     "iopub.execute_input": "2024-06-14T18:17:57.467336Z",
     "iopub.status.busy": "2024-06-14T18:17:57.467070Z",
     "iopub.status.idle": "2024-06-14T18:17:57.474895Z",
     "shell.execute_reply": "2024-06-14T18:17:57.473980Z"
    },
    "papermill": {
     "duration": 0.02134,
     "end_time": "2024-06-14T18:17:57.477322",
     "exception": false,
     "start_time": "2024-06-14T18:17:57.455982",
     "status": "completed"
    },
    "tags": []
   },
   "outputs": [
    {
     "name": "stdout",
     "output_type": "stream",
     "text": [
      "37991.1 37991 37991\n",
      "11397.33 11397 11397\n",
      "4884.57 4885 4885\n"
     ]
    },
    {
     "data": {
      "text/plain": [
       "(54273, 54273, 54273)"
      ]
     },
     "execution_count": 17,
     "metadata": {},
     "output_type": "execute_result"
    }
   ],
   "source": [
    "# Check if dataset were split correctly\n",
    "dataset_size = len(df)\n",
    "print(dataset_size * 0.7, len(train_features), len(train_labels))\n",
    "print(dataset_size * 0.3 * 0.7, len(valid_features), len(valid_labels))\n",
    "print(dataset_size * 0.3 * 0.3, len(test_features), len(test_labels))\n",
    "\n",
    "# Check if total of the subsets the same as dataset_size\n",
    "dataset_size, len(train_features) + len(valid_features) + len(test_features), len(train_labels) + len(valid_labels) + len(test_labels)"
   ]
  },
  {
   "cell_type": "code",
   "execution_count": null,
   "id": "4f4333cd",
   "metadata": {
    "papermill": {
     "duration": 0.010374,
     "end_time": "2024-06-14T18:17:57.498266",
     "exception": false,
     "start_time": "2024-06-14T18:17:57.487892",
     "status": "completed"
    },
    "tags": []
   },
   "outputs": [],
   "source": []
  },
  {
   "cell_type": "markdown",
   "id": "eccc559a",
   "metadata": {
    "papermill": {
     "duration": 0.010541,
     "end_time": "2024-06-14T18:17:57.519398",
     "exception": false,
     "start_time": "2024-06-14T18:17:57.508857",
     "status": "completed"
    },
    "tags": []
   },
   "source": [
    "## Build the model"
   ]
  },
  {
   "cell_type": "code",
   "execution_count": 18,
   "id": "687781a2",
   "metadata": {
    "execution": {
     "iopub.execute_input": "2024-06-14T18:17:57.542999Z",
     "iopub.status.busy": "2024-06-14T18:17:57.542743Z",
     "iopub.status.idle": "2024-06-14T18:17:58.461742Z",
     "shell.execute_reply": "2024-06-14T18:17:58.460762Z"
    },
    "papermill": {
     "duration": 0.934045,
     "end_time": "2024-06-14T18:17:58.464014",
     "exception": false,
     "start_time": "2024-06-14T18:17:57.529969",
     "status": "completed"
    },
    "tags": []
   },
   "outputs": [],
   "source": [
    "model = tf.keras.Sequential(\n",
    "    [\n",
    "        # Input Layer, Normalized Layer Here \n",
    "        tf.keras.layers.Dense(units=128, activation=\"relu\", name=\"Hidden Layer\"),\n",
    "        tf.keras.layers.Dense(units=1, activation=\"softmax\", name=\"Output Layer\"),\n",
    "    ]\n",
    ")\n",
    "\n",
    "\n",
    "\n",
    "model.compile(\n",
    "    optimizer=tf.keras.optimizers.Adam(learning_rate=0.0001),\n",
    "    loss=tf.keras.losses.MeanSquaredError(),\n",
    "    metrics=[tf.keras.metrics.MeanSquaredError()],\n",
    ")"
   ]
  },
  {
   "cell_type": "markdown",
   "id": "f088970d",
   "metadata": {
    "papermill": {
     "duration": 0.0105,
     "end_time": "2024-06-14T18:17:58.485606",
     "exception": false,
     "start_time": "2024-06-14T18:17:58.475106",
     "status": "completed"
    },
    "tags": []
   },
   "source": [
    "## Train Model"
   ]
  },
  {
   "cell_type": "code",
   "execution_count": 19,
   "id": "88264f38",
   "metadata": {
    "execution": {
     "iopub.execute_input": "2024-06-14T18:17:58.508255Z",
     "iopub.status.busy": "2024-06-14T18:17:58.507942Z",
     "iopub.status.idle": "2024-06-14T18:17:58.524415Z",
     "shell.execute_reply": "2024-06-14T18:17:58.523605Z"
    },
    "papermill": {
     "duration": 0.029996,
     "end_time": "2024-06-14T18:17:58.526345",
     "exception": false,
     "start_time": "2024-06-14T18:17:58.496349",
     "status": "completed"
    },
    "tags": []
   },
   "outputs": [
    {
     "data": {
      "text/html": [
       "<div>\n",
       "<style scoped>\n",
       "    .dataframe tbody tr th:only-of-type {\n",
       "        vertical-align: middle;\n",
       "    }\n",
       "\n",
       "    .dataframe tbody tr th {\n",
       "        vertical-align: top;\n",
       "    }\n",
       "\n",
       "    .dataframe thead th {\n",
       "        text-align: right;\n",
       "    }\n",
       "</style>\n",
       "<table border=\"1\" class=\"dataframe\">\n",
       "  <thead>\n",
       "    <tr style=\"text-align: right;\">\n",
       "      <th></th>\n",
       "      <th>brand</th>\n",
       "      <th>model</th>\n",
       "      <th>model_year</th>\n",
       "      <th>milage</th>\n",
       "      <th>fuel_type</th>\n",
       "      <th>engine</th>\n",
       "      <th>transmission</th>\n",
       "      <th>ext_col</th>\n",
       "      <th>int_col</th>\n",
       "      <th>accident</th>\n",
       "      <th>clean_title</th>\n",
       "    </tr>\n",
       "  </thead>\n",
       "  <tbody>\n",
       "    <tr>\n",
       "      <th>41507</th>\n",
       "      <td>Jeep</td>\n",
       "      <td>Grand Cherokee Laredo</td>\n",
       "      <td>2011</td>\n",
       "      <td>100000</td>\n",
       "      <td>Gasoline</td>\n",
       "      <td>360.0HP 5.7L 8 Cylinder Engine Gasoline Fuel</td>\n",
       "      <td>A/T</td>\n",
       "      <td>White</td>\n",
       "      <td>Black</td>\n",
       "      <td>At least 1 accident or damage reported</td>\n",
       "      <td>Yes</td>\n",
       "    </tr>\n",
       "    <tr>\n",
       "      <th>48567</th>\n",
       "      <td>Audi</td>\n",
       "      <td>RS Q8 4.0T</td>\n",
       "      <td>2020</td>\n",
       "      <td>41856</td>\n",
       "      <td>Gasoline</td>\n",
       "      <td>591.0HP 4.0L 8 Cylinder Engine Gasoline Fuel</td>\n",
       "      <td>8-Speed A/T</td>\n",
       "      <td>Gray</td>\n",
       "      <td>Black</td>\n",
       "      <td>None reported</td>\n",
       "      <td>Yes</td>\n",
       "    </tr>\n",
       "    <tr>\n",
       "      <th>25343</th>\n",
       "      <td>Mercedes-Benz</td>\n",
       "      <td>E-Class E 350 4MATIC</td>\n",
       "      <td>2011</td>\n",
       "      <td>132000</td>\n",
       "      <td>Gasoline</td>\n",
       "      <td>268.0HP 3.5L V6 Cylinder Engine Gasoline Fuel</td>\n",
       "      <td>7-Speed A/T</td>\n",
       "      <td>Black</td>\n",
       "      <td>Beige</td>\n",
       "      <td>None reported</td>\n",
       "      <td>Yes</td>\n",
       "    </tr>\n",
       "    <tr>\n",
       "      <th>13946</th>\n",
       "      <td>Subaru</td>\n",
       "      <td>WRX Premium</td>\n",
       "      <td>2014</td>\n",
       "      <td>124000</td>\n",
       "      <td>Gasoline</td>\n",
       "      <td>268.0HP 2.0L 4 Cylinder Engine Gasoline Fuel</td>\n",
       "      <td>M/T</td>\n",
       "      <td>Red</td>\n",
       "      <td>Black</td>\n",
       "      <td>None reported</td>\n",
       "      <td>Yes</td>\n",
       "    </tr>\n",
       "    <tr>\n",
       "      <th>34057</th>\n",
       "      <td>Jaguar</td>\n",
       "      <td>F-PACE SVR</td>\n",
       "      <td>2018</td>\n",
       "      <td>38800</td>\n",
       "      <td>Gasoline</td>\n",
       "      <td>550.0HP 5.0L 8 Cylinder Engine Gasoline Fuel</td>\n",
       "      <td>Transmission w/Dual Shift Mode</td>\n",
       "      <td>Orange</td>\n",
       "      <td>Black</td>\n",
       "      <td>None reported</td>\n",
       "      <td>Yes</td>\n",
       "    </tr>\n",
       "    <tr>\n",
       "      <th>...</th>\n",
       "      <td>...</td>\n",
       "      <td>...</td>\n",
       "      <td>...</td>\n",
       "      <td>...</td>\n",
       "      <td>...</td>\n",
       "      <td>...</td>\n",
       "      <td>...</td>\n",
       "      <td>...</td>\n",
       "      <td>...</td>\n",
       "      <td>...</td>\n",
       "      <td>...</td>\n",
       "    </tr>\n",
       "    <tr>\n",
       "      <th>41810</th>\n",
       "      <td>Ford</td>\n",
       "      <td>F-150 XLT</td>\n",
       "      <td>2023</td>\n",
       "      <td>2523</td>\n",
       "      <td>Gasoline</td>\n",
       "      <td>375.0HP 3.5L V6 Cylinder Engine Gasoline Fuel</td>\n",
       "      <td>10-Speed A/T</td>\n",
       "      <td>White</td>\n",
       "      <td>Black</td>\n",
       "      <td>None reported</td>\n",
       "      <td>Yes</td>\n",
       "    </tr>\n",
       "    <tr>\n",
       "      <th>22771</th>\n",
       "      <td>Lincoln</td>\n",
       "      <td>MKZ Select</td>\n",
       "      <td>2018</td>\n",
       "      <td>51400</td>\n",
       "      <td>Gasoline</td>\n",
       "      <td>380.0HP 3.5L V6 Cylinder Engine Gasoline Fuel</td>\n",
       "      <td>6-Speed A/T</td>\n",
       "      <td>White</td>\n",
       "      <td>Beige</td>\n",
       "      <td>At least 1 accident or damage reported</td>\n",
       "      <td>Yes</td>\n",
       "    </tr>\n",
       "    <tr>\n",
       "      <th>45806</th>\n",
       "      <td>Chevrolet</td>\n",
       "      <td>Silverado 1500 LT Trail Boss</td>\n",
       "      <td>2021</td>\n",
       "      <td>48641</td>\n",
       "      <td>Gasoline</td>\n",
       "      <td>355.0HP 5.3L 8 Cylinder Engine Gasoline Fuel</td>\n",
       "      <td>10-Speed A/T</td>\n",
       "      <td>Black</td>\n",
       "      <td>Black</td>\n",
       "      <td>None reported</td>\n",
       "      <td>Yes</td>\n",
       "    </tr>\n",
       "    <tr>\n",
       "      <th>23478</th>\n",
       "      <td>Toyota</td>\n",
       "      <td>Highlander XLE</td>\n",
       "      <td>2019</td>\n",
       "      <td>74000</td>\n",
       "      <td>Gasoline</td>\n",
       "      <td>295.0HP 3.5L V6 Cylinder Engine Gasoline Fuel</td>\n",
       "      <td>A/T</td>\n",
       "      <td>White</td>\n",
       "      <td>Gray</td>\n",
       "      <td>None reported</td>\n",
       "      <td>Yes</td>\n",
       "    </tr>\n",
       "    <tr>\n",
       "      <th>53527</th>\n",
       "      <td>Chevrolet</td>\n",
       "      <td>Camaro 2SS</td>\n",
       "      <td>2018</td>\n",
       "      <td>26000</td>\n",
       "      <td>Gasoline</td>\n",
       "      <td>455.0HP 6.2L 8 Cylinder Engine Gasoline Fuel</td>\n",
       "      <td>8-Speed A/T</td>\n",
       "      <td>Black</td>\n",
       "      <td>Black</td>\n",
       "      <td>At least 1 accident or damage reported</td>\n",
       "      <td>Yes</td>\n",
       "    </tr>\n",
       "  </tbody>\n",
       "</table>\n",
       "<p>37991 rows × 11 columns</p>\n",
       "</div>"
      ],
      "text/plain": [
       "               brand                         model  model_year  milage  \\\n",
       "41507           Jeep         Grand Cherokee Laredo        2011  100000   \n",
       "48567           Audi                    RS Q8 4.0T        2020   41856   \n",
       "25343  Mercedes-Benz          E-Class E 350 4MATIC        2011  132000   \n",
       "13946         Subaru                   WRX Premium        2014  124000   \n",
       "34057         Jaguar                    F-PACE SVR        2018   38800   \n",
       "...              ...                           ...         ...     ...   \n",
       "41810           Ford                     F-150 XLT        2023    2523   \n",
       "22771        Lincoln                    MKZ Select        2018   51400   \n",
       "45806      Chevrolet  Silverado 1500 LT Trail Boss        2021   48641   \n",
       "23478         Toyota                Highlander XLE        2019   74000   \n",
       "53527      Chevrolet                    Camaro 2SS        2018   26000   \n",
       "\n",
       "      fuel_type                                         engine  \\\n",
       "41507  Gasoline   360.0HP 5.7L 8 Cylinder Engine Gasoline Fuel   \n",
       "48567  Gasoline   591.0HP 4.0L 8 Cylinder Engine Gasoline Fuel   \n",
       "25343  Gasoline  268.0HP 3.5L V6 Cylinder Engine Gasoline Fuel   \n",
       "13946  Gasoline   268.0HP 2.0L 4 Cylinder Engine Gasoline Fuel   \n",
       "34057  Gasoline   550.0HP 5.0L 8 Cylinder Engine Gasoline Fuel   \n",
       "...         ...                                            ...   \n",
       "41810  Gasoline  375.0HP 3.5L V6 Cylinder Engine Gasoline Fuel   \n",
       "22771  Gasoline  380.0HP 3.5L V6 Cylinder Engine Gasoline Fuel   \n",
       "45806  Gasoline   355.0HP 5.3L 8 Cylinder Engine Gasoline Fuel   \n",
       "23478  Gasoline  295.0HP 3.5L V6 Cylinder Engine Gasoline Fuel   \n",
       "53527  Gasoline   455.0HP 6.2L 8 Cylinder Engine Gasoline Fuel   \n",
       "\n",
       "                         transmission ext_col int_col  \\\n",
       "41507                             A/T   White   Black   \n",
       "48567                     8-Speed A/T    Gray   Black   \n",
       "25343                     7-Speed A/T   Black   Beige   \n",
       "13946                             M/T     Red   Black   \n",
       "34057  Transmission w/Dual Shift Mode  Orange   Black   \n",
       "...                               ...     ...     ...   \n",
       "41810                    10-Speed A/T   White   Black   \n",
       "22771                     6-Speed A/T   White   Beige   \n",
       "45806                    10-Speed A/T   Black   Black   \n",
       "23478                             A/T   White    Gray   \n",
       "53527                     8-Speed A/T   Black   Black   \n",
       "\n",
       "                                     accident clean_title  \n",
       "41507  At least 1 accident or damage reported         Yes  \n",
       "48567                           None reported         Yes  \n",
       "25343                           None reported         Yes  \n",
       "13946                           None reported         Yes  \n",
       "34057                           None reported         Yes  \n",
       "...                                       ...         ...  \n",
       "41810                           None reported         Yes  \n",
       "22771  At least 1 accident or damage reported         Yes  \n",
       "45806                           None reported         Yes  \n",
       "23478                           None reported         Yes  \n",
       "53527  At least 1 accident or damage reported         Yes  \n",
       "\n",
       "[37991 rows x 11 columns]"
      ]
     },
     "execution_count": 19,
     "metadata": {},
     "output_type": "execute_result"
    }
   ],
   "source": [
    "# View an example of input\n",
    "train_features\n",
    "\n",
    "# Model fit"
   ]
  },
  {
   "cell_type": "markdown",
   "id": "87f7e4cd",
   "metadata": {
    "papermill": {
     "duration": 0.010826,
     "end_time": "2024-06-14T18:17:58.549336",
     "exception": false,
     "start_time": "2024-06-14T18:17:58.538510",
     "status": "completed"
    },
    "tags": []
   },
   "source": [
    "## Predict"
   ]
  },
  {
   "cell_type": "markdown",
   "id": "bb837593",
   "metadata": {
    "papermill": {
     "duration": 0.010796,
     "end_time": "2024-06-14T18:17:58.571533",
     "exception": false,
     "start_time": "2024-06-14T18:17:58.560737",
     "status": "completed"
    },
    "tags": []
   },
   "source": [
    "TODO\n",
    "- build model\n",
    "- separate engine into different parameters\n",
    "- remove id on train\n",
    "- train model\n",
    "- early stop\n",
    "- graph result\n",
    "- group lines"
   ]
  },
  {
   "cell_type": "code",
   "execution_count": 20,
   "id": "356dc4e2",
   "metadata": {
    "execution": {
     "iopub.execute_input": "2024-06-14T18:17:58.595565Z",
     "iopub.status.busy": "2024-06-14T18:17:58.595287Z",
     "iopub.status.idle": "2024-06-14T18:17:58.598893Z",
     "shell.execute_reply": "2024-06-14T18:17:58.598154Z"
    },
    "papermill": {
     "duration": 0.017713,
     "end_time": "2024-06-14T18:17:58.600725",
     "exception": false,
     "start_time": "2024-06-14T18:17:58.583012",
     "status": "completed"
    },
    "tags": []
   },
   "outputs": [],
   "source": [
    "# train_subset.shape"
   ]
  },
  {
   "cell_type": "code",
   "execution_count": 21,
   "id": "d155d6c8",
   "metadata": {
    "execution": {
     "iopub.execute_input": "2024-06-14T18:17:58.623927Z",
     "iopub.status.busy": "2024-06-14T18:17:58.623638Z",
     "iopub.status.idle": "2024-06-14T18:17:58.627213Z",
     "shell.execute_reply": "2024-06-14T18:17:58.626431Z"
    },
    "papermill": {
     "duration": 0.017159,
     "end_time": "2024-06-14T18:17:58.629030",
     "exception": false,
     "start_time": "2024-06-14T18:17:58.611871",
     "status": "completed"
    },
    "tags": []
   },
   "outputs": [],
   "source": [
    "# valid_subset.shape"
   ]
  },
  {
   "cell_type": "code",
   "execution_count": 22,
   "id": "2a75315e",
   "metadata": {
    "execution": {
     "iopub.execute_input": "2024-06-14T18:17:58.652727Z",
     "iopub.status.busy": "2024-06-14T18:17:58.652000Z",
     "iopub.status.idle": "2024-06-14T18:17:58.655506Z",
     "shell.execute_reply": "2024-06-14T18:17:58.654836Z"
    },
    "papermill": {
     "duration": 0.017183,
     "end_time": "2024-06-14T18:17:58.657419",
     "exception": false,
     "start_time": "2024-06-14T18:17:58.640236",
     "status": "completed"
    },
    "tags": []
   },
   "outputs": [],
   "source": [
    "# test_subset.shape"
   ]
  },
  {
   "cell_type": "code",
   "execution_count": null,
   "id": "26104da0",
   "metadata": {
    "papermill": {
     "duration": 0.010892,
     "end_time": "2024-06-14T18:17:58.679426",
     "exception": false,
     "start_time": "2024-06-14T18:17:58.668534",
     "status": "completed"
    },
    "tags": []
   },
   "outputs": [],
   "source": []
  },
  {
   "cell_type": "code",
   "execution_count": null,
   "id": "b7eb7946",
   "metadata": {
    "papermill": {
     "duration": 0.011285,
     "end_time": "2024-06-14T18:17:58.702195",
     "exception": false,
     "start_time": "2024-06-14T18:17:58.690910",
     "status": "completed"
    },
    "tags": []
   },
   "outputs": [],
   "source": []
  }
 ],
 "metadata": {
  "kaggle": {
   "accelerator": "nvidiaTeslaT4",
   "dataSources": [
    {
     "databundleVersionId": 7461897,
     "sourceId": 67167,
     "sourceType": "competition"
    },
    {
     "datasetId": 5208192,
     "sourceId": 8686686,
     "sourceType": "datasetVersion"
    }
   ],
   "dockerImageVersionId": 30733,
   "isGpuEnabled": true,
   "isInternetEnabled": true,
   "language": "python",
   "sourceType": "notebook"
  },
  "kernelspec": {
   "display_name": "Python 3",
   "language": "python",
   "name": "python3"
  },
  "language_info": {
   "codemirror_mode": {
    "name": "ipython",
    "version": 3
   },
   "file_extension": ".py",
   "mimetype": "text/x-python",
   "name": "python",
   "nbconvert_exporter": "python",
   "pygments_lexer": "ipython3",
   "version": "3.10.13"
  },
  "papermill": {
   "default_parameters": {},
   "duration": 23.388986,
   "end_time": "2024-06-14T18:18:00.997757",
   "environment_variables": {},
   "exception": null,
   "input_path": "__notebook__.ipynb",
   "output_path": "__notebook__.ipynb",
   "parameters": {},
   "start_time": "2024-06-14T18:17:37.608771",
   "version": "2.5.0"
  }
 },
 "nbformat": 4,
 "nbformat_minor": 5
}
